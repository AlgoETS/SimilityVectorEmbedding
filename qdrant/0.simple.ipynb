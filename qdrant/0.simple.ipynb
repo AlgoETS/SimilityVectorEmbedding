{
 "cells": [
  {
   "cell_type": "code",
   "execution_count": 27,
   "metadata": {},
   "outputs": [
    {
     "name": "stderr",
     "output_type": "stream",
     "text": [
      "\n",
      "[notice] A new release of pip is available: 24.1.2 -> 24.2\n",
      "[notice] To update, run: python.exe -m pip install --upgrade pip\n"
     ]
    }
   ],
   "source": [
    "!pip install qdrant-client tqdm rich transformers torch sentence-transformers matplotlib scikit-learn plotly nltk nbformat>=4.2.0"
   ]
  },
  {
   "cell_type": "markdown",
   "metadata": {},
   "source": [
    "# Imports"
   ]
  },
  {
   "cell_type": "code",
   "execution_count": 28,
   "metadata": {},
   "outputs": [],
   "source": [
    "import os\n",
    "import json\n",
    "import time\n",
    "import uuid\n",
    "import string\n",
    "import re\n",
    "import nltk\n",
    "import numpy as np\n",
    "import torch\n",
    "from tqdm import tqdm\n",
    "from qdrant_client import QdrantClient\n",
    "from qdrant_client.http import models as rest\n",
    "from rich import print\n",
    "from rich.console import Console\n",
    "from transformers import AutoTokenizer, AutoModel\n",
    "import matplotlib.pyplot as plt\n",
    "from sklearn.decomposition import PCA\n",
    "from sklearn.manifold import TSNE\n",
    "from sklearn.cluster import KMeans\n",
    "from collections import Counter\n",
    "from nltk.corpus import stopwords\n",
    "from nltk.tokenize import word_tokenize\n",
    "from collections import defaultdict\n",
    "import plotly.express as px"
   ]
  },
  {
   "cell_type": "markdown",
   "metadata": {},
   "source": [
    "# Initialize Qdrant client and console"
   ]
  },
  {
   "cell_type": "code",
   "execution_count": 29,
   "metadata": {},
   "outputs": [],
   "source": [
    "client = QdrantClient(\"localhost\", port=6333)\n",
    "console = Console()"
   ]
  },
  {
   "cell_type": "markdown",
   "metadata": {},
   "source": [
    "# Download NLTK stopwords"
   ]
  },
  {
   "cell_type": "code",
   "execution_count": 30,
   "metadata": {},
   "outputs": [
    {
     "name": "stderr",
     "output_type": "stream",
     "text": [
      "[nltk_data] Downloading package stopwords to\n",
      "[nltk_data]     C:\\Users\\antoi\\AppData\\Roaming\\nltk_data...\n",
      "[nltk_data]   Package stopwords is already up-to-date!\n",
      "[nltk_data] Downloading package punkt to\n",
      "[nltk_data]     C:\\Users\\antoi\\AppData\\Roaming\\nltk_data...\n",
      "[nltk_data]   Package punkt is already up-to-date!\n"
     ]
    },
    {
     "data": {
      "text/plain": [
       "True"
      ]
     },
     "execution_count": 30,
     "metadata": {},
     "output_type": "execute_result"
    }
   ],
   "source": [
    "nltk.download('stopwords')\n",
    "nltk.download('punkt')"
   ]
  },
  {
   "cell_type": "markdown",
   "metadata": {},
   "source": [
    "# Initialize the tokenizer and model"
   ]
  },
  {
   "cell_type": "code",
   "execution_count": 31,
   "metadata": {},
   "outputs": [],
   "source": [
    "tokenizer = AutoTokenizer.from_pretrained('sentence-transformers/all-MiniLM-L6-v2')\n",
    "model = AutoModel.from_pretrained('sentence-transformers/all-MiniLM-L6-v2')"
   ]
  },
  {
   "cell_type": "code",
   "execution_count": 32,
   "metadata": {},
   "outputs": [],
   "source": [
    "def preprocess(text):\n",
    "    text = text.translate(str.maketrans('', '', string.punctuation)).lower()\n",
    "    tokens = text.split()\n",
    "    stopwords_set = set(nltk.corpus.stopwords.words('english'))\n",
    "    tokens = [word for word in tokens if word not in stopwords_set]\n",
    "    return ' '.join(tokens)\n",
    "\n",
    "def preprocess_title(title: str) -> str:\n",
    "    \"\"\"Remove the year from the movie title.\"\"\"\n",
    "    return re.sub(r\"\\(\\d{4}\\)$\", \"\", title).strip()"
   ]
  },
  {
   "cell_type": "code",
   "execution_count": 33,
   "metadata": {},
   "outputs": [],
   "source": [
    "def create_embedding(text):\n",
    "    inputs = tokenizer(text, return_tensors='pt', truncation=True, padding=True)\n",
    "    with torch.no_grad():\n",
    "        outputs = model(**inputs)\n",
    "    embeddings = outputs.last_hidden_state.mean(dim=1).squeeze().numpy()\n",
    "    return embeddings"
   ]
  },
  {
   "cell_type": "code",
   "execution_count": 34,
   "metadata": {},
   "outputs": [],
   "source": [
    "def normalize_embeddings(embeddings):\n",
    "    \"\"\"Normalize the embeddings to unit vectors.\"\"\"\n",
    "    norms = np.linalg.norm(embeddings, axis=1, keepdims=True)\n",
    "    normalized_embeddings = embeddings / norms\n",
    "    return normalized_embeddings"
   ]
  },
  {
   "cell_type": "code",
   "execution_count": 35,
   "metadata": {},
   "outputs": [],
   "source": [
    "def encode_id(original_id):\n",
    "    return str(uuid.uuid5(uuid.NAMESPACE_DNS, original_id))"
   ]
  },
  {
   "cell_type": "code",
   "execution_count": 36,
   "metadata": {},
   "outputs": [],
   "source": [
    "def load_movies_data(file_path):\n",
    "    if not os.path.exists(file_path):\n",
    "        console.print(f\"[red]File not found: {file_path}[/red]\")\n",
    "        return None\n",
    "\n",
    "    try:\n",
    "        with open(file_path, \"r\", encoding=\"utf-8\") as f:\n",
    "            movies = json.load(f)\n",
    "        return movies[\"films\"][\"film\"]\n",
    "    except Exception as e:\n",
    "        console.print(f\"[red]Error reading the movies.json file: {e}[/red]\")\n",
    "        return None"
   ]
  },
  {
   "cell_type": "code",
   "execution_count": 37,
   "metadata": {},
   "outputs": [],
   "source": [
    "def process_movies_data(movies):\n",
    "    movies_data = []\n",
    "    for movie in movies:\n",
    "        roles = movie.get(\"role\", [])\n",
    "        if isinstance(roles, dict):\n",
    "            roles = [roles]\n",
    "\n",
    "        actors = [role.get(\"acteur\", {}).get(\"__text\", \"\") for role in roles]\n",
    "\n",
    "        movie_id = movie.get(\"id\", \"\") or encode_id(movie['titre'])\n",
    "\n",
    "        movies_data.append({\n",
    "            \"title\": movie.get(\"titre\", \"\"),\n",
    "            \"year\": movie.get(\"annee\", \"\"),\n",
    "            \"country\": movie.get(\"pays\", \"\"),\n",
    "            \"language\": movie.get(\"langue\", \"\"),\n",
    "            \"duration\": movie.get(\"duree\", \"\"),\n",
    "            \"summary\": movie.get(\"synopsis\", \"\"),\n",
    "            \"genre\": movie.get(\"genre\", \"\"),\n",
    "            \"director\": movie.get(\"realisateur\", {\"__text\": \"\"}).get(\"__text\", \"\"),\n",
    "            \"writers\": movie.get(\"scenariste\", []),\n",
    "            \"actors\": actors,\n",
    "            \"poster\": movie.get(\"affiche\", \"\"),\n",
    "            \"id\": movie_id\n",
    "        })\n",
    "    return movies_data"
   ]
  },
  {
   "cell_type": "code",
   "execution_count": 38,
   "metadata": {},
   "outputs": [],
   "source": [
    "def upsert_movies_to_qdrant(client, movies_data, batch_size=100):\n",
    "    client.recreate_collection(\n",
    "        collection_name=\"testings\",\n",
    "        vectors_config=rest.VectorParams(size=384, distance=rest.Distance.COSINE)\n",
    "    )\n",
    "\n",
    "    points = []\n",
    "    total_movies = len(movies_data)\n",
    "    console.print(f\"Total movies to process: {total_movies}\")\n",
    "\n",
    "    start_time = time.time()\n",
    "\n",
    "    for idx, movie in tqdm(enumerate(movies_data), total=total_movies, desc=\"Processing movies\"):\n",
    "        try:\n",
    "            combined_info = f\"{movie['title']} {movie['year']} {movie['country']} {movie['language']} {movie['duration']} {movie['summary']} {movie['genre']} {' '.join(movie['actors'])} {movie['director']} {' '.join(movie['writers'])}\"\n",
    "            combined_info = ' '.join(combined_info.split())\n",
    "            combined_info = preprocess(combined_info)\n",
    "            vector = create_embedding(combined_info)\n",
    "            vector = normalize_embeddings(np.array([vector]))[0]\n",
    "            point = {\n",
    "                'id': str(uuid.uuid4()),\n",
    "                'vector': vector.tolist(),\n",
    "                'payload': {\n",
    "                    'title': movie['title'],\n",
    "                    'year': movie['year'],\n",
    "                    'country': movie['country'],\n",
    "                    'language': movie['language'],\n",
    "                    'duration': movie['duration'],\n",
    "                    'summary': movie['summary'],\n",
    "                    'genre': movie['genre'],\n",
    "                    'director': movie['director'],\n",
    "                    'writers': movie['writers'],\n",
    "                    'actors': ', '.join(movie['actors']),\n",
    "                    'poster': movie['poster']\n",
    "                }\n",
    "            }\n",
    "            points.append(point)\n",
    "\n",
    "            if len(points) >= batch_size:\n",
    "                client.upsert(collection_name=\"testings\", points=points)\n",
    "                console.print(f\"Upserted {len(points)} movies to Qdrant\")\n",
    "                points.clear()\n",
    "\n",
    "        except Exception as e:\n",
    "            console.print(f\"[red]Error processing movie ID {movie['id']}: {e}[/red]\")\n",
    "\n",
    "    if points:\n",
    "        client.upsert(collection_name=\"testings\", points=points)\n",
    "        console.print(f\"Upserted remaining {len(points)} movies to Qdrant\")\n",
    "\n",
    "    elapsed_time = time.time() - start_time\n",
    "    console.print(f\"Movies loaded into Qdrant with embeddings in {elapsed_time:.2f} seconds\")\n"
   ]
  },
  {
   "cell_type": "markdown",
   "metadata": {},
   "source": [
    "# Main script execution"
   ]
  },
  {
   "cell_type": "code",
   "execution_count": 39,
   "metadata": {},
   "outputs": [
    {
     "data": {
      "text/html": [
       "<pre style=\"white-space:pre;overflow-x:auto;line-height:normal;font-family:Menlo,'DejaVu Sans Mono',consolas,'Courier New',monospace\"><span style=\"color: #008000; text-decoration-color: #008000\">Loading movies data...</span>\n",
       "</pre>\n"
      ],
      "text/plain": [
       "\u001b[32mLoading movies data\u001b[0m\u001b[32m...\u001b[0m\n"
      ]
     },
     "metadata": {},
     "output_type": "display_data"
    },
    {
     "data": {
      "text/html": [
       "<pre style=\"white-space:pre;overflow-x:auto;line-height:normal;font-family:Menlo,'DejaVu Sans Mono',consolas,'Courier New',monospace\"><span style=\"color: #008000; text-decoration-color: #008000\">Processing movies data...</span>\n",
       "</pre>\n"
      ],
      "text/plain": [
       "\u001b[32mProcessing movies data\u001b[0m\u001b[32m...\u001b[0m\n"
      ]
     },
     "metadata": {},
     "output_type": "display_data"
    },
    {
     "data": {
      "text/html": [
       "<pre style=\"white-space:pre;overflow-x:auto;line-height:normal;font-family:Menlo,'DejaVu Sans Mono',consolas,'Courier New',monospace\"><span style=\"color: #008000; text-decoration-color: #008000\">Upserting movies data to Qdrant...</span>\n",
       "</pre>\n"
      ],
      "text/plain": [
       "\u001b[32mUpserting movies data to Qdrant\u001b[0m\u001b[32m...\u001b[0m\n"
      ]
     },
     "metadata": {},
     "output_type": "display_data"
    },
    {
     "name": "stderr",
     "output_type": "stream",
     "text": [
      "C:\\Users\\antoi\\AppData\\Local\\Temp\\ipykernel_10340\\2249141115.py:2: DeprecationWarning: `recreate_collection` method is deprecated and will be removed in the future. Use `collection_exists` to check collection existence and `create_collection` instead.\n",
      "  client.recreate_collection(\n"
     ]
    },
    {
     "data": {
      "text/html": [
       "<pre style=\"white-space:pre;overflow-x:auto;line-height:normal;font-family:Menlo,'DejaVu Sans Mono',consolas,'Courier New',monospace\">Total movies to process: <span style=\"color: #008080; text-decoration-color: #008080; font-weight: bold\">631</span>\n",
       "</pre>\n"
      ],
      "text/plain": [
       "Total movies to process: \u001b[1;36m631\u001b[0m\n"
      ]
     },
     "metadata": {},
     "output_type": "display_data"
    },
    {
     "name": "stderr",
     "output_type": "stream",
     "text": [
      "Processing movies:  16%|█▌        | 99/631 [00:04<00:19, 26.73it/s]"
     ]
    },
    {
     "data": {
      "text/html": [
       "<pre style=\"white-space:pre;overflow-x:auto;line-height:normal;font-family:Menlo,'DejaVu Sans Mono',consolas,'Courier New',monospace\">Upserted <span style=\"color: #008080; text-decoration-color: #008080; font-weight: bold\">100</span> movies to Qdrant\n",
       "</pre>\n"
      ],
      "text/plain": [
       "Upserted \u001b[1;36m100\u001b[0m movies to Qdrant\n"
      ]
     },
     "metadata": {},
     "output_type": "display_data"
    },
    {
     "name": "stderr",
     "output_type": "stream",
     "text": [
      "Processing movies:  31%|███       | 197/631 [00:08<00:16, 25.93it/s]"
     ]
    },
    {
     "data": {
      "text/html": [
       "<pre style=\"white-space:pre;overflow-x:auto;line-height:normal;font-family:Menlo,'DejaVu Sans Mono',consolas,'Courier New',monospace\">Upserted <span style=\"color: #008080; text-decoration-color: #008080; font-weight: bold\">100</span> movies to Qdrant\n",
       "</pre>\n"
      ],
      "text/plain": [
       "Upserted \u001b[1;36m100\u001b[0m movies to Qdrant\n"
      ]
     },
     "metadata": {},
     "output_type": "display_data"
    },
    {
     "name": "stderr",
     "output_type": "stream",
     "text": [
      "Processing movies:  47%|████▋     | 299/631 [00:11<00:10, 30.88it/s]"
     ]
    },
    {
     "data": {
      "text/html": [
       "<pre style=\"white-space:pre;overflow-x:auto;line-height:normal;font-family:Menlo,'DejaVu Sans Mono',consolas,'Courier New',monospace\">Upserted <span style=\"color: #008080; text-decoration-color: #008080; font-weight: bold\">100</span> movies to Qdrant\n",
       "</pre>\n"
      ],
      "text/plain": [
       "Upserted \u001b[1;36m100\u001b[0m movies to Qdrant\n"
      ]
     },
     "metadata": {},
     "output_type": "display_data"
    },
    {
     "name": "stderr",
     "output_type": "stream",
     "text": [
      "Processing movies:  63%|██████▎   | 397/631 [00:15<00:07, 30.94it/s]"
     ]
    },
    {
     "data": {
      "text/html": [
       "<pre style=\"white-space:pre;overflow-x:auto;line-height:normal;font-family:Menlo,'DejaVu Sans Mono',consolas,'Courier New',monospace\">Upserted <span style=\"color: #008080; text-decoration-color: #008080; font-weight: bold\">100</span> movies to Qdrant\n",
       "</pre>\n"
      ],
      "text/plain": [
       "Upserted \u001b[1;36m100\u001b[0m movies to Qdrant\n"
      ]
     },
     "metadata": {},
     "output_type": "display_data"
    },
    {
     "name": "stderr",
     "output_type": "stream",
     "text": [
      "Processing movies:  79%|███████▉  | 497/631 [00:18<00:04, 29.63it/s]"
     ]
    },
    {
     "data": {
      "text/html": [
       "<pre style=\"white-space:pre;overflow-x:auto;line-height:normal;font-family:Menlo,'DejaVu Sans Mono',consolas,'Courier New',monospace\">Upserted <span style=\"color: #008080; text-decoration-color: #008080; font-weight: bold\">100</span> movies to Qdrant\n",
       "</pre>\n"
      ],
      "text/plain": [
       "Upserted \u001b[1;36m100\u001b[0m movies to Qdrant\n"
      ]
     },
     "metadata": {},
     "output_type": "display_data"
    },
    {
     "name": "stderr",
     "output_type": "stream",
     "text": [
      "Processing movies:  94%|█████████▍| 596/631 [00:21<00:01, 29.32it/s]"
     ]
    },
    {
     "data": {
      "text/html": [
       "<pre style=\"white-space:pre;overflow-x:auto;line-height:normal;font-family:Menlo,'DejaVu Sans Mono',consolas,'Courier New',monospace\">Upserted <span style=\"color: #008080; text-decoration-color: #008080; font-weight: bold\">100</span> movies to Qdrant\n",
       "</pre>\n"
      ],
      "text/plain": [
       "Upserted \u001b[1;36m100\u001b[0m movies to Qdrant\n"
      ]
     },
     "metadata": {},
     "output_type": "display_data"
    },
    {
     "name": "stderr",
     "output_type": "stream",
     "text": [
      "Processing movies: 100%|██████████| 631/631 [00:22<00:00, 27.46it/s]\n"
     ]
    },
    {
     "data": {
      "text/html": [
       "<pre style=\"white-space:pre;overflow-x:auto;line-height:normal;font-family:Menlo,'DejaVu Sans Mono',consolas,'Courier New',monospace\">Upserted remaining <span style=\"color: #008080; text-decoration-color: #008080; font-weight: bold\">31</span> movies to Qdrant\n",
       "</pre>\n"
      ],
      "text/plain": [
       "Upserted remaining \u001b[1;36m31\u001b[0m movies to Qdrant\n"
      ]
     },
     "metadata": {},
     "output_type": "display_data"
    },
    {
     "data": {
      "text/html": [
       "<pre style=\"white-space:pre;overflow-x:auto;line-height:normal;font-family:Menlo,'DejaVu Sans Mono',consolas,'Courier New',monospace\">Movies loaded into Qdrant with embeddings in <span style=\"color: #008080; text-decoration-color: #008080; font-weight: bold\">23.01</span> seconds\n",
       "</pre>\n"
      ],
      "text/plain": [
       "Movies loaded into Qdrant with embeddings in \u001b[1;36m23.01\u001b[0m seconds\n"
      ]
     },
     "metadata": {},
     "output_type": "display_data"
    }
   ],
   "source": [
    "current_directory = os.getcwd()\n",
    "movies_file_path = os.path.join(current_directory, \"movies.json\")\n",
    "\n",
    "console.print(\"[green]Loading movies data...[/green]\")\n",
    "movies = load_movies_data(movies_file_path)\n",
    "\n",
    "if movies:\n",
    "    console.print(\"[green]Processing movies data...[/green]\")\n",
    "    movies_data = process_movies_data(movies)\n",
    "    console.print(\"[green]Upserting movies data to Qdrant...[/green]\")\n",
    "    upsert_movies_to_qdrant(client, movies_data)"
   ]
  },
  {
   "cell_type": "markdown",
   "metadata": {},
   "source": [
    "# Get the movie embeddings"
   ]
  },
  {
   "cell_type": "code",
   "execution_count": 40,
   "metadata": {},
   "outputs": [],
   "source": [
    "def get_movie_embedding(movie_description):\n",
    "    # Preprocess the input text\n",
    "    processed_text = preprocess(movie_description)\n",
    "\n",
    "    # Generate embedding\n",
    "    embedding = create_embedding(processed_text)\n",
    "    return normalize_embeddings(np.array([embedding]))[0]"
   ]
  },
  {
   "cell_type": "markdown",
   "metadata": {},
   "source": [
    "# Similar Movie"
   ]
  },
  {
   "cell_type": "code",
   "execution_count": 41,
   "metadata": {},
   "outputs": [],
   "source": [
    "def find_similar_movies(client, movie_description, top_k=5):\n",
    "    embedding = get_movie_embedding(movie_description)\n",
    "\n",
    "    search_result = client.search(\n",
    "        collection_name=\"testings\",\n",
    "        query_vector=embedding.tolist(),\n",
    "        limit=top_k\n",
    "    )\n",
    "    return search_result"
   ]
  },
  {
   "cell_type": "markdown",
   "metadata": {},
   "source": [
    "# Display the similar movie"
   ]
  },
  {
   "cell_type": "code",
   "execution_count": 42,
   "metadata": {},
   "outputs": [
    {
     "data": {
      "text/html": [
       "<pre style=\"white-space:pre;overflow-x:auto;line-height:normal;font-family:Menlo,'DejaVu Sans Mono',consolas,'Courier New',monospace\">\n",
       "<span style=\"font-weight: bold\">Query Movie Description:</span> A story about a young boy who discovers he has magical powers and attends a school for \n",
       "wizards.\n",
       "</pre>\n"
      ],
      "text/plain": [
       "\n",
       "\u001b[1mQuery Movie Description:\u001b[0m A story about a young boy who discovers he has magical powers and attends a school for \n",
       "wizards.\n"
      ]
     },
     "metadata": {},
     "output_type": "display_data"
    },
    {
     "data": {
      "text/html": [
       "<pre style=\"white-space:pre;overflow-x:auto;line-height:normal;font-family:Menlo,'DejaVu Sans Mono',consolas,'Courier New',monospace\">\n",
       "<span style=\"font-weight: bold\">Top </span><span style=\"color: #008080; text-decoration-color: #008080; font-weight: bold\">5</span><span style=\"font-weight: bold\"> Similar Movies:</span>\n",
       "\n",
       "</pre>\n"
      ],
      "text/plain": [
       "\n",
       "\u001b[1mTop \u001b[0m\u001b[1;36m5\u001b[0m\u001b[1m Similar Movies:\u001b[0m\n",
       "\n"
      ]
     },
     "metadata": {},
     "output_type": "display_data"
    },
    {
     "data": {
      "text/html": [
       "<pre style=\"white-space:pre;overflow-x:auto;line-height:normal;font-family:Menlo,'DejaVu Sans Mono',consolas,'Courier New',monospace\"><span style=\"color: #008080; text-decoration-color: #008080; font-weight: bold\">1</span><span style=\"font-weight: bold\">. Title:</span> Harry Potter and the Sorcerer's Stone\n",
       "</pre>\n"
      ],
      "text/plain": [
       "\u001b[1;36m1\u001b[0m\u001b[1m. Title:\u001b[0m Harry Potter and the Sorcerer's Stone\n"
      ]
     },
     "metadata": {},
     "output_type": "display_data"
    },
    {
     "data": {
      "text/html": [
       "<pre style=\"white-space:pre;overflow-x:auto;line-height:normal;font-family:Menlo,'DejaVu Sans Mono',consolas,'Courier New',monospace\">   <span style=\"font-weight: bold\">Year:</span> <span style=\"color: #008080; text-decoration-color: #008080; font-weight: bold\">2001</span>\n",
       "</pre>\n"
      ],
      "text/plain": [
       "   \u001b[1mYear:\u001b[0m \u001b[1;36m2001\u001b[0m\n"
      ]
     },
     "metadata": {},
     "output_type": "display_data"
    },
    {
     "data": {
      "text/html": [
       "<pre style=\"white-space:pre;overflow-x:auto;line-height:normal;font-family:Menlo,'DejaVu Sans Mono',consolas,'Courier New',monospace\">   <span style=\"font-weight: bold\">Genre:</span> <span style=\"font-weight: bold\">[</span><span style=\"color: #008000; text-decoration-color: #008000\">'Adventure'</span>, <span style=\"color: #008000; text-decoration-color: #008000\">'Family'</span>, <span style=\"color: #008000; text-decoration-color: #008000\">'Fantasy'</span><span style=\"font-weight: bold\">]</span>\n",
       "</pre>\n"
      ],
      "text/plain": [
       "   \u001b[1mGenre:\u001b[0m \u001b[1m[\u001b[0m\u001b[32m'Adventure'\u001b[0m, \u001b[32m'Family'\u001b[0m, \u001b[32m'Fantasy'\u001b[0m\u001b[1m]\u001b[0m\n"
      ]
     },
     "metadata": {},
     "output_type": "display_data"
    },
    {
     "data": {
      "text/html": [
       "<pre style=\"white-space:pre;overflow-x:auto;line-height:normal;font-family:Menlo,'DejaVu Sans Mono',consolas,'Courier New',monospace\">   <span style=\"font-weight: bold\">Director:</span> Chris Columbus\n",
       "</pre>\n"
      ],
      "text/plain": [
       "   \u001b[1mDirector:\u001b[0m Chris Columbus\n"
      ]
     },
     "metadata": {},
     "output_type": "display_data"
    },
    {
     "data": {
      "text/html": [
       "<pre style=\"white-space:pre;overflow-x:auto;line-height:normal;font-family:Menlo,'DejaVu Sans Mono',consolas,'Courier New',monospace\">   <span style=\"font-weight: bold\">Summary:</span> \n",
       "\n",
       "</pre>\n"
      ],
      "text/plain": [
       "   \u001b[1mSummary:\u001b[0m \n",
       "\n"
      ]
     },
     "metadata": {},
     "output_type": "display_data"
    },
    {
     "data": {
      "text/html": [
       "<pre style=\"white-space:pre;overflow-x:auto;line-height:normal;font-family:Menlo,'DejaVu Sans Mono',consolas,'Courier New',monospace\"><span style=\"color: #008080; text-decoration-color: #008080; font-weight: bold\">2</span><span style=\"font-weight: bold\">. Title:</span> Harry Potter and the Half-Blood Prince\n",
       "</pre>\n"
      ],
      "text/plain": [
       "\u001b[1;36m2\u001b[0m\u001b[1m. Title:\u001b[0m Harry Potter and the Half-Blood Prince\n"
      ]
     },
     "metadata": {},
     "output_type": "display_data"
    },
    {
     "data": {
      "text/html": [
       "<pre style=\"white-space:pre;overflow-x:auto;line-height:normal;font-family:Menlo,'DejaVu Sans Mono',consolas,'Courier New',monospace\">   <span style=\"font-weight: bold\">Year:</span> <span style=\"color: #008080; text-decoration-color: #008080; font-weight: bold\">2009</span>\n",
       "</pre>\n"
      ],
      "text/plain": [
       "   \u001b[1mYear:\u001b[0m \u001b[1;36m2009\u001b[0m\n"
      ]
     },
     "metadata": {},
     "output_type": "display_data"
    },
    {
     "data": {
      "text/html": [
       "<pre style=\"white-space:pre;overflow-x:auto;line-height:normal;font-family:Menlo,'DejaVu Sans Mono',consolas,'Courier New',monospace\">   <span style=\"font-weight: bold\">Genre:</span> <span style=\"font-weight: bold\">[</span><span style=\"color: #008000; text-decoration-color: #008000\">'Action'</span>, <span style=\"color: #008000; text-decoration-color: #008000\">'Adventure'</span>, <span style=\"color: #008000; text-decoration-color: #008000\">'Family'</span>, <span style=\"color: #008000; text-decoration-color: #008000\">'Fantasy'</span>, <span style=\"color: #008000; text-decoration-color: #008000\">'Mystery'</span>, <span style=\"color: #008000; text-decoration-color: #008000\">'Romance'</span><span style=\"font-weight: bold\">]</span>\n",
       "</pre>\n"
      ],
      "text/plain": [
       "   \u001b[1mGenre:\u001b[0m \u001b[1m[\u001b[0m\u001b[32m'Action'\u001b[0m, \u001b[32m'Adventure'\u001b[0m, \u001b[32m'Family'\u001b[0m, \u001b[32m'Fantasy'\u001b[0m, \u001b[32m'Mystery'\u001b[0m, \u001b[32m'Romance'\u001b[0m\u001b[1m]\u001b[0m\n"
      ]
     },
     "metadata": {},
     "output_type": "display_data"
    },
    {
     "data": {
      "text/html": [
       "<pre style=\"white-space:pre;overflow-x:auto;line-height:normal;font-family:Menlo,'DejaVu Sans Mono',consolas,'Courier New',monospace\">   <span style=\"font-weight: bold\">Director:</span> David Yates\n",
       "</pre>\n"
      ],
      "text/plain": [
       "   \u001b[1mDirector:\u001b[0m David Yates\n"
      ]
     },
     "metadata": {},
     "output_type": "display_data"
    },
    {
     "data": {
      "text/html": [
       "<pre style=\"white-space:pre;overflow-x:auto;line-height:normal;font-family:Menlo,'DejaVu Sans Mono',consolas,'Courier New',monospace\">   <span style=\"font-weight: bold\">Summary:</span> \n",
       "\n",
       "</pre>\n"
      ],
      "text/plain": [
       "   \u001b[1mSummary:\u001b[0m \n",
       "\n"
      ]
     },
     "metadata": {},
     "output_type": "display_data"
    },
    {
     "data": {
      "text/html": [
       "<pre style=\"white-space:pre;overflow-x:auto;line-height:normal;font-family:Menlo,'DejaVu Sans Mono',consolas,'Courier New',monospace\"><span style=\"color: #008080; text-decoration-color: #008080; font-weight: bold\">3</span><span style=\"font-weight: bold\">. Title:</span> Harry Potter and the Goblet of Fire\n",
       "</pre>\n"
      ],
      "text/plain": [
       "\u001b[1;36m3\u001b[0m\u001b[1m. Title:\u001b[0m Harry Potter and the Goblet of Fire\n"
      ]
     },
     "metadata": {},
     "output_type": "display_data"
    },
    {
     "data": {
      "text/html": [
       "<pre style=\"white-space:pre;overflow-x:auto;line-height:normal;font-family:Menlo,'DejaVu Sans Mono',consolas,'Courier New',monospace\">   <span style=\"font-weight: bold\">Year:</span> <span style=\"color: #008080; text-decoration-color: #008080; font-weight: bold\">2005</span>\n",
       "</pre>\n"
      ],
      "text/plain": [
       "   \u001b[1mYear:\u001b[0m \u001b[1;36m2005\u001b[0m\n"
      ]
     },
     "metadata": {},
     "output_type": "display_data"
    },
    {
     "data": {
      "text/html": [
       "<pre style=\"white-space:pre;overflow-x:auto;line-height:normal;font-family:Menlo,'DejaVu Sans Mono',consolas,'Courier New',monospace\">   <span style=\"font-weight: bold\">Genre:</span> <span style=\"font-weight: bold\">[</span><span style=\"color: #008000; text-decoration-color: #008000\">'Adventure'</span>, <span style=\"color: #008000; text-decoration-color: #008000\">'Family'</span>, <span style=\"color: #008000; text-decoration-color: #008000\">'Fantasy'</span>, <span style=\"color: #008000; text-decoration-color: #008000\">'Mystery'</span><span style=\"font-weight: bold\">]</span>\n",
       "</pre>\n"
      ],
      "text/plain": [
       "   \u001b[1mGenre:\u001b[0m \u001b[1m[\u001b[0m\u001b[32m'Adventure'\u001b[0m, \u001b[32m'Family'\u001b[0m, \u001b[32m'Fantasy'\u001b[0m, \u001b[32m'Mystery'\u001b[0m\u001b[1m]\u001b[0m\n"
      ]
     },
     "metadata": {},
     "output_type": "display_data"
    },
    {
     "data": {
      "text/html": [
       "<pre style=\"white-space:pre;overflow-x:auto;line-height:normal;font-family:Menlo,'DejaVu Sans Mono',consolas,'Courier New',monospace\">   <span style=\"font-weight: bold\">Director:</span> Mike Newell\n",
       "</pre>\n"
      ],
      "text/plain": [
       "   \u001b[1mDirector:\u001b[0m Mike Newell\n"
      ]
     },
     "metadata": {},
     "output_type": "display_data"
    },
    {
     "data": {
      "text/html": [
       "<pre style=\"white-space:pre;overflow-x:auto;line-height:normal;font-family:Menlo,'DejaVu Sans Mono',consolas,'Courier New',monospace\">   <span style=\"font-weight: bold\">Summary:</span> \n",
       "\n",
       "</pre>\n"
      ],
      "text/plain": [
       "   \u001b[1mSummary:\u001b[0m \n",
       "\n"
      ]
     },
     "metadata": {},
     "output_type": "display_data"
    },
    {
     "data": {
      "text/html": [
       "<pre style=\"white-space:pre;overflow-x:auto;line-height:normal;font-family:Menlo,'DejaVu Sans Mono',consolas,'Courier New',monospace\"><span style=\"color: #008080; text-decoration-color: #008080; font-weight: bold\">4</span><span style=\"font-weight: bold\">. Title:</span> Harry Potter and the Chamber of Secrets\n",
       "</pre>\n"
      ],
      "text/plain": [
       "\u001b[1;36m4\u001b[0m\u001b[1m. Title:\u001b[0m Harry Potter and the Chamber of Secrets\n"
      ]
     },
     "metadata": {},
     "output_type": "display_data"
    },
    {
     "data": {
      "text/html": [
       "<pre style=\"white-space:pre;overflow-x:auto;line-height:normal;font-family:Menlo,'DejaVu Sans Mono',consolas,'Courier New',monospace\">   <span style=\"font-weight: bold\">Year:</span> <span style=\"color: #008080; text-decoration-color: #008080; font-weight: bold\">2002</span>\n",
       "</pre>\n"
      ],
      "text/plain": [
       "   \u001b[1mYear:\u001b[0m \u001b[1;36m2002\u001b[0m\n"
      ]
     },
     "metadata": {},
     "output_type": "display_data"
    },
    {
     "data": {
      "text/html": [
       "<pre style=\"white-space:pre;overflow-x:auto;line-height:normal;font-family:Menlo,'DejaVu Sans Mono',consolas,'Courier New',monospace\">   <span style=\"font-weight: bold\">Genre:</span> <span style=\"font-weight: bold\">[</span><span style=\"color: #008000; text-decoration-color: #008000\">'Adventure'</span>, <span style=\"color: #008000; text-decoration-color: #008000\">'Family'</span>, <span style=\"color: #008000; text-decoration-color: #008000\">'Fantasy'</span>, <span style=\"color: #008000; text-decoration-color: #008000\">'Mystery'</span><span style=\"font-weight: bold\">]</span>\n",
       "</pre>\n"
      ],
      "text/plain": [
       "   \u001b[1mGenre:\u001b[0m \u001b[1m[\u001b[0m\u001b[32m'Adventure'\u001b[0m, \u001b[32m'Family'\u001b[0m, \u001b[32m'Fantasy'\u001b[0m, \u001b[32m'Mystery'\u001b[0m\u001b[1m]\u001b[0m\n"
      ]
     },
     "metadata": {},
     "output_type": "display_data"
    },
    {
     "data": {
      "text/html": [
       "<pre style=\"white-space:pre;overflow-x:auto;line-height:normal;font-family:Menlo,'DejaVu Sans Mono',consolas,'Courier New',monospace\">   <span style=\"font-weight: bold\">Director:</span> Chris Columbus\n",
       "</pre>\n"
      ],
      "text/plain": [
       "   \u001b[1mDirector:\u001b[0m Chris Columbus\n"
      ]
     },
     "metadata": {},
     "output_type": "display_data"
    },
    {
     "data": {
      "text/html": [
       "<pre style=\"white-space:pre;overflow-x:auto;line-height:normal;font-family:Menlo,'DejaVu Sans Mono',consolas,'Courier New',monospace\">   <span style=\"font-weight: bold\">Summary:</span> \n",
       "\n",
       "</pre>\n"
      ],
      "text/plain": [
       "   \u001b[1mSummary:\u001b[0m \n",
       "\n"
      ]
     },
     "metadata": {},
     "output_type": "display_data"
    },
    {
     "data": {
      "text/html": [
       "<pre style=\"white-space:pre;overflow-x:auto;line-height:normal;font-family:Menlo,'DejaVu Sans Mono',consolas,'Courier New',monospace\"><span style=\"color: #008080; text-decoration-color: #008080; font-weight: bold\">5</span><span style=\"font-weight: bold\">. Title:</span> Harry Potter and the Prisoner of Azkaban\n",
       "</pre>\n"
      ],
      "text/plain": [
       "\u001b[1;36m5\u001b[0m\u001b[1m. Title:\u001b[0m Harry Potter and the Prisoner of Azkaban\n"
      ]
     },
     "metadata": {},
     "output_type": "display_data"
    },
    {
     "data": {
      "text/html": [
       "<pre style=\"white-space:pre;overflow-x:auto;line-height:normal;font-family:Menlo,'DejaVu Sans Mono',consolas,'Courier New',monospace\">   <span style=\"font-weight: bold\">Year:</span> <span style=\"color: #008080; text-decoration-color: #008080; font-weight: bold\">2004</span>\n",
       "</pre>\n"
      ],
      "text/plain": [
       "   \u001b[1mYear:\u001b[0m \u001b[1;36m2004\u001b[0m\n"
      ]
     },
     "metadata": {},
     "output_type": "display_data"
    },
    {
     "data": {
      "text/html": [
       "<pre style=\"white-space:pre;overflow-x:auto;line-height:normal;font-family:Menlo,'DejaVu Sans Mono',consolas,'Courier New',monospace\">   <span style=\"font-weight: bold\">Genre:</span> <span style=\"font-weight: bold\">[</span><span style=\"color: #008000; text-decoration-color: #008000\">'Adventure'</span>, <span style=\"color: #008000; text-decoration-color: #008000\">'Family'</span>, <span style=\"color: #008000; text-decoration-color: #008000\">'Fantasy'</span>, <span style=\"color: #008000; text-decoration-color: #008000\">'Mystery'</span><span style=\"font-weight: bold\">]</span>\n",
       "</pre>\n"
      ],
      "text/plain": [
       "   \u001b[1mGenre:\u001b[0m \u001b[1m[\u001b[0m\u001b[32m'Adventure'\u001b[0m, \u001b[32m'Family'\u001b[0m, \u001b[32m'Fantasy'\u001b[0m, \u001b[32m'Mystery'\u001b[0m\u001b[1m]\u001b[0m\n"
      ]
     },
     "metadata": {},
     "output_type": "display_data"
    },
    {
     "data": {
      "text/html": [
       "<pre style=\"white-space:pre;overflow-x:auto;line-height:normal;font-family:Menlo,'DejaVu Sans Mono',consolas,'Courier New',monospace\">   <span style=\"font-weight: bold\">Director:</span> Alfonso Cuarón\n",
       "</pre>\n"
      ],
      "text/plain": [
       "   \u001b[1mDirector:\u001b[0m Alfonso Cuarón\n"
      ]
     },
     "metadata": {},
     "output_type": "display_data"
    },
    {
     "data": {
      "text/html": [
       "<pre style=\"white-space:pre;overflow-x:auto;line-height:normal;font-family:Menlo,'DejaVu Sans Mono',consolas,'Courier New',monospace\">   <span style=\"font-weight: bold\">Summary:</span> \n",
       "\n",
       "</pre>\n"
      ],
      "text/plain": [
       "   \u001b[1mSummary:\u001b[0m \n",
       "\n"
      ]
     },
     "metadata": {},
     "output_type": "display_data"
    }
   ],
   "source": [
    "def display_similar_movies(client, movie_description, top_k=5):\n",
    "    results = find_similar_movies(client, movie_description, top_k)\n",
    "\n",
    "    console.print(f\"\\n[bold]Query Movie Description:[/bold] {movie_description}\")\n",
    "    console.print(f\"\\n[bold]Top {top_k} Similar Movies:[/bold]\\n\")\n",
    "\n",
    "    for idx, result in enumerate(results):\n",
    "        movie_info = result.payload\n",
    "        console.print(f\"[bold]{idx + 1}. Title:[/bold] {movie_info['title']}\")\n",
    "        console.print(f\"   [bold]Year:[/bold] {movie_info['year']}\")\n",
    "        console.print(f\"   [bold]Genre:[/bold] {movie_info['genre']}\")\n",
    "        console.print(f\"   [bold]Director:[/bold] {movie_info['director']}\")\n",
    "        console.print(f\"   [bold]Summary:[/bold] {movie_info['summary']}\\n\")\n",
    "\n",
    "movie_description = \"A story about a young boy who discovers he has magical powers and attends a school for wizards.\"\n",
    "display_similar_movies(client, movie_description)"
   ]
  },
  {
   "cell_type": "markdown",
   "metadata": {},
   "source": [
    "# Get all Embeddings"
   ]
  },
  {
   "cell_type": "code",
   "execution_count": 43,
   "metadata": {},
   "outputs": [],
   "source": [
    "def extract_all_embeddings(client, collection_name=\"testings\"):\n",
    "    all_vectors = []\n",
    "    all_titles = []\n",
    "    limit = 100  # Number of points to fetch per request\n",
    "    offset = None  # Initial offset for scrolling\n",
    "\n",
    "    while True:\n",
    "        points, next_page_offset = client.scroll(\n",
    "            collection_name=collection_name,\n",
    "            scroll_filter=None,\n",
    "            limit=limit,\n",
    "            with_payload=True,\n",
    "            with_vectors=True,\n",
    "            offset=offset\n",
    "        )\n",
    "\n",
    "        if not points:\n",
    "            break\n",
    "\n",
    "        for point in points:\n",
    "            all_vectors.append(point.vector)\n",
    "            all_titles.append(point.payload['title'])\n",
    "\n",
    "        offset = next_page_offset\n",
    "        if offset is None:\n",
    "            break\n",
    "\n",
    "    return np.array(all_vectors), all_titles"
   ]
  },
  {
   "cell_type": "markdown",
   "metadata": {},
   "source": [
    "# PCA : Principal Component Analysis\n",
    "## This can be useful for visualizing high-dimensional datasets, making it easier to see the relationship between data points."
   ]
  },
  {
   "cell_type": "code",
   "execution_count": 44,
   "metadata": {},
   "outputs": [],
   "source": [
    "def reduce_dimensions(vectors, method='tsne', n_components=2):\n",
    "    if method == 'pca':\n",
    "        reducer = PCA(n_components=n_components)\n",
    "    elif method == 'tsne':\n",
    "        reducer = TSNE(n_components=n_components, random_state=42)\n",
    "    else:\n",
    "        raise ValueError(\"Method should be either 'pca' or 'tsne'.\")\n",
    "\n",
    "    return reducer.fit_transform(vectors)"
   ]
  },
  {
   "cell_type": "markdown",
   "metadata": {},
   "source": [
    "# tsne : t-Distributed Stochastic Neighbor Embedding\n",
    "## t-SNE is a technique for dimensionality reduction that is particularly well suited for the visualization of high-dimensional datasets."
   ]
  },
  {
   "cell_type": "code",
   "execution_count": 45,
   "metadata": {},
   "outputs": [],
   "source": [
    "def plot_embeddings(reduced_vectors, titles, method='t-SNE'):\n",
    "    plt.figure(figsize=(14, 10))\n",
    "    plt.scatter(reduced_vectors[:, 0], reduced_vectors[:, 1], alpha=0.7)\n",
    "\n",
    "    # Optionally, annotate a few points to verify correctness\n",
    "    for i in range(0, len(titles), max(1, len(titles)//20)):  # Annotate 20 points\n",
    "        plt.annotate(titles[i], (reduced_vectors[i, 0], reduced_vectors[i, 1]))\n",
    "\n",
    "    plt.title(f'Movie Embeddings Visualized with {method}')\n",
    "    plt.xlabel('Component 1')\n",
    "    plt.ylabel('Component 2')\n",
    "    plt.show()"
   ]
  },
  {
   "cell_type": "markdown",
   "metadata": {},
   "source": [
    "# Extract all embeddings and titles"
   ]
  },
  {
   "cell_type": "code",
   "execution_count": 46,
   "metadata": {},
   "outputs": [],
   "source": [
    "vectors, titles = extract_all_embeddings(client)"
   ]
  },
  {
   "cell_type": "markdown",
   "metadata": {},
   "source": [
    "# Reduce dimensions using t-SNE (or PCA)"
   ]
  },
  {
   "cell_type": "code",
   "execution_count": 47,
   "metadata": {},
   "outputs": [],
   "source": [
    "reduced_vectors = reduce_dimensions(vectors, method='tsne')"
   ]
  },
  {
   "cell_type": "markdown",
   "metadata": {},
   "source": [
    "# Plot the reduced embeddings"
   ]
  },
  {
   "cell_type": "code",
   "execution_count": 48,
   "metadata": {},
   "outputs": [
    {
     "data": {
      "image/png": "[encoded data removed]",
      "text/plain": [
       "<Figure size 1400x1000 with 1 Axes>"
      ]
     },
     "metadata": {},
     "output_type": "display_data"
    }
   ],
   "source": [
    "plot_embeddings(reduced_vectors, titles, method='t-SNE')"
   ]
  },
  {
   "cell_type": "code",
   "execution_count": 49,
   "metadata": {},
   "outputs": [],
   "source": [
    "def apply_kmeans(reduced_vectors, n_clusters=5):\n",
    "    kmeans = KMeans(n_clusters=n_clusters, random_state=42)\n",
    "    kmeans.fit(reduced_vectors)\n",
    "    return kmeans.labels_\n",
    "\n",
    "# Apply KMeans clustering\n",
    "n_clusters = 60\n",
    "cluster_labels = apply_kmeans(reduced_vectors, n_clusters)"
   ]
  },
  {
   "cell_type": "code",
   "execution_count": 50,
   "metadata": {},
   "outputs": [
    {
     "data": {
      "application/vnd.plotly.v1+json": {
       "config": {
        "plotlyServerURL": "https://plot.ly"
       },
       "data": [
        {
         "hovertemplate": "<b>%{hovertext}</b><br><br>Cluster Label=0<br>Component 1=%{x}<br>Component 2=%{y}<extra></extra>",
         "hovertext": [
          "The Patriot",
          "Remember the Titans",
          "Deep Impact",
          "The Perfect Storm",
          "Saving Private Ryan",
          "Cast Away",
          "Enemy of the State",
          "Armageddon",
          "Black Hawk Down",
          "American History X",
          "Gladiator",
          "The Pursuit of Happyness",
          "The Pianist"
         ],
         "legendgroup": "0",
         "marker": {
          "color": "#636efa",
          "symbol": "circle"
         },
         "mode": "markers",
         "name": "0",
         "orientation": "v",
         "showlegend": true,
         "type": "scatter",
         "x": [
          5.372644,
          5.389226,
          -0.19979915,
          0.8462037,
          2.1215613,
          2.7929676,
          1.786193,
          0.5119709,
          5.0854263,
          2.3006155,
          5.554474,
          5.929571,
          7.8111243
         ],
         "xaxis": "x",
         "y": [
          2.7857838,
          2.738986,
          2.0265632,
          3.5880208,
          5.5152874,
          4.943931,
          1.0098525,
          1.6477659,
          1.5600005,
          0.7520636,
          4.7296996,
          5.739937,
          2.708406
         ],
         "yaxis": "y"
        },
        {
         "hovertemplate": "<b>%{hovertext}</b><br><br>Cluster Label=17<br>Component 1=%{x}<br>Component 2=%{y}<extra></extra>",
         "hovertext": [
          "Watchmen",
          "Mission: Impossible II",
          "The General's Daughter",
          "Mission: Impossible",
          "2012",
          "Fight Club",
          "Mission: Impossible III",
          "Godzilla",
          "The Bourne Identity",
          "The Bourne Supremacy",
          "The Bourne Ultimatum"
         ],
         "legendgroup": "17",
         "marker": {
          "color": "#EF553B",
          "symbol": "circle"
         },
         "mode": "markers",
         "name": "17",
         "orientation": "v",
         "showlegend": true,
         "type": "scatter",
         "x": [
          -1.366267,
          1.1272264,
          3.7794557,
          1.4971663,
          -1.8657401,
          0.75128657,
          0.8381376,
          -0.5742347,
          -2.001835,
          -1.800708,
          -1.3815384
         ],
         "xaxis": "x",
         "y": [
          -1.3773865,
          -2.5799615,
          -1.396804,
          -2.8335102,
          -1.7795025,
          -5.587724,
          -2.717823,
          0.96300346,
          -4.58633,
          -4.6954417,
          -4.746802
         ],
         "yaxis": "y"
        },
        {
         "hovertemplate": "<b>%{hovertext}</b><br><br>Cluster Label=51<br>Component 1=%{x}<br>Component 2=%{y}<extra></extra>",
         "hovertext": [
          "'Crocodile' Dundee II",
          "The Karate Kid, Part II",
          "Crocodile Dundee",
          "Top Gun",
          "Full Metal Jacket",
          "The Wrestler"
         ],
         "legendgroup": "51",
         "marker": {
          "color": "#00cc96",
          "symbol": "circle"
         },
         "mode": "markers",
         "name": "51",
         "orientation": "v",
         "showlegend": true,
         "type": "scatter",
         "x": [
          -25.125805,
          -24.040554,
          -25.108904,
          -24.71707,
          -25.237017,
          -21.437052
         ],
         "xaxis": "x",
         "y": [
          8.105049,
          5.0192895,
          8.098218,
          3.8544018,
          2.4356928,
          5.530283
         ],
         "yaxis": "y"
        },
        {
         "hovertemplate": "<b>%{hovertext}</b><br><br>Cluster Label=10<br>Component 1=%{x}<br>Component 2=%{y}<extra></extra>",
         "hovertext": [
          "Le scaphandre et le papillon",
          "Le salaire de la peur",
          "Les diaboliques",
          "M",
          "Le fabuleux destin d'Amélie Poulain",
          "Metropolis"
         ],
         "legendgroup": "10",
         "marker": {
          "color": "#ab63fa",
          "symbol": "circle"
         },
         "mode": "markers",
         "name": "10",
         "orientation": "v",
         "showlegend": true,
         "type": "scatter",
         "x": [
          15.467516,
          14.201985,
          13.8522835,
          11.371811,
          15.216442,
          11.53559
         ],
         "xaxis": "x",
         "y": [
          -34.585186,
          -32.959423,
          -32.734493,
          -34.17416,
          -33.950577,
          -34.58766
         ],
         "yaxis": "y"
        },
        {
         "hovertemplate": "<b>%{hovertext}</b><br><br>Cluster Label=11<br>Component 1=%{x}<br>Component 2=%{y}<extra></extra>",
         "hovertext": [
          "Taken",
          "Catch Me If You Can",
          "Mystic River",
          "Wanted",
          "In Bruges",
          "Sin City",
          "Daredevil",
          "The Green Mile",
          "xXx",
          "Collateral",
          "Road to Perdition",
          "District 9",
          "Crash",
          "Chicago",
          "8 Mile",
          "S.W.A.T.",
          "Traffic"
         ],
         "legendgroup": "11",
         "marker": {
          "color": "#FFA15A",
          "symbol": "circle"
         },
         "mode": "markers",
         "name": "11",
         "orientation": "v",
         "showlegend": true,
         "type": "scatter",
         "x": [
          -6.132414,
          -9.687729,
          -13.241778,
          -6.633851,
          -4.9767723,
          -10.026222,
          -12.182175,
          -8.466433,
          -10.11889,
          -10.488087,
          -8.933143,
          -6.462,
          -11.43663,
          -12.423487,
          -13.594466,
          -11.518995,
          -8.359927
         ],
         "xaxis": "x",
         "y": [
          -9.132287,
          -5.5537667,
          -7.299562,
          -9.82095,
          -9.076038,
          -9.371289,
          -8.739317,
          -5.2727723,
          -8.2431345,
          -7.523701,
          -5.825889,
          -7.8621297,
          -6.4573383,
          -4.583478,
          -4.184112,
          -9.001987,
          -8.398381
         ],
         "yaxis": "y"
        },
        {
         "hovertemplate": "<b>%{hovertext}</b><br><br>Cluster Label=32<br>Component 1=%{x}<br>Component 2=%{y}<extra></extra>",
         "hovertext": [
          "The Cat in the Hat",
          "Bee Movie",
          "Finding Nemo",
          "Robots",
          "Ratatouille",
          "Who Framed Roger Rabbit",
          "The Simpsons Movie",
          "Up",
          "Paul Blart: Mall Cop",
          "Horton Hears a Who!",
          "Chicken Run",
          "Bolt",
          "Cloudy with a Chance of Meatballs",
          "Cars",
          "Over the Hedge",
          "Lilo & Stitch",
          "Lemony Snicket's A Series of Unfortunate Events",
          "Gremlins",
          "A Bug's Life",
          "The Flintstones",
          "Monsters, Inc.",
          "Chicken Little",
          "Monsters vs Aliens",
          "WALL·E",
          "Honey, I Shrunk the Kids"
         ],
         "legendgroup": "32",
         "marker": {
          "color": "#19d3f3",
          "symbol": "circle"
         },
         "mode": "markers",
         "name": "32",
         "orientation": "v",
         "showlegend": true,
         "type": "scatter",
         "x": [
          8.199637,
          6.792686,
          5.6556635,
          4.48959,
          5.5961385,
          5.167756,
          2.990754,
          4.8683968,
          3.677961,
          4.5367665,
          3.0423825,
          5.666743,
          4.605631,
          3.4031358,
          3.3988461,
          6.917563,
          1.9805794,
          8.627875,
          5.0417185,
          4.5017905,
          8.222423,
          3.241805,
          8.505495,
          6.559663,
          3.6867292
         ],
         "xaxis": "x",
         "y": [
          24.831804,
          21.704416,
          24.856655,
          24.053356,
          23.682436,
          21.044744,
          22.582663,
          25.026363,
          18.51692,
          25.83778,
          27.262089,
          26.372574,
          27.777422,
          24.093525,
          25.021975,
          25.633366,
          20.995201,
          21.682455,
          22.407747,
          19.701073,
          22.896729,
          26.923155,
          23.012945,
          23.953785,
          20.649918
         ],
         "yaxis": "y"
        },
        {
         "hovertemplate": "<b>%{hovertext}</b><br><br>Cluster Label=2<br>Component 1=%{x}<br>Component 2=%{y}<extra></extra>",
         "hovertext": [
          "Shark Tale",
          "Evan Almighty",
          "Bringing Down the House",
          "Freaky Friday",
          "Scooby-Doo",
          "The Truman Show",
          "The Incredibles",
          "Stuart Little",
          "Big Momma's House",
          "Elf",
          "Marley & Me",
          "George of the Jungle",
          "Cheaper by the Dozen",
          "Sweet Home Alabama",
          "Happy Feet"
         ],
         "legendgroup": "2",
         "marker": {
          "color": "#FF6692",
          "symbol": "circle"
         },
         "mode": "markers",
         "name": "2",
         "orientation": "v",
         "showlegend": true,
         "type": "scatter",
         "x": [
          1.7707334,
          -0.6233574,
          -4.961819,
          0.92663795,
          0.94050986,
          -2.535103,
          1.8093538,
          -0.63160044,
          -5.14811,
          0.3718685,
          -0.6916727,
          -1.5867151,
          -2.4636495,
          -5.262534,
          -1.1953498
         ],
         "xaxis": "x",
         "y": [
          25.742266,
          24.76998,
          24.575647,
          23.610334,
          26.78981,
          23.122643,
          24.27443,
          21.335878,
          24.753916,
          21.690006,
          25.793701,
          22.039022,
          25.539066,
          22.574661,
          27.236021
         ],
         "yaxis": "y"
        },
        {
         "hovertemplate": "<b>%{hovertext}</b><br><br>Cluster Label=34<br>Component 1=%{x}<br>Component 2=%{y}<extra></extra>",
         "hovertext": [
          "The Grapes of Wrath",
          "Rebecca",
          "It's a Wonderful Life",
          "Brief Encounter",
          "Arsenic and Old Lace",
          "It Happened One Night",
          "His Girl Friday",
          "Kind Hearts and Coronets",
          "The Lady Vanishes",
          "Notorious",
          "The Philadelphia Story",
          "The Best Years of Our Lives"
         ],
         "legendgroup": "34",
         "marker": {
          "color": "#B6E880",
          "symbol": "circle"
         },
         "mode": "markers",
         "name": "34",
         "orientation": "v",
         "showlegend": true,
         "type": "scatter",
         "x": [
          3.5035288,
          0.7971557,
          0.5471168,
          0.044479072,
          -0.4278087,
          4.2914386,
          2.4326847,
          1.6145344,
          0.3342746,
          -0.9127078,
          1.8216379,
          0.65872604
         ],
         "xaxis": "x",
         "y": [
          -39.75386,
          -36.910046,
          -41.948338,
          -40.441994,
          -38.378307,
          -37.729187,
          -37.84132,
          -39.23458,
          -36.208084,
          -36.90794,
          -37.914654,
          -42.162457
         ],
         "yaxis": "y"
        },
        {
         "hovertemplate": "<b>%{hovertext}</b><br><br>Cluster Label=19<br>Component 1=%{x}<br>Component 2=%{y}<extra></extra>",
         "hovertext": [
          "Click",
          "American Pie",
          "Get Smart",
          "Terms of Endearment",
          "The Waterboy",
          "You Don't Mess with the Zohan",
          "American Pie 2",
          "The 40 Year Old Virgin",
          "Borat: Cultural Learnings of America for Make Benefit Glorious Nation of Kazakhstan",
          "You've Got Mail",
          "The Longest Yard",
          "Superbad",
          "Fun with Dick and Jane",
          "The Devil Wears Prada",
          "I Now Pronounce You Chuck & Larry"
         ],
         "legendgroup": "19",
         "marker": {
          "color": "#FF97FF",
          "symbol": "circle"
         },
         "mode": "markers",
         "name": "19",
         "orientation": "v",
         "showlegend": true,
         "type": "scatter",
         "x": [
          -6.151561,
          -7.70849,
          -6.546967,
          -9.915099,
          -8.665456,
          -7.77787,
          -7.7053814,
          -8.404927,
          -6.3212924,
          -6.694175,
          -10.428754,
          -5.5937843,
          -7.5564365,
          -6.271153,
          -8.660583
         ],
         "xaxis": "x",
         "y": [
          17.260992,
          22.684536,
          17.921877,
          16.057478,
          18.999763,
          17.9843,
          22.77447,
          14.692368,
          20.311357,
          16.003862,
          19.842827,
          18.607758,
          13.776957,
          13.765852,
          20.190363
         ],
         "yaxis": "y"
        },
        {
         "hovertemplate": "<b>%{hovertext}</b><br><br>Cluster Label=56<br>Component 1=%{x}<br>Component 2=%{y}<extra></extra>",
         "hovertext": [
          "Speed",
          "Clear and Present Danger",
          "Jurassic Park III",
          "Jurassic Park",
          "The Firm",
          "The Lost World: Jurassic Park",
          "Twelve Monkeys",
          "Pulp Fiction",
          "The Shawshank Redemption",
          "Interview with the Vampire: The Vampire Chronicles",
          "Se7en",
          "The Sum of All Fears"
         ],
         "legendgroup": "56",
         "marker": {
          "color": "#FECB52",
          "symbol": "circle"
         },
         "mode": "markers",
         "name": "56",
         "orientation": "v",
         "showlegend": true,
         "type": "scatter",
         "x": [
          9.694166,
          9.037564,
          14.094964,
          13.823962,
          7.873783,
          13.804643,
          12.074821,
          9.864558,
          11.13333,
          8.701181,
          7.4370513,
          9.188589
         ],
         "xaxis": "x",
         "y": [
          -8.520431,
          -5.902483,
          -6.416081,
          -6.555681,
          -11.248231,
          -5.5281873,
          -7.468633,
          -11.185162,
          -9.864779,
          -9.768572,
          -9.922765,
          -5.409523
         ],
         "yaxis": "y"
        },
        {
         "hovertemplate": "<b>%{hovertext}</b><br><br>Cluster Label=16<br>Component 1=%{x}<br>Component 2=%{y}<extra></extra>",
         "hovertext": [
          "3 Men and a Baby",
          "Home Alone 2: Lost in New York",
          "Coming to America",
          "Nutty Professor II: The Klumps",
          "Big",
          "Mamma Mia!",
          "Dr. Dolittle 2",
          "Parenthood",
          "Big Fish",
          "Home Alone",
          "Doctor Dolittle",
          "The Nutty Professor",
          "Daddy Day Care"
         ],
         "legendgroup": "16",
         "marker": {
          "color": "#636efa",
          "symbol": "circle"
         },
         "mode": "markers",
         "name": "16",
         "orientation": "v",
         "showlegend": true,
         "type": "scatter",
         "x": [
          -6.699204,
          -13.597423,
          -7.7475624,
          -7.8706717,
          -9.025638,
          -10.940138,
          -5.748347,
          -5.7828264,
          -8.289552,
          -13.572656,
          -5.6461725,
          -7.8743944,
          -5.035684
         ],
         "xaxis": "x",
         "y": [
          27.110579,
          34.030704,
          30.547106,
          32.56427,
          29.105808,
          26.530106,
          30.253067,
          27.36317,
          24.45142,
          33.99391,
          30.389679,
          32.4897,
          28.258135
         ],
         "yaxis": "y"
        },
        {
         "hovertemplate": "<b>%{hovertext}</b><br><br>Cluster Label=50<br>Component 1=%{x}<br>Component 2=%{y}<extra></extra>",
         "hovertext": [
          "Once Upon a Time in America",
          "Unforgiven",
          "Lethal Weapon 2",
          "Dances with Wolves",
          "The Silence of the Lambs",
          "Lethal Weapon 3",
          "The Bodyguard",
          "Reservoir Dogs",
          "Lethal Weapon 4",
          "A Few Good Men",
          "Basic Instinct"
         ],
         "legendgroup": "50",
         "marker": {
          "color": "#EF553B",
          "symbol": "circle"
         },
         "mode": "markers",
         "name": "50",
         "orientation": "v",
         "showlegend": true,
         "type": "scatter",
         "x": [
          1.211767,
          -1.3233627,
          -2.3275568,
          -2.3084228,
          -3.9275997,
          -1.8098714,
          -1.4878279,
          -0.64062905,
          -2.5336485,
          0.8773933,
          0.42921528
         ],
         "xaxis": "x",
         "y": [
          -17.093632,
          -14.263654,
          -12.245203,
          -17.504856,
          -15.388822,
          -12.76564,
          -16.682083,
          -15.419552,
          -11.756012,
          -14.3694935,
          -13.357075
         ],
         "yaxis": "y"
        },
        {
         "hovertemplate": "<b>%{hovertext}</b><br><br>Cluster Label=15<br>Component 1=%{x}<br>Component 2=%{y}<extra></extra>",
         "hovertext": [
          "Back to the Future Part II",
          "Hook",
          "Twins",
          "E.T.: The Extra-Terrestrial",
          "The Addams Family",
          "Star Trek IV: The Voyage Home",
          "Stand by Me",
          "Star Trek",
          "G-Force",
          "The Polar Express",
          "Toy Story",
          "Back to the Future",
          "Journey to the Center of the Earth",
          "Toy Story 2",
          "Jumanji",
          "Casper"
         ],
         "legendgroup": "15",
         "marker": {
          "color": "#00cc96",
          "symbol": "circle"
         },
         "mode": "markers",
         "name": "15",
         "orientation": "v",
         "showlegend": true,
         "type": "scatter",
         "x": [
          7.3571653,
          8.408988,
          9.888731,
          9.782229,
          6.7251716,
          13.913631,
          8.486175,
          13.897392,
          8.974207,
          11.025527,
          12.503779,
          7.427008,
          10.898532,
          12.575963,
          12.374186,
          6.553589
         ],
         "xaxis": "x",
         "y": [
          15.434678,
          18.610544,
          13.510175,
          17.278738,
          19.044981,
          14.464397,
          14.192997,
          14.499999,
          19.934132,
          21.178629,
          19.578611,
          15.4683075,
          16.112007,
          19.918789,
          18.067661,
          18.065538
         ],
         "yaxis": "y"
        },
        {
         "hovertemplate": "<b>%{hovertext}</b><br><br>Cluster Label=52<br>Component 1=%{x}<br>Component 2=%{y}<extra></extra>",
         "hovertext": [
          "Grease",
          "The Hangover",
          "Enchanted",
          "The Big Lebowski",
          "Bedtime Stories",
          "Look Who's Talking",
          "Hairspray",
          "Twilight",
          "The Proposal",
          "Tropic Thunder",
          "Juno",
          "Knocked Up",
          "(500) Days of Summer",
          "Little Miss Sunshine"
         ],
         "legendgroup": "52",
         "marker": {
          "color": "#ab63fa",
          "symbol": "circle"
         },
         "mode": "markers",
         "name": "52",
         "orientation": "v",
         "showlegend": true,
         "type": "scatter",
         "x": [
          -1.47047,
          -0.6552654,
          -2.9573767,
          0.7508729,
          -1.509793,
          -2.6871474,
          -2.8547606,
          -2.6309023,
          -4.4975247,
          1.1421282,
          -3.4687316,
          -4.298992,
          -4.63965,
          -3.7086327
         ],
         "xaxis": "x",
         "y": [
          14.518768,
          17.560415,
          19.431366,
          16.063513,
          19.810041,
          14.553186,
          15.98664,
          17.918585,
          16.996336,
          18.487347,
          18.264685,
          18.04008,
          15.281372,
          20.493141
         ],
         "yaxis": "y"
        },
        {
         "hovertemplate": "<b>%{hovertext}</b><br><br>Cluster Label=22<br>Component 1=%{x}<br>Component 2=%{y}<extra></extra>",
         "hovertext": [
          "2 Fast 2 Furious",
          "Fatal Attraction",
          "Live Free or Die Hard",
          "Die Hard",
          "Fast & Furious",
          "The Fast and the Furious",
          "Rambo: First Blood Part II",
          "Die Hard 2"
         ],
         "legendgroup": "22",
         "marker": {
          "color": "#FFA15A",
          "symbol": "circle"
         },
         "mode": "markers",
         "name": "22",
         "orientation": "v",
         "showlegend": true,
         "type": "scatter",
         "x": [
          -18.075985,
          -12.914908,
          -13.654715,
          -12.963222,
          -18.852654,
          -18.431932,
          -15.748421,
          -12.7097
         ],
         "xaxis": "x",
         "y": [
          -16.194855,
          -19.800613,
          -15.810668,
          -16.4111,
          -16.797523,
          -16.483208,
          -12.822126,
          -16.588047
         ],
         "yaxis": "y"
        },
        {
         "hovertemplate": "<b>%{hovertext}</b><br><br>Cluster Label=48<br>Component 1=%{x}<br>Component 2=%{y}<extra></extra>",
         "hovertext": [
          "The Mummy",
          "The Village",
          "Van Helsing",
          "Mulholland Dr.",
          "The Mummy: Tomb of the Dragon Emperor",
          "Lara Croft: Tomb Raider",
          "Sleepy Hollow",
          "The Mummy Returns",
          "Shaun of the Dead",
          "A Beautiful Mind",
          "The Blair Witch Project"
         ],
         "legendgroup": "48",
         "marker": {
          "color": "#19d3f3",
          "symbol": "circle"
         },
         "mode": "markers",
         "name": "48",
         "orientation": "v",
         "showlegend": true,
         "type": "scatter",
         "x": [
          -10.090599,
          -9.334763,
          -13.403949,
          -6.698199,
          -11.584652,
          -13.645058,
          -9.117749,
          -10.642042,
          -10.710497,
          -6.2805943,
          -7.93986
         ],
         "xaxis": "x",
         "y": [
          3.125242,
          1.5245527,
          1.8628615,
          3.0175767,
          3.0510962,
          2.705586,
          2.712914,
          3.0956385,
          5.120526,
          4.8138413,
          3.5838053
         ],
         "yaxis": "y"
        },
        {
         "hovertemplate": "<b>%{hovertext}</b><br><br>Cluster Label=42<br>Component 1=%{x}<br>Component 2=%{y}<extra></extra>",
         "hovertext": [
          "Rush Hour",
          "Rush Hour 3",
          "Rush Hour 2"
         ],
         "legendgroup": "42",
         "marker": {
          "color": "#FF6692",
          "symbol": "circle"
         },
         "mode": "markers",
         "name": "42",
         "orientation": "v",
         "showlegend": true,
         "type": "scatter",
         "x": [
          -27.637064,
          -27.479977,
          -27.496838
         ],
         "xaxis": "x",
         "y": [
          -8.608101,
          -9.30709,
          -9.125232
         ],
         "yaxis": "y"
        },
        {
         "hovertemplate": "<b>%{hovertext}</b><br><br>Cluster Label=24<br>Component 1=%{x}<br>Component 2=%{y}<extra></extra>",
         "hovertext": [
          "The Blind Side",
          "American Beauty",
          "Wild Hogs",
          "Walk the Line",
          "Analyze This",
          "Into the Wild",
          "City Slickers",
          "Austin Powers: The Spy Who Shagged Me",
          "Magnolia",
          "Wayne's World",
          "Austin Powers in Goldmember",
          "Wild Wild West"
         ],
         "legendgroup": "24",
         "marker": {
          "color": "#B6E880",
          "symbol": "circle"
         },
         "mode": "markers",
         "name": "24",
         "orientation": "v",
         "showlegend": true,
         "type": "scatter",
         "x": [
          -6.168856,
          -6.202257,
          -1.8518122,
          -4.409271,
          -5.038021,
          -1.8031788,
          -3.4042149,
          -2.0271926,
          -6.2077074,
          -0.28619176,
          -1.9653661,
          -2.3442972
         ],
         "xaxis": "x",
         "y": [
          11.177837,
          6.6057434,
          11.699591,
          13.081946,
          9.263481,
          10.889516,
          9.828528,
          6.1179733,
          6.3554025,
          6.8696957,
          6.1125,
          10.739618
         ],
         "yaxis": "y"
        },
        {
         "hovertemplate": "<b>%{hovertext}</b><br><br>Cluster Label=5<br>Component 1=%{x}<br>Component 2=%{y}<extra></extra>",
         "hovertext": [
          "The Elephant Man",
          "Apocalypse Now",
          "Maverick",
          "Glory",
          "Braveheart",
          "The Shining",
          "Gandhi",
          "Schindler's List"
         ],
         "legendgroup": "5",
         "marker": {
          "color": "#FF97FF",
          "symbol": "circle"
         },
         "mode": "markers",
         "name": "5",
         "orientation": "v",
         "showlegend": true,
         "type": "scatter",
         "x": [
          14.902263,
          17.525,
          11.226254,
          12.515883,
          11.698586,
          17.752016,
          14.17534,
          13.771375
         ],
         "xaxis": "x",
         "y": [
          -13.822644,
          -14.865056,
          -12.150896,
          -14.309447,
          -12.853464,
          -13.006928,
          -13.301944,
          -9.8064
         ],
         "yaxis": "y"
        },
        {
         "hovertemplate": "<b>%{hovertext}</b><br><br>Cluster Label=7<br>Component 1=%{x}<br>Component 2=%{y}<extra></extra>",
         "hovertext": [
          "The African Queen",
          "The Adventures of Robin Hood",
          "The Treasure of the Sierra Madre",
          "Who's Afraid of Virginia Woolf?",
          "Gone with the Wind",
          "The Third Man",
          "Casablanca",
          "Ben-Hur",
          "Citizen Kane"
         ],
         "legendgroup": "7",
         "marker": {
          "color": "#FECB52",
          "symbol": "circle"
         },
         "mode": "markers",
         "name": "7",
         "orientation": "v",
         "showlegend": true,
         "type": "scatter",
         "x": [
          1.5925169,
          1.4036772,
          0.9840242,
          2.5432167,
          1.4631165,
          5.105113,
          2.9670975,
          -0.62435085,
          4.5697055
         ],
         "xaxis": "x",
         "y": [
          -32.61788,
          -34.389057,
          -32.37044,
          -31.670763,
          -35.255722,
          -34.61692,
          -35.504726,
          -31.544168,
          -34.85553
         ],
         "yaxis": "y"
        },
        {
         "hovertemplate": "<b>%{hovertext}</b><br><br>Cluster Label=49<br>Component 1=%{x}<br>Component 2=%{y}<extra></extra>",
         "hovertext": [
          "Das Leben der Anderen",
          "Smultronstället",
          "Det sjunde inseglet",
          "Das Boot",
          "All Quiet on the Western Front",
          "Låt den rätte komma in",
          "The Wild Bunch",
          "Der Untergang"
         ],
         "legendgroup": "49",
         "marker": {
          "color": "#636efa",
          "symbol": "circle"
         },
         "mode": "markers",
         "name": "49",
         "orientation": "v",
         "showlegend": true,
         "type": "scatter",
         "x": [
          13.530635,
          14.653746,
          14.534258,
          11.997655,
          10.389872,
          14.055092,
          8.521638,
          12.365345
         ],
         "xaxis": "x",
         "y": [
          -37.95926,
          -40.215767,
          -39.95716,
          -36.491417,
          -36.838593,
          -39.019653,
          -40.58198,
          -36.254196
         ],
         "yaxis": "y"
        },
        {
         "hovertemplate": "<b>%{hovertext}</b><br><br>Cluster Label=18<br>Component 1=%{x}<br>Component 2=%{y}<extra></extra>",
         "hovertext": [
          "No Country for Old Men",
          "Platoon",
          "An Officer and a Gentleman",
          "Good Morning, Vietnam",
          "Beverly Hills Cop",
          "Men in Black II",
          "Beverly Hills Cop II",
          "Men in Black"
         ],
         "legendgroup": "18",
         "marker": {
          "color": "#EF553B",
          "symbol": "circle"
         },
         "mode": "markers",
         "name": "18",
         "orientation": "v",
         "showlegend": true,
         "type": "scatter",
         "x": [
          -24.081457,
          -26.550442,
          -26.56257,
          -26.645077,
          -28.113789,
          -22.437233,
          -28.04327,
          -22.683346
         ],
         "xaxis": "x",
         "y": [
          -3.261844,
          1.2537272,
          -0.8019236,
          0.96388966,
          -2.2197094,
          -4.859287,
          -2.1629665,
          -4.70768
         ],
         "yaxis": "y"
        },
        {
         "hovertemplate": "<b>%{hovertext}</b><br><br>Cluster Label=33<br>Component 1=%{x}<br>Component 2=%{y}<extra></extra>",
         "hovertext": [
          "Talladega Nights: The Ballad of Ricky Bobby",
          "Spy Kids 3-D: Game Over",
          "Charlie and the Chocolate Factory",
          "101 Dalmatians",
          "Spy Kids",
          "Madagascar",
          "Seabiscuit",
          "Night at the Museum",
          "Night at the Museum: Battle of the Smithsonian",
          "Madagascar: Escape 2 Africa",
          "Alvin and the Chipmunks"
         ],
         "legendgroup": "33",
         "marker": {
          "color": "#00cc96",
          "symbol": "circle"
         },
         "mode": "markers",
         "name": "33",
         "orientation": "v",
         "showlegend": true,
         "type": "scatter",
         "x": [
          -1.9124528,
          3.3216252,
          0.7443997,
          -3.5815554,
          3.310571,
          2.1156402,
          -4.0722294,
          -0.3222696,
          -0.21424954,
          2.1423604,
          -1.3364139
         ],
         "xaxis": "x",
         "y": [
          31.274456,
          34.088123,
          28.336681,
          35.22897,
          34.099854,
          29.87908,
          36.137856,
          32.407745,
          32.576084,
          30.14863,
          29.424873
         ],
         "yaxis": "y"
        },
        {
         "hovertemplate": "<b>%{hovertext}</b><br><br>Cluster Label=54<br>Component 1=%{x}<br>Component 2=%{y}<extra></extra>",
         "hovertext": [
          "North by Northwest",
          "Singin' in the Rain",
          "Dial M for Murder",
          "Psycho",
          "Touch of Evil",
          "The Great Escape",
          "Rear Window",
          "Vertigo",
          "Anatomy of a Murder",
          "All About Eve",
          "High Noon",
          "The Apartment",
          "Some Like It Hot"
         ],
         "legendgroup": "54",
         "marker": {
          "color": "#ab63fa",
          "symbol": "circle"
         },
         "mode": "markers",
         "name": "54",
         "orientation": "v",
         "showlegend": true,
         "type": "scatter",
         "x": [
          -1.2519811,
          -7.1352377,
          -4.5127645,
          -2.2861154,
          -2.9902184,
          -7.586606,
          -4.7283435,
          -2.1131074,
          -5.409636,
          -4.7983212,
          -6.4484406,
          -2.3846714,
          -3.0626543
         ],
         "xaxis": "x",
         "y": [
          -35.26102,
          -30.927206,
          -34.661198,
          -34.18092,
          -33.45821,
          -33.562916,
          -35.087616,
          -35.396713,
          -33.95789,
          -30.524466,
          -30.767014,
          -29.962734,
          -30.324368
         ],
         "yaxis": "y"
        },
        {
         "hovertemplate": "<b>%{hovertext}</b><br><br>Cluster Label=46<br>Component 1=%{x}<br>Component 2=%{y}<extra></extra>",
         "hovertext": [
          "The Godfather: Part II",
          "Cidade de Deus",
          "The Godfather",
          "The Conversation",
          "Amores perros",
          "Dog Day Afternoon",
          "Chinatown",
          "Sleuth",
          "Scarface",
          "El laberinto del fauno",
          "Brazil"
         ],
         "legendgroup": "46",
         "marker": {
          "color": "#FFA15A",
          "symbol": "circle"
         },
         "mode": "markers",
         "name": "46",
         "orientation": "v",
         "showlegend": true,
         "type": "scatter",
         "x": [
          13.020339,
          16.184273,
          13.091883,
          12.480628,
          15.54841,
          11.489292,
          11.787191,
          10.752608,
          14.042528,
          15.66588,
          17.076633
         ],
         "xaxis": "x",
         "y": [
          -23.033913,
          -26.715971,
          -23.225706,
          -20.842482,
          -28.205622,
          -22.116316,
          -20.833443,
          -25.948158,
          -24.646566,
          -27.738974,
          -25.502943
         ],
         "yaxis": "y"
        },
        {
         "hovertemplate": "<b>%{hovertext}</b><br><br>Cluster Label=14<br>Component 1=%{x}<br>Component 2=%{y}<extra></extra>",
         "hovertext": [
          "Rashômon",
          "Hotaru no haka",
          "Letters from Iwo Jima",
          "Ran",
          "Tonari no Totoro",
          "Yojimbo",
          "Shichinin no samurai",
          "Sen to Chihiro no kamikakushi",
          "Mononoke-hime"
         ],
         "legendgroup": "14",
         "marker": {
          "color": "#19d3f3",
          "symbol": "circle"
         },
         "mode": "markers",
         "name": "14",
         "orientation": "v",
         "showlegend": true,
         "type": "scatter",
         "x": [
          23.729136,
          21.110165,
          22.632492,
          22.144762,
          20.485447,
          23.3634,
          22.541756,
          20.785892,
          20.35071
         ],
         "xaxis": "x",
         "y": [
          32.478416,
          33.167233,
          34.501343,
          33.298298,
          32.21397,
          32.67223,
          32.159866,
          31.612926,
          30.900791
         ],
         "yaxis": "y"
        },
        {
         "hovertemplate": "<b>%{hovertext}</b><br><br>Cluster Label=28<br>Component 1=%{x}<br>Component 2=%{y}<extra></extra>",
         "hovertext": [
          "The Lord of the Rings: The Two Towers",
          "Pirates of the Caribbean: At World's End",
          "The Pacifier",
          "Mr. Deeds",
          "Pirates of the Caribbean: Dead Man's Chest",
          "Anger Management",
          "Million Dollar Baby",
          "The Lord of the Rings: The Return of the King",
          "The Lord of the Rings: The Fellowship of the Ring"
         ],
         "legendgroup": "28",
         "marker": {
          "color": "#FF6692",
          "symbol": "circle"
         },
         "mode": "markers",
         "name": "28",
         "orientation": "v",
         "showlegend": true,
         "type": "scatter",
         "x": [
          -24.289291,
          -20.619081,
          -16.59447,
          -19.334167,
          -20.616816,
          -19.02793,
          -17.1148,
          -24.630852,
          -24.66868
         ],
         "xaxis": "x",
         "y": [
          13.425182,
          9.722266,
          10.9179735,
          15.0755005,
          9.699469,
          14.674241,
          10.284814,
          13.561228,
          13.921215
         ],
         "yaxis": "y"
        },
        {
         "hovertemplate": "<b>%{hovertext}</b><br><br>Cluster Label=23<br>Component 1=%{x}<br>Component 2=%{y}<extra></extra>",
         "hovertext": [
          "A Christmas Carol",
          "Four Christmases",
          "How the Grinch Stole Christmas",
          "Step Brothers",
          "The Nightmare Before Christmas",
          "Ice Age: Dawn of the Dinosaurs",
          "The Santa Clause 2",
          "Ice Age",
          "Dinosaur",
          "The Santa Clause",
          "Ice Age: The Meltdown",
          "The Rugrats Movie"
         ],
         "legendgroup": "23",
         "marker": {
          "color": "#B6E880",
          "symbol": "circle"
         },
         "mode": "markers",
         "name": "23",
         "orientation": "v",
         "showlegend": true,
         "type": "scatter",
         "x": [
          10.795738,
          11.101863,
          10.236532,
          4.4822626,
          11.341807,
          7.4712286,
          7.867046,
          6.0889807,
          7.996286,
          7.9602227,
          6.1515994,
          6.5154963
         ],
         "xaxis": "x",
         "y": [
          33.96404,
          34.740944,
          34.16301,
          29.556957,
          32.876102,
          30.338253,
          34.50073,
          31.37836,
          29.646229,
          34.549942,
          31.286568,
          27.978601
         ],
         "yaxis": "y"
        },
        {
         "hovertemplate": "<b>%{hovertext}</b><br><br>Cluster Label=31<br>Component 1=%{x}<br>Component 2=%{y}<extra></extra>",
         "hovertext": [
          "The Day After Tomorrow",
          "Bad Boys II",
          "Independence Day",
          "National Treasure",
          "Die Another Day",
          "National Treasure: Book of Secrets",
          "The World Is Not Enough",
          "G.I. Joe: The Rise of Cobra",
          "Blood Diamond",
          "There Will Be Blood",
          "Tomorrow Never Dies"
         ],
         "legendgroup": "31",
         "marker": {
          "color": "#FF97FF",
          "symbol": "circle"
         },
         "mode": "markers",
         "name": "31",
         "orientation": "v",
         "showlegend": true,
         "type": "scatter",
         "x": [
          -20.792112,
          -20.14187,
          -21.498951,
          -15.799996,
          -20.03972,
          -15.879294,
          -19.447842,
          -15.924406,
          -15.255212,
          -15.262189,
          -20.321663
         ],
         "xaxis": "x",
         "y": [
          -11.379904,
          -5.4600115,
          -12.193767,
          -6.2717795,
          -10.10526,
          -6.2795305,
          -8.9861765,
          -9.260666,
          -11.1049795,
          -11.234083,
          -10.947001
         ],
         "yaxis": "y"
        },
        {
         "hovertemplate": "<b>%{hovertext}</b><br><br>Cluster Label=27<br>Component 1=%{x}<br>Component 2=%{y}<extra></extra>",
         "hovertext": [
          "Scream 2",
          "The Rock",
          "Titanic",
          "Trainspotting",
          "The Aviator",
          "Scream"
         ],
         "legendgroup": "27",
         "marker": {
          "color": "#FECB52",
          "symbol": "circle"
         },
         "mode": "markers",
         "name": "27",
         "orientation": "v",
         "showlegend": true,
         "type": "scatter",
         "x": [
          12.996571,
          10.7881565,
          9.519054,
          10.396169,
          8.278176,
          12.792098
         ],
         "xaxis": "x",
         "y": [
          -1.4191885,
          -3.1382072,
          0.61100817,
          -2.0953162,
          1.3691134,
          -1.5599098
         ],
         "yaxis": "y"
        },
        {
         "hovertemplate": "<b>%{hovertext}</b><br><br>Cluster Label=4<br>Component 1=%{x}<br>Component 2=%{y}<extra></extra>",
         "hovertext": [
          "Iron Man",
          "Hulk",
          "X-Men Origins: Wolverine",
          "4: Rise of the Silver Surfer",
          "Spider-Man",
          "Spider-Man 3",
          "X2",
          "The Incredible Hulk",
          "King Kong",
          "X-Men",
          "Spider-Man 2",
          "X-Men: The Last Stand",
          "Ghost Rider",
          "Fantastic Four",
          "King Kong",
          "300"
         ],
         "legendgroup": "4",
         "marker": {
          "color": "#636efa",
          "symbol": "circle"
         },
         "mode": "markers",
         "name": "4",
         "orientation": "v",
         "showlegend": true,
         "type": "scatter",
         "x": [
          -17.479633,
          -16.093313,
          -20.439453,
          -18.880733,
          -16.36836,
          -16.345007,
          -19.24971,
          -16.292929,
          -14.650779,
          -19.928913,
          -16.362225,
          -20.476324,
          -14.172233,
          -18.476715,
          -14.632931,
          -16.777842
         ],
         "xaxis": "x",
         "y": [
          -2.5719757,
          -2.3898246,
          -0.4401008,
          4.649037,
          2.028797,
          1.0622166,
          0.3358158,
          -2.4220622,
          4.7249694,
          0.02078077,
          1.4316567,
          0.34896243,
          -0.19544472,
          4.3928266,
          4.518653,
          6.227351
         ],
         "yaxis": "y"
        },
        {
         "hovertemplate": "<b>%{hovertext}</b><br><br>Cluster Label=3<br>Component 1=%{x}<br>Component 2=%{y}<extra></extra>",
         "hovertext": [
          "Hotel Rwanda",
          "The Manchurian Candidate",
          "Rosemary's Baby",
          "Judgment at Nuremberg",
          "To Kill a Mockingbird",
          "The Hustler",
          "Cool Hand Luke",
          "12 Angry Men"
         ],
         "legendgroup": "3",
         "marker": {
          "color": "#EF553B",
          "symbol": "circle"
         },
         "mode": "markers",
         "name": "3",
         "orientation": "v",
         "showlegend": true,
         "type": "scatter",
         "x": [
          -6.409647,
          -8.33248,
          -11.307643,
          -4.7822723,
          -7.6253786,
          -5.572305,
          -5.8879514,
          -8.56222
         ],
         "xaxis": "x",
         "y": [
          -20.626652,
          -24.868378,
          -22.300299,
          -27.437555,
          -25.867716,
          -26.700539,
          -25.668322,
          -27.114307
         ],
         "yaxis": "y"
        },
        {
         "hovertemplate": "<b>%{hovertext}</b><br><br>Cluster Label=30<br>Component 1=%{x}<br>Component 2=%{y}<extra></extra>",
         "hovertext": [
          "Barry Lyndon",
          "Airport",
          "Manhattan",
          "Patton",
          "A Clockwork Orange",
          "Love Story",
          "One Flew Over the Cuckoo's Nest",
          "Annie Hall",
          "Mr. Smith Goes to Washington"
         ],
         "legendgroup": "30",
         "marker": {
          "color": "#00cc96",
          "symbol": "circle"
         },
         "mode": "markers",
         "name": "30",
         "orientation": "v",
         "showlegend": true,
         "type": "scatter",
         "x": [
          7.954714,
          4.2695274,
          5.4815717,
          5.080145,
          8.607758,
          6.5507984,
          9.512074,
          5.611407,
          7.9229746
         ],
         "xaxis": "x",
         "y": [
          -24.39356,
          -25.574142,
          -21.861446,
          -25.502748,
          -24.52241,
          -25.068106,
          -22.868029,
          -21.934708,
          -19.055511
         ],
         "yaxis": "y"
        },
        {
         "hovertemplate": "<b>%{hovertext}</b><br><br>Cluster Label=26<br>Component 1=%{x}<br>Component 2=%{y}<extra></extra>",
         "hovertext": [
          "Forrest Gump",
          "Groundhog Day",
          "Apollo 13",
          "True Lies",
          "Ghost",
          "A League of Their Own",
          "Sleepless in Seattle",
          "Ghostbusters II",
          "Indecent Proposal",
          "Ghost Busters",
          "Liar Liar",
          "Dodgeball: A True Underdog Story",
          "Ed Wood"
         ],
         "legendgroup": "26",
         "marker": {
          "color": "#ab63fa",
          "symbol": "circle"
         },
         "mode": "markers",
         "name": "26",
         "orientation": "v",
         "showlegend": true,
         "type": "scatter",
         "x": [
          14.130946,
          10.076862,
          14.95024,
          19.187778,
          12.428251,
          11.168871,
          12.354631,
          11.4928055,
          14.308256,
          11.556456,
          19.265305,
          9.68781,
          13.11936
         ],
         "xaxis": "x",
         "y": [
          6.283789,
          9.674222,
          6.6062927,
          6.5680537,
          10.07238,
          4.4537683,
          3.8797903,
          10.897204,
          3.7069008,
          10.924951,
          6.667815,
          5.530767,
          6.6445317
         ],
         "yaxis": "y"
        },
        {
         "hovertemplate": "<b>%{hovertext}</b><br><br>Cluster Label=47<br>Component 1=%{x}<br>Component 2=%{y}<extra></extra>",
         "hovertext": [
          "Couples Retreat",
          "My Big Fat Greek Wedding",
          "Wedding Crashers",
          "Shakespeare in Love",
          "What Women Want",
          "American Wedding",
          "Erin Brockovich",
          "My Best Friend's Wedding",
          "Pretty Woman",
          "The Break-Up",
          "Meet the Fockers",
          "50 First Dates",
          "Notting Hill",
          "The First Wives Club",
          "Meet the Parents",
          "The Princess Bride",
          "Runaway Bride",
          "The Princess Diaries"
         ],
         "legendgroup": "47",
         "marker": {
          "color": "#FFA15A",
          "symbol": "circle"
         },
         "mode": "markers",
         "name": "47",
         "orientation": "v",
         "showlegend": true,
         "type": "scatter",
         "x": [
          -18.335129,
          -15.369028,
          -15.323057,
          -19.606792,
          -15.038153,
          -15.298102,
          -15.816673,
          -15.866371,
          -16.043066,
          -18.880266,
          -11.792358,
          -11.935985,
          -18.005465,
          -13.997553,
          -11.375391,
          -12.876508,
          -16.991598,
          -12.1281805
         ],
         "xaxis": "x",
         "y": [
          26.077929,
          27.130356,
          25.845665,
          19.344063,
          21.39342,
          26.386356,
          20.298712,
          24.986893,
          21.819662,
          26.0652,
          22.700695,
          21.970394,
          21.55703,
          23.993935,
          23.270927,
          26.54132,
          22.081684,
          26.538921
         ],
         "yaxis": "y"
        },
        {
         "hovertemplate": "<b>%{hovertext}</b><br><br>Cluster Label=6<br>Component 1=%{x}<br>Component 2=%{y}<extra></extra>",
         "hovertext": [
          "The Lion King",
          "Kung Fu Panda",
          "Beauty and the Beast",
          "Aladdin",
          "Teenage Mutant Ninja Turtles",
          "The Little Mermaid",
          "Pocahontas",
          "Shrek 2",
          "Shrek the Third",
          "Shrek",
          "Tarzan",
          "Mulan",
          "Bambi",
          "The Hunchback of Notre Dame",
          "The Prince of Egypt",
          "One Hundred and One Dalmatians"
         ],
         "legendgroup": "6",
         "marker": {
          "color": "#19d3f3",
          "symbol": "circle"
         },
         "mode": "markers",
         "name": "6",
         "orientation": "v",
         "showlegend": true,
         "type": "scatter",
         "x": [
          12.899396,
          10.851,
          12.497948,
          14.530617,
          9.149915,
          14.694045,
          13.435207,
          9.395027,
          9.600082,
          9.379651,
          13.745519,
          13.436456,
          16.409754,
          12.306095,
          13.020586,
          10.782857
         ],
         "xaxis": "x",
         "y": [
          27.06321,
          28.58892,
          26.411644,
          26.292831,
          27.395868,
          25.185492,
          24.421051,
          25.934664,
          26.13176,
          25.537327,
          21.374435,
          29.556944,
          28.395496,
          24.73523,
          29.129269,
          23.189074
         ],
         "yaxis": "y"
        },
        {
         "hovertemplate": "<b>%{hovertext}</b><br><br>Cluster Label=20<br>Component 1=%{x}<br>Component 2=%{y}<extra></extra>",
         "hovertext": [
          "I, Robot",
          "The Ring",
          "Double Jeopardy",
          "What Lies Beneath",
          "I Am Legend",
          "The Sixth Sense",
          "Signs",
          "Paranormal Activity",
          "The Grudge"
         ],
         "legendgroup": "20",
         "marker": {
          "color": "#FF6692",
          "symbol": "circle"
         },
         "mode": "markers",
         "name": "20",
         "orientation": "v",
         "showlegend": true,
         "type": "scatter",
         "x": [
          -12.927568,
          -7.9039826,
          -9.913381,
          -9.782882,
          -11.4034,
          -7.334437,
          -7.380869,
          -10.715069,
          -8.359486
         ],
         "xaxis": "x",
         "y": [
          -2.1109667,
          -1.556151,
          -3.412917,
          0.1277853,
          -1.267273,
          0.96124727,
          0.48758817,
          -0.46587035,
          -1.7562332
         ],
         "yaxis": "y"
        },
        {
         "hovertemplate": "<b>%{hovertext}</b><br><br>Cluster Label=57<br>Component 1=%{x}<br>Component 2=%{y}<extra></extra>",
         "hovertext": [
          "Mou gaan dou",
          "Oldboy",
          "Wo hu cang long"
         ],
         "legendgroup": "57",
         "marker": {
          "color": "#B6E880",
          "symbol": "circle"
         },
         "mode": "markers",
         "name": "57",
         "orientation": "v",
         "showlegend": true,
         "type": "scatter",
         "x": [
          19.03592,
          19.989588,
          19.050474
         ],
         "xaxis": "x",
         "y": [
          36.96379,
          36.377758,
          36.92597
         ],
         "yaxis": "y"
        },
        {
         "hovertemplate": "<b>%{hovertext}</b><br><br>Cluster Label=35<br>Component 1=%{x}<br>Component 2=%{y}<extra></extra>",
         "hovertext": [
          "Total Recall",
          "Terminator Salvation",
          "Con Air",
          "The Terminator",
          "Contact",
          "L.A. Confidential",
          "Terminator 2: Judgment Day",
          "Face/Off",
          "Twister",
          "The Hunt for Red October",
          "Phenomenon",
          "Air Force One",
          "Ransom",
          "Eraser",
          "Terminator 3: Rise of the Machines",
          "Fargo"
         ],
         "legendgroup": "35",
         "marker": {
          "color": "#FF97FF",
          "symbol": "circle"
         },
         "mode": "markers",
         "name": "35",
         "orientation": "v",
         "showlegend": true,
         "type": "scatter",
         "x": [
          6.314106,
          5.3339567,
          5.3776464,
          6.2606893,
          6.5570617,
          5.4649353,
          6.3612456,
          5.2213345,
          3.6958454,
          7.930803,
          5.2370067,
          7.2130237,
          3.2850082,
          4.411081,
          6.437993,
          3.0966318
         ],
         "xaxis": "x",
         "y": [
          -3.4770768,
          -1.5131564,
          -7.813837,
          -1.6209168,
          -8.489294,
          -8.949873,
          -2.0270243,
          -7.5327873,
          -5.696671,
          -4.5891685,
          -6.0731525,
          -6.8538723,
          -7.4540215,
          -4.2788544,
          -1.0391712,
          -6.1901135
         ],
         "yaxis": "y"
        },
        {
         "hovertemplate": "<b>%{hovertext}</b><br><br>Cluster Label=38<br>Component 1=%{x}<br>Component 2=%{y}<extra></extra>",
         "hovertext": [
          "Gran Torino",
          "The Departed",
          "The Maltese Falcon",
          "Kill Bill: Vol. 1",
          "Hannibal",
          "Slumdog Millionaire",
          "Eagle Eye",
          "The Italian Job",
          "Gone in Sixty Seconds",
          "American Gangster",
          "Kill Bill: Vol. 2",
          "Fahrenheit 9/11",
          "Lock, Stock and Two Smoking Barrels",
          "Snatch."
         ],
         "legendgroup": "38",
         "marker": {
          "color": "#FECB52",
          "symbol": "circle"
         },
         "mode": "markers",
         "name": "38",
         "orientation": "v",
         "showlegend": true,
         "type": "scatter",
         "x": [
          -7.0007863,
          -6.8913074,
          -5.2389355,
          -8.964774,
          -5.0004272,
          -8.781825,
          -6.225463,
          -6.7854695,
          -9.474525,
          -7.5270977,
          -8.937586,
          -5.7295275,
          -12.043331,
          -11.387068
         ],
         "xaxis": "x",
         "y": [
          -11.652775,
          -13.806637,
          -12.668466,
          -17.779,
          -15.243413,
          -10.797159,
          -10.826046,
          -14.312779,
          -13.85575,
          -12.928067,
          -17.812311,
          -16.786846,
          -12.397323,
          -11.883184
         ],
         "yaxis": "y"
        },
        {
         "hovertemplate": "<b>%{hovertext}</b><br><br>Cluster Label=55<br>Component 1=%{x}<br>Component 2=%{y}<extra></extra>",
         "hovertext": [
          "V for Vendetta",
          "The Matrix Reloaded",
          "Vanilla Sky",
          "The Matrix",
          "Minority Report",
          "War of the Worlds",
          "Transformers: Revenge of the Fallen",
          "The Da Vinci Code",
          "Quantum of Solace",
          "Donnie Darko",
          "Children of Men",
          "Angels & Demons",
          "The Matrix Revolutions",
          "Transformers"
         ],
         "legendgroup": "55",
         "marker": {
          "color": "#636efa",
          "symbol": "circle"
         },
         "mode": "markers",
         "name": "55",
         "orientation": "v",
         "showlegend": true,
         "type": "scatter",
         "x": [
          -4.6074862,
          -5.579191,
          -5.769467,
          -6.229777,
          -6.20914,
          -5.0733147,
          -2.959524,
          -3.587026,
          -4.9817085,
          -5.5631585,
          -2.8393657,
          -3.5839615,
          -5.9864264,
          -3.0074756
         ],
         "xaxis": "x",
         "y": [
          -3.6127586,
          -4.870368,
          2.3726773,
          -4.7528977,
          -2.1406286,
          -1.7476596,
          3.1573,
          -0.2542986,
          -5.918858,
          1.2285943,
          -2.0277233,
          0.113023125,
          -4.5545897,
          3.0473986
         ],
         "yaxis": "y"
        },
        {
         "hovertemplate": "<b>%{hovertext}</b><br><br>Cluster Label=29<br>Component 1=%{x}<br>Component 2=%{y}<extra></extra>",
         "hovertext": [
          "Robin Hood: Prince of Thieves",
          "Batman Forever",
          "The Dark Knight",
          "A Time to Kill",
          "Batman Returns",
          "The Prestige",
          "The Usual Suspects",
          "Die Hard: With a Vengeance",
          "Batman Begins",
          "Memento",
          "Batman & Robin",
          "Batman"
         ],
         "legendgroup": "29",
         "marker": {
          "color": "#EF553B",
          "symbol": "circle"
         },
         "mode": "markers",
         "name": "29",
         "orientation": "v",
         "showlegend": true,
         "type": "scatter",
         "x": [
          0.4696602,
          0.81868804,
          -1.8036664,
          2.7259114,
          0.2206984,
          -2.5889928,
          4.5820045,
          2.8991868,
          -0.7322347,
          -2.9896214,
          0.29891506,
          -0.25811926
         ],
         "xaxis": "x",
         "y": [
          -7.7006764,
          -10.503652,
          -8.586296,
          -8.546571,
          -11.431184,
          -7.5853515,
          -10.32741,
          -11.318982,
          -9.498276,
          -7.0948267,
          -9.577094,
          -10.456782
         ],
         "yaxis": "y"
        },
        {
         "hovertemplate": "<b>%{hovertext}</b><br><br>Cluster Label=9<br>Component 1=%{x}<br>Component 2=%{y}<extra></extra>",
         "hovertext": [
          "GoldenEye",
          "Goodfellas",
          "Inglourious Basterds",
          "Heat",
          "Casino",
          "Sleeping with the Enemy",
          "Léon",
          "The Pelican Brief",
          "The Fugitive",
          "Changeling",
          "Casino Royale"
         ],
         "legendgroup": "9",
         "marker": {
          "color": "#00cc96",
          "symbol": "circle"
         },
         "mode": "markers",
         "name": "9",
         "orientation": "v",
         "showlegend": true,
         "type": "scatter",
         "x": [
          3.2136009,
          1.9581307,
          3.7931511,
          5.0947776,
          4.54864,
          7.720899,
          6.3970737,
          8.006518,
          7.021104,
          3.243978,
          4.3714223
         ],
         "xaxis": "x",
         "y": [
          -12.749432,
          -16.174694,
          -18.239256,
          -12.820608,
          -14.315295,
          -15.235799,
          -15.462781,
          -13.070945,
          -11.542487,
          -18.744913,
          -14.726062
         ],
         "yaxis": "y"
        },
        {
         "hovertemplate": "<b>%{hovertext}</b><br><br>Cluster Label=36<br>Component 1=%{x}<br>Component 2=%{y}<extra></extra>",
         "hovertext": [
          "Close Encounters of the Third Kind",
          "The Thing",
          "Alien",
          "Aliens",
          "Jaws 2",
          "Every Which Way But Loose",
          "Blade Runner",
          "Jaws",
          "Blades of Glory"
         ],
         "legendgroup": "36",
         "marker": {
          "color": "#ab63fa",
          "symbol": "circle"
         },
         "mode": "markers",
         "name": "36",
         "orientation": "v",
         "showlegend": true,
         "type": "scatter",
         "x": [
          17.511063,
          18.863697,
          19.58786,
          19.023138,
          19.118814,
          20.857603,
          18.230122,
          18.657837,
          18.046873
         ],
         "xaxis": "x",
         "y": [
          -9.936476,
          -8.424241,
          -7.354367,
          -7.3058505,
          -10.579477,
          -10.91341,
          -5.2186646,
          -10.737436,
          -4.576563
         ],
         "yaxis": "y"
        },
        {
         "hovertemplate": "<b>%{hovertext}</b><br><br>Cluster Label=40<br>Component 1=%{x}<br>Component 2=%{y}<extra></extra>",
         "hovertext": [
          "The Sting",
          "Stir Crazy",
          "Kramer vs. Kramer",
          "On Golden Pond",
          "Taxi Driver",
          "Dick Tracy",
          "The Graduate",
          "Network",
          "Butch Cassidy and the Sundance Kid",
          "Nine to Five",
          "Bonnie and Clyde"
         ],
         "legendgroup": "40",
         "marker": {
          "color": "#FFA15A",
          "symbol": "circle"
         },
         "mode": "markers",
         "name": "40",
         "orientation": "v",
         "showlegend": true,
         "type": "scatter",
         "x": [
          0.74909604,
          0.50200266,
          -3.1775374,
          -3.123787,
          2.0062242,
          -0.90695333,
          -1.9683614,
          0.5286873,
          0.48228377,
          -3.1821504,
          -0.8576
         ],
         "xaxis": "x",
         "y": [
          -27.890417,
          -21.006218,
          -26.345087,
          -21.585222,
          -24.382214,
          -24.152792,
          -25.638191,
          -24.662258,
          -28.58942,
          -21.434565,
          -25.033741
         ],
         "yaxis": "y"
        },
        {
         "hovertemplate": "<b>%{hovertext}</b><br><br>Cluster Label=12<br>Component 1=%{x}<br>Component 2=%{y}<extra></extra>",
         "hovertext": [
          "Star Wars",
          "Indiana Jones and the Kingdom of the Crystal Skull",
          "Indiana Jones and the Last Crusade",
          "Indiana Jones and the Temple of Doom",
          "Star Wars: Episode II - Attack of the Clones",
          "Raiders of the Lost Ark",
          "Star Wars: Episode I - The Phantom Menace",
          "Star Wars: Episode V - The Empire Strikes Back",
          "Star Wars: Episode III - Revenge of the Sith",
          "Star Wars: Episode VI - Return of the Jedi"
         ],
         "legendgroup": "12",
         "marker": {
          "color": "#19d3f3",
          "symbol": "circle"
         },
         "mode": "markers",
         "name": "12",
         "orientation": "v",
         "showlegend": true,
         "type": "scatter",
         "x": [
          20.125223,
          24.237633,
          23.459612,
          23.944492,
          19.113861,
          22.96415,
          19.775074,
          20.401894,
          19.124031,
          20.122257
         ],
         "xaxis": "x",
         "y": [
          -1.4327909,
          -3.248109,
          -3.1216094,
          -3.2061312,
          0.9129766,
          -4.2280664,
          1.365974,
          -0.4716863,
          0.62411076,
          -0.6649195
         ],
         "yaxis": "y"
        },
        {
         "hovertemplate": "<b>%{hovertext}</b><br><br>Cluster Label=44<br>Component 1=%{x}<br>Component 2=%{y}<extra></extra>",
         "hovertext": [
          "The Jungle Book",
          "The Sound of Music",
          "Mary Poppins",
          "Snow White and the Seven Dwarfs",
          "The Wizard of Oz",
          "Amadeus"
         ],
         "legendgroup": "44",
         "marker": {
          "color": "#FF6692",
          "symbol": "circle"
         },
         "mode": "markers",
         "name": "44",
         "orientation": "v",
         "showlegend": true,
         "type": "scatter",
         "x": [
          16.521898,
          20.79758,
          20.63223,
          18.558456,
          19.122652,
          21.92295
         ],
         "xaxis": "x",
         "y": [
          23.038778,
          22.334364,
          22.583797,
          26.479597,
          25.976162,
          20.769995
         ],
         "yaxis": "y"
        },
        {
         "hovertemplate": "<b>%{hovertext}</b><br><br>Cluster Label=37<br>Component 1=%{x}<br>Component 2=%{y}<extra></extra>",
         "hovertext": [
          "Charlie's Angels",
          "Porky's",
          "Mrs. Doubtfire",
          "Sister Act",
          "Charlie's Angels: Full Throttle",
          "There's Something About Mary",
          "Dumb & Dumber",
          "Animal House",
          "Ace Ventura: When Nature Calls",
          "The Mask",
          "The Curious Case of Benjamin Button"
         ],
         "legendgroup": "37",
         "marker": {
          "color": "#B6E880",
          "symbol": "circle"
         },
         "mode": "markers",
         "name": "37",
         "orientation": "v",
         "showlegend": true,
         "type": "scatter",
         "x": [
          2.4341207,
          0.056549285,
          3.724036,
          3.9184082,
          2.5049827,
          1.4460584,
          6.3610663,
          0.2949119,
          7.4221168,
          6.8190536,
          3.5460901
         ],
         "xaxis": "x",
         "y": [
          8.472161,
          12.756121,
          14.616876,
          15.937257,
          8.392549,
          9.958701,
          11.098511,
          13.29199,
          9.047202,
          10.216463,
          11.891724
         ],
         "yaxis": "y"
        },
        {
         "hovertemplate": "<b>%{hovertext}</b><br><br>Cluster Label=45<br>Component 1=%{x}<br>Component 2=%{y}<extra></extra>",
         "hovertext": [
          "The Passion of the Christ",
          "Le notti di Cabiria",
          "La battaglia di Algeri",
          "Il buono, il brutto, il cattivo.",
          "Ladri di biciclette",
          "La strada",
          "La vita è bella",
          "C'era una volta il West",
          "Nuovo cinema Paradiso",
          "8½",
          "Per qualche dollaro in più"
         ],
         "legendgroup": "45",
         "marker": {
          "color": "#FF97FF",
          "symbol": "circle"
         },
         "mode": "markers",
         "name": "45",
         "orientation": "v",
         "showlegend": true,
         "type": "scatter",
         "x": [
          19.25277,
          18.957867,
          17.284637,
          19.423407,
          17.826317,
          19.133394,
          17.453854,
          19.449131,
          16.555775,
          17.995464,
          19.04766
         ],
         "xaxis": "x",
         "y": [
          -28.33161,
          -32.26377,
          -33.972286,
          -34.864666,
          -32.398052,
          -32.265667,
          -31.487675,
          -35.5121,
          -31.523882,
          -33.60606,
          -35.0048
         ],
         "yaxis": "y"
        },
        {
         "hovertemplate": "<b>%{hovertext}</b><br><br>Cluster Label=13<br>Component 1=%{x}<br>Component 2=%{y}<extra></extra>",
         "hovertext": [
          "The Chronicles of Narnia: Prince Caspian",
          "The Chronicles of Narnia: The Lion, the Witch and the Wardrobe",
          "Harry Potter and the Sorcerer's Stone",
          "Harry Potter and the Order of the Phoenix",
          "Harry Potter and the Prisoner of Azkaban",
          "Harry Potter and the Half-Blood Prince",
          "Harry Potter and the Goblet of Fire",
          "Harry Potter and the Chamber of Secrets"
         ],
         "legendgroup": "13",
         "marker": {
          "color": "#FECB52",
          "symbol": "circle"
         },
         "mode": "markers",
         "name": "13",
         "orientation": "v",
         "showlegend": true,
         "type": "scatter",
         "x": [
          5.5830674,
          5.5857296,
          3.1738875,
          2.3997986,
          2.1757975,
          3.3735332,
          3.7302954,
          3.0667455
         ],
         "xaxis": "x",
         "y": [
          39.073,
          39.04479,
          41.12794,
          41.4972,
          42.22391,
          42.911396,
          41.86475,
          42.182198
         ],
         "yaxis": "y"
        },
        {
         "hovertemplate": "<b>%{hovertext}</b><br><br>Cluster Label=25<br>Component 1=%{x}<br>Component 2=%{y}<extra></extra>",
         "hovertext": [
          "A Streetcar Named Desire",
          "Shadow of a Doubt",
          "Strangers on a Train",
          "Witness for the Prosecution",
          "The Big Sleep",
          "Double Indemnity",
          "The Day the Earth Stood Still",
          "Sunset Blvd.",
          "Stalag 17",
          "Sunrise: A Song of Two Humans",
          "Rope",
          "The Night of the Hunter",
          "On the Waterfront"
         ],
         "legendgroup": "25",
         "marker": {
          "color": "#636efa",
          "symbol": "circle"
         },
         "mode": "markers",
         "name": "25",
         "orientation": "v",
         "showlegend": true,
         "type": "scatter",
         "x": [
          -10.100332,
          -2.8184185,
          -3.8341582,
          -6.209699,
          -2.8164475,
          -2.5322444,
          -7.792194,
          -6.1372185,
          -7.0146413,
          -4.813068,
          -2.8818088,
          -5.452021,
          -10.155664
         ],
         "xaxis": "x",
         "y": [
          -35.1917,
          -37.645546,
          -36.459946,
          -35.912834,
          -39.343273,
          -40.375687,
          -39.706577,
          -38.364708,
          -37.369255,
          -41.27295,
          -36.715603,
          -38.54382,
          -35.17903
         ],
         "yaxis": "y"
        },
        {
         "hovertemplate": "<b>%{hovertext}</b><br><br>Cluster Label=39<br>Component 1=%{x}<br>Component 2=%{y}<extra></extra>",
         "hovertext": [
          "Scary Movie 3",
          "Requiem for a Dream",
          "Dreamgirls",
          "Scary Movie"
         ],
         "legendgroup": "39",
         "marker": {
          "color": "#EF553B",
          "symbol": "circle"
         },
         "mode": "markers",
         "name": "39",
         "orientation": "v",
         "showlegend": true,
         "type": "scatter",
         "x": [
          17.820484,
          20.833405,
          20.849333,
          17.828434
         ],
         "xaxis": "x",
         "y": [
          11.436095,
          14.995361,
          15.084498,
          11.454006
         ],
         "yaxis": "y"
        },
        {
         "hovertemplate": "<b>%{hovertext}</b><br><br>Cluster Label=8<br>Component 1=%{x}<br>Component 2=%{y}<extra></extra>",
         "hovertext": [
          "Something's Gotta Give",
          "Good Will Hunting",
          "Driving Miss Daisy",
          "Rain Man",
          "Jerry Maguire",
          "The Birdcage",
          "As Good as It Gets",
          "Patch Adams",
          "Tootsie"
         ],
         "legendgroup": "8",
         "marker": {
          "color": "#00cc96",
          "symbol": "circle"
         },
         "mode": "markers",
         "name": "8",
         "orientation": "v",
         "showlegend": true,
         "type": "scatter",
         "x": [
          -14.649559,
          -15.663684,
          -10.973184,
          -12.742719,
          -12.914587,
          -15.567717,
          -15.156265,
          -16.543676,
          -12.1819
         ],
         "xaxis": "x",
         "y": [
          13.322189,
          15.36397,
          14.125761,
          18.491163,
          16.28092,
          16.073004,
          13.797565,
          17.12952,
          17.303656
         ],
         "yaxis": "y"
        },
        {
         "hovertemplate": "<b>%{hovertext}</b><br><br>Cluster Label=41<br>Component 1=%{x}<br>Component 2=%{y}<extra></extra>",
         "hovertext": [
          "Rocky",
          "Raging Bull",
          "The Rocky Horror Picture Show",
          "The Deer Hunter",
          "Rocky IV",
          "Rocky III"
         ],
         "legendgroup": "41",
         "marker": {
          "color": "#ab63fa",
          "symbol": "circle"
         },
         "mode": "markers",
         "name": "41",
         "orientation": "v",
         "showlegend": true,
         "type": "scatter",
         "x": [
          22.375645,
          20.691523,
          21.047382,
          20.349083,
          22.712152,
          23.176598
         ],
         "xaxis": "x",
         "y": [
          -17.98638,
          -15.245075,
          -18.543085,
          -14.792626,
          -17.740868,
          -17.676353
         ],
         "yaxis": "y"
        },
        {
         "hovertemplate": "<b>%{hovertext}</b><br><br>Cluster Label=43<br>Component 1=%{x}<br>Component 2=%{y}<extra></extra>",
         "hovertext": [
          "Hitch",
          "Hancock",
          "Pearl Harbor",
          "How to Lose a Guy in 10 Days",
          "Troy",
          "Ocean's Eleven",
          "Bruce Almighty",
          "Ocean's Twelve",
          "Miss Congeniality",
          "Mr. & Mrs. Smith",
          "Eternal Sunshine of the Spotless Mind",
          "Ocean's Thirteen",
          "The Last Samurai"
         ],
         "legendgroup": "43",
         "marker": {
          "color": "#FFA15A",
          "symbol": "circle"
         },
         "mode": "markers",
         "name": "43",
         "orientation": "v",
         "showlegend": true,
         "type": "scatter",
         "x": [
          -12.465761,
          -7.6606364,
          -13.849262,
          -10.141515,
          -13.4089775,
          -11.035806,
          -8.352473,
          -11.185708,
          -9.38521,
          -12.26785,
          -8.327433,
          -10.684818,
          -15.163359
         ],
         "xaxis": "x",
         "y": [
          11.790541,
          12.780357,
          7.0802774,
          11.190425,
          8.527331,
          8.761177,
          9.981514,
          9.4423895,
          13.800269,
          10.743959,
          8.410484,
          9.045225,
          7.2411046
         ],
         "yaxis": "y"
        },
        {
         "hovertemplate": "<b>%{hovertext}</b><br><br>Cluster Label=58<br>Component 1=%{x}<br>Component 2=%{y}<extra></extra>",
         "hovertext": [
          "Superman II",
          "Superman Returns",
          "Superman"
         ],
         "legendgroup": "58",
         "marker": {
          "color": "#19d3f3",
          "symbol": "circle"
         },
         "mode": "markers",
         "name": "58",
         "orientation": "v",
         "showlegend": true,
         "type": "scatter",
         "x": [
          -31.333752,
          -30.138445,
          -31.243921
         ],
         "xaxis": "x",
         "y": [
          5.796478,
          5.6639147,
          5.7850018
         ],
         "yaxis": "y"
        },
        {
         "hovertemplate": "<b>%{hovertext}</b><br><br>Cluster Label=1<br>Component 1=%{x}<br>Component 2=%{y}<extra></extra>",
         "hovertext": [
          "The Kid",
          "The General",
          "Duck Soup",
          "Modern Times",
          "The Great Dictator",
          "City Lights",
          "The Gold Rush"
         ],
         "legendgroup": "1",
         "marker": {
          "color": "#FF6692",
          "symbol": "circle"
         },
         "mode": "markers",
         "name": "1",
         "orientation": "v",
         "showlegend": true,
         "type": "scatter",
         "x": [
          27.298222,
          24.90784,
          24.314245,
          25.600302,
          26.441288,
          26.513227,
          26.482925
         ],
         "xaxis": "x",
         "y": [
          -30.131369,
          -31.292645,
          -28.62725,
          -29.988209,
          -30.078978,
          -29.449768,
          -31.013477
         ],
         "yaxis": "y"
        },
        {
         "hovertemplate": "<b>%{hovertext}</b><br><br>Cluster Label=53<br>Component 1=%{x}<br>Component 2=%{y}<extra></extra>",
         "hovertext": [
          "Dr. Strangelove or: How I Learned to Stop Worrying and Love the Bomb",
          "Doctor Zhivago",
          "Lawrence of Arabia",
          "The Bridge on the River Kwai"
         ],
         "legendgroup": "53",
         "marker": {
          "color": "#B6E880",
          "symbol": "circle"
         },
         "mode": "markers",
         "name": "53",
         "orientation": "v",
         "showlegend": true,
         "type": "scatter",
         "x": [
          -11.160911,
          -12.791136,
          -13.133231,
          -13.203603
         ],
         "xaxis": "x",
         "y": [
          -28.504274,
          -29.23642,
          -29.745964,
          -31.392046
         ],
         "yaxis": "y"
        },
        {
         "hovertemplate": "<b>%{hovertext}</b><br><br>Cluster Label=21<br>Component 1=%{x}<br>Component 2=%{y}<extra></extra>",
         "hovertext": [
          "Life of Brian",
          "The Towering Inferno",
          "American Graffiti",
          "Monty Python and the Holy Grail",
          "The Exorcist",
          "Smokey and the Bandit",
          "Blazing Saddles"
         ],
         "legendgroup": "21",
         "marker": {
          "color": "#FF97FF",
          "symbol": "circle"
         },
         "mode": "markers",
         "name": "21",
         "orientation": "v",
         "showlegend": true,
         "type": "scatter",
         "x": [
          18.819809,
          15.90995,
          12.997598,
          18.713814,
          14.186296,
          17.869263,
          17.240068
         ],
         "xaxis": "x",
         "y": [
          -22.008486,
          -19.606834,
          -19.901278,
          -21.753311,
          -19.092113,
          -18.653849,
          -19.536514
         ],
         "yaxis": "y"
        },
        {
         "hovertemplate": "<b>%{hovertext}</b><br><br>Cluster Label=59<br>Component 1=%{x}<br>Component 2=%{y}<extra></extra>",
         "hovertext": [
          "The Killing",
          "Spartacus",
          "2001: A Space Odyssey",
          "Paths of Glory",
          "Planet of the Apes"
         ],
         "legendgroup": "59",
         "marker": {
          "color": "#FECB52",
          "symbol": "circle"
         },
         "mode": "markers",
         "name": "59",
         "orientation": "v",
         "showlegend": true,
         "type": "scatter",
         "x": [
          4.051833,
          6.4211936,
          7.6578474,
          6.154903,
          8.388129
         ],
         "xaxis": "x",
         "y": [
          -29.405104,
          -29.684313,
          -28.470798,
          -29.64525,
          -28.432339
         ],
         "yaxis": "y"
        }
       ],
       "layout": {
        "height": 600,
        "legend": {
         "title": {
          "text": "Cluster Label"
         },
         "tracegroupgap": 0
        },
        "template": {
         "data": {
          "bar": [
           {
            "error_x": {
             "color": "#2a3f5f"
            },
            "error_y": {
             "color": "#2a3f5f"
            },
            "marker": {
             "line": {
              "color": "#E5ECF6",
              "width": 0.5
             },
             "pattern": {
              "fillmode": "overlay",
              "size": 10,
              "solidity": 0.2
             }
            },
            "type": "bar"
           }
          ],
          "barpolar": [
           {
            "marker": {
             "line": {
              "color": "#E5ECF6",
              "width": 0.5
             },
             "pattern": {
              "fillmode": "overlay",
              "size": 10,
              "solidity": 0.2
             }
            },
            "type": "barpolar"
           }
          ],
          "carpet": [
           {
            "aaxis": {
             "endlinecolor": "#2a3f5f",
             "gridcolor": "white",
             "linecolor": "white",
             "minorgridcolor": "white",
             "startlinecolor": "#2a3f5f"
            },
            "baxis": {
             "endlinecolor": "#2a3f5f",
             "gridcolor": "white",
             "linecolor": "white",
             "minorgridcolor": "white",
             "startlinecolor": "#2a3f5f"
            },
            "type": "carpet"
           }
          ],
          "choropleth": [
           {
            "colorbar": {
             "outlinewidth": 0,
             "ticks": ""
            },
            "type": "choropleth"
           }
          ],
          "contour": [
           {
            "colorbar": {
             "outlinewidth": 0,
             "ticks": ""
            },
            "colorscale": [
             [
              0,
              "#0d0887"
             ],
             [
              0.1111111111111111,
              "#46039f"
             ],
             [
              0.2222222222222222,
              "#7201a8"
             ],
             [
              0.3333333333333333,
              "#9c179e"
             ],
             [
              0.4444444444444444,
              "#bd3786"
             ],
             [
              0.5555555555555556,
              "#d8576b"
             ],
             [
              0.6666666666666666,
              "#ed7953"
             ],
             [
              0.7777777777777778,
              "#fb9f3a"
             ],
             [
              0.8888888888888888,
              "#fdca26"
             ],
             [
              1,
              "#f0f921"
             ]
            ],
            "type": "contour"
           }
          ],
          "contourcarpet": [
           {
            "colorbar": {
             "outlinewidth": 0,
             "ticks": ""
            },
            "type": "contourcarpet"
           }
          ],
          "heatmap": [
           {
            "colorbar": {
             "outlinewidth": 0,
             "ticks": ""
            },
            "colorscale": [
             [
              0,
              "#0d0887"
             ],
             [
              0.1111111111111111,
              "#46039f"
             ],
             [
              0.2222222222222222,
              "#7201a8"
             ],
             [
              0.3333333333333333,
              "#9c179e"
             ],
             [
              0.4444444444444444,
              "#bd3786"
             ],
             [
              0.5555555555555556,
              "#d8576b"
             ],
             [
              0.6666666666666666,
              "#ed7953"
             ],
             [
              0.7777777777777778,
              "#fb9f3a"
             ],
             [
              0.8888888888888888,
              "#fdca26"
             ],
             [
              1,
              "#f0f921"
             ]
            ],
            "type": "heatmap"
           }
          ],
          "heatmapgl": [
           {
            "colorbar": {
             "outlinewidth": 0,
             "ticks": ""
            },
            "colorscale": [
             [
              0,
              "#0d0887"
             ],
             [
              0.1111111111111111,
              "#46039f"
             ],
             [
              0.2222222222222222,
              "#7201a8"
             ],
             [
              0.3333333333333333,
              "#9c179e"
             ],
             [
              0.4444444444444444,
              "#bd3786"
             ],
             [
              0.5555555555555556,
              "#d8576b"
             ],
             [
              0.6666666666666666,
              "#ed7953"
             ],
             [
              0.7777777777777778,
              "#fb9f3a"
             ],
             [
              0.8888888888888888,
              "#fdca26"
             ],
             [
              1,
              "#f0f921"
             ]
            ],
            "type": "heatmapgl"
           }
          ],
          "histogram": [
           {
            "marker": {
             "pattern": {
              "fillmode": "overlay",
              "size": 10,
              "solidity": 0.2
             }
            },
            "type": "histogram"
           }
          ],
          "histogram2d": [
           {
            "colorbar": {
             "outlinewidth": 0,
             "ticks": ""
            },
            "colorscale": [
             [
              0,
              "#0d0887"
             ],
             [
              0.1111111111111111,
              "#46039f"
             ],
             [
              0.2222222222222222,
              "#7201a8"
             ],
             [
              0.3333333333333333,
              "#9c179e"
             ],
             [
              0.4444444444444444,
              "#bd3786"
             ],
             [
              0.5555555555555556,
              "#d8576b"
             ],
             [
              0.6666666666666666,
              "#ed7953"
             ],
             [
              0.7777777777777778,
              "#fb9f3a"
             ],
             [
              0.8888888888888888,
              "#fdca26"
             ],
             [
              1,
              "#f0f921"
             ]
            ],
            "type": "histogram2d"
           }
          ],
          "histogram2dcontour": [
           {
            "colorbar": {
             "outlinewidth": 0,
             "ticks": ""
            },
            "colorscale": [
             [
              0,
              "#0d0887"
             ],
             [
              0.1111111111111111,
              "#46039f"
             ],
             [
              0.2222222222222222,
              "#7201a8"
             ],
             [
              0.3333333333333333,
              "#9c179e"
             ],
             [
              0.4444444444444444,
              "#bd3786"
             ],
             [
              0.5555555555555556,
              "#d8576b"
             ],
             [
              0.6666666666666666,
              "#ed7953"
             ],
             [
              0.7777777777777778,
              "#fb9f3a"
             ],
             [
              0.8888888888888888,
              "#fdca26"
             ],
             [
              1,
              "#f0f921"
             ]
            ],
            "type": "histogram2dcontour"
           }
          ],
          "mesh3d": [
           {
            "colorbar": {
             "outlinewidth": 0,
             "ticks": ""
            },
            "type": "mesh3d"
           }
          ],
          "parcoords": [
           {
            "line": {
             "colorbar": {
              "outlinewidth": 0,
              "ticks": ""
             }
            },
            "type": "parcoords"
           }
          ],
          "pie": [
           {
            "automargin": true,
            "type": "pie"
           }
          ],
          "scatter": [
           {
            "fillpattern": {
             "fillmode": "overlay",
             "size": 10,
             "solidity": 0.2
            },
            "type": "scatter"
           }
          ],
          "scatter3d": [
           {
            "line": {
             "colorbar": {
              "outlinewidth": 0,
              "ticks": ""
             }
            },
            "marker": {
             "colorbar": {
              "outlinewidth": 0,
              "ticks": ""
             }
            },
            "type": "scatter3d"
           }
          ],
          "scattercarpet": [
           {
            "marker": {
             "colorbar": {
              "outlinewidth": 0,
              "ticks": ""
             }
            },
            "type": "scattercarpet"
           }
          ],
          "scattergeo": [
           {
            "marker": {
             "colorbar": {
              "outlinewidth": 0,
              "ticks": ""
             }
            },
            "type": "scattergeo"
           }
          ],
          "scattergl": [
           {
            "marker": {
             "colorbar": {
              "outlinewidth": 0,
              "ticks": ""
             }
            },
            "type": "scattergl"
           }
          ],
          "scattermapbox": [
           {
            "marker": {
             "colorbar": {
              "outlinewidth": 0,
              "ticks": ""
             }
            },
            "type": "scattermapbox"
           }
          ],
          "scatterpolar": [
           {
            "marker": {
             "colorbar": {
              "outlinewidth": 0,
              "ticks": ""
             }
            },
            "type": "scatterpolar"
           }
          ],
          "scatterpolargl": [
           {
            "marker": {
             "colorbar": {
              "outlinewidth": 0,
              "ticks": ""
             }
            },
            "type": "scatterpolargl"
           }
          ],
          "scatterternary": [
           {
            "marker": {
             "colorbar": {
              "outlinewidth": 0,
              "ticks": ""
             }
            },
            "type": "scatterternary"
           }
          ],
          "surface": [
           {
            "colorbar": {
             "outlinewidth": 0,
             "ticks": ""
            },
            "colorscale": [
             [
              0,
              "#0d0887"
             ],
             [
              0.1111111111111111,
              "#46039f"
             ],
             [
              0.2222222222222222,
              "#7201a8"
             ],
             [
              0.3333333333333333,
              "#9c179e"
             ],
             [
              0.4444444444444444,
              "#bd3786"
             ],
             [
              0.5555555555555556,
              "#d8576b"
             ],
             [
              0.6666666666666666,
              "#ed7953"
             ],
             [
              0.7777777777777778,
              "#fb9f3a"
             ],
             [
              0.8888888888888888,
              "#fdca26"
             ],
             [
              1,
              "#f0f921"
             ]
            ],
            "type": "surface"
           }
          ],
          "table": [
           {
            "cells": {
             "fill": {
              "color": "#EBF0F8"
             },
             "line": {
              "color": "white"
             }
            },
            "header": {
             "fill": {
              "color": "#C8D4E3"
             },
             "line": {
              "color": "white"
             }
            },
            "type": "table"
           }
          ]
         },
         "layout": {
          "annotationdefaults": {
           "arrowcolor": "#2a3f5f",
           "arrowhead": 0,
           "arrowwidth": 1
          },
          "autotypenumbers": "strict",
          "coloraxis": {
           "colorbar": {
            "outlinewidth": 0,
            "ticks": ""
           }
          },
          "colorscale": {
           "diverging": [
            [
             0,
             "#8e0152"
            ],
            [
             0.1,
             "#c51b7d"
            ],
            [
             0.2,
             "#de77ae"
            ],
            [
             0.3,
             "#f1b6da"
            ],
            [
             0.4,
             "#fde0ef"
            ],
            [
             0.5,
             "#f7f7f7"
            ],
            [
             0.6,
             "#e6f5d0"
            ],
            [
             0.7,
             "#b8e186"
            ],
            [
             0.8,
             "#7fbc41"
            ],
            [
             0.9,
             "#4d9221"
            ],
            [
             1,
             "#276419"
            ]
           ],
           "sequential": [
            [
             0,
             "#0d0887"
            ],
            [
             0.1111111111111111,
             "#46039f"
            ],
            [
             0.2222222222222222,
             "#7201a8"
            ],
            [
             0.3333333333333333,
             "#9c179e"
            ],
            [
             0.4444444444444444,
             "#bd3786"
            ],
            [
             0.5555555555555556,
             "#d8576b"
            ],
            [
             0.6666666666666666,
             "#ed7953"
            ],
            [
             0.7777777777777778,
             "#fb9f3a"
            ],
            [
             0.8888888888888888,
             "#fdca26"
            ],
            [
             1,
             "#f0f921"
            ]
           ],
           "sequentialminus": [
            [
             0,
             "#0d0887"
            ],
            [
             0.1111111111111111,
             "#46039f"
            ],
            [
             0.2222222222222222,
             "#7201a8"
            ],
            [
             0.3333333333333333,
             "#9c179e"
            ],
            [
             0.4444444444444444,
             "#bd3786"
            ],
            [
             0.5555555555555556,
             "#d8576b"
            ],
            [
             0.6666666666666666,
             "#ed7953"
            ],
            [
             0.7777777777777778,
             "#fb9f3a"
            ],
            [
             0.8888888888888888,
             "#fdca26"
            ],
            [
             1,
             "#f0f921"
            ]
           ]
          },
          "colorway": [
           "#636efa",
           "#EF553B",
           "#00cc96",
           "#ab63fa",
           "#FFA15A",
           "#19d3f3",
           "#FF6692",
           "#B6E880",
           "#FF97FF",
           "#FECB52"
          ],
          "font": {
           "color": "#2a3f5f"
          },
          "geo": {
           "bgcolor": "white",
           "lakecolor": "white",
           "landcolor": "#E5ECF6",
           "showlakes": true,
           "showland": true,
           "subunitcolor": "white"
          },
          "hoverlabel": {
           "align": "left"
          },
          "hovermode": "closest",
          "mapbox": {
           "style": "light"
          },
          "paper_bgcolor": "white",
          "plot_bgcolor": "#E5ECF6",
          "polar": {
           "angularaxis": {
            "gridcolor": "white",
            "linecolor": "white",
            "ticks": ""
           },
           "bgcolor": "#E5ECF6",
           "radialaxis": {
            "gridcolor": "white",
            "linecolor": "white",
            "ticks": ""
           }
          },
          "scene": {
           "xaxis": {
            "backgroundcolor": "#E5ECF6",
            "gridcolor": "white",
            "gridwidth": 2,
            "linecolor": "white",
            "showbackground": true,
            "ticks": "",
            "zerolinecolor": "white"
           },
           "yaxis": {
            "backgroundcolor": "#E5ECF6",
            "gridcolor": "white",
            "gridwidth": 2,
            "linecolor": "white",
            "showbackground": true,
            "ticks": "",
            "zerolinecolor": "white"
           },
           "zaxis": {
            "backgroundcolor": "#E5ECF6",
            "gridcolor": "white",
            "gridwidth": 2,
            "linecolor": "white",
            "showbackground": true,
            "ticks": "",
            "zerolinecolor": "white"
           }
          },
          "shapedefaults": {
           "line": {
            "color": "#2a3f5f"
           }
          },
          "ternary": {
           "aaxis": {
            "gridcolor": "white",
            "linecolor": "white",
            "ticks": ""
           },
           "baxis": {
            "gridcolor": "white",
            "linecolor": "white",
            "ticks": ""
           },
           "bgcolor": "#E5ECF6",
           "caxis": {
            "gridcolor": "white",
            "linecolor": "white",
            "ticks": ""
           }
          },
          "title": {
           "x": 0.05
          },
          "xaxis": {
           "automargin": true,
           "gridcolor": "white",
           "linecolor": "white",
           "ticks": "",
           "title": {
            "standoff": 15
           },
           "zerolinecolor": "white",
           "zerolinewidth": 2
          },
          "yaxis": {
           "automargin": true,
           "gridcolor": "white",
           "linecolor": "white",
           "ticks": "",
           "title": {
            "standoff": 15
           },
           "zerolinecolor": "white",
           "zerolinewidth": 2
          }
         }
        },
        "title": {
         "text": "Movie Embeddings Visualized with t-SNE"
        },
        "width": 800,
        "xaxis": {
         "anchor": "y",
         "domain": [
          0,
          1
         ],
         "title": {
          "text": "Component 1"
         }
        },
        "yaxis": {
         "anchor": "x",
         "domain": [
          0,
          1
         ],
         "title": {
          "text": "Component 2"
         }
        }
       }
      }
     },
     "metadata": {},
     "output_type": "display_data"
    }
   ],
   "source": [
    "def plot_clusters_interactive(reduced_vectors, titles, cluster_labels, method='t-SNE'):\n",
    "    fig = px.scatter(\n",
    "        x=reduced_vectors[:, 0],\n",
    "        y=reduced_vectors[:, 1],\n",
    "        color=cluster_labels.astype(str),\n",
    "        hover_name=titles,\n",
    "        labels={'x': 'Component 1', 'y': 'Component 2', 'color': 'Cluster Label'},\n",
    "        title=f'Movie Embeddings Visualized with {method}'\n",
    "    )\n",
    "    fig.update_layout(width=800, height=600)\n",
    "    fig.show()\n",
    "\n",
    "# Plot the clusters interactively\n",
    "plot_clusters_interactive(reduced_vectors, titles, cluster_labels, method='t-SNE')"
   ]
  }
 ],
 "metadata": {
  "kernelspec": {
   "display_name": "Python 3",
   "language": "python",
   "name": "python3"
  },
  "language_info": {
   "codemirror_mode": {
    "name": "ipython",
    "version": 3
   },
   "file_extension": ".py",
   "mimetype": "text/x-python",
   "name": "python",
   "nbconvert_exporter": "python",
   "pygments_lexer": "ipython3",
   "version": "3.12.4"
  }
 },
 "nbformat": 4,
 "nbformat_minor": 2
}
