{
 "cells": [
  {
   "cell_type": "code",
   "execution_count": 1,
   "metadata": {},
   "outputs": [],
   "source": [
    "!pip install qdrant-client tqdm rich transformers torch sentence-transformers matplotlib scikit-learn plotly nbformat>=4.2.0"
   ]
  },
  {
   "cell_type": "markdown",
   "metadata": {},
   "source": [
    "# Imports"
   ]
  },
  {
   "cell_type": "code",
   "execution_count": 2,
   "metadata": {},
   "outputs": [],
   "source": [
    "import os\n",
    "import json\n",
    "import time\n",
    "import uuid\n",
    "import string\n",
    "import re\n",
    "import nltk\n",
    "import numpy as np\n",
    "import torch\n",
    "from tqdm import tqdm\n",
    "from qdrant_client import QdrantClient\n",
    "from qdrant_client.http import models as rest\n",
    "from rich import print\n",
    "from rich.console import Console\n",
    "from transformers import AutoTokenizer, AutoModel\n",
    "import matplotlib.pyplot as plt\n",
    "from sklearn.decomposition import PCA\n",
    "from sklearn.manifold import TSNE\n",
    "from sklearn.cluster import KMeans\n",
    "from collections import Counter\n",
    "from nltk.corpus import stopwords\n",
    "from nltk.tokenize import word_tokenize\n",
    "from collections import defaultdict\n",
    "import plotly.express as px"
   ]
  },
  {
   "cell_type": "markdown",
   "metadata": {},
   "source": [
    "# Initialize Qdrant client and console"
   ]
  },
  {
   "cell_type": "code",
   "execution_count": 3,
   "metadata": {},
   "outputs": [],
   "source": [
    "client = QdrantClient(\"localhost\", port=6333)\n",
    "console = Console()"
   ]
  },
  {
   "cell_type": "markdown",
   "metadata": {},
   "source": [
    "# Download NLTK stopwords"
   ]
  },
  {
   "cell_type": "code",
   "execution_count": 4,
   "metadata": {},
   "outputs": [
    {
     "name": "stderr",
     "output_type": "stream",
     "text": [
      "[nltk_data] Downloading package stopwords to\n",
      "[nltk_data]     C:\\Users\\antoi\\AppData\\Roaming\\nltk_data...\n",
      "[nltk_data]   Package stopwords is already up-to-date!\n",
      "[nltk_data] Downloading package punkt to\n",
      "[nltk_data]     C:\\Users\\antoi\\AppData\\Roaming\\nltk_data...\n",
      "[nltk_data]   Package punkt is already up-to-date!\n"
     ]
    },
    {
     "data": {
      "text/plain": [
       "True"
      ]
     },
     "execution_count": 4,
     "metadata": {},
     "output_type": "execute_result"
    }
   ],
   "source": [
    "nltk.download('stopwords')\n",
    "nltk.download('punkt')"
   ]
  },
  {
   "cell_type": "markdown",
   "metadata": {},
   "source": [
    "# Initialize the tokenizer and model"
   ]
  },
  {
   "cell_type": "code",
   "execution_count": 5,
   "metadata": {},
   "outputs": [],
   "source": [
    "tokenizer = AutoTokenizer.from_pretrained('sentence-transformers/all-MiniLM-L6-v2')\n",
    "model = AutoModel.from_pretrained('sentence-transformers/all-MiniLM-L6-v2')"
   ]
  },
  {
   "cell_type": "code",
   "execution_count": 6,
   "metadata": {},
   "outputs": [],
   "source": [
    "def preprocess(text):\n",
    "    text = text.translate(str.maketrans('', '', string.punctuation)).lower()\n",
    "    tokens = text.split()\n",
    "    stopwords_set = set(nltk.corpus.stopwords.words('english'))\n",
    "    tokens = [word for word in tokens if word not in stopwords_set]\n",
    "    return ' '.join(tokens)\n",
    "\n",
    "def preprocess_title(title: str) -> str:\n",
    "    \"\"\"Remove the year from the movie title.\"\"\"\n",
    "    return re.sub(r\"\\(\\d{4}\\)$\", \"\", title).strip()"
   ]
  },
  {
   "cell_type": "code",
   "execution_count": 7,
   "metadata": {},
   "outputs": [],
   "source": [
    "def create_embedding(text):\n",
    "    inputs = tokenizer(text, return_tensors='pt', truncation=True, padding=True)\n",
    "    with torch.no_grad():\n",
    "        outputs = model(**inputs)\n",
    "    embeddings = outputs.last_hidden_state.mean(dim=1).squeeze().numpy()\n",
    "    return embeddings"
   ]
  },
  {
   "cell_type": "code",
   "execution_count": 8,
   "metadata": {},
   "outputs": [],
   "source": [
    "def normalize_embeddings(embeddings):\n",
    "    \"\"\"Normalize the embeddings to unit vectors.\"\"\"\n",
    "    norms = np.linalg.norm(embeddings, axis=1, keepdims=True)\n",
    "    normalized_embeddings = embeddings / norms\n",
    "    return normalized_embeddings"
   ]
  },
  {
   "cell_type": "code",
   "execution_count": 9,
   "metadata": {},
   "outputs": [],
   "source": [
    "def encode_id(original_id):\n",
    "    return str(uuid.uuid5(uuid.NAMESPACE_DNS, original_id))"
   ]
  },
  {
   "cell_type": "code",
   "execution_count": 10,
   "metadata": {},
   "outputs": [],
   "source": [
    "def load_movies_data(file_path):\n",
    "    if not os.path.exists(file_path):\n",
    "        console.print(f\"[red]File not found: {file_path}[/red]\")\n",
    "        return None\n",
    "\n",
    "    try:\n",
    "        with open(file_path, \"r\", encoding=\"utf-8\") as f:\n",
    "            movies = json.load(f)\n",
    "        return movies[\"films\"][\"film\"]\n",
    "    except Exception as e:\n",
    "        console.print(f\"[red]Error reading the movies.json file: {e}[/red]\")\n",
    "        return None"
   ]
  },
  {
   "cell_type": "code",
   "execution_count": 11,
   "metadata": {},
   "outputs": [],
   "source": [
    "def process_movies_data(movies):\n",
    "    movies_data = []\n",
    "    for movie in movies:\n",
    "        roles = movie.get(\"role\", [])\n",
    "        if isinstance(roles, dict):\n",
    "            roles = [roles]\n",
    "\n",
    "        actors = [role.get(\"acteur\", {}).get(\"__text\", \"\") for role in roles]\n",
    "\n",
    "        movie_id = movie.get(\"id\", \"\") or encode_id(movie['titre'])\n",
    "\n",
    "        movies_data.append({\n",
    "            \"title\": movie.get(\"titre\", \"\"),\n",
    "            \"year\": movie.get(\"annee\", \"\"),\n",
    "            \"country\": movie.get(\"pays\", \"\"),\n",
    "            \"language\": movie.get(\"langue\", \"\"),\n",
    "            \"duration\": movie.get(\"duree\", \"\"),\n",
    "            \"summary\": movie.get(\"synopsis\", \"\"),\n",
    "            \"genre\": movie.get(\"genre\", \"\"),\n",
    "            \"director\": movie.get(\"realisateur\", {\"__text\": \"\"}).get(\"__text\", \"\"),\n",
    "            \"writers\": movie.get(\"scenariste\", []),\n",
    "            \"actors\": actors,\n",
    "            \"poster\": movie.get(\"affiche\", \"\"),\n",
    "            \"id\": movie_id\n",
    "        })\n",
    "    return movies_data"
   ]
  },
  {
   "cell_type": "code",
   "execution_count": 12,
   "metadata": {},
   "outputs": [],
   "source": [
    "def upsert_movies_to_qdrant(client, movies_data, batch_size=100):\n",
    "    client.recreate_collection(\n",
    "        collection_name=\"testings\",\n",
    "        vectors_config=rest.VectorParams(size=384, distance=rest.Distance.COSINE)\n",
    "    )\n",
    "\n",
    "    points = []\n",
    "    total_movies = len(movies_data)\n",
    "    console.print(f\"Total movies to process: {total_movies}\")\n",
    "\n",
    "    start_time = time.time()\n",
    "\n",
    "    for idx, movie in tqdm(enumerate(movies_data), total=total_movies, desc=\"Processing movies\"):\n",
    "        try:\n",
    "            combined_info = f\"{movie['title']} {movie['year']} {movie['country']} {movie['language']} {movie['duration']} {movie['summary']} {movie['genre']} {' '.join(movie['actors'])} {movie['director']} {' '.join(movie['writers'])}\"\n",
    "            combined_info = ' '.join(combined_info.split())\n",
    "            combined_info = preprocess(combined_info)\n",
    "            vector = create_embedding(combined_info)\n",
    "            vector = normalize_embeddings(np.array([vector]))[0]\n",
    "            point = {\n",
    "                'id': str(uuid.uuid4()),\n",
    "                'vector': vector.tolist(),\n",
    "                'payload': {\n",
    "                    'title': movie['title'],\n",
    "                    'year': movie['year'],\n",
    "                    'country': movie['country'],\n",
    "                    'language': movie['language'],\n",
    "                    'duration': movie['duration'],\n",
    "                    'summary': movie['summary'],\n",
    "                    'genre': movie['genre'],\n",
    "                    'director': movie['director'],\n",
    "                    'writers': movie['writers'],\n",
    "                    'actors': ', '.join(movie['actors']),\n",
    "                    'poster': movie['poster']\n",
    "                }\n",
    "            }\n",
    "            points.append(point)\n",
    "\n",
    "            if len(points) >= batch_size:\n",
    "                client.upsert(collection_name=\"testings\", points=points)\n",
    "                console.print(f\"Upserted {len(points)} movies to Qdrant\")\n",
    "                points.clear()\n",
    "\n",
    "        except Exception as e:\n",
    "            console.print(f\"[red]Error processing movie ID {movie['id']}: {e}[/red]\")\n",
    "\n",
    "    if points:\n",
    "        client.upsert(collection_name=\"testings\", points=points)\n",
    "        console.print(f\"Upserted remaining {len(points)} movies to Qdrant\")\n",
    "\n",
    "    elapsed_time = time.time() - start_time\n",
    "    console.print(f\"Movies loaded into Qdrant with embeddings in {elapsed_time:.2f} seconds\")\n"
   ]
  },
  {
   "cell_type": "code",
   "execution_count": 13,
   "metadata": {},
   "outputs": [
    {
     "data": {
      "text/html": [
       "<pre style=\"white-space:pre;overflow-x:auto;line-height:normal;font-family:Menlo,'DejaVu Sans Mono',consolas,'Courier New',monospace\"><span style=\"color: #008000; text-decoration-color: #008000\">Loading movies data...</span>\n",
       "</pre>\n"
      ],
      "text/plain": [
       "\u001b[32mLoading movies data\u001b[0m\u001b[32m...\u001b[0m\n"
      ]
     },
     "metadata": {},
     "output_type": "display_data"
    },
    {
     "data": {
      "text/html": [
       "<pre style=\"white-space:pre;overflow-x:auto;line-height:normal;font-family:Menlo,'DejaVu Sans Mono',consolas,'Courier New',monospace\"><span style=\"color: #008000; text-decoration-color: #008000\">Processing movies data...</span>\n",
       "</pre>\n"
      ],
      "text/plain": [
       "\u001b[32mProcessing movies data\u001b[0m\u001b[32m...\u001b[0m\n"
      ]
     },
     "metadata": {},
     "output_type": "display_data"
    },
    {
     "data": {
      "text/html": [
       "<pre style=\"white-space:pre;overflow-x:auto;line-height:normal;font-family:Menlo,'DejaVu Sans Mono',consolas,'Courier New',monospace\"><span style=\"color: #008000; text-decoration-color: #008000\">Upserting movies data to Qdrant...</span>\n",
       "</pre>\n"
      ],
      "text/plain": [
       "\u001b[32mUpserting movies data to Qdrant\u001b[0m\u001b[32m...\u001b[0m\n"
      ]
     },
     "metadata": {},
     "output_type": "display_data"
    },
    {
     "name": "stderr",
     "output_type": "stream",
     "text": [
      "C:\\Users\\antoi\\AppData\\Local\\Temp\\ipykernel_12016\\2249141115.py:2: DeprecationWarning: `recreate_collection` method is deprecated and will be removed in the future. Use `collection_exists` to check collection existence and `create_collection` instead.\n",
      "  client.recreate_collection(\n"
     ]
    },
    {
     "data": {
      "text/html": [
       "<pre style=\"white-space:pre;overflow-x:auto;line-height:normal;font-family:Menlo,'DejaVu Sans Mono',consolas,'Courier New',monospace\">Total movies to process: <span style=\"color: #008080; text-decoration-color: #008080; font-weight: bold\">631</span>\n",
       "</pre>\n"
      ],
      "text/plain": [
       "Total movies to process: \u001b[1;36m631\u001b[0m\n"
      ]
     },
     "metadata": {},
     "output_type": "display_data"
    },
    {
     "name": "stderr",
     "output_type": "stream",
     "text": [
      "Processing movies:  16%|█▌        | 98/631 [00:04<00:14, 35.80it/s]"
     ]
    },
    {
     "data": {
      "text/html": [
       "<pre style=\"white-space:pre;overflow-x:auto;line-height:normal;font-family:Menlo,'DejaVu Sans Mono',consolas,'Courier New',monospace\">Upserted <span style=\"color: #008080; text-decoration-color: #008080; font-weight: bold\">100</span> movies to Qdrant\n",
       "</pre>\n"
      ],
      "text/plain": [
       "Upserted \u001b[1;36m100\u001b[0m movies to Qdrant\n"
      ]
     },
     "metadata": {},
     "output_type": "display_data"
    },
    {
     "name": "stderr",
     "output_type": "stream",
     "text": [
      "Processing movies:  31%|███▏      | 198/631 [00:07<00:12, 34.04it/s]"
     ]
    },
    {
     "data": {
      "text/html": [
       "<pre style=\"white-space:pre;overflow-x:auto;line-height:normal;font-family:Menlo,'DejaVu Sans Mono',consolas,'Courier New',monospace\">Upserted <span style=\"color: #008080; text-decoration-color: #008080; font-weight: bold\">100</span> movies to Qdrant\n",
       "</pre>\n"
      ],
      "text/plain": [
       "Upserted \u001b[1;36m100\u001b[0m movies to Qdrant\n"
      ]
     },
     "metadata": {},
     "output_type": "display_data"
    },
    {
     "name": "stderr",
     "output_type": "stream",
     "text": [
      "Processing movies:  47%|████▋     | 296/631 [00:09<00:09, 34.59it/s]"
     ]
    },
    {
     "data": {
      "text/html": [
       "<pre style=\"white-space:pre;overflow-x:auto;line-height:normal;font-family:Menlo,'DejaVu Sans Mono',consolas,'Courier New',monospace\">Upserted <span style=\"color: #008080; text-decoration-color: #008080; font-weight: bold\">100</span> movies to Qdrant\n",
       "</pre>\n"
      ],
      "text/plain": [
       "Upserted \u001b[1;36m100\u001b[0m movies to Qdrant\n"
      ]
     },
     "metadata": {},
     "output_type": "display_data"
    },
    {
     "name": "stderr",
     "output_type": "stream",
     "text": [
      "Processing movies:  63%|██████▎   | 396/631 [00:12<00:06, 34.36it/s]"
     ]
    },
    {
     "data": {
      "text/html": [
       "<pre style=\"white-space:pre;overflow-x:auto;line-height:normal;font-family:Menlo,'DejaVu Sans Mono',consolas,'Courier New',monospace\">Upserted <span style=\"color: #008080; text-decoration-color: #008080; font-weight: bold\">100</span> movies to Qdrant\n",
       "</pre>\n"
      ],
      "text/plain": [
       "Upserted \u001b[1;36m100\u001b[0m movies to Qdrant\n"
      ]
     },
     "metadata": {},
     "output_type": "display_data"
    },
    {
     "name": "stderr",
     "output_type": "stream",
     "text": [
      "Processing movies:  79%|███████▉  | 499/631 [00:15<00:03, 36.48it/s]"
     ]
    },
    {
     "data": {
      "text/html": [
       "<pre style=\"white-space:pre;overflow-x:auto;line-height:normal;font-family:Menlo,'DejaVu Sans Mono',consolas,'Courier New',monospace\">Upserted <span style=\"color: #008080; text-decoration-color: #008080; font-weight: bold\">100</span> movies to Qdrant\n",
       "</pre>\n"
      ],
      "text/plain": [
       "Upserted \u001b[1;36m100\u001b[0m movies to Qdrant\n"
      ]
     },
     "metadata": {},
     "output_type": "display_data"
    },
    {
     "name": "stderr",
     "output_type": "stream",
     "text": [
      "Processing movies:  95%|█████████▍| 597/631 [00:18<00:01, 34.00it/s]"
     ]
    },
    {
     "data": {
      "text/html": [
       "<pre style=\"white-space:pre;overflow-x:auto;line-height:normal;font-family:Menlo,'DejaVu Sans Mono',consolas,'Courier New',monospace\">Upserted <span style=\"color: #008080; text-decoration-color: #008080; font-weight: bold\">100</span> movies to Qdrant\n",
       "</pre>\n"
      ],
      "text/plain": [
       "Upserted \u001b[1;36m100\u001b[0m movies to Qdrant\n"
      ]
     },
     "metadata": {},
     "output_type": "display_data"
    },
    {
     "name": "stderr",
     "output_type": "stream",
     "text": [
      "Processing movies: 100%|██████████| 631/631 [00:19<00:00, 32.09it/s]\n"
     ]
    },
    {
     "data": {
      "text/html": [
       "<pre style=\"white-space:pre;overflow-x:auto;line-height:normal;font-family:Menlo,'DejaVu Sans Mono',consolas,'Courier New',monospace\">Upserted remaining <span style=\"color: #008080; text-decoration-color: #008080; font-weight: bold\">31</span> movies to Qdrant\n",
       "</pre>\n"
      ],
      "text/plain": [
       "Upserted remaining \u001b[1;36m31\u001b[0m movies to Qdrant\n"
      ]
     },
     "metadata": {},
     "output_type": "display_data"
    },
    {
     "data": {
      "text/html": [
       "<pre style=\"white-space:pre;overflow-x:auto;line-height:normal;font-family:Menlo,'DejaVu Sans Mono',consolas,'Courier New',monospace\">Movies loaded into Qdrant with embeddings in <span style=\"color: #008080; text-decoration-color: #008080; font-weight: bold\">19.69</span> seconds\n",
       "</pre>\n"
      ],
      "text/plain": [
       "Movies loaded into Qdrant with embeddings in \u001b[1;36m19.69\u001b[0m seconds\n"
      ]
     },
     "metadata": {},
     "output_type": "display_data"
    }
   ],
   "source": [
    "# Main script execution\n",
    "current_directory = os.getcwd()\n",
    "movies_file_path = os.path.join(current_directory, \"movies.json\")\n",
    "\n",
    "console.print(\"[green]Loading movies data...[/green]\")\n",
    "movies = load_movies_data(movies_file_path)\n",
    "\n",
    "if movies:\n",
    "    console.print(\"[green]Processing movies data...[/green]\")\n",
    "    movies_data = process_movies_data(movies)\n",
    "    console.print(\"[green]Upserting movies data to Qdrant...[/green]\")\n",
    "    upsert_movies_to_qdrant(client, movies_data)"
   ]
  },
  {
   "cell_type": "code",
   "execution_count": 14,
   "metadata": {},
   "outputs": [],
   "source": [
    "def get_movie_embedding(movie_description):\n",
    "    # Preprocess the input text\n",
    "    processed_text = preprocess(movie_description)\n",
    "\n",
    "    # Generate embedding\n",
    "    embedding = create_embedding(processed_text)\n",
    "    return normalize_embeddings(np.array([embedding]))[0]"
   ]
  },
  {
   "cell_type": "code",
   "execution_count": 15,
   "metadata": {},
   "outputs": [],
   "source": [
    "def find_similar_movies(client, movie_description, top_k=5):\n",
    "    embedding = get_movie_embedding(movie_description)\n",
    "\n",
    "    search_result = client.search(\n",
    "        collection_name=\"testings\",\n",
    "        query_vector=embedding.tolist(),\n",
    "        limit=top_k\n",
    "    )\n",
    "    return search_result"
   ]
  },
  {
   "cell_type": "code",
   "execution_count": 16,
   "metadata": {},
   "outputs": [
    {
     "data": {
      "text/html": [
       "<pre style=\"white-space:pre;overflow-x:auto;line-height:normal;font-family:Menlo,'DejaVu Sans Mono',consolas,'Courier New',monospace\">\n",
       "<span style=\"font-weight: bold\">Query Movie Description:</span> A story about a young boy who discovers he has magical powers and attends a school for \n",
       "wizards.\n",
       "</pre>\n"
      ],
      "text/plain": [
       "\n",
       "\u001b[1mQuery Movie Description:\u001b[0m A story about a young boy who discovers he has magical powers and attends a school for \n",
       "wizards.\n"
      ]
     },
     "metadata": {},
     "output_type": "display_data"
    },
    {
     "data": {
      "text/html": [
       "<pre style=\"white-space:pre;overflow-x:auto;line-height:normal;font-family:Menlo,'DejaVu Sans Mono',consolas,'Courier New',monospace\">\n",
       "<span style=\"font-weight: bold\">Top </span><span style=\"color: #008080; text-decoration-color: #008080; font-weight: bold\">5</span><span style=\"font-weight: bold\"> Similar Movies:</span>\n",
       "\n",
       "</pre>\n"
      ],
      "text/plain": [
       "\n",
       "\u001b[1mTop \u001b[0m\u001b[1;36m5\u001b[0m\u001b[1m Similar Movies:\u001b[0m\n",
       "\n"
      ]
     },
     "metadata": {},
     "output_type": "display_data"
    },
    {
     "data": {
      "text/html": [
       "<pre style=\"white-space:pre;overflow-x:auto;line-height:normal;font-family:Menlo,'DejaVu Sans Mono',consolas,'Courier New',monospace\"><span style=\"color: #008080; text-decoration-color: #008080; font-weight: bold\">1</span><span style=\"font-weight: bold\">. Title:</span> Harry Potter and the Sorcerer's Stone\n",
       "</pre>\n"
      ],
      "text/plain": [
       "\u001b[1;36m1\u001b[0m\u001b[1m. Title:\u001b[0m Harry Potter and the Sorcerer's Stone\n"
      ]
     },
     "metadata": {},
     "output_type": "display_data"
    },
    {
     "data": {
      "text/html": [
       "<pre style=\"white-space:pre;overflow-x:auto;line-height:normal;font-family:Menlo,'DejaVu Sans Mono',consolas,'Courier New',monospace\">   <span style=\"font-weight: bold\">Year:</span> <span style=\"color: #008080; text-decoration-color: #008080; font-weight: bold\">2001</span>\n",
       "</pre>\n"
      ],
      "text/plain": [
       "   \u001b[1mYear:\u001b[0m \u001b[1;36m2001\u001b[0m\n"
      ]
     },
     "metadata": {},
     "output_type": "display_data"
    },
    {
     "data": {
      "text/html": [
       "<pre style=\"white-space:pre;overflow-x:auto;line-height:normal;font-family:Menlo,'DejaVu Sans Mono',consolas,'Courier New',monospace\">   <span style=\"font-weight: bold\">Genre:</span> <span style=\"font-weight: bold\">[</span><span style=\"color: #008000; text-decoration-color: #008000\">'Adventure'</span>, <span style=\"color: #008000; text-decoration-color: #008000\">'Family'</span>, <span style=\"color: #008000; text-decoration-color: #008000\">'Fantasy'</span><span style=\"font-weight: bold\">]</span>\n",
       "</pre>\n"
      ],
      "text/plain": [
       "   \u001b[1mGenre:\u001b[0m \u001b[1m[\u001b[0m\u001b[32m'Adventure'\u001b[0m, \u001b[32m'Family'\u001b[0m, \u001b[32m'Fantasy'\u001b[0m\u001b[1m]\u001b[0m\n"
      ]
     },
     "metadata": {},
     "output_type": "display_data"
    },
    {
     "data": {
      "text/html": [
       "<pre style=\"white-space:pre;overflow-x:auto;line-height:normal;font-family:Menlo,'DejaVu Sans Mono',consolas,'Courier New',monospace\">   <span style=\"font-weight: bold\">Director:</span> Chris Columbus\n",
       "</pre>\n"
      ],
      "text/plain": [
       "   \u001b[1mDirector:\u001b[0m Chris Columbus\n"
      ]
     },
     "metadata": {},
     "output_type": "display_data"
    },
    {
     "data": {
      "text/html": [
       "<pre style=\"white-space:pre;overflow-x:auto;line-height:normal;font-family:Menlo,'DejaVu Sans Mono',consolas,'Courier New',monospace\">   <span style=\"font-weight: bold\">Summary:</span> \n",
       "\n",
       "</pre>\n"
      ],
      "text/plain": [
       "   \u001b[1mSummary:\u001b[0m \n",
       "\n"
      ]
     },
     "metadata": {},
     "output_type": "display_data"
    },
    {
     "data": {
      "text/html": [
       "<pre style=\"white-space:pre;overflow-x:auto;line-height:normal;font-family:Menlo,'DejaVu Sans Mono',consolas,'Courier New',monospace\"><span style=\"color: #008080; text-decoration-color: #008080; font-weight: bold\">2</span><span style=\"font-weight: bold\">. Title:</span> Harry Potter and the Half-Blood Prince\n",
       "</pre>\n"
      ],
      "text/plain": [
       "\u001b[1;36m2\u001b[0m\u001b[1m. Title:\u001b[0m Harry Potter and the Half-Blood Prince\n"
      ]
     },
     "metadata": {},
     "output_type": "display_data"
    },
    {
     "data": {
      "text/html": [
       "<pre style=\"white-space:pre;overflow-x:auto;line-height:normal;font-family:Menlo,'DejaVu Sans Mono',consolas,'Courier New',monospace\">   <span style=\"font-weight: bold\">Year:</span> <span style=\"color: #008080; text-decoration-color: #008080; font-weight: bold\">2009</span>\n",
       "</pre>\n"
      ],
      "text/plain": [
       "   \u001b[1mYear:\u001b[0m \u001b[1;36m2009\u001b[0m\n"
      ]
     },
     "metadata": {},
     "output_type": "display_data"
    },
    {
     "data": {
      "text/html": [
       "<pre style=\"white-space:pre;overflow-x:auto;line-height:normal;font-family:Menlo,'DejaVu Sans Mono',consolas,'Courier New',monospace\">   <span style=\"font-weight: bold\">Genre:</span> <span style=\"font-weight: bold\">[</span><span style=\"color: #008000; text-decoration-color: #008000\">'Action'</span>, <span style=\"color: #008000; text-decoration-color: #008000\">'Adventure'</span>, <span style=\"color: #008000; text-decoration-color: #008000\">'Family'</span>, <span style=\"color: #008000; text-decoration-color: #008000\">'Fantasy'</span>, <span style=\"color: #008000; text-decoration-color: #008000\">'Mystery'</span>, <span style=\"color: #008000; text-decoration-color: #008000\">'Romance'</span><span style=\"font-weight: bold\">]</span>\n",
       "</pre>\n"
      ],
      "text/plain": [
       "   \u001b[1mGenre:\u001b[0m \u001b[1m[\u001b[0m\u001b[32m'Action'\u001b[0m, \u001b[32m'Adventure'\u001b[0m, \u001b[32m'Family'\u001b[0m, \u001b[32m'Fantasy'\u001b[0m, \u001b[32m'Mystery'\u001b[0m, \u001b[32m'Romance'\u001b[0m\u001b[1m]\u001b[0m\n"
      ]
     },
     "metadata": {},
     "output_type": "display_data"
    },
    {
     "data": {
      "text/html": [
       "<pre style=\"white-space:pre;overflow-x:auto;line-height:normal;font-family:Menlo,'DejaVu Sans Mono',consolas,'Courier New',monospace\">   <span style=\"font-weight: bold\">Director:</span> David Yates\n",
       "</pre>\n"
      ],
      "text/plain": [
       "   \u001b[1mDirector:\u001b[0m David Yates\n"
      ]
     },
     "metadata": {},
     "output_type": "display_data"
    },
    {
     "data": {
      "text/html": [
       "<pre style=\"white-space:pre;overflow-x:auto;line-height:normal;font-family:Menlo,'DejaVu Sans Mono',consolas,'Courier New',monospace\">   <span style=\"font-weight: bold\">Summary:</span> \n",
       "\n",
       "</pre>\n"
      ],
      "text/plain": [
       "   \u001b[1mSummary:\u001b[0m \n",
       "\n"
      ]
     },
     "metadata": {},
     "output_type": "display_data"
    },
    {
     "data": {
      "text/html": [
       "<pre style=\"white-space:pre;overflow-x:auto;line-height:normal;font-family:Menlo,'DejaVu Sans Mono',consolas,'Courier New',monospace\"><span style=\"color: #008080; text-decoration-color: #008080; font-weight: bold\">3</span><span style=\"font-weight: bold\">. Title:</span> Harry Potter and the Goblet of Fire\n",
       "</pre>\n"
      ],
      "text/plain": [
       "\u001b[1;36m3\u001b[0m\u001b[1m. Title:\u001b[0m Harry Potter and the Goblet of Fire\n"
      ]
     },
     "metadata": {},
     "output_type": "display_data"
    },
    {
     "data": {
      "text/html": [
       "<pre style=\"white-space:pre;overflow-x:auto;line-height:normal;font-family:Menlo,'DejaVu Sans Mono',consolas,'Courier New',monospace\">   <span style=\"font-weight: bold\">Year:</span> <span style=\"color: #008080; text-decoration-color: #008080; font-weight: bold\">2005</span>\n",
       "</pre>\n"
      ],
      "text/plain": [
       "   \u001b[1mYear:\u001b[0m \u001b[1;36m2005\u001b[0m\n"
      ]
     },
     "metadata": {},
     "output_type": "display_data"
    },
    {
     "data": {
      "text/html": [
       "<pre style=\"white-space:pre;overflow-x:auto;line-height:normal;font-family:Menlo,'DejaVu Sans Mono',consolas,'Courier New',monospace\">   <span style=\"font-weight: bold\">Genre:</span> <span style=\"font-weight: bold\">[</span><span style=\"color: #008000; text-decoration-color: #008000\">'Adventure'</span>, <span style=\"color: #008000; text-decoration-color: #008000\">'Family'</span>, <span style=\"color: #008000; text-decoration-color: #008000\">'Fantasy'</span>, <span style=\"color: #008000; text-decoration-color: #008000\">'Mystery'</span><span style=\"font-weight: bold\">]</span>\n",
       "</pre>\n"
      ],
      "text/plain": [
       "   \u001b[1mGenre:\u001b[0m \u001b[1m[\u001b[0m\u001b[32m'Adventure'\u001b[0m, \u001b[32m'Family'\u001b[0m, \u001b[32m'Fantasy'\u001b[0m, \u001b[32m'Mystery'\u001b[0m\u001b[1m]\u001b[0m\n"
      ]
     },
     "metadata": {},
     "output_type": "display_data"
    },
    {
     "data": {
      "text/html": [
       "<pre style=\"white-space:pre;overflow-x:auto;line-height:normal;font-family:Menlo,'DejaVu Sans Mono',consolas,'Courier New',monospace\">   <span style=\"font-weight: bold\">Director:</span> Mike Newell\n",
       "</pre>\n"
      ],
      "text/plain": [
       "   \u001b[1mDirector:\u001b[0m Mike Newell\n"
      ]
     },
     "metadata": {},
     "output_type": "display_data"
    },
    {
     "data": {
      "text/html": [
       "<pre style=\"white-space:pre;overflow-x:auto;line-height:normal;font-family:Menlo,'DejaVu Sans Mono',consolas,'Courier New',monospace\">   <span style=\"font-weight: bold\">Summary:</span> \n",
       "\n",
       "</pre>\n"
      ],
      "text/plain": [
       "   \u001b[1mSummary:\u001b[0m \n",
       "\n"
      ]
     },
     "metadata": {},
     "output_type": "display_data"
    },
    {
     "data": {
      "text/html": [
       "<pre style=\"white-space:pre;overflow-x:auto;line-height:normal;font-family:Menlo,'DejaVu Sans Mono',consolas,'Courier New',monospace\"><span style=\"color: #008080; text-decoration-color: #008080; font-weight: bold\">4</span><span style=\"font-weight: bold\">. Title:</span> Harry Potter and the Chamber of Secrets\n",
       "</pre>\n"
      ],
      "text/plain": [
       "\u001b[1;36m4\u001b[0m\u001b[1m. Title:\u001b[0m Harry Potter and the Chamber of Secrets\n"
      ]
     },
     "metadata": {},
     "output_type": "display_data"
    },
    {
     "data": {
      "text/html": [
       "<pre style=\"white-space:pre;overflow-x:auto;line-height:normal;font-family:Menlo,'DejaVu Sans Mono',consolas,'Courier New',monospace\">   <span style=\"font-weight: bold\">Year:</span> <span style=\"color: #008080; text-decoration-color: #008080; font-weight: bold\">2002</span>\n",
       "</pre>\n"
      ],
      "text/plain": [
       "   \u001b[1mYear:\u001b[0m \u001b[1;36m2002\u001b[0m\n"
      ]
     },
     "metadata": {},
     "output_type": "display_data"
    },
    {
     "data": {
      "text/html": [
       "<pre style=\"white-space:pre;overflow-x:auto;line-height:normal;font-family:Menlo,'DejaVu Sans Mono',consolas,'Courier New',monospace\">   <span style=\"font-weight: bold\">Genre:</span> <span style=\"font-weight: bold\">[</span><span style=\"color: #008000; text-decoration-color: #008000\">'Adventure'</span>, <span style=\"color: #008000; text-decoration-color: #008000\">'Family'</span>, <span style=\"color: #008000; text-decoration-color: #008000\">'Fantasy'</span>, <span style=\"color: #008000; text-decoration-color: #008000\">'Mystery'</span><span style=\"font-weight: bold\">]</span>\n",
       "</pre>\n"
      ],
      "text/plain": [
       "   \u001b[1mGenre:\u001b[0m \u001b[1m[\u001b[0m\u001b[32m'Adventure'\u001b[0m, \u001b[32m'Family'\u001b[0m, \u001b[32m'Fantasy'\u001b[0m, \u001b[32m'Mystery'\u001b[0m\u001b[1m]\u001b[0m\n"
      ]
     },
     "metadata": {},
     "output_type": "display_data"
    },
    {
     "data": {
      "text/html": [
       "<pre style=\"white-space:pre;overflow-x:auto;line-height:normal;font-family:Menlo,'DejaVu Sans Mono',consolas,'Courier New',monospace\">   <span style=\"font-weight: bold\">Director:</span> Chris Columbus\n",
       "</pre>\n"
      ],
      "text/plain": [
       "   \u001b[1mDirector:\u001b[0m Chris Columbus\n"
      ]
     },
     "metadata": {},
     "output_type": "display_data"
    },
    {
     "data": {
      "text/html": [
       "<pre style=\"white-space:pre;overflow-x:auto;line-height:normal;font-family:Menlo,'DejaVu Sans Mono',consolas,'Courier New',monospace\">   <span style=\"font-weight: bold\">Summary:</span> \n",
       "\n",
       "</pre>\n"
      ],
      "text/plain": [
       "   \u001b[1mSummary:\u001b[0m \n",
       "\n"
      ]
     },
     "metadata": {},
     "output_type": "display_data"
    },
    {
     "data": {
      "text/html": [
       "<pre style=\"white-space:pre;overflow-x:auto;line-height:normal;font-family:Menlo,'DejaVu Sans Mono',consolas,'Courier New',monospace\"><span style=\"color: #008080; text-decoration-color: #008080; font-weight: bold\">5</span><span style=\"font-weight: bold\">. Title:</span> Harry Potter and the Prisoner of Azkaban\n",
       "</pre>\n"
      ],
      "text/plain": [
       "\u001b[1;36m5\u001b[0m\u001b[1m. Title:\u001b[0m Harry Potter and the Prisoner of Azkaban\n"
      ]
     },
     "metadata": {},
     "output_type": "display_data"
    },
    {
     "data": {
      "text/html": [
       "<pre style=\"white-space:pre;overflow-x:auto;line-height:normal;font-family:Menlo,'DejaVu Sans Mono',consolas,'Courier New',monospace\">   <span style=\"font-weight: bold\">Year:</span> <span style=\"color: #008080; text-decoration-color: #008080; font-weight: bold\">2004</span>\n",
       "</pre>\n"
      ],
      "text/plain": [
       "   \u001b[1mYear:\u001b[0m \u001b[1;36m2004\u001b[0m\n"
      ]
     },
     "metadata": {},
     "output_type": "display_data"
    },
    {
     "data": {
      "text/html": [
       "<pre style=\"white-space:pre;overflow-x:auto;line-height:normal;font-family:Menlo,'DejaVu Sans Mono',consolas,'Courier New',monospace\">   <span style=\"font-weight: bold\">Genre:</span> <span style=\"font-weight: bold\">[</span><span style=\"color: #008000; text-decoration-color: #008000\">'Adventure'</span>, <span style=\"color: #008000; text-decoration-color: #008000\">'Family'</span>, <span style=\"color: #008000; text-decoration-color: #008000\">'Fantasy'</span>, <span style=\"color: #008000; text-decoration-color: #008000\">'Mystery'</span><span style=\"font-weight: bold\">]</span>\n",
       "</pre>\n"
      ],
      "text/plain": [
       "   \u001b[1mGenre:\u001b[0m \u001b[1m[\u001b[0m\u001b[32m'Adventure'\u001b[0m, \u001b[32m'Family'\u001b[0m, \u001b[32m'Fantasy'\u001b[0m, \u001b[32m'Mystery'\u001b[0m\u001b[1m]\u001b[0m\n"
      ]
     },
     "metadata": {},
     "output_type": "display_data"
    },
    {
     "data": {
      "text/html": [
       "<pre style=\"white-space:pre;overflow-x:auto;line-height:normal;font-family:Menlo,'DejaVu Sans Mono',consolas,'Courier New',monospace\">   <span style=\"font-weight: bold\">Director:</span> Alfonso Cuarón\n",
       "</pre>\n"
      ],
      "text/plain": [
       "   \u001b[1mDirector:\u001b[0m Alfonso Cuarón\n"
      ]
     },
     "metadata": {},
     "output_type": "display_data"
    },
    {
     "data": {
      "text/html": [
       "<pre style=\"white-space:pre;overflow-x:auto;line-height:normal;font-family:Menlo,'DejaVu Sans Mono',consolas,'Courier New',monospace\">   <span style=\"font-weight: bold\">Summary:</span> \n",
       "\n",
       "</pre>\n"
      ],
      "text/plain": [
       "   \u001b[1mSummary:\u001b[0m \n",
       "\n"
      ]
     },
     "metadata": {},
     "output_type": "display_data"
    }
   ],
   "source": [
    "def display_similar_movies(client, movie_description, top_k=5):\n",
    "    results = find_similar_movies(client, movie_description, top_k)\n",
    "\n",
    "    console.print(f\"\\n[bold]Query Movie Description:[/bold] {movie_description}\")\n",
    "    console.print(f\"\\n[bold]Top {top_k} Similar Movies:[/bold]\\n\")\n",
    "\n",
    "    for idx, result in enumerate(results):\n",
    "        movie_info = result.payload\n",
    "        console.print(f\"[bold]{idx + 1}. Title:[/bold] {movie_info['title']}\")\n",
    "        console.print(f\"   [bold]Year:[/bold] {movie_info['year']}\")\n",
    "        console.print(f\"   [bold]Genre:[/bold] {movie_info['genre']}\")\n",
    "        console.print(f\"   [bold]Director:[/bold] {movie_info['director']}\")\n",
    "        console.print(f\"   [bold]Summary:[/bold] {movie_info['summary']}\\n\")\n",
    "\n",
    "# Example usage\n",
    "movie_description = \"A story about a young boy who discovers he has magical powers and attends a school for wizards.\"\n",
    "display_similar_movies(client, movie_description)"
   ]
  },
  {
   "cell_type": "code",
   "execution_count": 17,
   "metadata": {},
   "outputs": [],
   "source": [
    "def extract_all_embeddings(client, collection_name=\"testings\"):\n",
    "    all_vectors = []\n",
    "    all_titles = []\n",
    "    limit = 100  # Number of points to fetch per request\n",
    "    offset = None  # Initial offset for scrolling\n",
    "\n",
    "    while True:\n",
    "        points, next_page_offset = client.scroll(\n",
    "            collection_name=collection_name,\n",
    "            scroll_filter=None,\n",
    "            limit=limit,\n",
    "            with_payload=True,\n",
    "            with_vectors=True,\n",
    "            offset=offset\n",
    "        )\n",
    "\n",
    "        if not points:\n",
    "            break\n",
    "\n",
    "        for point in points:\n",
    "            all_vectors.append(point.vector)\n",
    "            all_titles.append(point.payload['title'])\n",
    "\n",
    "        offset = next_page_offset\n",
    "        if offset is None:\n",
    "            break\n",
    "\n",
    "    return np.array(all_vectors), all_titles"
   ]
  },
  {
   "cell_type": "code",
   "execution_count": 18,
   "metadata": {},
   "outputs": [],
   "source": [
    "def reduce_dimensions(vectors, method='tsne', n_components=2):\n",
    "    if method == 'pca':\n",
    "        reducer = PCA(n_components=n_components)\n",
    "    elif method == 'tsne':\n",
    "        reducer = TSNE(n_components=n_components, random_state=42)\n",
    "    else:\n",
    "        raise ValueError(\"Method should be either 'pca' or 'tsne'.\")\n",
    "\n",
    "    return reducer.fit_transform(vectors)"
   ]
  },
  {
   "cell_type": "code",
   "execution_count": 19,
   "metadata": {},
   "outputs": [],
   "source": [
    "def plot_embeddings(reduced_vectors, titles, method='t-SNE'):\n",
    "    plt.figure(figsize=(14, 10))\n",
    "    plt.scatter(reduced_vectors[:, 0], reduced_vectors[:, 1], alpha=0.7)\n",
    "\n",
    "    # Optionally, annotate a few points to verify correctness\n",
    "    for i in range(0, len(titles), max(1, len(titles)//20)):  # Annotate 20 points\n",
    "        plt.annotate(titles[i], (reduced_vectors[i, 0], reduced_vectors[i, 1]))\n",
    "\n",
    "    plt.title(f'Movie Embeddings Visualized with {method}')\n",
    "    plt.xlabel('Component 1')\n",
    "    plt.ylabel('Component 2')\n",
    "    plt.show()"
   ]
  },
  {
   "cell_type": "markdown",
   "metadata": {},
   "source": [
    "# Extract all embeddings and titles"
   ]
  },
  {
   "cell_type": "code",
   "execution_count": 20,
   "metadata": {},
   "outputs": [],
   "source": [
    "vectors, titles = extract_all_embeddings(client)"
   ]
  },
  {
   "cell_type": "markdown",
   "metadata": {},
   "source": [
    "# Reduce dimensions using t-SNE (or PCA)"
   ]
  },
  {
   "cell_type": "code",
   "execution_count": 21,
   "metadata": {},
   "outputs": [],
   "source": [
    "reduced_vectors = reduce_dimensions(vectors, method='tsne')"
   ]
  },
  {
   "cell_type": "markdown",
   "metadata": {},
   "source": [
    "# Plot the reduced embeddings"
   ]
  },
  {
   "cell_type": "code",
   "execution_count": 22,
   "metadata": {},
   "outputs": [
    {
     "data": {
      "image/png": "[encoded data removed]",
      "text/plain": [
       "<Figure size 1400x1000 with 1 Axes>"
      ]
     },
     "metadata": {},
     "output_type": "display_data"
    }
   ],
   "source": [
    "plot_embeddings(reduced_vectors, titles, method='t-SNE')"
   ]
  },
  {
   "cell_type": "code",
   "execution_count": 23,
   "metadata": {},
   "outputs": [
    {
     "data": {
      "image/png": "[encoded data removed]",
      "text/plain": [
       "<Figure size 1400x1000 with 2 Axes>"
      ]
     },
     "metadata": {},
     "output_type": "display_data"
    }
   ],
   "source": [
    "def apply_kmeans(reduced_vectors, n_clusters=5):\n",
    "    kmeans = KMeans(n_clusters=n_clusters, random_state=42)\n",
    "    kmeans.fit(reduced_vectors)\n",
    "    return kmeans.labels_\n",
    "\n",
    "# Apply KMeans clustering\n",
    "n_clusters = 60\n",
    "cluster_labels = apply_kmeans(reduced_vectors, n_clusters)\n",
    "\n",
    "# Plot the reduced embeddings with cluster labels\n",
    "def plot_clusters(reduced_vectors, titles, cluster_labels, method='t-SNE'):\n",
    "    plt.figure(figsize=(14, 10))\n",
    "    scatter = plt.scatter(reduced_vectors[:, 0], reduced_vectors[:, 1], c=cluster_labels, cmap='viridis', alpha=0.7)\n",
    "\n",
    "    # Optionally, annotate a few points to verify correctness\n",
    "    for i in range(0, len(titles), max(1, len(titles)//20)):  # Annotate 20 points\n",
    "        plt.annotate(titles[i], (reduced_vectors[i, 0], reduced_vectors[i, 1]))\n",
    "\n",
    "    plt.title(f'Movie Embeddings Visualized with {method}')\n",
    "    plt.xlabel('Component 1')\n",
    "    plt.ylabel('Component 2')\n",
    "    plt.colorbar(scatter, label='Cluster Label')\n",
    "    plt.show()\n",
    "\n",
    "# Plot the clusters\n",
    "plot_clusters(reduced_vectors, titles, cluster_labels, method='t-SNE')"
   ]
  },
  {
   "cell_type": "code",
   "execution_count": 24,
   "metadata": {},
   "outputs": [
    {
     "data": {
      "application/vnd.plotly.v1+json": {
       "config": {
        "plotlyServerURL": "https://plot.ly"
       },
       "data": [
        {
         "hovertemplate": "<b>%{hovertext}</b><br><br>Cluster Label=25<br>Component 1=%{x}<br>Component 2=%{y}<extra></extra>",
         "hovertext": [
          "Glory",
          "Patton",
          "Barry Lyndon",
          "The Elephant Man",
          "Planet of the Apes",
          "Love Story",
          "A Clockwork Orange",
          "Sleuth",
          "Gandhi",
          "Airport",
          "2001: A Space Odyssey"
         ],
         "legendgroup": "25",
         "marker": {
          "color": "#636efa",
          "symbol": "circle"
         },
         "mode": "markers",
         "name": "25",
         "orientation": "v",
         "showlegend": true,
         "type": "scatter",
         "x": [
          20.00289,
          20.949173,
          20.956001,
          17.845936,
          23.661747,
          21.020393,
          21.039585,
          17.61303,
          18.512682,
          21.60737,
          24.0168
         ],
         "xaxis": "x",
         "y": [
          10.286521,
          11.781938,
          15.953188,
          9.638202,
          14.116381,
          14.13836,
          16.315458,
          14.394067,
          9.310966,
          12.407593,
          14.759489
         ],
         "yaxis": "y"
        },
        {
         "hovertemplate": "<b>%{hovertext}</b><br><br>Cluster Label=34<br>Component 1=%{x}<br>Component 2=%{y}<extra></extra>",
         "hovertext": [
          "L.A. Confidential",
          "Phenomenon",
          "The Usual Suspects",
          "Ransom",
          "Fargo",
          "Contact",
          "Air Force One",
          "Con Air",
          "A Time to Kill",
          "Face/Off"
         ],
         "legendgroup": "34",
         "marker": {
          "color": "#EF553B",
          "symbol": "circle"
         },
         "mode": "markers",
         "name": "34",
         "orientation": "v",
         "showlegend": true,
         "type": "scatter",
         "x": [
          -6.463991,
          -8.015872,
          -5.656674,
          -5.1910725,
          -6.151805,
          -7.43237,
          -4.6820135,
          -6.119815,
          -4.042942,
          -6.4388227
         ],
         "xaxis": "x",
         "y": [
          14.649528,
          12.454422,
          15.815601,
          11.346013,
          10.756145,
          14.954897,
          13.852328,
          13.495405,
          11.001794,
          13.317115
         ],
         "yaxis": "y"
        },
        {
         "hovertemplate": "<b>%{hovertext}</b><br><br>Cluster Label=56<br>Component 1=%{x}<br>Component 2=%{y}<extra></extra>",
         "hovertext": [
          "The Sting",
          "Network",
          "Taxi Driver",
          "Manhattan",
          "Bonnie and Clyde",
          "Butch Cassidy and the Sundance Kid",
          "Annie Hall"
         ],
         "legendgroup": "56",
         "marker": {
          "color": "#00cc96",
          "symbol": "circle"
         },
         "mode": "markers",
         "name": "56",
         "orientation": "v",
         "showlegend": true,
         "type": "scatter",
         "x": [
          21.768942,
          24.034445,
          22.720713,
          21.138332,
          25.09061,
          22.491213,
          21.123236
         ],
         "xaxis": "x",
         "y": [
          20.550283,
          23.376238,
          23.715216,
          27.183699,
          22.780071,
          20.30443,
          27.072952
         ],
         "yaxis": "y"
        },
        {
         "hovertemplate": "<b>%{hovertext}</b><br><br>Cluster Label=50<br>Component 1=%{x}<br>Component 2=%{y}<extra></extra>",
         "hovertext": [
          "Get Smart",
          "The Big Lebowski",
          "I Now Pronounce You Chuck & Larry",
          "American Pie",
          "You Don't Mess with the Zohan",
          "Superbad",
          "Sweet Home Alabama",
          "American Pie 2",
          "Tropic Thunder",
          "The Waterboy",
          "Hairspray",
          "Borat: Cultural Learnings of America for Make Benefit Glorious Nation of Kazakhstan",
          "Click",
          "The Longest Yard",
          "Big Fish"
         ],
         "legendgroup": "50",
         "marker": {
          "color": "#ab63fa",
          "symbol": "circle"
         },
         "mode": "markers",
         "name": "50",
         "orientation": "v",
         "showlegend": true,
         "type": "scatter",
         "x": [
          -14.280743,
          -16.103504,
          -17.267502,
          -18.740177,
          -15.132065,
          -13.7077875,
          -16.78738,
          -18.75112,
          -14.293511,
          -16.347874,
          -13.650498,
          -14.836646,
          -13.750271,
          -18.285366,
          -19.498667
         ],
         "xaxis": "x",
         "y": [
          -10.16582,
          -11.621867,
          -9.8582535,
          -12.430835,
          -9.32678,
          -10.9273,
          -13.978328,
          -12.373398,
          -13.953181,
          -9.262172,
          -7.7398906,
          -12.554088,
          -9.390489,
          -8.466439,
          -10.635368
         ],
         "yaxis": "y"
        },
        {
         "hovertemplate": "<b>%{hovertext}</b><br><br>Cluster Label=35<br>Component 1=%{x}<br>Component 2=%{y}<extra></extra>",
         "hovertext": [
          "Casino Royale",
          "Clear and Present Danger",
          "Scarface",
          "Once Upon a Time in America",
          "Sleeping with the Enemy",
          "Léon",
          "Heat",
          "Casino",
          "The Hunt for Red October",
          "Goodfellas"
         ],
         "legendgroup": "35",
         "marker": {
          "color": "#FFA15A",
          "symbol": "circle"
         },
         "mode": "markers",
         "name": "35",
         "orientation": "v",
         "showlegend": true,
         "type": "scatter",
         "x": [
          4.6824183,
          6.9416223,
          8.361408,
          3.3828993,
          4.569794,
          5.0063505,
          2.805962,
          4.22915,
          6.85031,
          3.379673
         ],
         "xaxis": "x",
         "y": [
          15.32838,
          12.38914,
          15.921291,
          11.557998,
          19.585083,
          17.494087,
          15.932882,
          15.621415,
          13.5668125,
          13.025328
         ],
         "yaxis": "y"
        },
        {
         "hovertemplate": "<b>%{hovertext}</b><br><br>Cluster Label=20<br>Component 1=%{x}<br>Component 2=%{y}<extra></extra>",
         "hovertext": [
          "Lethal Weapon 4",
          "Lethal Weapon 2",
          "Traffic",
          "Fatal Attraction",
          "Lethal Weapon 3",
          "Gone in Sixty Seconds",
          "Kill Bill: Vol. 1",
          "Godzilla",
          "Kill Bill: Vol. 2",
          "Armageddon",
          "Deep Impact"
         ],
         "legendgroup": "20",
         "marker": {
          "color": "#19d3f3",
          "symbol": "circle"
         },
         "mode": "markers",
         "name": "20",
         "orientation": "v",
         "showlegend": true,
         "type": "scatter",
         "x": [
          -2.5775769,
          -2.0517092,
          1.1466334,
          -0.2720104,
          -2.2116194,
          1.832011,
          -0.557648,
          -2.9987931,
          -0.53707534,
          -3.8957367,
          -3.453268
         ],
         "xaxis": "x",
         "y": [
          10.155429,
          10.938785,
          6.9651003,
          11.224836,
          11.509599,
          9.988784,
          8.707717,
          7.030274,
          8.737442,
          7.3412333,
          8.150279
         ],
         "yaxis": "y"
        },
        {
         "hovertemplate": "<b>%{hovertext}</b><br><br>Cluster Label=17<br>Component 1=%{x}<br>Component 2=%{y}<extra></extra>",
         "hovertext": [
          "The Wild Bunch",
          "Dodgeball: A True Underdog Story"
         ],
         "legendgroup": "17",
         "marker": {
          "color": "#FF6692",
          "symbol": "circle"
         },
         "mode": "markers",
         "name": "17",
         "orientation": "v",
         "showlegend": true,
         "type": "scatter",
         "x": [
          18.26115,
          12.662569
         ],
         "xaxis": "x",
         "y": [
          -15.932246,
          -15.852677
         ],
         "yaxis": "y"
        },
        {
         "hovertemplate": "<b>%{hovertext}</b><br><br>Cluster Label=29<br>Component 1=%{x}<br>Component 2=%{y}<extra></extra>",
         "hovertext": [
          "Eternal Sunshine of the Spotless Mind",
          "How to Lose a Guy in 10 Days",
          "Hitch",
          "Mr. & Mrs. Smith",
          "Ocean's Eleven",
          "American Beauty",
          "Requiem for a Dream",
          "A Beautiful Mind",
          "The Curious Case of Benjamin Button",
          "Dreamgirls",
          "Ocean's Thirteen",
          "Bruce Almighty",
          "Magnolia",
          "Ocean's Twelve"
         ],
         "legendgroup": "29",
         "marker": {
          "color": "#B6E880",
          "symbol": "circle"
         },
         "mode": "markers",
         "name": "29",
         "orientation": "v",
         "showlegend": true,
         "type": "scatter",
         "x": [
          -5.2325177,
          -8.639833,
          -9.515843,
          -8.545386,
          -6.594411,
          -2.5778542,
          -3.4125438,
          -3.7328258,
          -3.8676972,
          -3.5263174,
          -6.529401,
          -6.479476,
          -2.4704645,
          -7.0589437
         ],
         "xaxis": "x",
         "y": [
          -8.026718,
          -8.360539,
          -6.7488284,
          -6.295385,
          -5.551673,
          -7.662432,
          -11.150198,
          -6.9952984,
          -4.281521,
          -11.298796,
          -5.9626384,
          -8.386969,
          -7.515108,
          -6.0791106
         ],
         "yaxis": "y"
        },
        {
         "hovertemplate": "<b>%{hovertext}</b><br><br>Cluster Label=16<br>Component 1=%{x}<br>Component 2=%{y}<extra></extra>",
         "hovertext": [
          "Knocked Up",
          "The Hangover",
          "Bedtime Stories",
          "The Blind Side",
          "Stuart Little",
          "Juno",
          "(500) Days of Summer",
          "Enchanted",
          "Little Miss Sunshine",
          "The Proposal",
          "Twins",
          "Stand by Me",
          "Twilight"
         ],
         "legendgroup": "16",
         "marker": {
          "color": "#FF97FF",
          "symbol": "circle"
         },
         "mode": "markers",
         "name": "16",
         "orientation": "v",
         "showlegend": true,
         "type": "scatter",
         "x": [
          -12.316422,
          -12.855586,
          -12.117506,
          -7.3574314,
          -11.3802395,
          -11.016991,
          -11.52248,
          -10.696218,
          -9.636692,
          -11.484077,
          -9.2796755,
          -7.8829203,
          -9.963589
         ],
         "xaxis": "x",
         "y": [
          -10.827378,
          -12.309,
          -14.151319,
          -11.029657,
          -15.424664,
          -10.640282,
          -8.067774,
          -11.815877,
          -12.362687,
          -9.6916065,
          -14.833827,
          -14.405604,
          -10.279932
         ],
         "yaxis": "y"
        },
        {
         "hovertemplate": "<b>%{hovertext}</b><br><br>Cluster Label=32<br>Component 1=%{x}<br>Component 2=%{y}<extra></extra>",
         "hovertext": [
          "Home Alone 2: Lost in New York",
          "Sister Act",
          "The Break-Up",
          "Home Alone",
          "Couples Retreat",
          "Mrs. Doubtfire"
         ],
         "legendgroup": "32",
         "marker": {
          "color": "#FECB52",
          "symbol": "circle"
         },
         "mode": "markers",
         "name": "32",
         "orientation": "v",
         "showlegend": true,
         "type": "scatter",
         "x": [
          -32.414238,
          -29.113363,
          -26.01155,
          -32.37265,
          -25.817272,
          -29.44619
         ],
         "xaxis": "x",
         "y": [
          -11.643822,
          -17.58708,
          -14.006743,
          -11.646292,
          -13.61416,
          -16.292395
         ],
         "yaxis": "y"
        },
        {
         "hovertemplate": "<b>%{hovertext}</b><br><br>Cluster Label=37<br>Component 1=%{x}<br>Component 2=%{y}<extra></extra>",
         "hovertext": [
          "4: Rise of the Silver Surfer",
          "The Wrestler",
          "X2",
          "Fantastic Four",
          "X-Men",
          "X-Men Origins: Wolverine",
          "X-Men: The Last Stand"
         ],
         "legendgroup": "37",
         "marker": {
          "color": "#636efa",
          "symbol": "circle"
         },
         "mode": "markers",
         "name": "37",
         "orientation": "v",
         "showlegend": true,
         "type": "scatter",
         "x": [
          7.394654,
          10.046575,
          10.598018,
          7.7145123,
          11.251499,
          11.88349,
          11.288832
         ],
         "xaxis": "x",
         "y": [
          -12.531901,
          -15.070974,
          -10.819313,
          -12.824919,
          -11.191708,
          -11.407155,
          -11.771293
         ],
         "yaxis": "y"
        },
        {
         "hovertemplate": "<b>%{hovertext}</b><br><br>Cluster Label=40<br>Component 1=%{x}<br>Component 2=%{y}<extra></extra>",
         "hovertext": [
          "Horton Hears a Who!",
          "The Rugrats Movie",
          "Cars",
          "Step Brothers",
          "Robots",
          "Over the Hedge",
          "Madagascar: Escape 2 Africa",
          "Chicken Little",
          "Chicken Run",
          "Cloudy with a Chance of Meatballs",
          "Finding Nemo",
          "Lilo & Stitch",
          "Up",
          "Bolt",
          "Ratatouille",
          "Madagascar"
         ],
         "legendgroup": "40",
         "marker": {
          "color": "#EF553B",
          "symbol": "circle"
         },
         "mode": "markers",
         "name": "40",
         "orientation": "v",
         "showlegend": true,
         "type": "scatter",
         "x": [
          -12.526772,
          -14.344302,
          -13.679168,
          -15.611128,
          -12.362328,
          -13.399089,
          -13.032183,
          -15.31389,
          -15.594737,
          -16.222607,
          -11.137566,
          -11.106859,
          -12.034433,
          -12.513156,
          -11.01543,
          -12.99174
         ],
         "xaxis": "x",
         "y": [
          -22.744707,
          -24.304585,
          -22.637136,
          -26.082561,
          -21.40861,
          -21.600336,
          -26.328867,
          -22.123936,
          -22.179,
          -23.824873,
          -21.275013,
          -23.840403,
          -21.85652,
          -23.89107,
          -22.410295,
          -26.155949
         ],
         "yaxis": "y"
        },
        {
         "hovertemplate": "<b>%{hovertext}</b><br><br>Cluster Label=49<br>Component 1=%{x}<br>Component 2=%{y}<extra></extra>",
         "hovertext": [
          "The Lord of the Rings: The Fellowship of the Ring",
          "Million Dollar Baby",
          "Journey to the Center of the Earth",
          "Star Trek",
          "The Lord of the Rings: The Return of the King",
          "The Pacifier",
          "Star Trek IV: The Voyage Home",
          "The Lord of the Rings: The Two Towers",
          "Pirates of the Caribbean: At World's End",
          "Pirates of the Caribbean: Dead Man's Chest"
         ],
         "legendgroup": "49",
         "marker": {
          "color": "#00cc96",
          "symbol": "circle"
         },
         "mode": "markers",
         "name": "49",
         "orientation": "v",
         "showlegend": true,
         "type": "scatter",
         "x": [
          7.6194425,
          4.3037434,
          -0.2074069,
          0.9146447,
          7.5912437,
          3.5846627,
          0.8883619,
          7.7713647,
          0.103794135,
          0.11327432
         ],
         "xaxis": "x",
         "y": [
          -18.945784,
          -15.09491,
          -19.641697,
          -17.251429,
          -18.632204,
          -15.159559,
          -17.263367,
          -18.394833,
          -13.609195,
          -13.591235
         ],
         "yaxis": "y"
        },
        {
         "hovertemplate": "<b>%{hovertext}</b><br><br>Cluster Label=30<br>Component 1=%{x}<br>Component 2=%{y}<extra></extra>",
         "hovertext": [
          "Star Wars: Episode VI - Return of the Jedi",
          "Indiana Jones and the Kingdom of the Crystal Skull",
          "Indiana Jones and the Last Crusade",
          "Raiders of the Lost Ark",
          "Star Wars: Episode II - Attack of the Clones",
          "Indiana Jones and the Temple of Doom",
          "Star Wars: Episode III - Revenge of the Sith",
          "Star Wars",
          "Star Wars: Episode V - The Empire Strikes Back",
          "Star Wars: Episode I - The Phantom Menace"
         ],
         "legendgroup": "30",
         "marker": {
          "color": "#ab63fa",
          "symbol": "circle"
         },
         "mode": "markers",
         "name": "30",
         "orientation": "v",
         "showlegend": true,
         "type": "scatter",
         "x": [
          13.917943,
          11.223084,
          11.822362,
          12.815372,
          13.306352,
          11.45694,
          13.457473,
          14.1265,
          14.130454,
          12.636036
         ],
         "xaxis": "x",
         "y": [
          11.41271,
          13.95239,
          13.730541,
          14.166153,
          9.756243,
          13.908311,
          9.877863,
          12.12521,
          11.28644,
          10.070607
         ],
         "yaxis": "y"
        },
        {
         "hovertemplate": "<b>%{hovertext}</b><br><br>Cluster Label=52<br>Component 1=%{x}<br>Component 2=%{y}<extra></extra>",
         "hovertext": [
          "Daddy Day Care",
          "Big Momma's House",
          "Meet the Fockers",
          "Doctor Dolittle",
          "Meet the Parents",
          "Parenthood",
          "Bringing Down the House",
          "Nutty Professor II: The Klumps",
          "Coming to America",
          "Happy Feet",
          "The Nutty Professor",
          "3 Men and a Baby",
          "Dr. Dolittle 2"
         ],
         "legendgroup": "52",
         "marker": {
          "color": "#FFA15A",
          "symbol": "circle"
         },
         "mode": "markers",
         "name": "52",
         "orientation": "v",
         "showlegend": true,
         "type": "scatter",
         "x": [
          -20.685528,
          -18.18022,
          -22.11645,
          -22.340872,
          -21.948833,
          -20.510298,
          -17.977663,
          -25.13517,
          -23.933083,
          -19.155195,
          -25.105375,
          -20.821964,
          -22.338196
         ],
         "xaxis": "x",
         "y": [
          -18.034815,
          -15.2860985,
          -13.216016,
          -19.20903,
          -13.954523,
          -16.897633,
          -15.369339,
          -19.599234,
          -18.104568,
          -20.524399,
          -19.533709,
          -16.171196,
          -19.051245
         ],
         "yaxis": "y"
        },
        {
         "hovertemplate": "<b>%{hovertext}</b><br><br>Cluster Label=1<br>Component 1=%{x}<br>Component 2=%{y}<extra></extra>",
         "hovertext": [
          "Back to the Future",
          "Casper",
          "Jumanji",
          "The Jungle Book",
          "The Truman Show",
          "G-Force",
          "Hook",
          "E.T.: The Extra-Terrestrial",
          "Toy Story 2",
          "Back to the Future Part II",
          "Toy Story",
          "George of the Jungle",
          "Tarzan",
          "The Addams Family",
          "101 Dalmatians",
          "Seabiscuit",
          "Charlie and the Chocolate Factory"
         ],
         "legendgroup": "1",
         "marker": {
          "color": "#19d3f3",
          "symbol": "circle"
         },
         "mode": "markers",
         "name": "1",
         "orientation": "v",
         "showlegend": true,
         "type": "scatter",
         "x": [
          -6.960965,
          -8.198276,
          -4.20556,
          -2.040458,
          -3.2699733,
          -8.032884,
          -7.3482203,
          -1.7236851,
          -5.4474874,
          -6.891869,
          -5.374223,
          -2.8380065,
          -4.4720516,
          -8.915741,
          -5.085202,
          -4.0947566,
          -6.11794
         ],
         "xaxis": "x",
         "y": [
          -15.446218,
          -18.018946,
          -19.75205,
          -22.557386,
          -17.267881,
          -20.705181,
          -19.383488,
          -19.28707,
          -21.059736,
          -15.505678,
          -20.795013,
          -21.768572,
          -22.832909,
          -18.786434,
          -15.097827,
          -14.567842,
          -18.042606
         ],
         "yaxis": "y"
        },
        {
         "hovertemplate": "<b>%{hovertext}</b><br><br>Cluster Label=5<br>Component 1=%{x}<br>Component 2=%{y}<extra></extra>",
         "hovertext": [
          "Mou gaan dou",
          "Wo hu cang long",
          "Oldboy"
         ],
         "legendgroup": "5",
         "marker": {
          "color": "#FF6692",
          "symbol": "circle"
         },
         "mode": "markers",
         "name": "5",
         "orientation": "v",
         "showlegend": true,
         "type": "scatter",
         "x": [
          -21.995216,
          -22.038235,
          -22.226807
         ],
         "xaxis": "x",
         "y": [
          15.734368,
          15.773746,
          16.778862
         ],
         "yaxis": "y"
        },
        {
         "hovertemplate": "<b>%{hovertext}</b><br><br>Cluster Label=36<br>Component 1=%{x}<br>Component 2=%{y}<extra></extra>",
         "hovertext": [
          "The World Is Not Enough",
          "Die Another Day",
          "The Mask",
          "Stir Crazy",
          "Ace Ventura: When Nature Calls",
          "GoldenEye",
          "Titanic",
          "Tomorrow Never Dies",
          "Dumb & Dumber",
          "True Lies",
          "Liar Liar"
         ],
         "legendgroup": "36",
         "marker": {
          "color": "#B6E880",
          "symbol": "circle"
         },
         "mode": "markers",
         "name": "36",
         "orientation": "v",
         "showlegend": true,
         "type": "scatter",
         "x": [
          -11.753101,
          -12.453647,
          -12.036476,
          -16.333195,
          -13.689735,
          -10.794839,
          -9.254108,
          -12.168391,
          -12.823086,
          -13.451329,
          -13.607925
         ],
         "xaxis": "x",
         "y": [
          13.817078,
          12.680268,
          17.793423,
          12.4892845,
          16.671885,
          14.260349,
          17.387259,
          11.986626,
          18.329296,
          21.51381,
          21.552404
         ],
         "yaxis": "y"
        },
        {
         "hovertemplate": "<b>%{hovertext}</b><br><br>Cluster Label=47<br>Component 1=%{x}<br>Component 2=%{y}<extra></extra>",
         "hovertext": [
          "I, Robot",
          "War of the Worlds",
          "I Am Legend",
          "Children of Men",
          "Paranormal Activity",
          "Watchmen",
          "Angels & Demons",
          "The Da Vinci Code",
          "Donnie Darko",
          "2012"
         ],
         "legendgroup": "47",
         "marker": {
          "color": "#FF97FF",
          "symbol": "circle"
         },
         "mode": "markers",
         "name": "47",
         "orientation": "v",
         "showlegend": true,
         "type": "scatter",
         "x": [
          6.4156613,
          7.2319913,
          5.3284464,
          8.766181,
          4.497822,
          8.940268,
          5.808042,
          6.0555706,
          3.4070914,
          8.970826
         ],
         "xaxis": "x",
         "y": [
          -4.520403,
          -1.5766261,
          -3.4561877,
          -0.7812359,
          -2.8669364,
          0.7739214,
          -0.37486964,
          -0.11920954,
          -0.2929055,
          0.29944104
         ],
         "yaxis": "y"
        },
        {
         "hovertemplate": "<b>%{hovertext}</b><br><br>Cluster Label=2<br>Component 1=%{x}<br>Component 2=%{y}<extra></extra>",
         "hovertext": [
          "The Matrix Reloaded",
          "V for Vendetta",
          "Fahrenheit 9/11",
          "Blood Diamond",
          "The Matrix Revolutions",
          "The Matrix",
          "There Will Be Blood",
          "Quantum of Solace",
          "G.I. Joe: The Rise of Cobra"
         ],
         "legendgroup": "2",
         "marker": {
          "color": "#FECB52",
          "symbol": "circle"
         },
         "mode": "markers",
         "name": "2",
         "orientation": "v",
         "showlegend": true,
         "type": "scatter",
         "x": [
          12.460654,
          10.880794,
          13.358499,
          16.203009,
          12.230254,
          12.341739,
          16.396944,
          13.453396,
          14.772873
         ],
         "xaxis": "x",
         "y": [
          0.22481152,
          -0.67546374,
          -3.0725386,
          0.50776243,
          0.5930387,
          0.9606455,
          0.42073116,
          -0.56067204,
          1.8800594
         ],
         "yaxis": "y"
        },
        {
         "hovertemplate": "<b>%{hovertext}</b><br><br>Cluster Label=41<br>Component 1=%{x}<br>Component 2=%{y}<extra></extra>",
         "hovertext": [
          "Ran",
          "Letters from Iwo Jima",
          "Mononoke-hime",
          "Shichinin no samurai",
          "Tonari no Totoro",
          "Yojimbo",
          "Sen to Chihiro no kamikakushi",
          "Hotaru no haka",
          "Rashômon"
         ],
         "legendgroup": "41",
         "marker": {
          "color": "#636efa",
          "symbol": "circle"
         },
         "mode": "markers",
         "name": "41",
         "orientation": "v",
         "showlegend": true,
         "type": "scatter",
         "x": [
          -24.510225,
          -24.287664,
          -25.38053,
          -23.931555,
          -25.844925,
          -23.189825,
          -25.293678,
          -25.456198,
          -22.858086
         ],
         "xaxis": "x",
         "y": [
          19.585665,
          18.420818,
          22.038334,
          20.606062,
          20.910717,
          20.069405,
          21.358896,
          19.867071,
          20.231087
         ],
         "yaxis": "y"
        },
        {
         "hovertemplate": "<b>%{hovertext}</b><br><br>Cluster Label=51<br>Component 1=%{x}<br>Component 2=%{y}<extra></extra>",
         "hovertext": [
          "Batman Forever",
          "Die Hard 2",
          "Batman Returns",
          "Braveheart",
          "Die Hard",
          "Pulp Fiction",
          "Batman & Robin",
          "Batman Begins",
          "Die Hard: With a Vengeance",
          "Maverick",
          "Live Free or Die Hard",
          "Batman"
         ],
         "legendgroup": "51",
         "marker": {
          "color": "#EF553B",
          "symbol": "circle"
         },
         "mode": "markers",
         "name": "51",
         "orientation": "v",
         "showlegend": true,
         "type": "scatter",
         "x": [
          0.16047914,
          -0.21799485,
          0.42880628,
          -3.0989892,
          -0.0750023,
          -2.526263,
          0.40363753,
          1.1460162,
          -1.2530069,
          -3.3447497,
          0.70515966,
          0.9259785
         ],
         "xaxis": "x",
         "y": [
          17.843437,
          13.985341,
          19.09827,
          16.691236,
          13.76373,
          18.777449,
          17.091105,
          17.26048,
          14.212538,
          17.264618,
          13.285943,
          18.165154
         ],
         "yaxis": "y"
        },
        {
         "hovertemplate": "<b>%{hovertext}</b><br><br>Cluster Label=38<br>Component 1=%{x}<br>Component 2=%{y}<extra></extra>",
         "hovertext": [
          "Memento",
          "The Prestige",
          "The Bourne Ultimatum",
          "District 9",
          "The Bourne Identity",
          "The Dark Knight",
          "Daredevil",
          "The Bourne Supremacy"
         ],
         "legendgroup": "38",
         "marker": {
          "color": "#00cc96",
          "symbol": "circle"
         },
         "mode": "markers",
         "name": "38",
         "orientation": "v",
         "showlegend": true,
         "type": "scatter",
         "x": [
          6.8579993,
          7.110168,
          4.496708,
          5.299519,
          4.1018224,
          7.0453067,
          2.3985987,
          4.211742
         ],
         "xaxis": "x",
         "y": [
          1.998485,
          2.4629157,
          2.56622,
          5.016239,
          2.150345,
          3.5235884,
          4.1111164,
          2.329217
         ],
         "yaxis": "y"
        },
        {
         "hovertemplate": "<b>%{hovertext}</b><br><br>Cluster Label=46<br>Component 1=%{x}<br>Component 2=%{y}<extra></extra>",
         "hovertext": [
          "Rocky III",
          "Rocky IV",
          "Life of Brian",
          "Rocky",
          "Rambo: First Blood Part II",
          "Raging Bull",
          "The Deer Hunter",
          "The Rocky Horror Picture Show",
          "Monty Python and the Holy Grail"
         ],
         "legendgroup": "46",
         "marker": {
          "color": "#ab63fa",
          "symbol": "circle"
         },
         "mode": "markers",
         "name": "46",
         "orientation": "v",
         "showlegend": true,
         "type": "scatter",
         "x": [
          14.697168,
          14.45288,
          9.118489,
          14.780633,
          13.306379,
          12.242779,
          12.003187,
          15.522368,
          9.229394
         ],
         "xaxis": "x",
         "y": [
          27.719988,
          27.400232,
          26.947803,
          26.980778,
          28.50668,
          24.635529,
          24.165678,
          25.55922,
          26.879292
         ],
         "yaxis": "y"
        },
        {
         "hovertemplate": "<b>%{hovertext}</b><br><br>Cluster Label=42<br>Component 1=%{x}<br>Component 2=%{y}<extra></extra>",
         "hovertext": [
          "The Birdcage",
          "Men in Black",
          "Brazil",
          "Good Will Hunting",
          "Patch Adams",
          "Men in Black II",
          "Blades of Glory",
          "Bad Boys II",
          "No Country for Old Men"
         ],
         "legendgroup": "42",
         "marker": {
          "color": "#FFA15A",
          "symbol": "circle"
         },
         "mode": "markers",
         "name": "42",
         "orientation": "v",
         "showlegend": true,
         "type": "scatter",
         "x": [
          -16.429419,
          -14.803526,
          -18.459312,
          -15.779546,
          -17.295452,
          -14.570573,
          -18.59011,
          -12.585791,
          -15.984543
         ],
         "xaxis": "x",
         "y": [
          2.9399548,
          6.720969,
          5.94311,
          2.6804726,
          3.513387,
          6.6099854,
          11.12359,
          6.221182,
          8.220817
         ],
         "yaxis": "y"
        },
        {
         "hovertemplate": "<b>%{hovertext}</b><br><br>Cluster Label=4<br>Component 1=%{x}<br>Component 2=%{y}<extra></extra>",
         "hovertext": [
          "As Good as It Gets",
          "Wild Hogs",
          "Mr. Deeds",
          "The Devil Wears Prada",
          "Fun with Dick and Jane",
          "Miss Congeniality",
          "Grease",
          "Look Who's Talking",
          "Something's Gotta Give",
          "Hancock",
          "Anger Management",
          "Walk the Line",
          "You've Got Mail",
          "City Slickers",
          "Into the Wild",
          "Shakespeare in Love",
          "Wild Wild West",
          "The 40 Year Old Virgin"
         ],
         "legendgroup": "4",
         "marker": {
          "color": "#19d3f3",
          "symbol": "circle"
         },
         "mode": "markers",
         "name": "4",
         "orientation": "v",
         "showlegend": true,
         "type": "scatter",
         "x": [
          -15.493329,
          -10.953498,
          -17.710615,
          -13.277337,
          -14.00273,
          -15.648886,
          -16.169355,
          -15.331329,
          -15.579624,
          -13.560037,
          -17.487907,
          -12.957225,
          -18.152626,
          -11.202868,
          -10.177789,
          -18.947147,
          -10.566424,
          -14.839815
         ],
         "xaxis": "x",
         "y": [
          0.8347113,
          -4.498374,
          -1.8121036,
          -4.299574,
          -3.086681,
          -3.4191499,
          -6.2287235,
          -6.5643725,
          0.021797016,
          -2.2544293,
          -1.3627611,
          -6.523511,
          -5.482861,
          -2.1977258,
          -4.3144574,
          -4.1377616,
          -3.7280512,
          -3.665408
         ],
         "yaxis": "y"
        },
        {
         "hovertemplate": "<b>%{hovertext}</b><br><br>Cluster Label=0<br>Component 1=%{x}<br>Component 2=%{y}<extra></extra>",
         "hovertext": [
          "Wayne's World",
          "Dances with Wolves",
          "The Bodyguard",
          "The Fugitive",
          "A League of Their Own",
          "A Few Good Men",
          "The Silence of the Lambs",
          "Reservoir Dogs",
          "Unforgiven",
          "The Firm",
          "Sleepless in Seattle",
          "Basic Instinct"
         ],
         "legendgroup": "0",
         "marker": {
          "color": "#FF6692",
          "symbol": "circle"
         },
         "mode": "markers",
         "name": "0",
         "orientation": "v",
         "showlegend": true,
         "type": "scatter",
         "x": [
          0.2666865,
          4.023947,
          2.782667,
          -3.042979,
          -1.7291472,
          -1.1886942,
          3.5739055,
          1.5805812,
          0.1734105,
          -2.3901935,
          -2.87688,
          -0.32607993
         ],
         "xaxis": "x",
         "y": [
          24.01294,
          22.929308,
          23.04882,
          21.262222,
          24.203293,
          21.891722,
          20.32107,
          21.704042,
          22.040304,
          22.134657,
          24.972942,
          20.69232
         ],
         "yaxis": "y"
        },
        {
         "hovertemplate": "<b>%{hovertext}</b><br><br>Cluster Label=59<br>Component 1=%{x}<br>Component 2=%{y}<extra></extra>",
         "hovertext": [
          "Sunset Blvd.",
          "Double Indemnity",
          "A Streetcar Named Desire",
          "Sunrise: A Song of Two Humans",
          "The Night of the Hunter",
          "Stalag 17",
          "The Day the Earth Stood Still",
          "On the Waterfront",
          "The Big Sleep"
         ],
         "legendgroup": "59",
         "marker": {
          "color": "#B6E880",
          "symbol": "circle"
         },
         "mode": "markers",
         "name": "59",
         "orientation": "v",
         "showlegend": true,
         "type": "scatter",
         "x": [
          35.055412,
          35.246162,
          34.26457,
          37.422188,
          34.760777,
          34.252365,
          36.789352,
          34.28112,
          34.403393
         ],
         "xaxis": "x",
         "y": [
          12.491704,
          9.46018,
          17.08133,
          10.303109,
          11.981187,
          13.756574,
          13.406458,
          17.11022,
          9.857486
         ],
         "yaxis": "y"
        },
        {
         "hovertemplate": "<b>%{hovertext}</b><br><br>Cluster Label=15<br>Component 1=%{x}<br>Component 2=%{y}<extra></extra>",
         "hovertext": [
          "The Ring",
          "Signs",
          "Vanilla Sky",
          "The Village",
          "Austin Powers in Goldmember",
          "National Treasure: Book of Secrets",
          "Sleepy Hollow",
          "What Lies Beneath",
          "Austin Powers: The Spy Who Shagged Me",
          "Mulholland Dr.",
          "The Blair Witch Project",
          "National Treasure",
          "The Sixth Sense",
          "The Grudge"
         ],
         "legendgroup": "15",
         "marker": {
          "color": "#FF97FF",
          "symbol": "circle"
         },
         "mode": "markers",
         "name": "15",
         "orientation": "v",
         "showlegend": true,
         "type": "scatter",
         "x": [
          -0.13335383,
          0.97216976,
          2.8005717,
          1.606928,
          -2.9699898,
          -1.7651166,
          0.9790254,
          3.1973526,
          -3.0826707,
          1.8463228,
          3.2324183,
          -1.6713153,
          0.9889907,
          -0.50881183
         ],
         "xaxis": "x",
         "y": [
          -0.026393462,
          -1.8624382,
          -0.8055739,
          -3.8989053,
          -1.0155731,
          -3.7613888,
          -5.019303,
          -2.7061558,
          -1.0586898,
          -0.5110325,
          -4.1855936,
          -3.7108922,
          -2.255096,
          -0.10727289
         ],
         "yaxis": "y"
        },
        {
         "hovertemplate": "<b>%{hovertext}</b><br><br>Cluster Label=55<br>Component 1=%{x}<br>Component 2=%{y}<extra></extra>",
         "hovertext": [
          "Superman II",
          "Mission: Impossible II",
          "Mission: Impossible III",
          "Total Recall",
          "Superman Returns",
          "Terminator 3: Rise of the Machines",
          "The Terminator",
          "Terminator Salvation",
          "Mission: Impossible",
          "Superman",
          "The General's Daughter",
          "Terminator 2: Judgment Day"
         ],
         "legendgroup": "55",
         "marker": {
          "color": "#FECB52",
          "symbol": "circle"
         },
         "mode": "markers",
         "name": "55",
         "orientation": "v",
         "showlegend": true,
         "type": "scatter",
         "x": [
          18.30005,
          9.759694,
          9.713665,
          13.17666,
          17.92973,
          13.461347,
          13.058915,
          12.2449255,
          9.777803,
          18.270378,
          10.674991,
          13.179414
         ],
         "xaxis": "x",
         "y": [
          5.2662044,
          3.5868745,
          3.331227,
          3.8462822,
          4.1590943,
          6.241364,
          5.931332,
          6.006836,
          3.9138968,
          5.2063646,
          6.9788823,
          5.5115895
         ],
         "yaxis": "y"
        },
        {
         "hovertemplate": "<b>%{hovertext}</b><br><br>Cluster Label=7<br>Component 1=%{x}<br>Component 2=%{y}<extra></extra>",
         "hovertext": [
          "Chinatown",
          "The Conversation",
          "The Godfather",
          "The Towering Inferno",
          "American Graffiti",
          "The Godfather: Part II",
          "One Flew Over the Cuckoo's Nest",
          "The Exorcist",
          "Dog Day Afternoon",
          "Blazing Saddles"
         ],
         "legendgroup": "7",
         "marker": {
          "color": "#636efa",
          "symbol": "circle"
         },
         "mode": "markers",
         "name": "7",
         "orientation": "v",
         "showlegend": true,
         "type": "scatter",
         "x": [
          18.0215,
          18.672907,
          16.950666,
          16.92904,
          19.868574,
          17.151037,
          19.827711,
          18.429272,
          18.034388,
          16.220972
         ],
         "xaxis": "x",
         "y": [
          19.964216,
          19.9969,
          17.126135,
          22.633804,
          20.74615,
          17.46886,
          17.415073,
          22.021042,
          18.718979,
          23.473375
         ],
         "yaxis": "y"
        },
        {
         "hovertemplate": "<b>%{hovertext}</b><br><br>Cluster Label=53<br>Component 1=%{x}<br>Component 2=%{y}<extra></extra>",
         "hovertext": [
          "Catch Me If You Can",
          "2 Fast 2 Furious",
          "The Perfect Storm",
          "Collateral",
          "Mystic River",
          "Crash",
          "Minority Report",
          "Fast & Furious",
          "Road to Perdition",
          "xXx",
          "The Green Mile",
          "The Fast and the Furious",
          "Sin City",
          "S.W.A.T."
         ],
         "legendgroup": "53",
         "marker": {
          "color": "#EF553B",
          "symbol": "circle"
         },
         "mode": "markers",
         "name": "53",
         "orientation": "v",
         "showlegend": true,
         "type": "scatter",
         "x": [
          0.51822937,
          -3.4778554,
          -3.584734,
          0.26260567,
          -2.0135746,
          -0.63910306,
          1.6767285,
          -4.176066,
          0.1630915,
          1.0699964,
          -0.7224321,
          -3.7880595,
          2.208869,
          2.1058095
         ],
         "xaxis": "x",
         "y": [
          2.453383,
          2.2193215,
          4.7856903,
          4.881401,
          4.27173,
          5.805192,
          1.4523096,
          1.6874938,
          2.8143027,
          5.11827,
          2.6033742,
          1.967351,
          5.896067,
          4.6197944
         ],
         "yaxis": "y"
        },
        {
         "hovertemplate": "<b>%{hovertext}</b><br><br>Cluster Label=23<br>Component 1=%{x}<br>Component 2=%{y}<extra></extra>",
         "hovertext": [
          "The Adventures of Robin Hood",
          "Gone with the Wind",
          "The Grapes of Wrath",
          "It Happened One Night",
          "The Best Years of Our Lives",
          "Brief Encounter",
          "Rebecca",
          "His Girl Friday",
          "Notorious",
          "Arsenic and Old Lace",
          "Kind Hearts and Coronets",
          "The Lady Vanishes",
          "It's a Wonderful Life",
          "Casablanca",
          "The Philadelphia Story"
         ],
         "legendgroup": "23",
         "marker": {
          "color": "#00cc96",
          "symbol": "circle"
         },
         "mode": "markers",
         "name": "23",
         "orientation": "v",
         "showlegend": true,
         "type": "scatter",
         "x": [
          29.55166,
          30.404781,
          33.880283,
          32.44014,
          36.619534,
          34.9726,
          31.54882,
          32.371548,
          31.681314,
          33.013058,
          33.595196,
          31.001732,
          36.446865,
          29.451979,
          32.809566
         ],
         "xaxis": "x",
         "y": [
          4.899022,
          5.1489253,
          4.321895,
          2.9049757,
          6.5939956,
          7.2472496,
          7.0194283,
          4.957946,
          8.539384,
          7.883327,
          6.108718,
          7.1766176,
          6.6322207,
          6.6368303,
          5.4283843
         ],
         "yaxis": "y"
        },
        {
         "hovertemplate": "<b>%{hovertext}</b><br><br>Cluster Label=26<br>Component 1=%{x}<br>Component 2=%{y}<extra></extra>",
         "hovertext": [
          "8½",
          "Le notti di Cabiria",
          "Nuovo cinema Paradiso",
          "C'era una volta il West",
          "La battaglia di Algeri",
          "La strada",
          "Ladri di biciclette",
          "Le fabuleux destin d'Amélie Poulain",
          "Per qualche dollaro in più",
          "Le scaphandre et le papillon",
          "La vita è bella",
          "Il buono, il brutto, il cattivo."
         ],
         "legendgroup": "26",
         "marker": {
          "color": "#ab63fa",
          "symbol": "circle"
         },
         "mode": "markers",
         "name": "26",
         "orientation": "v",
         "showlegend": true,
         "type": "scatter",
         "x": [
          25.653261,
          24.334145,
          23.717724,
          27.421926,
          26.061035,
          24.31485,
          24.527962,
          25.444668,
          27.057594,
          25.95984,
          23.694817,
          26.884995
         ],
         "xaxis": "x",
         "y": [
          -10.49324,
          -11.5309105,
          -9.20492,
          -12.111021,
          -9.872314,
          -11.685919,
          -10.480952,
          -7.508908,
          -11.617702,
          -8.02277,
          -10.010743,
          -11.917537
         ],
         "yaxis": "y"
        },
        {
         "hovertemplate": "<b>%{hovertext}</b><br><br>Cluster Label=57<br>Component 1=%{x}<br>Component 2=%{y}<extra></extra>",
         "hovertext": [
          "Amores perros",
          "Det sjunde inseglet",
          "Changeling",
          "Smultronstället",
          "Hotel Rwanda",
          "Cidade de Deus",
          "Inglourious Basterds",
          "El laberinto del fauno"
         ],
         "legendgroup": "57",
         "marker": {
          "color": "#FFA15A",
          "symbol": "circle"
         },
         "mode": "markers",
         "name": "57",
         "orientation": "v",
         "showlegend": true,
         "type": "scatter",
         "x": [
          20.937265,
          24.929012,
          19.09095,
          24.828232,
          20.668787,
          21.17031,
          18.47979,
          20.988575
         ],
         "xaxis": "x",
         "y": [
          -6.3870497,
          -2.590304,
          -2.75085,
          -2.3300276,
          -0.34207666,
          -4.921912,
          -2.3781002,
          -5.7585692
         ],
         "yaxis": "y"
        },
        {
         "hovertemplate": "<b>%{hovertext}</b><br><br>Cluster Label=19<br>Component 1=%{x}<br>Component 2=%{y}<extra></extra>",
         "hovertext": [
          "Rear Window",
          "Vertigo",
          "Psycho",
          "Dial M for Murder",
          "Anatomy of a Murder",
          "Witness for the Prosecution",
          "Rope",
          "Strangers on a Train",
          "The Great Escape",
          "The Killing",
          "Touch of Evil",
          "Shadow of a Doubt",
          "North by Northwest"
         ],
         "legendgroup": "19",
         "marker": {
          "color": "#19d3f3",
          "symbol": "circle"
         },
         "mode": "markers",
         "name": "19",
         "orientation": "v",
         "showlegend": true,
         "type": "scatter",
         "x": [
          31.10615,
          30.594831,
          29.436903,
          30.652586,
          30.474718,
          32.340828,
          31.947182,
          32.144444,
          29.498587,
          27.79715,
          29.02114,
          32.709778,
          30.539083
         ],
         "xaxis": "x",
         "y": [
          12.578017,
          10.006487,
          10.419779,
          12.585306,
          13.690918,
          13.867394,
          10.560859,
          11.477129,
          15.836514,
          14.02506,
          11.289935,
          10.182467,
          9.072922
         ],
         "yaxis": "y"
        },
        {
         "hovertemplate": "<b>%{hovertext}</b><br><br>Cluster Label=21<br>Component 1=%{x}<br>Component 2=%{y}<extra></extra>",
         "hovertext": [
          "Shark Tale",
          "Bee Movie",
          "Paul Blart: Mall Cop",
          "Cheaper by the Dozen",
          "A Bug's Life",
          "Scooby-Doo",
          "Freaky Friday",
          "Lemony Snicket's A Series of Unfortunate Events",
          "Evan Almighty",
          "Who Framed Roger Rabbit",
          "Elf",
          "Marley & Me",
          "The Incredibles",
          "Honey, I Shrunk the Kids",
          "The Flintstones"
         ],
         "legendgroup": "21",
         "marker": {
          "color": "#FF6692",
          "symbol": "circle"
         },
         "mode": "markers",
         "name": "21",
         "orientation": "v",
         "showlegend": true,
         "type": "scatter",
         "x": [
          -12.64785,
          -17.418083,
          -16.93092,
          -15.62418,
          -14.082977,
          -10.277546,
          -12.054805,
          -10.506401,
          -13.697993,
          -14.452149,
          -11.564653,
          -14.061088,
          -11.625891,
          -16.532583,
          -15.667261
         ],
         "xaxis": "x",
         "y": [
          -19.989614,
          -21.407122,
          -18.29499,
          -16.831154,
          -20.750105,
          -19.458391,
          -18.398218,
          -17.701784,
          -16.944712,
          -19.516409,
          -16.30902,
          -17.78547,
          -19.631516,
          -20.020678,
          -19.334015
         ],
         "yaxis": "y"
        },
        {
         "hovertemplate": "<b>%{hovertext}</b><br><br>Cluster Label=3<br>Component 1=%{x}<br>Component 2=%{y}<extra></extra>",
         "hovertext": [
          "The Third Man",
          "Some Like It Hot",
          "Citizen Kane",
          "Spartacus",
          "The Apartment",
          "Rosemary's Baby",
          "Paths of Glory"
         ],
         "legendgroup": "3",
         "marker": {
          "color": "#B6E880",
          "symbol": "circle"
         },
         "mode": "markers",
         "name": "3",
         "orientation": "v",
         "showlegend": true,
         "type": "scatter",
         "x": [
          27.447693,
          26.797733,
          27.965708,
          25.647072,
          26.214342,
          23.876104,
          25.876167
         ],
         "xaxis": "x",
         "y": [
          7.4213686,
          10.190515,
          7.4292593,
          14.729598,
          10.594964,
          8.766215,
          14.73584
         ],
         "yaxis": "y"
        },
        {
         "hovertemplate": "<b>%{hovertext}</b><br><br>Cluster Label=12<br>Component 1=%{x}<br>Component 2=%{y}<extra></extra>",
         "hovertext": [
          "Top Gun",
          "'Crocodile' Dundee II",
          "Animal House",
          "Porky's",
          "Tootsie",
          "Terms of Endearment",
          "Rain Man",
          "The Karate Kid, Part II",
          "Crocodile Dundee",
          "Jerry Maguire"
         ],
         "legendgroup": "12",
         "marker": {
          "color": "#FF97FF",
          "symbol": "circle"
         },
         "mode": "markers",
         "name": "12",
         "orientation": "v",
         "showlegend": true,
         "type": "scatter",
         "x": [
          -22.246288,
          -24.156176,
          -21.480518,
          -21.353266,
          -20.484661,
          -21.154211,
          -21.134512,
          -23.603552,
          -24.106966,
          -18.857841
         ],
         "xaxis": "x",
         "y": [
          4.440169,
          1.3071868,
          -1.0062549,
          -0.45201084,
          1.3810678,
          -3.2382882,
          2.588015,
          4.489451,
          1.3117613,
          1.6017108
         ],
         "yaxis": "y"
        },
        {
         "hovertemplate": "<b>%{hovertext}</b><br><br>Cluster Label=18<br>Component 1=%{x}<br>Component 2=%{y}<extra></extra>",
         "hovertext": [
          "One Hundred and One Dalmatians",
          "Teenage Mutant Ninja Turtles",
          "Monsters, Inc.",
          "Shrek the Third",
          "The Cat in the Hat",
          "Kung Fu Panda",
          "Shrek 2",
          "WALL·E",
          "Gremlins",
          "The Polar Express",
          "Shrek",
          "Monsters vs Aliens"
         ],
         "legendgroup": "18",
         "marker": {
          "color": "#FECB52",
          "symbol": "circle"
         },
         "mode": "markers",
         "name": "18",
         "orientation": "v",
         "showlegend": true,
         "type": "scatter",
         "x": [
          -9.023029,
          -9.5819845,
          -9.039382,
          -9.247089,
          -10.578028,
          -6.462052,
          -9.444054,
          -10.022811,
          -8.427741,
          -6.9106383,
          -9.604069,
          -8.770823
         ],
         "xaxis": "x",
         "y": [
          -21.813236,
          -28.096098,
          -24.219734,
          -26.736225,
          -25.212387,
          -24.805021,
          -26.584776,
          -21.977123,
          -23.41229,
          -22.131556,
          -26.28377,
          -24.594784
         ],
         "yaxis": "y"
        },
        {
         "hovertemplate": "<b>%{hovertext}</b><br><br>Cluster Label=14<br>Component 1=%{x}<br>Component 2=%{y}<extra></extra>",
         "hovertext": [
          "The Chronicles of Narnia: The Lion, the Witch and the Wardrobe",
          "Harry Potter and the Half-Blood Prince",
          "Harry Potter and the Prisoner of Azkaban",
          "Harry Potter and the Order of the Phoenix",
          "Snow White and the Seven Dwarfs",
          "Harry Potter and the Goblet of Fire",
          "Harry Potter and the Chamber of Secrets",
          "The Chronicles of Narnia: Prince Caspian",
          "Harry Potter and the Sorcerer's Stone",
          "The Wizard of Oz"
         ],
         "legendgroup": "14",
         "marker": {
          "color": "#636efa",
          "symbol": "circle"
         },
         "mode": "markers",
         "name": "14",
         "orientation": "v",
         "showlegend": true,
         "type": "scatter",
         "x": [
          1.8493203,
          5.971007,
          4.476947,
          5.095958,
          0.6215116,
          4.834133,
          5.097896,
          1.8849336,
          5.775662,
          1.3393279
         ],
         "xaxis": "x",
         "y": [
          -23.441978,
          -24.378044,
          -25.261478,
          -25.583448,
          -27.468391,
          -24.193836,
          -24.653982,
          -23.3624,
          -25.31498,
          -27.321432
         ],
         "yaxis": "y"
        },
        {
         "hovertemplate": "<b>%{hovertext}</b><br><br>Cluster Label=10<br>Component 1=%{x}<br>Component 2=%{y}<extra></extra>",
         "hovertext": [
          "The Last Samurai",
          "Scary Movie",
          "The Mummy",
          "Scary Movie 3",
          "The Mummy: Tomb of the Dragon Emperor",
          "Lara Croft: Tomb Raider",
          "Pearl Harbor",
          "Shaun of the Dead",
          "Van Helsing",
          "King Kong",
          "King Kong",
          "Troy",
          "The Mummy Returns"
         ],
         "legendgroup": "10",
         "marker": {
          "color": "#EF553B",
          "symbol": "circle"
         },
         "mode": "markers",
         "name": "10",
         "orientation": "v",
         "showlegend": true,
         "type": "scatter",
         "x": [
          3.5232806,
          -0.20286497,
          1.9885447,
          -0.17185894,
          3.325865,
          5.6574097,
          4.107549,
          0.87242204,
          6.0479803,
          5.8532376,
          6.1112337,
          2.8308506,
          2.4013999
         ],
         "xaxis": "x",
         "y": [
          -9.179047,
          -9.919655,
          -5.771398,
          -9.900035,
          -6.558988,
          -7.791226,
          -10.3267565,
          -7.2521334,
          -7.030336,
          -10.457414,
          -10.477008,
          -11.433623,
          -6.096148
         ],
         "yaxis": "y"
        },
        {
         "hovertemplate": "<b>%{hovertext}</b><br><br>Cluster Label=48<br>Component 1=%{x}<br>Component 2=%{y}<extra></extra>",
         "hovertext": [
          "Driving Miss Daisy",
          "Ghost",
          "On Golden Pond",
          "Ghost Busters",
          "Nine to Five",
          "Ghostbusters II",
          "Groundhog Day"
         ],
         "legendgroup": "48",
         "marker": {
          "color": "#00cc96",
          "symbol": "circle"
         },
         "mode": "markers",
         "name": "48",
         "orientation": "v",
         "showlegend": true,
         "type": "scatter",
         "x": [
          -26.500866,
          -28.736437,
          -30.800493,
          -27.919418,
          -30.6923,
          -27.919653,
          -28.123472
         ],
         "xaxis": "x",
         "y": [
          -2.9535916,
          -1.1596401,
          -4.902507,
          -0.3885691,
          -4.8709927,
          -0.40230733,
          1.3520442
         ],
         "yaxis": "y"
        },
        {
         "hovertemplate": "<b>%{hovertext}</b><br><br>Cluster Label=44<br>Component 1=%{x}<br>Component 2=%{y}<extra></extra>",
         "hovertext": [
          "The Sound of Music",
          "Mary Poppins",
          "Amadeus"
         ],
         "legendgroup": "44",
         "marker": {
          "color": "#ab63fa",
          "symbol": "circle"
         },
         "mode": "markers",
         "name": "44",
         "orientation": "v",
         "showlegend": true,
         "type": "scatter",
         "x": [
          11.174299,
          10.9437685,
          12.7433195
         ],
         "xaxis": "x",
         "y": [
          -27.33626,
          -27.456686,
          -26.269356
         ],
         "yaxis": "y"
        },
        {
         "hovertemplate": "<b>%{hovertext}</b><br><br>Cluster Label=13<br>Component 1=%{x}<br>Component 2=%{y}<extra></extra>",
         "hovertext": [
          "The First Wives Club",
          "What Women Want",
          "My Best Friend's Wedding",
          "Erin Brockovich",
          "Wedding Crashers",
          "Mamma Mia!",
          "The Princess Diaries",
          "American Wedding",
          "Pretty Woman",
          "50 First Dates",
          "Big",
          "The Princess Bride",
          "Notting Hill",
          "My Big Fat Greek Wedding",
          "Runaway Bride"
         ],
         "legendgroup": "13",
         "marker": {
          "color": "#FFA15A",
          "symbol": "circle"
         },
         "mode": "markers",
         "name": "13",
         "orientation": "v",
         "showlegend": true,
         "type": "scatter",
         "x": [
          -23.782038,
          -23.224844,
          -25.732828,
          -23.51861,
          -25.352465,
          -21.660526,
          -22.770998,
          -25.902597,
          -24.315126,
          -21.922567,
          -19.674173,
          -23.393557,
          -25.964714,
          -26.626427,
          -25.193275
         ],
         "xaxis": "x",
         "y": [
          -11.643235,
          -6.41751,
          -9.769305,
          -5.151031,
          -10.975593,
          -8.323476,
          -8.658736,
          -10.9831915,
          -6.4622045,
          -12.550879,
          -6.138755,
          -9.189498,
          -6.1681485,
          -11.044498,
          -6.6341906
         ],
         "yaxis": "y"
        },
        {
         "hovertemplate": "<b>%{hovertext}</b><br><br>Cluster Label=39<br>Component 1=%{x}<br>Component 2=%{y}<extra></extra>",
         "hovertext": [
          "The Aviator",
          "The Passion of the Christ",
          "The Patriot",
          "Black Hawk Down",
          "Gladiator",
          "Remember the Titans",
          "300",
          "The Pianist",
          "The Pursuit of Happyness"
         ],
         "legendgroup": "39",
         "marker": {
          "color": "#19d3f3",
          "symbol": "circle"
         },
         "mode": "markers",
         "name": "39",
         "orientation": "v",
         "showlegend": true,
         "type": "scatter",
         "x": [
          15.822674,
          18.795856,
          14.09679,
          13.565923,
          15.249357,
          14.313099,
          12.79438,
          16.697609,
          15.756626
         ],
         "xaxis": "x",
         "y": [
          -4.5375323,
          -8.324109,
          -6.869802,
          -5.4190273,
          -9.07032,
          -6.641552,
          -7.9132304,
          -5.8362403,
          -10.00365
         ],
         "yaxis": "y"
        },
        {
         "hovertemplate": "<b>%{hovertext}</b><br><br>Cluster Label=28<br>Component 1=%{x}<br>Component 2=%{y}<extra></extra>",
         "hovertext": [
          "Alien",
          "The Thing",
          "Apocalypse Now",
          "Blade Runner",
          "The Shining",
          "Jaws",
          "Close Encounters of the Third Kind",
          "Jaws 2",
          "Aliens",
          "Every Which Way But Loose"
         ],
         "legendgroup": "28",
         "marker": {
          "color": "#FF6692",
          "symbol": "circle"
         },
         "mode": "markers",
         "name": "28",
         "orientation": "v",
         "showlegend": true,
         "type": "scatter",
         "x": [
          12.359574,
          11.716204,
          14.464705,
          9.908136,
          14.801275,
          12.892537,
          13.582233,
          12.3884325,
          11.625884,
          10.740875
         ],
         "xaxis": "x",
         "y": [
          17.490166,
          18.73233,
          17.134943,
          17.01642,
          19.009653,
          20.600597,
          21.357262,
          20.452429,
          17.688286,
          21.268562
         ],
         "yaxis": "y"
        },
        {
         "hovertemplate": "<b>%{hovertext}</b><br><br>Cluster Label=11<br>Component 1=%{x}<br>Component 2=%{y}<extra></extra>",
         "hovertext": [
          "Scream 2",
          "Fight Club",
          "Trainspotting",
          "Eraser",
          "The Rock",
          "Twister",
          "Independence Day",
          "The Day After Tomorrow",
          "Enemy of the State",
          "Scream",
          "American History X"
         ],
         "legendgroup": "11",
         "marker": {
          "color": "#B6E880",
          "symbol": "circle"
         },
         "mode": "markers",
         "name": "11",
         "orientation": "v",
         "showlegend": true,
         "type": "scatter",
         "x": [
          -8.97682,
          -7.734002,
          -9.303669,
          -5.786073,
          -8.200534,
          -6.935596,
          -11.750939,
          -12.148237,
          -5.2122083,
          -8.858273,
          -5.679212
         ],
         "xaxis": "x",
         "y": [
          7.876591,
          5.312489,
          10.350577,
          9.447558,
          10.163366,
          10.548278,
          10.423849,
          11.279151,
          6.733703,
          8.092384,
          6.428531
         ],
         "yaxis": "y"
        },
        {
         "hovertemplate": "<b>%{hovertext}</b><br><br>Cluster Label=22<br>Component 1=%{x}<br>Component 2=%{y}<extra></extra>",
         "hovertext": [
          "Jurassic Park",
          "The Shawshank Redemption",
          "Forrest Gump",
          "Twelve Monkeys",
          "Apollo 13",
          "Jurassic Park III",
          "Se7en",
          "Robin Hood: Prince of Thieves",
          "Indecent Proposal",
          "Schindler's List",
          "The Pelican Brief",
          "Speed",
          "Ed Wood",
          "Interview with the Vampire: The Vampire Chronicles",
          "The Lost World: Jurassic Park"
         ],
         "legendgroup": "22",
         "marker": {
          "color": "#FF97FF",
          "symbol": "circle"
         },
         "mode": "markers",
         "name": "22",
         "orientation": "v",
         "showlegend": true,
         "type": "scatter",
         "x": [
          -8.101054,
          -5.3188047,
          -6.7668734,
          -7.115628,
          -7.2566543,
          -8.425072,
          -6.185901,
          -7.216952,
          -4.670673,
          -5.8942766,
          -3.5107944,
          -3.7521434,
          -6.622234,
          -4.956371,
          -9.034702
         ],
         "xaxis": "x",
         "y": [
          22.182714,
          18.170858,
          26.194792,
          20.622965,
          26.91486,
          22.396029,
          19.03503,
          18.376976,
          26.078924,
          22.770428,
          22.682957,
          19.72998,
          25.215311,
          20.431639,
          21.665443
         ],
         "yaxis": "y"
        },
        {
         "hovertemplate": "<b>%{hovertext}</b><br><br>Cluster Label=31<br>Component 1=%{x}<br>Component 2=%{y}<extra></extra>",
         "hovertext": [
          "The African Queen",
          "Mr. Smith Goes to Washington",
          "Ben-Hur",
          "The Treasure of the Sierra Madre",
          "Lawrence of Arabia",
          "Doctor Zhivago",
          "Who's Afraid of Virginia Woolf?",
          "The Bridge on the River Kwai"
         ],
         "legendgroup": "31",
         "marker": {
          "color": "#FECB52",
          "symbol": "circle"
         },
         "mode": "markers",
         "name": "31",
         "orientation": "v",
         "showlegend": true,
         "type": "scatter",
         "x": [
          28.226152,
          22.179,
          25.077614,
          27.672451,
          23.771671,
          23.423233,
          28.289783,
          24.813217
         ],
         "xaxis": "x",
         "y": [
          3.4435549,
          5.8462276,
          5.1119494,
          3.7831597,
          2.664163,
          2.255724,
          2.1489177,
          3.7754834
         ],
         "yaxis": "y"
        },
        {
         "hovertemplate": "<b>%{hovertext}</b><br><br>Cluster Label=43<br>Component 1=%{x}<br>Component 2=%{y}<extra></extra>",
         "hovertext": [
          "Platoon",
          "Rush Hour 2",
          "Full Metal Jacket",
          "Rush Hour 3",
          "Beverly Hills Cop II",
          "Rush Hour",
          "Beverly Hills Cop",
          "Good Morning, Vietnam",
          "An Officer and a Gentleman",
          "Dick Tracy"
         ],
         "legendgroup": "43",
         "marker": {
          "color": "#636efa",
          "symbol": "circle"
         },
         "mode": "markers",
         "name": "43",
         "orientation": "v",
         "showlegend": true,
         "type": "scatter",
         "x": [
          -20.890333,
          -28.147146,
          -21.695189,
          -28.238766,
          -23.952242,
          -27.885574,
          -24.026617,
          -20.613823,
          -21.675371,
          -26.88705
         ],
         "xaxis": "x",
         "y": [
          7.1995893,
          11.264239,
          5.7139926,
          11.381055,
          8.134298,
          10.852058,
          8.123394,
          7.319962,
          8.542461,
          5.8792167
         ],
         "yaxis": "y"
        },
        {
         "hovertemplate": "<b>%{hovertext}</b><br><br>Cluster Label=6<br>Component 1=%{x}<br>Component 2=%{y}<extra></extra>",
         "hovertext": [
          "Four Christmases",
          "The Santa Clause 2",
          "A Christmas Carol",
          "How the Grinch Stole Christmas",
          "The Simpsons Movie",
          "The Nightmare Before Christmas",
          "Alvin and the Chipmunks",
          "The Santa Clause"
         ],
         "legendgroup": "6",
         "marker": {
          "color": "#EF553B",
          "symbol": "circle"
         },
         "mode": "markers",
         "name": "6",
         "orientation": "v",
         "showlegend": true,
         "type": "scatter",
         "x": [
          -22.434046,
          -21.590418,
          -21.640678,
          -21.462126,
          -17.818338,
          -21.000109,
          -18.398157,
          -21.68034
         ],
         "xaxis": "x",
         "y": [
          -26.80968,
          -24.031404,
          -26.958672,
          -26.462801,
          -26.02216,
          -27.929127,
          -23.614378,
          -24.092402
         ],
         "yaxis": "y"
        },
        {
         "hovertemplate": "<b>%{hovertext}</b><br><br>Cluster Label=9<br>Component 1=%{x}<br>Component 2=%{y}<extra></extra>",
         "hovertext": [
          "The Maltese Falcon",
          "The Italian Job",
          "The Sum of All Fears",
          "Gran Torino",
          "Eagle Eye",
          "In Bruges",
          "The Departed",
          "Slumdog Millionaire",
          "American Gangster",
          "Taken",
          "Hannibal",
          "Wanted"
         ],
         "legendgroup": "9",
         "marker": {
          "color": "#00cc96",
          "symbol": "circle"
         },
         "mode": "markers",
         "name": "9",
         "orientation": "v",
         "showlegend": true,
         "type": "scatter",
         "x": [
          8.287954,
          3.3439724,
          7.0975394,
          6.0491085,
          6.6821637,
          7.237403,
          3.53041,
          4.278896,
          4.675252,
          6.1966076,
          3.2288558,
          6.0356793
         ],
         "xaxis": "x",
         "y": [
          8.669476,
          9.081205,
          11.719644,
          8.891383,
          7.802181,
          5.6240044,
          9.440151,
          6.3964734,
          9.259464,
          6.0116563,
          7.850496,
          6.8225775
         ],
         "yaxis": "y"
        },
        {
         "hovertemplate": "<b>%{hovertext}</b><br><br>Cluster Label=27<br>Component 1=%{x}<br>Component 2=%{y}<extra></extra>",
         "hovertext": [
          "Dinosaur",
          "Spy Kids",
          "Ice Age: The Meltdown",
          "Talladega Nights: The Ballad of Ricky Bobby",
          "Ice Age",
          "Night at the Museum: Battle of the Smithsonian",
          "Spy Kids 3-D: Game Over",
          "Night at the Museum",
          "Ice Age: Dawn of the Dinosaurs"
         ],
         "legendgroup": "27",
         "marker": {
          "color": "#ab63fa",
          "symbol": "circle"
         },
         "mode": "markers",
         "name": "27",
         "orientation": "v",
         "showlegend": true,
         "type": "scatter",
         "x": [
          -12.08186,
          -16.035347,
          -14.455031,
          -18.0811,
          -14.506576,
          -11.75792,
          -16.024797,
          -11.828289,
          -12.842082
         ],
         "xaxis": "x",
         "y": [
          -28.484697,
          -32.56774,
          -28.824144,
          -29.613443,
          -28.871805,
          -31.801779,
          -32.557545,
          -31.722559,
          -28.786345
         ],
         "yaxis": "y"
        },
        {
         "hovertemplate": "<b>%{hovertext}</b><br><br>Cluster Label=58<br>Component 1=%{x}<br>Component 2=%{y}<extra></extra>",
         "hovertext": [
          "Spider-Man 2",
          "Spider-Man 3",
          "Transformers",
          "Iron Man",
          "Transformers: Revenge of the Fallen",
          "Spider-Man",
          "Hulk",
          "The Incredible Hulk",
          "Ghost Rider"
         ],
         "legendgroup": "58",
         "marker": {
          "color": "#FFA15A",
          "symbol": "circle"
         },
         "mode": "markers",
         "name": "58",
         "orientation": "v",
         "showlegend": true,
         "type": "scatter",
         "x": [
          8.414057,
          8.606807,
          10.70505,
          10.430019,
          10.758443,
          8.096937,
          9.173493,
          9.37238,
          7.981273
         ],
         "xaxis": "x",
         "y": [
          -8.3474,
          -8.060674,
          -6.15565,
          -3.6457272,
          -6.227286,
          -8.799332,
          -3.7425013,
          -3.7207177,
          -5.4966564
         ],
         "yaxis": "y"
        },
        {
         "hovertemplate": "<b>%{hovertext}</b><br><br>Cluster Label=24<br>Component 1=%{x}<br>Component 2=%{y}<extra></extra>",
         "hovertext": [
          "Dr. Strangelove or: How I Learned to Stop Worrying and Love the Bomb",
          "To Kill a Mockingbird",
          "The Manchurian Candidate",
          "Judgment at Nuremberg",
          "Cool Hand Luke",
          "The Graduate",
          "Kramer vs. Kramer",
          "12 Angry Men",
          "The Hustler"
         ],
         "legendgroup": "24",
         "marker": {
          "color": "#19d3f3",
          "symbol": "circle"
         },
         "mode": "markers",
         "name": "24",
         "orientation": "v",
         "showlegend": true,
         "type": "scatter",
         "x": [
          25.578812,
          29.275133,
          28.7506,
          29.099752,
          27.08402,
          26.027645,
          27.70558,
          30.82238,
          28.298183
         ],
         "xaxis": "x",
         "y": [
          17.94657,
          19.345886,
          18.421436,
          22.191631,
          21.00246,
          22.782707,
          23.695835,
          19.116045,
          21.300629
         ],
         "yaxis": "y"
        },
        {
         "hovertemplate": "<b>%{hovertext}</b><br><br>Cluster Label=54<br>Component 1=%{x}<br>Component 2=%{y}<extra></extra>",
         "hovertext": [
          "Bambi",
          "The Hunchback of Notre Dame",
          "Beauty and the Beast",
          "Pocahontas",
          "The Little Mermaid",
          "The Prince of Egypt",
          "Aladdin",
          "Mulan",
          "The Lion King"
         ],
         "legendgroup": "54",
         "marker": {
          "color": "#FF6692",
          "symbol": "circle"
         },
         "mode": "markers",
         "name": "54",
         "orientation": "v",
         "showlegend": true,
         "type": "scatter",
         "x": [
          -1.7660575,
          -7.3044953,
          -6.2836075,
          -6.1700053,
          -4.848509,
          -4.5549035,
          -4.3174863,
          -4.2994184,
          -5.589317
         ],
         "xaxis": "x",
         "y": [
          -25.409552,
          -29.38603,
          -27.345175,
          -29.06419,
          -29.522951,
          -25.761448,
          -28.718082,
          -25.279764,
          -27.09603
         ],
         "yaxis": "y"
        },
        {
         "hovertemplate": "<b>%{hovertext}</b><br><br>Cluster Label=33<br>Component 1=%{x}<br>Component 2=%{y}<extra></extra>",
         "hovertext": [
          "Modern Times",
          "The General",
          "All About Eve",
          "The Kid",
          "The Great Dictator",
          "Singin' in the Rain",
          "City Lights",
          "The Gold Rush",
          "Duck Soup",
          "High Noon"
         ],
         "legendgroup": "33",
         "marker": {
          "color": "#B6E880",
          "symbol": "circle"
         },
         "mode": "markers",
         "name": "33",
         "orientation": "v",
         "showlegend": true,
         "type": "scatter",
         "x": [
          35.487553,
          34.2961,
          36.702263,
          35.80129,
          35.611732,
          38.48343,
          36.13291,
          34.766365,
          37.71145,
          38.169647
         ],
         "xaxis": "x",
         "y": [
          -0.3087912,
          0.20566918,
          4.267475,
          -1.9262933,
          -1.1578819,
          3.0125499,
          -0.9792599,
          -1.3548785,
          0.8177582,
          3.6959522
         ],
         "yaxis": "y"
        },
        {
         "hovertemplate": "<b>%{hovertext}</b><br><br>Cluster Label=8<br>Component 1=%{x}<br>Component 2=%{y}<extra></extra>",
         "hovertext": [
          "Le salaire de la peur",
          "Les diaboliques",
          "Låt den rätte komma in",
          "Das Boot",
          "Das Leben der Anderen",
          "Der Untergang",
          "M",
          "All Quiet on the Western Front",
          "Metropolis"
         ],
         "legendgroup": "8",
         "marker": {
          "color": "#FF97FF",
          "symbol": "circle"
         },
         "mode": "markers",
         "name": "8",
         "orientation": "v",
         "showlegend": true,
         "type": "scatter",
         "x": [
          27.23051,
          27.490843,
          25.263308,
          28.275618,
          26.152826,
          28.05168,
          29.810852,
          29.650967,
          29.556257
         ],
         "xaxis": "x",
         "y": [
          -7.5082273,
          -7.3375454,
          -3.5356734,
          -4.0152698,
          -4.1147385,
          -4.3854957,
          -5.73363,
          -2.7957475,
          -5.444732
         ],
         "yaxis": "y"
        },
        {
         "hovertemplate": "<b>%{hovertext}</b><br><br>Cluster Label=45<br>Component 1=%{x}<br>Component 2=%{y}<extra></extra>",
         "hovertext": [
          "Smokey and the Bandit",
          "Charlie's Angels",
          "Snatch.",
          "Cast Away",
          "Lock, Stock and Two Smoking Barrels",
          "8 Mile",
          "Chicago",
          "Double Jeopardy",
          "Charlie's Angels: Full Throttle",
          "There's Something About Mary",
          "Analyze This",
          "Saving Private Ryan"
         ],
         "legendgroup": "45",
         "marker": {
          "color": "#FECB52",
          "symbol": "circle"
         },
         "mode": "markers",
         "name": "45",
         "orientation": "v",
         "showlegend": true,
         "type": "scatter",
         "x": [
          -12.239315,
          -6.533074,
          -9.403597,
          -6.8215165,
          -10.3150215,
          -12.325271,
          -11.787964,
          -9.446886,
          -6.368408,
          -8.052877,
          -10.34191,
          -6.9666085
         ],
         "xaxis": "x",
         "y": [
          3.5813324,
          -1.5173198,
          3.6707065,
          2.5566387,
          3.4537146,
          1.1523982,
          -0.0040002745,
          0.6956658,
          -1.5009933,
          -2.1792605,
          -0.055849634,
          1.7334826
         ],
         "yaxis": "y"
        }
       ],
       "layout": {
        "height": 600,
        "legend": {
         "title": {
          "text": "Cluster Label"
         },
         "tracegroupgap": 0
        },
        "template": {
         "data": {
          "bar": [
           {
            "error_x": {
             "color": "#2a3f5f"
            },
            "error_y": {
             "color": "#2a3f5f"
            },
            "marker": {
             "line": {
              "color": "#E5ECF6",
              "width": 0.5
             },
             "pattern": {
              "fillmode": "overlay",
              "size": 10,
              "solidity": 0.2
             }
            },
            "type": "bar"
           }
          ],
          "barpolar": [
           {
            "marker": {
             "line": {
              "color": "#E5ECF6",
              "width": 0.5
             },
             "pattern": {
              "fillmode": "overlay",
              "size": 10,
              "solidity": 0.2
             }
            },
            "type": "barpolar"
           }
          ],
          "carpet": [
           {
            "aaxis": {
             "endlinecolor": "#2a3f5f",
             "gridcolor": "white",
             "linecolor": "white",
             "minorgridcolor": "white",
             "startlinecolor": "#2a3f5f"
            },
            "baxis": {
             "endlinecolor": "#2a3f5f",
             "gridcolor": "white",
             "linecolor": "white",
             "minorgridcolor": "white",
             "startlinecolor": "#2a3f5f"
            },
            "type": "carpet"
           }
          ],
          "choropleth": [
           {
            "colorbar": {
             "outlinewidth": 0,
             "ticks": ""
            },
            "type": "choropleth"
           }
          ],
          "contour": [
           {
            "colorbar": {
             "outlinewidth": 0,
             "ticks": ""
            },
            "colorscale": [
             [
              0,
              "#0d0887"
             ],
             [
              0.1111111111111111,
              "#46039f"
             ],
             [
              0.2222222222222222,
              "#7201a8"
             ],
             [
              0.3333333333333333,
              "#9c179e"
             ],
             [
              0.4444444444444444,
              "#bd3786"
             ],
             [
              0.5555555555555556,
              "#d8576b"
             ],
             [
              0.6666666666666666,
              "#ed7953"
             ],
             [
              0.7777777777777778,
              "#fb9f3a"
             ],
             [
              0.8888888888888888,
              "#fdca26"
             ],
             [
              1,
              "#f0f921"
             ]
            ],
            "type": "contour"
           }
          ],
          "contourcarpet": [
           {
            "colorbar": {
             "outlinewidth": 0,
             "ticks": ""
            },
            "type": "contourcarpet"
           }
          ],
          "heatmap": [
           {
            "colorbar": {
             "outlinewidth": 0,
             "ticks": ""
            },
            "colorscale": [
             [
              0,
              "#0d0887"
             ],
             [
              0.1111111111111111,
              "#46039f"
             ],
             [
              0.2222222222222222,
              "#7201a8"
             ],
             [
              0.3333333333333333,
              "#9c179e"
             ],
             [
              0.4444444444444444,
              "#bd3786"
             ],
             [
              0.5555555555555556,
              "#d8576b"
             ],
             [
              0.6666666666666666,
              "#ed7953"
             ],
             [
              0.7777777777777778,
              "#fb9f3a"
             ],
             [
              0.8888888888888888,
              "#fdca26"
             ],
             [
              1,
              "#f0f921"
             ]
            ],
            "type": "heatmap"
           }
          ],
          "heatmapgl": [
           {
            "colorbar": {
             "outlinewidth": 0,
             "ticks": ""
            },
            "colorscale": [
             [
              0,
              "#0d0887"
             ],
             [
              0.1111111111111111,
              "#46039f"
             ],
             [
              0.2222222222222222,
              "#7201a8"
             ],
             [
              0.3333333333333333,
              "#9c179e"
             ],
             [
              0.4444444444444444,
              "#bd3786"
             ],
             [
              0.5555555555555556,
              "#d8576b"
             ],
             [
              0.6666666666666666,
              "#ed7953"
             ],
             [
              0.7777777777777778,
              "#fb9f3a"
             ],
             [
              0.8888888888888888,
              "#fdca26"
             ],
             [
              1,
              "#f0f921"
             ]
            ],
            "type": "heatmapgl"
           }
          ],
          "histogram": [
           {
            "marker": {
             "pattern": {
              "fillmode": "overlay",
              "size": 10,
              "solidity": 0.2
             }
            },
            "type": "histogram"
           }
          ],
          "histogram2d": [
           {
            "colorbar": {
             "outlinewidth": 0,
             "ticks": ""
            },
            "colorscale": [
             [
              0,
              "#0d0887"
             ],
             [
              0.1111111111111111,
              "#46039f"
             ],
             [
              0.2222222222222222,
              "#7201a8"
             ],
             [
              0.3333333333333333,
              "#9c179e"
             ],
             [
              0.4444444444444444,
              "#bd3786"
             ],
             [
              0.5555555555555556,
              "#d8576b"
             ],
             [
              0.6666666666666666,
              "#ed7953"
             ],
             [
              0.7777777777777778,
              "#fb9f3a"
             ],
             [
              0.8888888888888888,
              "#fdca26"
             ],
             [
              1,
              "#f0f921"
             ]
            ],
            "type": "histogram2d"
           }
          ],
          "histogram2dcontour": [
           {
            "colorbar": {
             "outlinewidth": 0,
             "ticks": ""
            },
            "colorscale": [
             [
              0,
              "#0d0887"
             ],
             [
              0.1111111111111111,
              "#46039f"
             ],
             [
              0.2222222222222222,
              "#7201a8"
             ],
             [
              0.3333333333333333,
              "#9c179e"
             ],
             [
              0.4444444444444444,
              "#bd3786"
             ],
             [
              0.5555555555555556,
              "#d8576b"
             ],
             [
              0.6666666666666666,
              "#ed7953"
             ],
             [
              0.7777777777777778,
              "#fb9f3a"
             ],
             [
              0.8888888888888888,
              "#fdca26"
             ],
             [
              1,
              "#f0f921"
             ]
            ],
            "type": "histogram2dcontour"
           }
          ],
          "mesh3d": [
           {
            "colorbar": {
             "outlinewidth": 0,
             "ticks": ""
            },
            "type": "mesh3d"
           }
          ],
          "parcoords": [
           {
            "line": {
             "colorbar": {
              "outlinewidth": 0,
              "ticks": ""
             }
            },
            "type": "parcoords"
           }
          ],
          "pie": [
           {
            "automargin": true,
            "type": "pie"
           }
          ],
          "scatter": [
           {
            "fillpattern": {
             "fillmode": "overlay",
             "size": 10,
             "solidity": 0.2
            },
            "type": "scatter"
           }
          ],
          "scatter3d": [
           {
            "line": {
             "colorbar": {
              "outlinewidth": 0,
              "ticks": ""
             }
            },
            "marker": {
             "colorbar": {
              "outlinewidth": 0,
              "ticks": ""
             }
            },
            "type": "scatter3d"
           }
          ],
          "scattercarpet": [
           {
            "marker": {
             "colorbar": {
              "outlinewidth": 0,
              "ticks": ""
             }
            },
            "type": "scattercarpet"
           }
          ],
          "scattergeo": [
           {
            "marker": {
             "colorbar": {
              "outlinewidth": 0,
              "ticks": ""
             }
            },
            "type": "scattergeo"
           }
          ],
          "scattergl": [
           {
            "marker": {
             "colorbar": {
              "outlinewidth": 0,
              "ticks": ""
             }
            },
            "type": "scattergl"
           }
          ],
          "scattermapbox": [
           {
            "marker": {
             "colorbar": {
              "outlinewidth": 0,
              "ticks": ""
             }
            },
            "type": "scattermapbox"
           }
          ],
          "scatterpolar": [
           {
            "marker": {
             "colorbar": {
              "outlinewidth": 0,
              "ticks": ""
             }
            },
            "type": "scatterpolar"
           }
          ],
          "scatterpolargl": [
           {
            "marker": {
             "colorbar": {
              "outlinewidth": 0,
              "ticks": ""
             }
            },
            "type": "scatterpolargl"
           }
          ],
          "scatterternary": [
           {
            "marker": {
             "colorbar": {
              "outlinewidth": 0,
              "ticks": ""
             }
            },
            "type": "scatterternary"
           }
          ],
          "surface": [
           {
            "colorbar": {
             "outlinewidth": 0,
             "ticks": ""
            },
            "colorscale": [
             [
              0,
              "#0d0887"
             ],
             [
              0.1111111111111111,
              "#46039f"
             ],
             [
              0.2222222222222222,
              "#7201a8"
             ],
             [
              0.3333333333333333,
              "#9c179e"
             ],
             [
              0.4444444444444444,
              "#bd3786"
             ],
             [
              0.5555555555555556,
              "#d8576b"
             ],
             [
              0.6666666666666666,
              "#ed7953"
             ],
             [
              0.7777777777777778,
              "#fb9f3a"
             ],
             [
              0.8888888888888888,
              "#fdca26"
             ],
             [
              1,
              "#f0f921"
             ]
            ],
            "type": "surface"
           }
          ],
          "table": [
           {
            "cells": {
             "fill": {
              "color": "#EBF0F8"
             },
             "line": {
              "color": "white"
             }
            },
            "header": {
             "fill": {
              "color": "#C8D4E3"
             },
             "line": {
              "color": "white"
             }
            },
            "type": "table"
           }
          ]
         },
         "layout": {
          "annotationdefaults": {
           "arrowcolor": "#2a3f5f",
           "arrowhead": 0,
           "arrowwidth": 1
          },
          "autotypenumbers": "strict",
          "coloraxis": {
           "colorbar": {
            "outlinewidth": 0,
            "ticks": ""
           }
          },
          "colorscale": {
           "diverging": [
            [
             0,
             "#8e0152"
            ],
            [
             0.1,
             "#c51b7d"
            ],
            [
             0.2,
             "#de77ae"
            ],
            [
             0.3,
             "#f1b6da"
            ],
            [
             0.4,
             "#fde0ef"
            ],
            [
             0.5,
             "#f7f7f7"
            ],
            [
             0.6,
             "#e6f5d0"
            ],
            [
             0.7,
             "#b8e186"
            ],
            [
             0.8,
             "#7fbc41"
            ],
            [
             0.9,
             "#4d9221"
            ],
            [
             1,
             "#276419"
            ]
           ],
           "sequential": [
            [
             0,
             "#0d0887"
            ],
            [
             0.1111111111111111,
             "#46039f"
            ],
            [
             0.2222222222222222,
             "#7201a8"
            ],
            [
             0.3333333333333333,
             "#9c179e"
            ],
            [
             0.4444444444444444,
             "#bd3786"
            ],
            [
             0.5555555555555556,
             "#d8576b"
            ],
            [
             0.6666666666666666,
             "#ed7953"
            ],
            [
             0.7777777777777778,
             "#fb9f3a"
            ],
            [
             0.8888888888888888,
             "#fdca26"
            ],
            [
             1,
             "#f0f921"
            ]
           ],
           "sequentialminus": [
            [
             0,
             "#0d0887"
            ],
            [
             0.1111111111111111,
             "#46039f"
            ],
            [
             0.2222222222222222,
             "#7201a8"
            ],
            [
             0.3333333333333333,
             "#9c179e"
            ],
            [
             0.4444444444444444,
             "#bd3786"
            ],
            [
             0.5555555555555556,
             "#d8576b"
            ],
            [
             0.6666666666666666,
             "#ed7953"
            ],
            [
             0.7777777777777778,
             "#fb9f3a"
            ],
            [
             0.8888888888888888,
             "#fdca26"
            ],
            [
             1,
             "#f0f921"
            ]
           ]
          },
          "colorway": [
           "#636efa",
           "#EF553B",
           "#00cc96",
           "#ab63fa",
           "#FFA15A",
           "#19d3f3",
           "#FF6692",
           "#B6E880",
           "#FF97FF",
           "#FECB52"
          ],
          "font": {
           "color": "#2a3f5f"
          },
          "geo": {
           "bgcolor": "white",
           "lakecolor": "white",
           "landcolor": "#E5ECF6",
           "showlakes": true,
           "showland": true,
           "subunitcolor": "white"
          },
          "hoverlabel": {
           "align": "left"
          },
          "hovermode": "closest",
          "mapbox": {
           "style": "light"
          },
          "paper_bgcolor": "white",
          "plot_bgcolor": "#E5ECF6",
          "polar": {
           "angularaxis": {
            "gridcolor": "white",
            "linecolor": "white",
            "ticks": ""
           },
           "bgcolor": "#E5ECF6",
           "radialaxis": {
            "gridcolor": "white",
            "linecolor": "white",
            "ticks": ""
           }
          },
          "scene": {
           "xaxis": {
            "backgroundcolor": "#E5ECF6",
            "gridcolor": "white",
            "gridwidth": 2,
            "linecolor": "white",
            "showbackground": true,
            "ticks": "",
            "zerolinecolor": "white"
           },
           "yaxis": {
            "backgroundcolor": "#E5ECF6",
            "gridcolor": "white",
            "gridwidth": 2,
            "linecolor": "white",
            "showbackground": true,
            "ticks": "",
            "zerolinecolor": "white"
           },
           "zaxis": {
            "backgroundcolor": "#E5ECF6",
            "gridcolor": "white",
            "gridwidth": 2,
            "linecolor": "white",
            "showbackground": true,
            "ticks": "",
            "zerolinecolor": "white"
           }
          },
          "shapedefaults": {
           "line": {
            "color": "#2a3f5f"
           }
          },
          "ternary": {
           "aaxis": {
            "gridcolor": "white",
            "linecolor": "white",
            "ticks": ""
           },
           "baxis": {
            "gridcolor": "white",
            "linecolor": "white",
            "ticks": ""
           },
           "bgcolor": "#E5ECF6",
           "caxis": {
            "gridcolor": "white",
            "linecolor": "white",
            "ticks": ""
           }
          },
          "title": {
           "x": 0.05
          },
          "xaxis": {
           "automargin": true,
           "gridcolor": "white",
           "linecolor": "white",
           "ticks": "",
           "title": {
            "standoff": 15
           },
           "zerolinecolor": "white",
           "zerolinewidth": 2
          },
          "yaxis": {
           "automargin": true,
           "gridcolor": "white",
           "linecolor": "white",
           "ticks": "",
           "title": {
            "standoff": 15
           },
           "zerolinecolor": "white",
           "zerolinewidth": 2
          }
         }
        },
        "title": {
         "text": "Movie Embeddings Visualized with t-SNE"
        },
        "width": 800,
        "xaxis": {
         "anchor": "y",
         "domain": [
          0,
          1
         ],
         "title": {
          "text": "Component 1"
         }
        },
        "yaxis": {
         "anchor": "x",
         "domain": [
          0,
          1
         ],
         "title": {
          "text": "Component 2"
         }
        }
       }
      }
     },
     "metadata": {},
     "output_type": "display_data"
    }
   ],
   "source": [
    "def plot_clusters_interactive(reduced_vectors, titles, cluster_labels, method='t-SNE'):\n",
    "    fig = px.scatter(\n",
    "        x=reduced_vectors[:, 0],\n",
    "        y=reduced_vectors[:, 1],\n",
    "        color=cluster_labels.astype(str),\n",
    "        hover_name=titles,\n",
    "        labels={'x': 'Component 1', 'y': 'Component 2', 'color': 'Cluster Label'},\n",
    "        title=f'Movie Embeddings Visualized with {method}'\n",
    "    )\n",
    "    fig.update_layout(width=800, height=600)\n",
    "    fig.show()\n",
    "\n",
    "# Plot the clusters interactively\n",
    "plot_clusters_interactive(reduced_vectors, titles, cluster_labels, method='t-SNE')"
   ]
  }
 ],
 "metadata": {
  "kernelspec": {
   "display_name": "Python 3",
   "language": "python",
   "name": "python3"
  },
  "language_info": {
   "codemirror_mode": {
    "name": "ipython",
    "version": 3
   },
   "file_extension": ".py",
   "mimetype": "text/x-python",
   "name": "python",
   "nbconvert_exporter": "python",
   "pygments_lexer": "ipython3",
   "version": "3.12.4"
  }
 },
 "nbformat": 4,
 "nbformat_minor": 2
}
