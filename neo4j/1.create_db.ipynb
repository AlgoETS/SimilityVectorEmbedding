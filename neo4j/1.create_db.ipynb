{
 "cells": [
  {
   "cell_type": "code",
   "execution_count": null,
   "metadata": {},
   "outputs": [],
   "source": [
    "!pip install neo4j pandas py2neo networkx matplotlib plotly"
   ]
  },
  {
   "cell_type": "code",
   "execution_count": null,
   "metadata": {},
   "outputs": [],
   "source": [
    "from neo4j import GraphDatabase\n",
    "import json\n",
    "from py2neo import Graph\n",
    "import networkx as nx\n",
    "import matplotlib.pyplot as plt\n",
    "import plotly.graph_objects as go\n",
    "import networkx as nx\n",
    "from py2neo import Graph"
   ]
  },
  {
   "cell_type": "code",
   "execution_count": null,
   "metadata": {},
   "outputs": [],
   "source": [
    "uri = \"neo4j://localhost/:7687\"\n",
    "user = \"neo4j\"\n",
    "password = \"password\""
   ]
  },
  {
   "cell_type": "code",
   "execution_count": null,
   "metadata": {},
   "outputs": [],
   "source": [
    "with open('personnes.json', 'r', encoding='utf-8') as file:\n",
    "    personnes_data = json.load(file)"
   ]
  },
  {
   "cell_type": "code",
   "execution_count": null,
   "metadata": {},
   "outputs": [],
   "source": [
    "with open('movies.json', 'r', encoding='utf-8') as file:\n",
    "    movies_data = json.load(file)"
   ]
  },
  {
   "cell_type": "code",
   "execution_count": null,
   "metadata": {},
   "outputs": [],
   "source": [
    "class Neo4jConnection:\n",
    "    def __init__(self, uri, user, password):\n",
    "        self._driver = GraphDatabase.driver(uri, auth=(user, password))\n",
    "\n",
    "    def close(self):\n",
    "        self._driver.close()\n",
    "\n",
    "    def query(self, query, parameters=None):\n",
    "        with self._driver.session() as session:\n",
    "            result = session.run(query, parameters)\n",
    "            return list(result)\n",
    "\n",
    "    def execute_write(self, func, *args, **kwargs):\n",
    "        with self._driver.session() as session:\n",
    "            return session.write_transaction(func, *args, **kwargs)"
   ]
  },
  {
   "cell_type": "code",
   "execution_count": null,
   "metadata": {},
   "outputs": [],
   "source": [
    "conn = Neo4jConnection(uri, user, password)"
   ]
  },
  {
   "cell_type": "code",
   "execution_count": null,
   "metadata": {},
   "outputs": [],
   "source": [
    "def create_person(tx, person):\n",
    "    tx.run(\n",
    "        \"\"\"\n",
    "        CREATE (p:Person {\n",
    "            name: $name,\n",
    "            birthday: $birthday,\n",
    "            birth_place: $birth_place,\n",
    "            bio: $bio,\n",
    "            id: $id\n",
    "        })\n",
    "        \"\"\",\n",
    "        name=person['nom'],\n",
    "        birthday=person.get('naissance', {}).get('anniversaire', ''),\n",
    "        birth_place=person.get('naissance', {}).get('lieu', ''),\n",
    "        bio=person.get('bio', ''),\n",
    "        id=person['_id']\n",
    "    )\n"
   ]
  },
  {
   "cell_type": "code",
   "execution_count": null,
   "metadata": {},
   "outputs": [],
   "source": [
    "def create_movie(tx, movie):\n",
    "    tx.run(\"\"\"\n",
    "    CREATE (m:Movie {\n",
    "        title: $title,\n",
    "        year: $year,\n",
    "        country: $country,\n",
    "        language: $language,\n",
    "        duration: $duration,\n",
    "        summary: $summary,\n",
    "        poster: $poster,\n",
    "        id: $id\n",
    "    })\n",
    "    \"\"\",\n",
    "    title=movie['titre'],\n",
    "    year=movie['annee'],\n",
    "    country=\", \".join(movie['pays']) if isinstance(movie['pays'], list) else movie['pays'],\n",
    "    language=movie.get('langue', ''),\n",
    "    duration=movie['duree'],\n",
    "    summary=movie['resume'],\n",
    "    poster=movie.get('poster', ''),\n",
    "    id=movie['_id'])\n",
    "\n",
    "    # Create relationships for genres\n",
    "    for genre in movie['genre']:\n",
    "        tx.run(\"\"\"\n",
    "        MATCH (m:Movie {id: $id})\n",
    "        MERGE (g:Genre {name: $genre})\n",
    "        MERGE (m)-[:HAS_GENRE]->(g)\n",
    "        \"\"\", id=movie['_id'], genre=genre)\n",
    "\n",
    "    # Create relationships for director\n",
    "    realisateur = movie.get('realisateur')\n",
    "    if realisateur:\n",
    "        tx.run(\"\"\"\n",
    "        MATCH (m:Movie {id: $id})\n",
    "        MERGE (d:Director {id: $director_id, name: $director_name})\n",
    "        MERGE (m)-[:DIRECTED_BY]->(d)\n",
    "        \"\"\", id=movie['_id'], director_id=realisateur['_id'], director_name=realisateur['__text'])\n",
    "\n",
    "    # Create relationships for writers\n",
    "    scenaristes = movie.get('scenariste', [])\n",
    "    if isinstance(scenaristes, list):\n",
    "        for writer in scenaristes:\n",
    "            tx.run(\"\"\"\n",
    "            MATCH (m:Movie {id: $id})\n",
    "            MERGE (w:Writer {name: $writer})\n",
    "            MERGE (m)-[:WRITTEN_BY]->(w)\n",
    "            \"\"\", id=movie['_id'], writer=writer)\n",
    "    elif isinstance(scenaristes, str):\n",
    "        tx.run(\"\"\"\n",
    "        MATCH (m:Movie {id: $id})\n",
    "        MERGE (w:Writer {name: $writer})\n",
    "        MERGE (m)-[:WRITTEN_BY]->(w)\n",
    "        \"\"\", id=movie['_id'], writer=scenaristes)\n",
    "\n",
    "    # Create relationships for roles\n",
    "    if 'role' in movie:\n",
    "        for role in movie['role']:\n",
    "            if isinstance(role, dict) and 'acteur' in role:\n",
    "                actor = role['acteur']\n",
    "                if isinstance(actor, dict):\n",
    "                    tx.run(\"\"\"\n",
    "                    MATCH (m:Movie {id: $id})\n",
    "                    MERGE (a:Actor {id: $actor_id, name: $actor_name})\n",
    "                    MERGE (m)-[:HAS_ROLE {character: $character}]->(a)\n",
    "                    \"\"\",\n",
    "                    id=movie['_id'],\n",
    "                    actor_id=actor.get('_id', ''),\n",
    "                    actor_name=actor.get('__text', ''),\n",
    "                    character=role['personnage'])\n",
    "                elif isinstance(actor, str):\n",
    "                    tx.run(\"\"\"\n",
    "                    MATCH (m:Movie {id: $id})\n",
    "                    MERGE (a:Actor {name: $actor_name})\n",
    "                    MERGE (m)-[:HAS_ROLE {character: $character}]->(a)\n",
    "                    \"\"\",\n",
    "                    id=movie['_id'],\n",
    "                    actor_name=actor,\n",
    "                    character=role['personnage'])"
   ]
  },
  {
   "cell_type": "code",
   "execution_count": null,
   "metadata": {},
   "outputs": [],
   "source": [
    "for person in personnes_data['personnes']['personne']:\n",
    "    conn.execute_write(create_person, person)"
   ]
  },
  {
   "cell_type": "code",
   "execution_count": null,
   "metadata": {},
   "outputs": [],
   "source": [
    "for movie in movies_data['films']['film']:\n",
    "    conn.execute_write(create_movie, movie)"
   ]
  },
  {
   "cell_type": "code",
   "execution_count": null,
   "metadata": {},
   "outputs": [],
   "source": [
    "def find_similar_movies(conn, movie_title, limit=10):\n",
    "    query = \"\"\"\n",
    "    MATCH (m:Movie {title: $title})\n",
    "    OPTIONAL MATCH (m)-[:HAS_GENRE]->(g:Genre)<-[:HAS_GENRE]-(similar:Movie)\n",
    "    OPTIONAL MATCH (m)-[:DIRECTED_BY]->(d:Director)<-[:DIRECTED_BY]-(similar:Movie)\n",
    "    OPTIONAL MATCH (m)-[:WRITTEN_BY]->(w:Writer)<-[:WRITTEN_BY]-(similar:Movie)\n",
    "    OPTIONAL MATCH (m)-[:HAS_ROLE]->(a:Actor)<-[:HAS_ROLE]-(similar:Movie)\n",
    "    WHERE m <> similar\n",
    "    RETURN similar.title AS title,\n",
    "           COUNT(DISTINCT g) AS shared_genres,\n",
    "           COUNT(DISTINCT d) AS shared_directors,\n",
    "           COUNT(DISTINCT w) AS shared_writers,\n",
    "           COUNT(DISTINCT a) AS shared_actors,\n",
    "           (COUNT(DISTINCT g) + COUNT(DISTINCT d) + COUNT(DISTINCT w) + COUNT(DISTINCT a)) AS similarity_score\n",
    "    ORDER BY similarity_score DESC, similar.title ASC\n",
    "    LIMIT $limit\n",
    "    \"\"\"\n",
    "    result = conn.query(query, parameters={\"title\": movie_title, \"limit\": limit})\n",
    "    return [record[\"title\"] for record in result]\n",
    "\n",
    "similar_movies = find_similar_movies(conn, \"The Incredibles\", 10)\n",
    "print(\"Similar movies:\", similar_movies)"
   ]
  },
  {
   "cell_type": "code",
   "execution_count": null,
   "metadata": {},
   "outputs": [],
   "source": [
    "graph = Graph(uri, auth=(user, password))\n",
    "def get_movie_graph(movie_title):\n",
    "    query = \"\"\"\n",
    "    MATCH (m:Movie {title: $title})\n",
    "    OPTIONAL MATCH (m)-[:HAS_GENRE]->(g:Genre)\n",
    "    OPTIONAL MATCH (m)-[:DIRECTED_BY]->(d:Director)\n",
    "    OPTIONAL MATCH (m)-[:WRITTEN_BY]->(w:Writer)\n",
    "    OPTIONAL MATCH (m)-[:HAS_ROLE]->(a:Actor)\n",
    "    RETURN m, COLLECT(DISTINCT g) AS genres, COLLECT(DISTINCT d) AS directors,\n",
    "           COLLECT(DISTINCT w) AS writers, COLLECT(DISTINCT a) AS actors\n",
    "    \"\"\"\n",
    "    result = graph.run(query, title=movie_title).data()\n",
    "\n",
    "    return result[0] if result else None\n",
    "\n",
    "def visualize_movie_graph(movie_title):\n",
    "    movie_data = get_movie_graph(movie_title)\n",
    "    if not movie_data:\n",
    "        print(f\"Movie '{movie_title}' not found.\")\n",
    "        return\n",
    "\n",
    "    G = nx.Graph()\n",
    "\n",
    "    movie_node = movie_data['m']['title']\n",
    "    G.add_node(movie_node, label='Movie')\n",
    "\n",
    "    for genre in movie_data['genres']:\n",
    "        if genre:\n",
    "            G.add_node(genre['name'], label='Genre')\n",
    "            G.add_edge(movie_node, genre['name'])\n",
    "\n",
    "    for director in movie_data['directors']:\n",
    "        if director:\n",
    "            G.add_node(director['name'], label='Director')\n",
    "            G.add_edge(movie_node, director['name'])\n",
    "\n",
    "    for writer in movie_data['writers']:\n",
    "        if writer:\n",
    "            G.add_node(writer['name'], label='Writer')\n",
    "            G.add_edge(movie_node, writer['name'])\n",
    "\n",
    "    for actor in movie_data['actors']:\n",
    "        if actor:\n",
    "            G.add_node(actor['name'], label='Actor')\n",
    "            G.add_edge(movie_node, actor['name'])\n",
    "\n",
    "    pos = nx.spring_layout(G, k=0.5)\n",
    "    labels = nx.get_node_attributes(G, 'label')\n",
    "    color_map = {\n",
    "        'Movie': 'blue',\n",
    "        'Genre': 'green',\n",
    "        'Director': 'red',\n",
    "        'Writer': 'purple',\n",
    "        'Actor': 'orange'\n",
    "    }\n",
    "    node_colors = [color_map[labels[node]] for node in G.nodes()]\n",
    "\n",
    "    plt.figure(figsize=(12, 8))\n",
    "    plt.gca().set_facecolor('#f0f0f0')\n",
    "    nx.draw(G, pos, with_labels=True, node_color=node_colors, node_size=3000, font_size=8, font_color='white', edge_color='#cccccc')\n",
    "    plt.title(f\"Graph of '{movie_title}' and its Relationships\", fontsize=15)\n",
    "    plt.show()\n",
    "\n",
    "# Visualize the graph for a specific movie\n",
    "visualize_movie_graph(\"The Incredibles\")"
   ]
  },
  {
   "cell_type": "code",
   "execution_count": 143,
   "metadata": {},
   "outputs": [],
   "source": [
    "def visualize_movies_relation(main_movie_title, similar_movies):\n",
    "    G = nx.Graph()\n",
    "\n",
    "    # Add main movie node and its relations\n",
    "    main_movie_data = get_movie_graph(main_movie_title)\n",
    "    if not main_movie_data:\n",
    "        print(f\"Movie '{main_movie_title}' not found.\")\n",
    "        return\n",
    "\n",
    "    main_movie_node = main_movie_data['m']['title']\n",
    "    G.add_node(main_movie_node, label='Movie')\n",
    "\n",
    "    for genre in main_movie_data['genres']:\n",
    "        if genre:\n",
    "            G.add_node(genre['name'], label='Genre')\n",
    "            G.add_edge(main_movie_node, genre['name'])\n",
    "\n",
    "    for director in main_movie_data['directors']:\n",
    "        if director:\n",
    "            G.add_node(director['name'], label='Director')\n",
    "            G.add_edge(main_movie_node, director['name'])\n",
    "\n",
    "    for writer in main_movie_data['writers']:\n",
    "        if writer:\n",
    "            G.add_node(writer['name'], label='Writer')\n",
    "            G.add_edge(main_movie_node, writer['name'])\n",
    "\n",
    "    for actor in main_movie_data['actors']:\n",
    "        if actor:\n",
    "            G.add_node(actor['name'], label='Actor')\n",
    "            G.add_edge(main_movie_node, actor['name'])\n",
    "\n",
    "    # Add similar movies nodes and their relations\n",
    "    for similar_movie in similar_movies:\n",
    "        similar_movie_data = get_movie_graph(similar_movie)\n",
    "        if not similar_movie_data:\n",
    "            continue\n",
    "\n",
    "        similar_movie_node = similar_movie_data['m']['title']\n",
    "        G.add_node(similar_movie_node, label='Movie')\n",
    "        G.add_edge(main_movie_node, similar_movie_node, label='Similar')\n",
    "\n",
    "        for genre in similar_movie_data['genres']:\n",
    "            if genre:\n",
    "                G.add_node(genre['name'], label='Genre')\n",
    "                G.add_edge(similar_movie_node, genre['name'])\n",
    "\n",
    "        for director in similar_movie_data['directors']:\n",
    "            if director:\n",
    "                G.add_node(director['name'], label='Director')\n",
    "                G.add_edge(similar_movie_node, director['name'])\n",
    "\n",
    "        for writer in similar_movie_data['writers']:\n",
    "            if writer:\n",
    "                G.add_node(writer['name'], label='Writer')\n",
    "                G.add_edge(similar_movie_node, writer['name'])\n",
    "\n",
    "        for actor in similar_movie_data['actors']:\n",
    "            if actor:\n",
    "                G.add_node(actor['name'], label='Actor')\n",
    "                G.add_edge(similar_movie_node, actor['name'])\n",
    "\n",
    "    # Calculate betweenness centrality\n",
    "    centrality = nx.betweenness_centrality(G)\n",
    "    most_central_element = max(centrality, key=centrality.get)\n",
    "\n",
    "    # Remove nodes node with centrality biggest make G2\n",
    "    G2 = G.copy()\n",
    "    G2.remove_node(most_central_element)\n",
    "\n",
    "    centrality = nx.betweenness_centrality(G2)\n",
    "    most_central_element = max(centrality, key=centrality.get)\n",
    "    print(f\"The most central element is '{most_central_element}' with a betweenness centrality of {centrality[most_central_element]}'\")\n",
    "\n",
    "    non_movie_centralities = {node: cent for node, cent in centrality.items() if G.nodes[node]['label'] != 'Movie'}\n",
    "    if non_movie_centralities:\n",
    "        most_central_non_movie_element = max(non_movie_centralities, key=non_movie_centralities.get)\n",
    "        print(f\"The most central element that is not a movie is '{most_central_non_movie_element}' with a betweenness centrality of {non_movie_centralities[most_central_non_movie_element]}'\")\n",
    "    else:\n",
    "        print(\"No non-movie elements found in the graph.\")\n",
    "\n",
    "\n",
    "    # Remove nodes not connected to any other movie node\n",
    "    nodes_to_remove = []\n",
    "    for node in G.nodes:\n",
    "        if G.degree(node) == 0:\n",
    "            nodes_to_remove.append(node)\n",
    "        if G.degree(node) == 1 and list(G.neighbors(node))[0] == main_movie_node:\n",
    "            nodes_to_remove.append(node)\n",
    "        # remove actor nodes with no connections\n",
    "        if G.nodes[node]['label'] == 'Actor' and G.degree(node) == 1:\n",
    "            nodes_to_remove.append(node)\n",
    "    G.remove_nodes_from(nodes_to_remove)\n",
    "\n",
    "    # Calculate node degrees\n",
    "    degrees = dict(G.degree())\n",
    "\n",
    "    pos = nx.spring_layout(G, k=0.5)\n",
    "    edge_trace = []\n",
    "    node_trace = go.Scatter(\n",
    "        x=[],\n",
    "        y=[],\n",
    "        text=[],\n",
    "        mode='markers+text',\n",
    "        hoverinfo='text',\n",
    "        textposition='top center',\n",
    "        marker=dict(\n",
    "            showscale=True,\n",
    "            colorscale='YlGnBu',\n",
    "            size=[],\n",
    "            color=[],\n",
    "            colorbar=dict(\n",
    "                thickness=15,\n",
    "                title='Node Connections',\n",
    "                xanchor='left',\n",
    "                titleside='right'\n",
    "            )\n",
    "        )\n",
    "    )\n",
    "\n",
    "    for node in G.nodes:\n",
    "        x, y = pos[node]\n",
    "        node_trace['x'] += (x,)\n",
    "        node_trace['y'] += (y,)\n",
    "        node_trace['text'] += (node,)\n",
    "        node_trace['marker']['size'] += (5 + degrees[node],)\n",
    "        node_trace['marker']['color'] += (degrees[node],)\n",
    "\n",
    "    for edge in G.edges:\n",
    "        x0, y0 = pos[edge[0]]\n",
    "        x1, y1 = pos[edge[1]]\n",
    "        edge_trace.append(\n",
    "            go.Scatter(\n",
    "                x=[x0, x1, None],\n",
    "                y=[y0, y1, None],\n",
    "                line=dict(width=0.5, color='#888'),\n",
    "                hoverinfo='none',\n",
    "                mode='lines'\n",
    "            )\n",
    "        )\n",
    "\n",
    "    fig = go.Figure(data=edge_trace + [node_trace],\n",
    "                    layout=go.Layout(\n",
    "                        title=f\"Graph of '{main_movie_title}' and Its Similar Movies\",\n",
    "                        titlefont_size=16,\n",
    "                        showlegend=False,\n",
    "                        hovermode='closest',\n",
    "                        margin=dict(b=20, l=5, r=5, t=40),\n",
    "                        annotations=[dict(\n",
    "                            text=\"Movie Relationships\",\n",
    "                            showarrow=False,\n",
    "                            xref=\"paper\", yref=\"paper\",\n",
    "                            x=0.005, y=-0.002\n",
    "                        )],\n",
    "                        xaxis=dict(showgrid=False, zeroline=False),\n",
    "                        yaxis=dict(showgrid=False, zeroline=False))\n",
    "                    )\n",
    "\n",
    "    fig.show()"
   ]
  },
  {
   "cell_type": "code",
   "execution_count": 149,
   "metadata": {},
   "outputs": [
    {
     "name": "stderr",
     "output_type": "stream",
     "text": [
      "C:\\Users\\antoi\\AppData\\Local\\Temp\\ipykernel_30376\\3981663121.py:9: DeprecationWarning:\n",
      "\n",
      "Using a driver after it has been closed is deprecated. Future versions of the driver will raise an error.\n",
      "\n"
     ]
    },
    {
     "name": "stdout",
     "output_type": "stream",
     "text": [
      "The most central element is 'Back to the Future Part II' with a betweenness centrality of 0.2210857179782109'\n",
      "The most central element that is not a movie is 'Family' with a betweenness centrality of 0.18788247234325423'\n"
     ]
    },
    {
     "data": {
      "application/vnd.plotly.v1+json": {
       "config": {
        "plotlyServerURL": "https://plot.ly"
       },
       "data": [
        {
         "hoverinfo": "none",
         "line": {
          "color": "#888",
          "width": 0.5
         },
         "mode": "lines",
         "type": "scatter",
         "x": [
          0.08211291990835824,
          -0.030980797114149715,
          null
         ],
         "y": [
          0.04769521907454238,
          0.052593526356442766,
          null
         ]
        },
        {
         "hoverinfo": "none",
         "line": {
          "color": "#888",
          "width": 0.5
         },
         "mode": "lines",
         "type": "scatter",
         "x": [
          0.08211291990835824,
          0.007766411177948559,
          null
         ],
         "y": [
          0.04769521907454238,
          -0.020985206878843296,
          null
         ]
        },
        {
         "hoverinfo": "none",
         "line": {
          "color": "#888",
          "width": 0.5
         },
         "mode": "lines",
         "type": "scatter",
         "x": [
          0.08211291990835824,
          0.283761180160232,
          null
         ],
         "y": [
          0.04769521907454238,
          -0.3208116417747481,
          null
         ]
        },
        {
         "hoverinfo": "none",
         "line": {
          "color": "#888",
          "width": 0.5
         },
         "mode": "lines",
         "type": "scatter",
         "x": [
          0.08211291990835824,
          -0.03822015092938792,
          null
         ],
         "y": [
          0.04769521907454238,
          -0.049467112664389905,
          null
         ]
        },
        {
         "hoverinfo": "none",
         "line": {
          "color": "#888",
          "width": 0.5
         },
         "mode": "lines",
         "type": "scatter",
         "x": [
          0.08211291990835824,
          0.06709982705144149,
          null
         ],
         "y": [
          0.04769521907454238,
          -0.025856985066197644,
          null
         ]
        },
        {
         "hoverinfo": "none",
         "line": {
          "color": "#888",
          "width": 0.5
         },
         "mode": "lines",
         "type": "scatter",
         "x": [
          0.08211291990835824,
          0.1415857673650587,
          null
         ],
         "y": [
          0.04769521907454238,
          0.33303315034427383,
          null
         ]
        },
        {
         "hoverinfo": "none",
         "line": {
          "color": "#888",
          "width": 0.5
         },
         "mode": "lines",
         "type": "scatter",
         "x": [
          0.08211291990835824,
          -0.02811281374282286,
          null
         ],
         "y": [
          0.04769521907454238,
          0.2630591497763363,
          null
         ]
        },
        {
         "hoverinfo": "none",
         "line": {
          "color": "#888",
          "width": 0.5
         },
         "mode": "lines",
         "type": "scatter",
         "x": [
          0.08211291990835824,
          0.24299592992455618,
          null
         ],
         "y": [
          0.04769521907454238,
          0.4368897311659613,
          null
         ]
        },
        {
         "hoverinfo": "none",
         "line": {
          "color": "#888",
          "width": 0.5
         },
         "mode": "lines",
         "type": "scatter",
         "x": [
          0.08211291990835824,
          0.08211291990835824,
          null
         ],
         "y": [
          0.04769521907454238,
          0.04769521907454238,
          null
         ]
        },
        {
         "hoverinfo": "none",
         "line": {
          "color": "#888",
          "width": 0.5
         },
         "mode": "lines",
         "type": "scatter",
         "x": [
          0.08211291990835824,
          -0.20496191277770162,
          null
         ],
         "y": [
          0.04769521907454238,
          0.1318153431986107,
          null
         ]
        },
        {
         "hoverinfo": "none",
         "line": {
          "color": "#888",
          "width": 0.5
         },
         "mode": "lines",
         "type": "scatter",
         "x": [
          0.08211291990835824,
          0.017301985564869567,
          null
         ],
         "y": [
          0.04769521907454238,
          -0.44994637395675996,
          null
         ]
        },
        {
         "hoverinfo": "none",
         "line": {
          "color": "#888",
          "width": 0.5
         },
         "mode": "lines",
         "type": "scatter",
         "x": [
          0.08211291990835824,
          0.3611877149522006,
          null
         ],
         "y": [
          0.04769521907454238,
          -0.16271498052293695,
          null
         ]
        },
        {
         "hoverinfo": "none",
         "line": {
          "color": "#888",
          "width": 0.5
         },
         "mode": "lines",
         "type": "scatter",
         "x": [
          0.08211291990835824,
          -0.03737473387385387,
          null
         ],
         "y": [
          0.04769521907454238,
          0.4610031409522999,
          null
         ]
        },
        {
         "hoverinfo": "none",
         "line": {
          "color": "#888",
          "width": 0.5
         },
         "mode": "lines",
         "type": "scatter",
         "x": [
          0.08211291990835824,
          -0.09183635646785306,
          null
         ],
         "y": [
          0.04769521907454238,
          0.46429414327437923,
          null
         ]
        },
        {
         "hoverinfo": "none",
         "line": {
          "color": "#888",
          "width": 0.5
         },
         "mode": "lines",
         "type": "scatter",
         "x": [
          0.08211291990835824,
          -0.26790138468862795,
          null
         ],
         "y": [
          0.04769521907454238,
          0.18610059994398515,
          null
         ]
        },
        {
         "hoverinfo": "none",
         "line": {
          "color": "#888",
          "width": 0.5
         },
         "mode": "lines",
         "type": "scatter",
         "x": [
          0.08211291990835824,
          0.26440880440845843,
          null
         ],
         "y": [
          0.04769521907454238,
          -0.4246964460325705,
          null
         ]
        },
        {
         "hoverinfo": "none",
         "line": {
          "color": "#888",
          "width": 0.5
         },
         "mode": "lines",
         "type": "scatter",
         "x": [
          0.08211291990835824,
          0.28556943221058173,
          null
         ],
         "y": [
          0.04769521907454238,
          -0.21501070731417116,
          null
         ]
        },
        {
         "hoverinfo": "none",
         "line": {
          "color": "#888",
          "width": 0.5
         },
         "mode": "lines",
         "type": "scatter",
         "x": [
          0.08211291990835824,
          -0.376728646480548,
          null
         ],
         "y": [
          0.04769521907454238,
          -0.026214697505652803,
          null
         ]
        },
        {
         "hoverinfo": "none",
         "line": {
          "color": "#888",
          "width": 0.5
         },
         "mode": "lines",
         "type": "scatter",
         "x": [
          -0.030980797114149715,
          -0.20496191277770162,
          null
         ],
         "y": [
          0.052593526356442766,
          0.1318153431986107,
          null
         ]
        },
        {
         "hoverinfo": "none",
         "line": {
          "color": "#888",
          "width": 0.5
         },
         "mode": "lines",
         "type": "scatter",
         "x": [
          -0.030980797114149715,
          0.017301985564869567,
          null
         ],
         "y": [
          0.052593526356442766,
          -0.44994637395675996,
          null
         ]
        },
        {
         "hoverinfo": "none",
         "line": {
          "color": "#888",
          "width": 0.5
         },
         "mode": "lines",
         "type": "scatter",
         "x": [
          -0.030980797114149715,
          0.3611877149522006,
          null
         ],
         "y": [
          0.052593526356442766,
          -0.16271498052293695,
          null
         ]
        },
        {
         "hoverinfo": "none",
         "line": {
          "color": "#888",
          "width": 0.5
         },
         "mode": "lines",
         "type": "scatter",
         "x": [
          -0.030980797114149715,
          -0.03737473387385387,
          null
         ],
         "y": [
          0.052593526356442766,
          0.4610031409522999,
          null
         ]
        },
        {
         "hoverinfo": "none",
         "line": {
          "color": "#888",
          "width": 0.5
         },
         "mode": "lines",
         "type": "scatter",
         "x": [
          -0.030980797114149715,
          -0.09183635646785306,
          null
         ],
         "y": [
          0.052593526356442766,
          0.46429414327437923,
          null
         ]
        },
        {
         "hoverinfo": "none",
         "line": {
          "color": "#888",
          "width": 0.5
         },
         "mode": "lines",
         "type": "scatter",
         "x": [
          -0.030980797114149715,
          -0.26790138468862795,
          null
         ],
         "y": [
          0.052593526356442766,
          0.18610059994398515,
          null
         ]
        },
        {
         "hoverinfo": "none",
         "line": {
          "color": "#888",
          "width": 0.5
         },
         "mode": "lines",
         "type": "scatter",
         "x": [
          -0.030980797114149715,
          0.28556943221058173,
          null
         ],
         "y": [
          0.052593526356442766,
          -0.21501070731417116,
          null
         ]
        },
        {
         "hoverinfo": "none",
         "line": {
          "color": "#888",
          "width": 0.5
         },
         "mode": "lines",
         "type": "scatter",
         "x": [
          -0.030980797114149715,
          -0.376728646480548,
          null
         ],
         "y": [
          0.052593526356442766,
          -0.026214697505652803,
          null
         ]
        },
        {
         "hoverinfo": "none",
         "line": {
          "color": "#888",
          "width": 0.5
         },
         "mode": "lines",
         "type": "scatter",
         "x": [
          0.007766411177948559,
          -0.20496191277770162,
          null
         ],
         "y": [
          -0.020985206878843296,
          0.1318153431986107,
          null
         ]
        },
        {
         "hoverinfo": "none",
         "line": {
          "color": "#888",
          "width": 0.5
         },
         "mode": "lines",
         "type": "scatter",
         "x": [
          0.007766411177948559,
          0.017301985564869567,
          null
         ],
         "y": [
          -0.020985206878843296,
          -0.44994637395675996,
          null
         ]
        },
        {
         "hoverinfo": "none",
         "line": {
          "color": "#888",
          "width": 0.5
         },
         "mode": "lines",
         "type": "scatter",
         "x": [
          0.007766411177948559,
          0.3611877149522006,
          null
         ],
         "y": [
          -0.020985206878843296,
          -0.16271498052293695,
          null
         ]
        },
        {
         "hoverinfo": "none",
         "line": {
          "color": "#888",
          "width": 0.5
         },
         "mode": "lines",
         "type": "scatter",
         "x": [
          0.007766411177948559,
          -0.03737473387385387,
          null
         ],
         "y": [
          -0.020985206878843296,
          0.4610031409522999,
          null
         ]
        },
        {
         "hoverinfo": "none",
         "line": {
          "color": "#888",
          "width": 0.5
         },
         "mode": "lines",
         "type": "scatter",
         "x": [
          0.007766411177948559,
          -0.09183635646785306,
          null
         ],
         "y": [
          -0.020985206878843296,
          0.46429414327437923,
          null
         ]
        },
        {
         "hoverinfo": "none",
         "line": {
          "color": "#888",
          "width": 0.5
         },
         "mode": "lines",
         "type": "scatter",
         "x": [
          0.007766411177948559,
          -0.26790138468862795,
          null
         ],
         "y": [
          -0.020985206878843296,
          0.18610059994398515,
          null
         ]
        },
        {
         "hoverinfo": "none",
         "line": {
          "color": "#888",
          "width": 0.5
         },
         "mode": "lines",
         "type": "scatter",
         "x": [
          0.007766411177948559,
          0.26440880440845843,
          null
         ],
         "y": [
          -0.020985206878843296,
          -0.4246964460325705,
          null
         ]
        },
        {
         "hoverinfo": "none",
         "line": {
          "color": "#888",
          "width": 0.5
         },
         "mode": "lines",
         "type": "scatter",
         "x": [
          0.007766411177948559,
          0.28556943221058173,
          null
         ],
         "y": [
          -0.020985206878843296,
          -0.21501070731417116,
          null
         ]
        },
        {
         "hoverinfo": "none",
         "line": {
          "color": "#888",
          "width": 0.5
         },
         "mode": "lines",
         "type": "scatter",
         "x": [
          0.007766411177948559,
          -0.376728646480548,
          null
         ],
         "y": [
          -0.020985206878843296,
          -0.026214697505652803,
          null
         ]
        },
        {
         "hoverinfo": "none",
         "line": {
          "color": "#888",
          "width": 0.5
         },
         "mode": "lines",
         "type": "scatter",
         "x": [
          0.283761180160232,
          0.017301985564869567,
          null
         ],
         "y": [
          -0.3208116417747481,
          -0.44994637395675996,
          null
         ]
        },
        {
         "hoverinfo": "none",
         "line": {
          "color": "#888",
          "width": 0.5
         },
         "mode": "lines",
         "type": "scatter",
         "x": [
          0.283761180160232,
          0.3611877149522006,
          null
         ],
         "y": [
          -0.3208116417747481,
          -0.16271498052293695,
          null
         ]
        },
        {
         "hoverinfo": "none",
         "line": {
          "color": "#888",
          "width": 0.5
         },
         "mode": "lines",
         "type": "scatter",
         "x": [
          0.283761180160232,
          0.26440880440845843,
          null
         ],
         "y": [
          -0.3208116417747481,
          -0.4246964460325705,
          null
         ]
        },
        {
         "hoverinfo": "none",
         "line": {
          "color": "#888",
          "width": 0.5
         },
         "mode": "lines",
         "type": "scatter",
         "x": [
          -0.03822015092938792,
          -0.20496191277770162,
          null
         ],
         "y": [
          -0.049467112664389905,
          0.1318153431986107,
          null
         ]
        },
        {
         "hoverinfo": "none",
         "line": {
          "color": "#888",
          "width": 0.5
         },
         "mode": "lines",
         "type": "scatter",
         "x": [
          -0.03822015092938792,
          0.017301985564869567,
          null
         ],
         "y": [
          -0.049467112664389905,
          -0.44994637395675996,
          null
         ]
        },
        {
         "hoverinfo": "none",
         "line": {
          "color": "#888",
          "width": 0.5
         },
         "mode": "lines",
         "type": "scatter",
         "x": [
          -0.03822015092938792,
          0.3611877149522006,
          null
         ],
         "y": [
          -0.049467112664389905,
          -0.16271498052293695,
          null
         ]
        },
        {
         "hoverinfo": "none",
         "line": {
          "color": "#888",
          "width": 0.5
         },
         "mode": "lines",
         "type": "scatter",
         "x": [
          -0.03822015092938792,
          -0.03737473387385387,
          null
         ],
         "y": [
          -0.049467112664389905,
          0.4610031409522999,
          null
         ]
        },
        {
         "hoverinfo": "none",
         "line": {
          "color": "#888",
          "width": 0.5
         },
         "mode": "lines",
         "type": "scatter",
         "x": [
          -0.03822015092938792,
          -0.09183635646785306,
          null
         ],
         "y": [
          -0.049467112664389905,
          0.46429414327437923,
          null
         ]
        },
        {
         "hoverinfo": "none",
         "line": {
          "color": "#888",
          "width": 0.5
         },
         "mode": "lines",
         "type": "scatter",
         "x": [
          -0.03822015092938792,
          -0.26790138468862795,
          null
         ],
         "y": [
          -0.049467112664389905,
          0.18610059994398515,
          null
         ]
        },
        {
         "hoverinfo": "none",
         "line": {
          "color": "#888",
          "width": 0.5
         },
         "mode": "lines",
         "type": "scatter",
         "x": [
          -0.03822015092938792,
          0.26440880440845843,
          null
         ],
         "y": [
          -0.049467112664389905,
          -0.4246964460325705,
          null
         ]
        },
        {
         "hoverinfo": "none",
         "line": {
          "color": "#888",
          "width": 0.5
         },
         "mode": "lines",
         "type": "scatter",
         "x": [
          -0.03822015092938792,
          0.28556943221058173,
          null
         ],
         "y": [
          -0.049467112664389905,
          -0.21501070731417116,
          null
         ]
        },
        {
         "hoverinfo": "none",
         "line": {
          "color": "#888",
          "width": 0.5
         },
         "mode": "lines",
         "type": "scatter",
         "x": [
          -0.03822015092938792,
          -0.376728646480548,
          null
         ],
         "y": [
          -0.049467112664389905,
          -0.026214697505652803,
          null
         ]
        },
        {
         "hoverinfo": "none",
         "line": {
          "color": "#888",
          "width": 0.5
         },
         "mode": "lines",
         "type": "scatter",
         "x": [
          0.06709982705144149,
          0.017301985564869567,
          null
         ],
         "y": [
          -0.025856985066197644,
          -0.44994637395675996,
          null
         ]
        },
        {
         "hoverinfo": "none",
         "line": {
          "color": "#888",
          "width": 0.5
         },
         "mode": "lines",
         "type": "scatter",
         "x": [
          0.06709982705144149,
          0.3611877149522006,
          null
         ],
         "y": [
          -0.025856985066197644,
          -0.16271498052293695,
          null
         ]
        },
        {
         "hoverinfo": "none",
         "line": {
          "color": "#888",
          "width": 0.5
         },
         "mode": "lines",
         "type": "scatter",
         "x": [
          0.06709982705144149,
          -0.03737473387385387,
          null
         ],
         "y": [
          -0.025856985066197644,
          0.4610031409522999,
          null
         ]
        },
        {
         "hoverinfo": "none",
         "line": {
          "color": "#888",
          "width": 0.5
         },
         "mode": "lines",
         "type": "scatter",
         "x": [
          0.06709982705144149,
          -0.09183635646785306,
          null
         ],
         "y": [
          -0.025856985066197644,
          0.46429414327437923,
          null
         ]
        },
        {
         "hoverinfo": "none",
         "line": {
          "color": "#888",
          "width": 0.5
         },
         "mode": "lines",
         "type": "scatter",
         "x": [
          0.06709982705144149,
          -0.26790138468862795,
          null
         ],
         "y": [
          -0.025856985066197644,
          0.18610059994398515,
          null
         ]
        },
        {
         "hoverinfo": "none",
         "line": {
          "color": "#888",
          "width": 0.5
         },
         "mode": "lines",
         "type": "scatter",
         "x": [
          0.06709982705144149,
          0.26440880440845843,
          null
         ],
         "y": [
          -0.025856985066197644,
          -0.4246964460325705,
          null
         ]
        },
        {
         "hoverinfo": "none",
         "line": {
          "color": "#888",
          "width": 0.5
         },
         "mode": "lines",
         "type": "scatter",
         "x": [
          0.06709982705144149,
          0.28556943221058173,
          null
         ],
         "y": [
          -0.025856985066197644,
          -0.21501070731417116,
          null
         ]
        },
        {
         "hoverinfo": "none",
         "line": {
          "color": "#888",
          "width": 0.5
         },
         "mode": "lines",
         "type": "scatter",
         "x": [
          0.06709982705144149,
          -0.376728646480548,
          null
         ],
         "y": [
          -0.025856985066197644,
          -0.026214697505652803,
          null
         ]
        },
        {
         "hoverinfo": "none",
         "line": {
          "color": "#888",
          "width": 0.5
         },
         "mode": "lines",
         "type": "scatter",
         "x": [
          0.1415857673650587,
          -0.20496191277770162,
          null
         ],
         "y": [
          0.33303315034427383,
          0.1318153431986107,
          null
         ]
        },
        {
         "hoverinfo": "none",
         "line": {
          "color": "#888",
          "width": 0.5
         },
         "mode": "lines",
         "type": "scatter",
         "x": [
          -0.02811281374282286,
          -0.20496191277770162,
          null
         ],
         "y": [
          0.2630591497763363,
          0.1318153431986107,
          null
         ]
        },
        {
         "hoverinfo": "none",
         "line": {
          "color": "#888",
          "width": 0.5
         },
         "mode": "lines",
         "type": "scatter",
         "x": [
          0.24299592992455618,
          -0.03737473387385387,
          null
         ],
         "y": [
          0.4368897311659613,
          0.4610031409522999,
          null
         ]
        },
        {
         "hoverinfo": "none",
         "line": {
          "color": "#888",
          "width": 0.5
         },
         "mode": "lines",
         "type": "scatter",
         "x": [
          0.24299592992455618,
          -0.09183635646785306,
          null
         ],
         "y": [
          0.4368897311659613,
          0.46429414327437923,
          null
         ]
        },
        {
         "hoverinfo": "none",
         "line": {
          "color": "#888",
          "width": 0.5
         },
         "mode": "lines",
         "type": "scatter",
         "x": [
          -0.20496191277770162,
          -0.3766437863794224,
          null
         ],
         "y": [
          0.1318153431986107,
          0.2908176336137127,
          null
         ]
        },
        {
         "hoverinfo": "none",
         "line": {
          "color": "#888",
          "width": 0.5
         },
         "mode": "lines",
         "type": "scatter",
         "x": [
          -0.20496191277770162,
          -0.5157681470591294,
          null
         ],
         "y": [
          0.1318153431986107,
          -0.24117065596382348,
          null
         ]
        },
        {
         "hoverinfo": "none",
         "line": {
          "color": "#888",
          "width": 0.5
         },
         "mode": "lines",
         "type": "scatter",
         "x": [
          -0.20496191277770162,
          -0.39118260497684537,
          null
         ],
         "y": [
          0.1318153431986107,
          0.48140211866782334,
          null
         ]
        },
        {
         "hoverinfo": "none",
         "line": {
          "color": "#888",
          "width": 0.5
         },
         "mode": "lines",
         "type": "scatter",
         "x": [
          -0.20496191277770162,
          -0.265654682401138,
          null
         ],
         "y": [
          0.1318153431986107,
          0.4131111797914829,
          null
         ]
        },
        {
         "hoverinfo": "none",
         "line": {
          "color": "#888",
          "width": 0.5
         },
         "mode": "lines",
         "type": "scatter",
         "x": [
          -0.3766437863794224,
          -0.03737473387385387,
          null
         ],
         "y": [
          0.2908176336137127,
          0.4610031409522999,
          null
         ]
        },
        {
         "hoverinfo": "none",
         "line": {
          "color": "#888",
          "width": 0.5
         },
         "mode": "lines",
         "type": "scatter",
         "x": [
          -0.3766437863794224,
          -0.09183635646785306,
          null
         ],
         "y": [
          0.2908176336137127,
          0.46429414327437923,
          null
         ]
        },
        {
         "hoverinfo": "none",
         "line": {
          "color": "#888",
          "width": 0.5
         },
         "mode": "lines",
         "type": "scatter",
         "x": [
          -0.3766437863794224,
          -0.376728646480548,
          null
         ],
         "y": [
          0.2908176336137127,
          -0.026214697505652803,
          null
         ]
        },
        {
         "hoverinfo": "none",
         "line": {
          "color": "#888",
          "width": 0.5
         },
         "mode": "lines",
         "type": "scatter",
         "x": [
          -0.39118260497684537,
          -0.26790138468862795,
          null
         ],
         "y": [
          0.48140211866782334,
          0.18610059994398515,
          null
         ]
        },
        {
         "hoverinfo": "none",
         "line": {
          "color": "#888",
          "width": 0.5
         },
         "mode": "lines",
         "type": "scatter",
         "x": [
          -0.265654682401138,
          -0.03737473387385387,
          null
         ],
         "y": [
          0.4131111797914829,
          0.4610031409522999,
          null
         ]
        },
        {
         "hoverinfo": "none",
         "line": {
          "color": "#888",
          "width": 0.5
         },
         "mode": "lines",
         "type": "scatter",
         "x": [
          -0.265654682401138,
          -0.09183635646785306,
          null
         ],
         "y": [
          0.4131111797914829,
          0.46429414327437923,
          null
         ]
        },
        {
         "hoverinfo": "none",
         "line": {
          "color": "#888",
          "width": 0.5
         },
         "mode": "lines",
         "type": "scatter",
         "x": [
          -0.265654682401138,
          -0.26790138468862795,
          null
         ],
         "y": [
          0.4131111797914829,
          0.18610059994398515,
          null
         ]
        },
        {
         "hoverinfo": "none",
         "line": {
          "color": "#888",
          "width": 0.5
         },
         "mode": "lines",
         "type": "scatter",
         "x": [
          0.017301985564869567,
          -0.3228228959648787,
          null
         ],
         "y": [
          -0.44994637395675996,
          -0.8301664449486184,
          null
         ]
        },
        {
         "hoverinfo": "none",
         "line": {
          "color": "#888",
          "width": 0.5
         },
         "mode": "lines",
         "type": "scatter",
         "x": [
          0.017301985564869567,
          -0.18097319624187932,
          null
         ],
         "y": [
          -0.44994637395675996,
          -0.9470124030569491,
          null
         ]
        },
        {
         "hoverinfo": "none",
         "line": {
          "color": "#888",
          "width": 0.5
         },
         "mode": "lines",
         "type": "scatter",
         "x": [
          0.017301985564869567,
          0.16894832582731076,
          null
         ],
         "y": [
          -0.44994637395675996,
          -0.9390874394398794,
          null
         ]
        },
        {
         "hoverinfo": "none",
         "line": {
          "color": "#888",
          "width": 0.5
         },
         "mode": "lines",
         "type": "scatter",
         "x": [
          0.017301985564869567,
          0.4026630678545403,
          null
         ],
         "y": [
          -0.44994637395675996,
          -0.8302311147340626,
          null
         ]
        },
        {
         "hoverinfo": "none",
         "line": {
          "color": "#888",
          "width": 0.5
         },
         "mode": "lines",
         "type": "scatter",
         "x": [
          0.017301985564869567,
          -0.0009267258666963152,
          null
         ],
         "y": [
          -0.44994637395675996,
          -0.20879854875167358,
          null
         ]
        },
        {
         "hoverinfo": "none",
         "line": {
          "color": "#888",
          "width": 0.5
         },
         "mode": "lines",
         "type": "scatter",
         "x": [
          -0.0009267258666963152,
          -0.26790138468862795,
          null
         ],
         "y": [
          -0.20879854875167358,
          0.18610059994398515,
          null
         ]
        },
        {
         "hoverinfo": "none",
         "line": {
          "color": "#888",
          "width": 0.5
         },
         "mode": "lines",
         "type": "scatter",
         "x": [
          0.3611877149522006,
          0.9185348811474392,
          null
         ],
         "y": [
          -0.16271498052293695,
          -0.25595688462608646,
          null
         ]
        },
        {
         "hoverinfo": "none",
         "line": {
          "color": "#888",
          "width": 0.5
         },
         "mode": "lines",
         "type": "scatter",
         "x": [
          0.3611877149522006,
          0.40466545358370903,
          null
         ],
         "y": [
          -0.16271498052293695,
          -0.6255266853244591,
          null
         ]
        },
        {
         "hoverinfo": "none",
         "line": {
          "color": "#888",
          "width": 0.5
         },
         "mode": "lines",
         "type": "scatter",
         "x": [
          0.3611877149522006,
          0.6238142416520769,
          null
         ],
         "y": [
          -0.16271498052293695,
          -0.3461802118866228,
          null
         ]
        },
        {
         "hoverinfo": "none",
         "line": {
          "color": "#888",
          "width": 0.5
         },
         "mode": "lines",
         "type": "scatter",
         "x": [
          0.6238142416520769,
          0.28556943221058173,
          null
         ],
         "y": [
          -0.3461802118866228,
          -0.21501070731417116,
          null
         ]
        },
        {
         "hoverinfo": "none",
         "line": {
          "color": "#888",
          "width": 0.5
         },
         "mode": "lines",
         "type": "scatter",
         "x": [
          -0.03737473387385387,
          -0.23355375532779757,
          null
         ],
         "y": [
          0.4610031409522999,
          0.6245733093720807,
          null
         ]
        },
        {
         "hoverinfo": "none",
         "line": {
          "color": "#888",
          "width": 0.5
         },
         "mode": "lines",
         "type": "scatter",
         "x": [
          -0.03737473387385387,
          0.23014446188129,
          null
         ],
         "y": [
          0.4610031409522999,
          0.7467411123925813,
          null
         ]
        },
        {
         "hoverinfo": "none",
         "line": {
          "color": "#888",
          "width": 0.5
         },
         "mode": "lines",
         "type": "scatter",
         "x": [
          -0.03737473387385387,
          -0.2219870588262237,
          null
         ],
         "y": [
          0.4610031409522999,
          0.8516062475853757,
          null
         ]
        },
        {
         "hoverinfo": "none",
         "line": {
          "color": "#888",
          "width": 0.5
         },
         "mode": "lines",
         "type": "scatter",
         "x": [
          -0.03737473387385387,
          -0.1003600080616274,
          null
         ],
         "y": [
          0.4610031409522999,
          0.8745834125394112,
          null
         ]
        },
        {
         "hoverinfo": "none",
         "line": {
          "color": "#888",
          "width": 0.5
         },
         "mode": "lines",
         "type": "scatter",
         "x": [
          -0.03737473387385387,
          0.012132404624320482,
          null
         ],
         "y": [
          0.4610031409522999,
          0.86687672436919,
          null
         ]
        },
        {
         "hoverinfo": "none",
         "line": {
          "color": "#888",
          "width": 0.5
         },
         "mode": "lines",
         "type": "scatter",
         "x": [
          -0.03737473387385387,
          0.26834873003952825,
          null
         ],
         "y": [
          0.4610031409522999,
          0.6481294172367575,
          null
         ]
        },
        {
         "hoverinfo": "none",
         "line": {
          "color": "#888",
          "width": 0.5
         },
         "mode": "lines",
         "type": "scatter",
         "x": [
          -0.03737473387385387,
          -0.427507123328446,
          null
         ],
         "y": [
          0.4610031409522999,
          0.6380137873858311,
          null
         ]
        },
        {
         "hoverinfo": "none",
         "line": {
          "color": "#888",
          "width": 0.5
         },
         "mode": "lines",
         "type": "scatter",
         "x": [
          -0.03737473387385387,
          0.11487960314221429,
          null
         ],
         "y": [
          0.4610031409522999,
          0.8242043043066825,
          null
         ]
        },
        {
         "hoverinfo": "none",
         "line": {
          "color": "#888",
          "width": 0.5
         },
         "mode": "lines",
         "type": "scatter",
         "x": [
          -0.03737473387385387,
          -0.4570055286334624,
          null
         ],
         "y": [
          0.4610031409522999,
          0.5282351873996081,
          null
         ]
        },
        {
         "hoverinfo": "none",
         "line": {
          "color": "#888",
          "width": 0.5
         },
         "mode": "lines",
         "type": "scatter",
         "x": [
          -0.23355375532779757,
          -0.09183635646785306,
          null
         ],
         "y": [
          0.6245733093720807,
          0.46429414327437923,
          null
         ]
        },
        {
         "hoverinfo": "none",
         "line": {
          "color": "#888",
          "width": 0.5
         },
         "mode": "lines",
         "type": "scatter",
         "x": [
          -0.23355375532779757,
          -0.26790138468862795,
          null
         ],
         "y": [
          0.6245733093720807,
          0.18610059994398515,
          null
         ]
        },
        {
         "hoverinfo": "none",
         "line": {
          "color": "#888",
          "width": 0.5
         },
         "mode": "lines",
         "type": "scatter",
         "x": [
          0.23014446188129,
          -0.09183635646785306,
          null
         ],
         "y": [
          0.7467411123925813,
          0.46429414327437923,
          null
         ]
        },
        {
         "hoverinfo": "none",
         "line": {
          "color": "#888",
          "width": 0.5
         },
         "mode": "lines",
         "type": "scatter",
         "x": [
          -0.2219870588262237,
          -0.09183635646785306,
          null
         ],
         "y": [
          0.8516062475853757,
          0.46429414327437923,
          null
         ]
        },
        {
         "hoverinfo": "none",
         "line": {
          "color": "#888",
          "width": 0.5
         },
         "mode": "lines",
         "type": "scatter",
         "x": [
          -0.1003600080616274,
          -0.09183635646785306,
          null
         ],
         "y": [
          0.8745834125394112,
          0.46429414327437923,
          null
         ]
        },
        {
         "hoverinfo": "none",
         "line": {
          "color": "#888",
          "width": 0.5
         },
         "mode": "lines",
         "type": "scatter",
         "x": [
          0.012132404624320482,
          -0.09183635646785306,
          null
         ],
         "y": [
          0.86687672436919,
          0.46429414327437923,
          null
         ]
        },
        {
         "hoverinfo": "none",
         "line": {
          "color": "#888",
          "width": 0.5
         },
         "mode": "lines",
         "type": "scatter",
         "x": [
          0.26834873003952825,
          -0.09183635646785306,
          null
         ],
         "y": [
          0.6481294172367575,
          0.46429414327437923,
          null
         ]
        },
        {
         "hoverinfo": "none",
         "line": {
          "color": "#888",
          "width": 0.5
         },
         "mode": "lines",
         "type": "scatter",
         "x": [
          -0.427507123328446,
          -0.09183635646785306,
          null
         ],
         "y": [
          0.6380137873858311,
          0.46429414327437923,
          null
         ]
        },
        {
         "hoverinfo": "none",
         "line": {
          "color": "#888",
          "width": 0.5
         },
         "mode": "lines",
         "type": "scatter",
         "x": [
          0.11487960314221429,
          -0.09183635646785306,
          null
         ],
         "y": [
          0.8242043043066825,
          0.46429414327437923,
          null
         ]
        },
        {
         "hoverinfo": "none",
         "line": {
          "color": "#888",
          "width": 0.5
         },
         "mode": "lines",
         "type": "scatter",
         "x": [
          -0.4570055286334624,
          -0.09183635646785306,
          null
         ],
         "y": [
          0.5282351873996081,
          0.46429414327437923,
          null
         ]
        },
        {
         "hoverinfo": "none",
         "line": {
          "color": "#888",
          "width": 0.5
         },
         "mode": "lines",
         "type": "scatter",
         "x": [
          -0.09183635646785306,
          -0.5687830610513798,
          null
         ],
         "y": [
          0.46429414327437923,
          0.5394838877053789,
          null
         ]
        },
        {
         "hoverinfo": "none",
         "line": {
          "color": "#888",
          "width": 0.5
         },
         "mode": "lines",
         "type": "scatter",
         "x": [
          -0.5687830610513798,
          -0.26790138468862795,
          null
         ],
         "y": [
          0.5394838877053789,
          0.18610059994398515,
          null
         ]
        },
        {
         "hoverinfo": "none",
         "line": {
          "color": "#888",
          "width": 0.5
         },
         "mode": "lines",
         "type": "scatter",
         "x": [
          -0.26790138468862795,
          -0.769861194889803,
          null
         ],
         "y": [
          0.18610059994398515,
          0.15732726649005277,
          null
         ]
        },
        {
         "hoverinfo": "none",
         "line": {
          "color": "#888",
          "width": 0.5
         },
         "mode": "lines",
         "type": "scatter",
         "x": [
          0.26440880440845843,
          0.6953268078651584,
          null
         ],
         "y": [
          -0.4246964460325705,
          -0.143131836454318,
          null
         ]
        },
        {
         "hoverinfo": "none",
         "line": {
          "color": "#888",
          "width": 0.5
         },
         "mode": "lines",
         "type": "scatter",
         "x": [
          0.26440880440845843,
          0.03598292496723558,
          null
         ],
         "y": [
          -0.4246964460325705,
          -0.8494874032153114,
          null
         ]
        },
        {
         "hoverinfo": "none",
         "line": {
          "color": "#888",
          "width": 0.5
         },
         "mode": "lines",
         "type": "scatter",
         "x": [
          0.26440880440845843,
          0.3304283573036452,
          null
         ],
         "y": [
          -0.4246964460325705,
          -1,
          null
         ]
        },
        {
         "hoverinfo": "none",
         "line": {
          "color": "#888",
          "width": 0.5
         },
         "mode": "lines",
         "type": "scatter",
         "x": [
          0.26440880440845843,
          0.6811561631272286,
          null
         ],
         "y": [
          -0.4246964460325705,
          -0.7827775591552045,
          null
         ]
        },
        {
         "hoverinfo": "none",
         "line": {
          "color": "#888",
          "width": 0.5
         },
         "mode": "lines",
         "type": "scatter",
         "x": [
          0.28556943221058173,
          0.7874007718901395,
          null
         ],
         "y": [
          -0.21501070731417116,
          -0.3437501440414537,
          null
         ]
        },
        {
         "hoverinfo": "none",
         "line": {
          "color": "#888",
          "width": 0.5
         },
         "mode": "lines",
         "type": "scatter",
         "x": [
          0.28556943221058173,
          0.2559341331448503,
          null
         ],
         "y": [
          -0.21501070731417116,
          -0.6868356654552971,
          null
         ]
        },
        {
         "hoverinfo": "none",
         "line": {
          "color": "#888",
          "width": 0.5
         },
         "mode": "lines",
         "type": "scatter",
         "x": [
          -0.376728646480548,
          -0.9155809443104552,
          null
         ],
         "y": [
          -0.026214697505652803,
          0.10781505762033165,
          null
         ]
        },
        {
         "hoverinfo": "none",
         "line": {
          "color": "#888",
          "width": 0.5
         },
         "mode": "lines",
         "type": "scatter",
         "x": [
          -0.376728646480548,
          -0.8594227913802663,
          null
         ],
         "y": [
          -0.026214697505652803,
          -0.24358750179310112,
          null
         ]
        },
        {
         "hoverinfo": "text",
         "marker": {
          "color": [
           19,
           9,
           10,
           4,
           10,
           9,
           2,
           2,
           3,
           10,
           4,
           1,
           2,
           4,
           11,
           1,
           1,
           1,
           1,
           2,
           9,
           1,
           1,
           2,
           17,
           3,
           2,
           2,
           2,
           2,
           2,
           2,
           2,
           2,
           18,
           2,
           11,
           1,
           9,
           1,
           1,
           1,
           1,
           8,
           1,
           1,
           8,
           1,
           1
          ],
          "colorbar": {
           "thickness": 15,
           "title": {
            "side": "right",
            "text": "Node Connections"
           },
           "xanchor": "left"
          },
          "colorscale": [
           [
            0,
            "rgb(255,255,217)"
           ],
           [
            0.125,
            "rgb(237,248,177)"
           ],
           [
            0.25,
            "rgb(199,233,180)"
           ],
           [
            0.375,
            "rgb(127,205,187)"
           ],
           [
            0.5,
            "rgb(65,182,196)"
           ],
           [
            0.625,
            "rgb(29,145,192)"
           ],
           [
            0.75,
            "rgb(34,94,168)"
           ],
           [
            0.875,
            "rgb(37,52,148)"
           ],
           [
            1,
            "rgb(8,29,88)"
           ]
          ],
          "showscale": true,
          "size": [
           24,
           14,
           15,
           9,
           15,
           14,
           7,
           7,
           8,
           15,
           9,
           6,
           7,
           9,
           16,
           6,
           6,
           6,
           6,
           7,
           14,
           6,
           6,
           7,
           22,
           8,
           7,
           7,
           7,
           7,
           7,
           7,
           7,
           7,
           23,
           7,
           16,
           6,
           14,
           6,
           6,
           6,
           6,
           13,
           6,
           6,
           13,
           6,
           6
          ]
         },
         "mode": "markers+text",
         "text": [
          "The Incredibles",
          "Animation",
          "Family",
          "Action",
          "Comedy",
          "Adventure",
          "Brad Bird",
          "Lou Romano",
          "Wallace Shawn",
          "Ratatouille",
          "Fantasy",
          "Jan Pinkava",
          "Brad Garrett",
          "John Ratzenberger",
          "Ice Age: Dawn of the Dinosaurs",
          "Romance",
          "Carlos Saldanha",
          "Peter Ackerman",
          "Michael Berg",
          "Denis Leary",
          "Madagascar: Escape 2 Africa",
          "Eric Darnell",
          "Etan Cohen",
          "Chris Rock",
          "Toy Story",
          "John Lasseter",
          "Pete Docter",
          "Laurie Metcalf",
          "John Morris",
          "Tim Allen",
          "Don Rickles",
          "Jim Varney",
          "Annie Potts",
          "Tom Hanks",
          "Toy Story 2",
          "Joe Ranft",
          "A Bug's Life",
          "Andrew Stanton",
          "Back to the Future Part II",
          "Sci-Fi",
          "Thriller",
          "Robert Zemeckis",
          "Bob Gale",
          "Bee Movie",
          "Steve Hickner",
          "Spike Feresten",
          "Bolt",
          "Byron Howard",
          "Chris Williams"
         ],
         "textposition": "top center",
         "type": "scatter",
         "x": [
          0.08211291990835824,
          -0.030980797114149715,
          0.007766411177948559,
          0.283761180160232,
          -0.03822015092938792,
          0.06709982705144149,
          0.1415857673650587,
          -0.02811281374282286,
          0.24299592992455618,
          -0.20496191277770162,
          -0.3766437863794224,
          -0.5157681470591294,
          -0.39118260497684537,
          -0.265654682401138,
          0.017301985564869567,
          -0.3228228959648787,
          -0.18097319624187932,
          0.16894832582731076,
          0.4026630678545403,
          -0.0009267258666963152,
          0.3611877149522006,
          0.9185348811474392,
          0.40466545358370903,
          0.6238142416520769,
          -0.03737473387385387,
          -0.23355375532779757,
          0.23014446188129,
          -0.2219870588262237,
          -0.1003600080616274,
          0.012132404624320482,
          0.26834873003952825,
          -0.427507123328446,
          0.11487960314221429,
          -0.4570055286334624,
          -0.09183635646785306,
          -0.5687830610513798,
          -0.26790138468862795,
          -0.769861194889803,
          0.26440880440845843,
          0.6953268078651584,
          0.03598292496723558,
          0.3304283573036452,
          0.6811561631272286,
          0.28556943221058173,
          0.7874007718901395,
          0.2559341331448503,
          -0.376728646480548,
          -0.9155809443104552,
          -0.8594227913802663
         ],
         "y": [
          0.04769521907454238,
          0.052593526356442766,
          -0.020985206878843296,
          -0.3208116417747481,
          -0.049467112664389905,
          -0.025856985066197644,
          0.33303315034427383,
          0.2630591497763363,
          0.4368897311659613,
          0.1318153431986107,
          0.2908176336137127,
          -0.24117065596382348,
          0.48140211866782334,
          0.4131111797914829,
          -0.44994637395675996,
          -0.8301664449486184,
          -0.9470124030569491,
          -0.9390874394398794,
          -0.8302311147340626,
          -0.20879854875167358,
          -0.16271498052293695,
          -0.25595688462608646,
          -0.6255266853244591,
          -0.3461802118866228,
          0.4610031409522999,
          0.6245733093720807,
          0.7467411123925813,
          0.8516062475853757,
          0.8745834125394112,
          0.86687672436919,
          0.6481294172367575,
          0.6380137873858311,
          0.8242043043066825,
          0.5282351873996081,
          0.46429414327437923,
          0.5394838877053789,
          0.18610059994398515,
          0.15732726649005277,
          -0.4246964460325705,
          -0.143131836454318,
          -0.8494874032153114,
          -1,
          -0.7827775591552045,
          -0.21501070731417116,
          -0.3437501440414537,
          -0.6868356654552971,
          -0.026214697505652803,
          0.10781505762033165,
          -0.24358750179310112
         ]
        }
       ],
       "layout": {
        "annotations": [
         {
          "showarrow": false,
          "text": "Movie Relationships",
          "x": 0.005,
          "xref": "paper",
          "y": -0.002,
          "yref": "paper"
         }
        ],
        "hovermode": "closest",
        "margin": {
         "b": 20,
         "l": 5,
         "r": 5,
         "t": 40
        },
        "showlegend": false,
        "template": {
         "data": {
          "bar": [
           {
            "error_x": {
             "color": "#2a3f5f"
            },
            "error_y": {
             "color": "#2a3f5f"
            },
            "marker": {
             "line": {
              "color": "#E5ECF6",
              "width": 0.5
             },
             "pattern": {
              "fillmode": "overlay",
              "size": 10,
              "solidity": 0.2
             }
            },
            "type": "bar"
           }
          ],
          "barpolar": [
           {
            "marker": {
             "line": {
              "color": "#E5ECF6",
              "width": 0.5
             },
             "pattern": {
              "fillmode": "overlay",
              "size": 10,
              "solidity": 0.2
             }
            },
            "type": "barpolar"
           }
          ],
          "carpet": [
           {
            "aaxis": {
             "endlinecolor": "#2a3f5f",
             "gridcolor": "white",
             "linecolor": "white",
             "minorgridcolor": "white",
             "startlinecolor": "#2a3f5f"
            },
            "baxis": {
             "endlinecolor": "#2a3f5f",
             "gridcolor": "white",
             "linecolor": "white",
             "minorgridcolor": "white",
             "startlinecolor": "#2a3f5f"
            },
            "type": "carpet"
           }
          ],
          "choropleth": [
           {
            "colorbar": {
             "outlinewidth": 0,
             "ticks": ""
            },
            "type": "choropleth"
           }
          ],
          "contour": [
           {
            "colorbar": {
             "outlinewidth": 0,
             "ticks": ""
            },
            "colorscale": [
             [
              0,
              "#0d0887"
             ],
             [
              0.1111111111111111,
              "#46039f"
             ],
             [
              0.2222222222222222,
              "#7201a8"
             ],
             [
              0.3333333333333333,
              "#9c179e"
             ],
             [
              0.4444444444444444,
              "#bd3786"
             ],
             [
              0.5555555555555556,
              "#d8576b"
             ],
             [
              0.6666666666666666,
              "#ed7953"
             ],
             [
              0.7777777777777778,
              "#fb9f3a"
             ],
             [
              0.8888888888888888,
              "#fdca26"
             ],
             [
              1,
              "#f0f921"
             ]
            ],
            "type": "contour"
           }
          ],
          "contourcarpet": [
           {
            "colorbar": {
             "outlinewidth": 0,
             "ticks": ""
            },
            "type": "contourcarpet"
           }
          ],
          "heatmap": [
           {
            "colorbar": {
             "outlinewidth": 0,
             "ticks": ""
            },
            "colorscale": [
             [
              0,
              "#0d0887"
             ],
             [
              0.1111111111111111,
              "#46039f"
             ],
             [
              0.2222222222222222,
              "#7201a8"
             ],
             [
              0.3333333333333333,
              "#9c179e"
             ],
             [
              0.4444444444444444,
              "#bd3786"
             ],
             [
              0.5555555555555556,
              "#d8576b"
             ],
             [
              0.6666666666666666,
              "#ed7953"
             ],
             [
              0.7777777777777778,
              "#fb9f3a"
             ],
             [
              0.8888888888888888,
              "#fdca26"
             ],
             [
              1,
              "#f0f921"
             ]
            ],
            "type": "heatmap"
           }
          ],
          "heatmapgl": [
           {
            "colorbar": {
             "outlinewidth": 0,
             "ticks": ""
            },
            "colorscale": [
             [
              0,
              "#0d0887"
             ],
             [
              0.1111111111111111,
              "#46039f"
             ],
             [
              0.2222222222222222,
              "#7201a8"
             ],
             [
              0.3333333333333333,
              "#9c179e"
             ],
             [
              0.4444444444444444,
              "#bd3786"
             ],
             [
              0.5555555555555556,
              "#d8576b"
             ],
             [
              0.6666666666666666,
              "#ed7953"
             ],
             [
              0.7777777777777778,
              "#fb9f3a"
             ],
             [
              0.8888888888888888,
              "#fdca26"
             ],
             [
              1,
              "#f0f921"
             ]
            ],
            "type": "heatmapgl"
           }
          ],
          "histogram": [
           {
            "marker": {
             "pattern": {
              "fillmode": "overlay",
              "size": 10,
              "solidity": 0.2
             }
            },
            "type": "histogram"
           }
          ],
          "histogram2d": [
           {
            "colorbar": {
             "outlinewidth": 0,
             "ticks": ""
            },
            "colorscale": [
             [
              0,
              "#0d0887"
             ],
             [
              0.1111111111111111,
              "#46039f"
             ],
             [
              0.2222222222222222,
              "#7201a8"
             ],
             [
              0.3333333333333333,
              "#9c179e"
             ],
             [
              0.4444444444444444,
              "#bd3786"
             ],
             [
              0.5555555555555556,
              "#d8576b"
             ],
             [
              0.6666666666666666,
              "#ed7953"
             ],
             [
              0.7777777777777778,
              "#fb9f3a"
             ],
             [
              0.8888888888888888,
              "#fdca26"
             ],
             [
              1,
              "#f0f921"
             ]
            ],
            "type": "histogram2d"
           }
          ],
          "histogram2dcontour": [
           {
            "colorbar": {
             "outlinewidth": 0,
             "ticks": ""
            },
            "colorscale": [
             [
              0,
              "#0d0887"
             ],
             [
              0.1111111111111111,
              "#46039f"
             ],
             [
              0.2222222222222222,
              "#7201a8"
             ],
             [
              0.3333333333333333,
              "#9c179e"
             ],
             [
              0.4444444444444444,
              "#bd3786"
             ],
             [
              0.5555555555555556,
              "#d8576b"
             ],
             [
              0.6666666666666666,
              "#ed7953"
             ],
             [
              0.7777777777777778,
              "#fb9f3a"
             ],
             [
              0.8888888888888888,
              "#fdca26"
             ],
             [
              1,
              "#f0f921"
             ]
            ],
            "type": "histogram2dcontour"
           }
          ],
          "mesh3d": [
           {
            "colorbar": {
             "outlinewidth": 0,
             "ticks": ""
            },
            "type": "mesh3d"
           }
          ],
          "parcoords": [
           {
            "line": {
             "colorbar": {
              "outlinewidth": 0,
              "ticks": ""
             }
            },
            "type": "parcoords"
           }
          ],
          "pie": [
           {
            "automargin": true,
            "type": "pie"
           }
          ],
          "scatter": [
           {
            "fillpattern": {
             "fillmode": "overlay",
             "size": 10,
             "solidity": 0.2
            },
            "type": "scatter"
           }
          ],
          "scatter3d": [
           {
            "line": {
             "colorbar": {
              "outlinewidth": 0,
              "ticks": ""
             }
            },
            "marker": {
             "colorbar": {
              "outlinewidth": 0,
              "ticks": ""
             }
            },
            "type": "scatter3d"
           }
          ],
          "scattercarpet": [
           {
            "marker": {
             "colorbar": {
              "outlinewidth": 0,
              "ticks": ""
             }
            },
            "type": "scattercarpet"
           }
          ],
          "scattergeo": [
           {
            "marker": {
             "colorbar": {
              "outlinewidth": 0,
              "ticks": ""
             }
            },
            "type": "scattergeo"
           }
          ],
          "scattergl": [
           {
            "marker": {
             "colorbar": {
              "outlinewidth": 0,
              "ticks": ""
             }
            },
            "type": "scattergl"
           }
          ],
          "scattermapbox": [
           {
            "marker": {
             "colorbar": {
              "outlinewidth": 0,
              "ticks": ""
             }
            },
            "type": "scattermapbox"
           }
          ],
          "scatterpolar": [
           {
            "marker": {
             "colorbar": {
              "outlinewidth": 0,
              "ticks": ""
             }
            },
            "type": "scatterpolar"
           }
          ],
          "scatterpolargl": [
           {
            "marker": {
             "colorbar": {
              "outlinewidth": 0,
              "ticks": ""
             }
            },
            "type": "scatterpolargl"
           }
          ],
          "scatterternary": [
           {
            "marker": {
             "colorbar": {
              "outlinewidth": 0,
              "ticks": ""
             }
            },
            "type": "scatterternary"
           }
          ],
          "surface": [
           {
            "colorbar": {
             "outlinewidth": 0,
             "ticks": ""
            },
            "colorscale": [
             [
              0,
              "#0d0887"
             ],
             [
              0.1111111111111111,
              "#46039f"
             ],
             [
              0.2222222222222222,
              "#7201a8"
             ],
             [
              0.3333333333333333,
              "#9c179e"
             ],
             [
              0.4444444444444444,
              "#bd3786"
             ],
             [
              0.5555555555555556,
              "#d8576b"
             ],
             [
              0.6666666666666666,
              "#ed7953"
             ],
             [
              0.7777777777777778,
              "#fb9f3a"
             ],
             [
              0.8888888888888888,
              "#fdca26"
             ],
             [
              1,
              "#f0f921"
             ]
            ],
            "type": "surface"
           }
          ],
          "table": [
           {
            "cells": {
             "fill": {
              "color": "#EBF0F8"
             },
             "line": {
              "color": "white"
             }
            },
            "header": {
             "fill": {
              "color": "#C8D4E3"
             },
             "line": {
              "color": "white"
             }
            },
            "type": "table"
           }
          ]
         },
         "layout": {
          "annotationdefaults": {
           "arrowcolor": "#2a3f5f",
           "arrowhead": 0,
           "arrowwidth": 1
          },
          "autotypenumbers": "strict",
          "coloraxis": {
           "colorbar": {
            "outlinewidth": 0,
            "ticks": ""
           }
          },
          "colorscale": {
           "diverging": [
            [
             0,
             "#8e0152"
            ],
            [
             0.1,
             "#c51b7d"
            ],
            [
             0.2,
             "#de77ae"
            ],
            [
             0.3,
             "#f1b6da"
            ],
            [
             0.4,
             "#fde0ef"
            ],
            [
             0.5,
             "#f7f7f7"
            ],
            [
             0.6,
             "#e6f5d0"
            ],
            [
             0.7,
             "#b8e186"
            ],
            [
             0.8,
             "#7fbc41"
            ],
            [
             0.9,
             "#4d9221"
            ],
            [
             1,
             "#276419"
            ]
           ],
           "sequential": [
            [
             0,
             "#0d0887"
            ],
            [
             0.1111111111111111,
             "#46039f"
            ],
            [
             0.2222222222222222,
             "#7201a8"
            ],
            [
             0.3333333333333333,
             "#9c179e"
            ],
            [
             0.4444444444444444,
             "#bd3786"
            ],
            [
             0.5555555555555556,
             "#d8576b"
            ],
            [
             0.6666666666666666,
             "#ed7953"
            ],
            [
             0.7777777777777778,
             "#fb9f3a"
            ],
            [
             0.8888888888888888,
             "#fdca26"
            ],
            [
             1,
             "#f0f921"
            ]
           ],
           "sequentialminus": [
            [
             0,
             "#0d0887"
            ],
            [
             0.1111111111111111,
             "#46039f"
            ],
            [
             0.2222222222222222,
             "#7201a8"
            ],
            [
             0.3333333333333333,
             "#9c179e"
            ],
            [
             0.4444444444444444,
             "#bd3786"
            ],
            [
             0.5555555555555556,
             "#d8576b"
            ],
            [
             0.6666666666666666,
             "#ed7953"
            ],
            [
             0.7777777777777778,
             "#fb9f3a"
            ],
            [
             0.8888888888888888,
             "#fdca26"
            ],
            [
             1,
             "#f0f921"
            ]
           ]
          },
          "colorway": [
           "#636efa",
           "#EF553B",
           "#00cc96",
           "#ab63fa",
           "#FFA15A",
           "#19d3f3",
           "#FF6692",
           "#B6E880",
           "#FF97FF",
           "#FECB52"
          ],
          "font": {
           "color": "#2a3f5f"
          },
          "geo": {
           "bgcolor": "white",
           "lakecolor": "white",
           "landcolor": "#E5ECF6",
           "showlakes": true,
           "showland": true,
           "subunitcolor": "white"
          },
          "hoverlabel": {
           "align": "left"
          },
          "hovermode": "closest",
          "mapbox": {
           "style": "light"
          },
          "paper_bgcolor": "white",
          "plot_bgcolor": "#E5ECF6",
          "polar": {
           "angularaxis": {
            "gridcolor": "white",
            "linecolor": "white",
            "ticks": ""
           },
           "bgcolor": "#E5ECF6",
           "radialaxis": {
            "gridcolor": "white",
            "linecolor": "white",
            "ticks": ""
           }
          },
          "scene": {
           "xaxis": {
            "backgroundcolor": "#E5ECF6",
            "gridcolor": "white",
            "gridwidth": 2,
            "linecolor": "white",
            "showbackground": true,
            "ticks": "",
            "zerolinecolor": "white"
           },
           "yaxis": {
            "backgroundcolor": "#E5ECF6",
            "gridcolor": "white",
            "gridwidth": 2,
            "linecolor": "white",
            "showbackground": true,
            "ticks": "",
            "zerolinecolor": "white"
           },
           "zaxis": {
            "backgroundcolor": "#E5ECF6",
            "gridcolor": "white",
            "gridwidth": 2,
            "linecolor": "white",
            "showbackground": true,
            "ticks": "",
            "zerolinecolor": "white"
           }
          },
          "shapedefaults": {
           "line": {
            "color": "#2a3f5f"
           }
          },
          "ternary": {
           "aaxis": {
            "gridcolor": "white",
            "linecolor": "white",
            "ticks": ""
           },
           "baxis": {
            "gridcolor": "white",
            "linecolor": "white",
            "ticks": ""
           },
           "bgcolor": "#E5ECF6",
           "caxis": {
            "gridcolor": "white",
            "linecolor": "white",
            "ticks": ""
           }
          },
          "title": {
           "x": 0.05
          },
          "xaxis": {
           "automargin": true,
           "gridcolor": "white",
           "linecolor": "white",
           "ticks": "",
           "title": {
            "standoff": 15
           },
           "zerolinecolor": "white",
           "zerolinewidth": 2
          },
          "yaxis": {
           "automargin": true,
           "gridcolor": "white",
           "linecolor": "white",
           "ticks": "",
           "title": {
            "standoff": 15
           },
           "zerolinecolor": "white",
           "zerolinewidth": 2
          }
         }
        },
        "title": {
         "font": {
          "size": 16
         },
         "text": "Graph of 'The Incredibles' and Its Similar Movies"
        },
        "xaxis": {
         "showgrid": false,
         "zeroline": false
        },
        "yaxis": {
         "showgrid": false,
         "zeroline": false
        }
       }
      }
     },
     "metadata": {},
     "output_type": "display_data"
    }
   ],
   "source": [
    "# Find similar movies and visualize the graph\n",
    "similar_movies = find_similar_movies(conn, \"The Incredibles\", 10)\n",
    "visualize_movies_relation(\"The Incredibles\", similar_movies)"
   ]
  },
  {
   "cell_type": "code",
   "execution_count": null,
   "metadata": {},
   "outputs": [],
   "source": []
  }
 ],
 "metadata": {
  "kernelspec": {
   "display_name": "Python 3",
   "language": "python",
   "name": "python3"
  },
  "language_info": {
   "codemirror_mode": {
    "name": "ipython",
    "version": 3
   },
   "file_extension": ".py",
   "mimetype": "text/x-python",
   "name": "python",
   "nbconvert_exporter": "python",
   "pygments_lexer": "ipython3",
   "version": "3.12.4"
  }
 },
 "nbformat": 4,
 "nbformat_minor": 2
}
