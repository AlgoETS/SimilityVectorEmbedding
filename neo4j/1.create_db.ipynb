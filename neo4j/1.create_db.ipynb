{
 "cells": [
  {
   "cell_type": "code",
   "execution_count": null,
   "metadata": {},
   "outputs": [],
   "source": [
    "!pip install neo4j pandas py2neo networkx matplotlib plotly"
   ]
  },
  {
   "cell_type": "code",
   "execution_count": null,
   "metadata": {},
   "outputs": [],
   "source": [
    "from neo4j import GraphDatabase\n",
    "import json\n",
    "from py2neo import Graph\n",
    "import networkx as nx\n",
    "import matplotlib.pyplot as plt\n",
    "import plotly.graph_objects as go\n",
    "import networkx as nx\n",
    "from py2neo import Graph"
   ]
  },
  {
   "cell_type": "code",
   "execution_count": null,
   "metadata": {},
   "outputs": [],
   "source": [
    "uri = \"neo4j://localhost/:7687\"\n",
    "user = \"neo4j\"\n",
    "password = \"password\""
   ]
  },
  {
   "cell_type": "code",
   "execution_count": null,
   "metadata": {},
   "outputs": [],
   "source": [
    "with open('personnes.json', 'r', encoding='utf-8') as file:\n",
    "    personnes_data = json.load(file)"
   ]
  },
  {
   "cell_type": "code",
   "execution_count": null,
   "metadata": {},
   "outputs": [],
   "source": [
    "with open('movies.json', 'r', encoding='utf-8') as file:\n",
    "    movies_data = json.load(file)"
   ]
  },
  {
   "cell_type": "code",
   "execution_count": null,
   "metadata": {},
   "outputs": [],
   "source": [
    "class Neo4jConnection:\n",
    "    def __init__(self, uri, user, password):\n",
    "        self._driver = GraphDatabase.driver(uri, auth=(user, password))\n",
    "\n",
    "    def close(self):\n",
    "        self._driver.close()\n",
    "\n",
    "    def query(self, query, parameters=None):\n",
    "        with self._driver.session() as session:\n",
    "            result = session.run(query, parameters)\n",
    "            return list(result)\n",
    "\n",
    "    def execute_write(self, func, *args, **kwargs):\n",
    "        with self._driver.session() as session:\n",
    "            return session.write_transaction(func, *args, **kwargs)"
   ]
  },
  {
   "cell_type": "code",
   "execution_count": null,
   "metadata": {},
   "outputs": [],
   "source": [
    "conn = Neo4jConnection(uri, user, password)"
   ]
  },
  {
   "cell_type": "code",
   "execution_count": null,
   "metadata": {},
   "outputs": [],
   "source": [
    "def create_person(tx, person):\n",
    "    tx.run(\n",
    "        \"\"\"\n",
    "        CREATE (p:Person {\n",
    "            name: $name,\n",
    "            birthday: $birthday,\n",
    "            birth_place: $birth_place,\n",
    "            bio: $bio,\n",
    "            id: $id\n",
    "        })\n",
    "        \"\"\",\n",
    "        name=person['nom'],\n",
    "        birthday=person.get('naissance', {}).get('anniversaire', ''),\n",
    "        birth_place=person.get('naissance', {}).get('lieu', ''),\n",
    "        bio=person.get('bio', ''),\n",
    "        id=person['_id']\n",
    "    )\n"
   ]
  },
  {
   "cell_type": "code",
   "execution_count": null,
   "metadata": {},
   "outputs": [],
   "source": [
    "def create_movie(tx, movie):\n",
    "    tx.run(\"\"\"\n",
    "    CREATE (m:Movie {\n",
    "        title: $title,\n",
    "        year: $year,\n",
    "        country: $country,\n",
    "        language: $language,\n",
    "        duration: $duration,\n",
    "        summary: $summary,\n",
    "        poster: $poster,\n",
    "        id: $id\n",
    "    })\n",
    "    \"\"\",\n",
    "    title=movie['titre'],\n",
    "    year=movie['annee'],\n",
    "    country=\", \".join(movie['pays']) if isinstance(movie['pays'], list) else movie['pays'],\n",
    "    language=movie.get('langue', ''),\n",
    "    duration=movie['duree'],\n",
    "    summary=movie['resume'],\n",
    "    poster=movie.get('poster', ''),\n",
    "    id=movie['_id'])\n",
    "\n",
    "    # Create relationships for genres\n",
    "    for genre in movie['genre']:\n",
    "        tx.run(\"\"\"\n",
    "        MATCH (m:Movie {id: $id})\n",
    "        MERGE (g:Genre {name: $genre})\n",
    "        MERGE (m)-[:HAS_GENRE]->(g)\n",
    "        \"\"\", id=movie['_id'], genre=genre)\n",
    "\n",
    "    # Create relationships for director\n",
    "    realisateur = movie.get('realisateur')\n",
    "    if realisateur:\n",
    "        tx.run(\"\"\"\n",
    "        MATCH (m:Movie {id: $id})\n",
    "        MERGE (d:Director {id: $director_id, name: $director_name})\n",
    "        MERGE (m)-[:DIRECTED_BY]->(d)\n",
    "        \"\"\", id=movie['_id'], director_id=realisateur['_id'], director_name=realisateur['__text'])\n",
    "\n",
    "    # Create relationships for writers\n",
    "    scenaristes = movie.get('scenariste', [])\n",
    "    if isinstance(scenaristes, list):\n",
    "        for writer in scenaristes:\n",
    "            tx.run(\"\"\"\n",
    "            MATCH (m:Movie {id: $id})\n",
    "            MERGE (w:Writer {name: $writer})\n",
    "            MERGE (m)-[:WRITTEN_BY]->(w)\n",
    "            \"\"\", id=movie['_id'], writer=writer)\n",
    "    elif isinstance(scenaristes, str):\n",
    "        tx.run(\"\"\"\n",
    "        MATCH (m:Movie {id: $id})\n",
    "        MERGE (w:Writer {name: $writer})\n",
    "        MERGE (m)-[:WRITTEN_BY]->(w)\n",
    "        \"\"\", id=movie['_id'], writer=scenaristes)\n",
    "\n",
    "    # Create relationships for roles\n",
    "    if 'role' in movie:\n",
    "        for role in movie['role']:\n",
    "            if isinstance(role, dict) and 'acteur' in role:\n",
    "                actor = role['acteur']\n",
    "                if isinstance(actor, dict):\n",
    "                    tx.run(\"\"\"\n",
    "                    MATCH (m:Movie {id: $id})\n",
    "                    MERGE (a:Actor {id: $actor_id, name: $actor_name})\n",
    "                    MERGE (m)-[:HAS_ROLE {character: $character}]->(a)\n",
    "                    \"\"\",\n",
    "                    id=movie['_id'],\n",
    "                    actor_id=actor.get('_id', ''),\n",
    "                    actor_name=actor.get('__text', ''),\n",
    "                    character=role['personnage'])\n",
    "                elif isinstance(actor, str):\n",
    "                    tx.run(\"\"\"\n",
    "                    MATCH (m:Movie {id: $id})\n",
    "                    MERGE (a:Actor {name: $actor_name})\n",
    "                    MERGE (m)-[:HAS_ROLE {character: $character}]->(a)\n",
    "                    \"\"\",\n",
    "                    id=movie['_id'],\n",
    "                    actor_name=actor,\n",
    "                    character=role['personnage'])"
   ]
  },
  {
   "cell_type": "code",
   "execution_count": null,
   "metadata": {},
   "outputs": [],
   "source": [
    "for person in personnes_data['personnes']['personne']:\n",
    "    conn.execute_write(create_person, person)"
   ]
  },
  {
   "cell_type": "code",
   "execution_count": null,
   "metadata": {},
   "outputs": [],
   "source": [
    "for movie in movies_data['films']['film']:\n",
    "    conn.execute_write(create_movie, movie)"
   ]
  },
  {
   "cell_type": "code",
   "execution_count": null,
   "metadata": {},
   "outputs": [],
   "source": [
    "def find_similar_movies(conn, movie_title, limit=10):\n",
    "    query = \"\"\"\n",
    "    MATCH (m:Movie {title: $title})\n",
    "    OPTIONAL MATCH (m)-[:HAS_GENRE]->(g:Genre)<-[:HAS_GENRE]-(similar:Movie)\n",
    "    OPTIONAL MATCH (m)-[:DIRECTED_BY]->(d:Director)<-[:DIRECTED_BY]-(similar:Movie)\n",
    "    OPTIONAL MATCH (m)-[:WRITTEN_BY]->(w:Writer)<-[:WRITTEN_BY]-(similar:Movie)\n",
    "    OPTIONAL MATCH (m)-[:HAS_ROLE]->(a:Actor)<-[:HAS_ROLE]-(similar:Movie)\n",
    "    WHERE m <> similar\n",
    "    RETURN similar.title AS title,\n",
    "           COUNT(DISTINCT g) AS shared_genres,\n",
    "           COUNT(DISTINCT d) AS shared_directors,\n",
    "           COUNT(DISTINCT w) AS shared_writers,\n",
    "           COUNT(DISTINCT a) AS shared_actors,\n",
    "           (COUNT(DISTINCT g) + COUNT(DISTINCT d) + COUNT(DISTINCT w) + COUNT(DISTINCT a)) AS similarity_score\n",
    "    ORDER BY similarity_score DESC, similar.title ASC\n",
    "    LIMIT $limit\n",
    "    \"\"\"\n",
    "    result = conn.query(query, parameters={\"title\": movie_title, \"limit\": limit})\n",
    "    return [record[\"title\"] for record in result]\n",
    "\n",
    "similar_movies = find_similar_movies(conn, \"The Incredibles\", 10)\n",
    "print(\"Similar movies:\", similar_movies)"
   ]
  },
  {
   "cell_type": "code",
   "execution_count": null,
   "metadata": {},
   "outputs": [],
   "source": [
    "graph = Graph(uri, auth=(user, password))\n",
    "def get_movie_graph(movie_title):\n",
    "    query = \"\"\"\n",
    "    MATCH (m:Movie {title: $title})\n",
    "    OPTIONAL MATCH (m)-[:HAS_GENRE]->(g:Genre)\n",
    "    OPTIONAL MATCH (m)-[:DIRECTED_BY]->(d:Director)\n",
    "    OPTIONAL MATCH (m)-[:WRITTEN_BY]->(w:Writer)\n",
    "    OPTIONAL MATCH (m)-[:HAS_ROLE]->(a:Actor)\n",
    "    RETURN m, COLLECT(DISTINCT g) AS genres, COLLECT(DISTINCT d) AS directors,\n",
    "           COLLECT(DISTINCT w) AS writers, COLLECT(DISTINCT a) AS actors\n",
    "    \"\"\"\n",
    "    result = graph.run(query, title=movie_title).data()\n",
    "\n",
    "    return result[0] if result else None\n",
    "\n",
    "def visualize_movie_graph(movie_title):\n",
    "    movie_data = get_movie_graph(movie_title)\n",
    "    if not movie_data:\n",
    "        print(f\"Movie '{movie_title}' not found.\")\n",
    "        return\n",
    "\n",
    "    G = nx.Graph()\n",
    "\n",
    "    movie_node = movie_data['m']['title']\n",
    "    G.add_node(movie_node, label='Movie')\n",
    "\n",
    "    for genre in movie_data['genres']:\n",
    "        if genre:\n",
    "            G.add_node(genre['name'], label='Genre')\n",
    "            G.add_edge(movie_node, genre['name'])\n",
    "\n",
    "    for director in movie_data['directors']:\n",
    "        if director:\n",
    "            G.add_node(director['name'], label='Director')\n",
    "            G.add_edge(movie_node, director['name'])\n",
    "\n",
    "    for writer in movie_data['writers']:\n",
    "        if writer:\n",
    "            G.add_node(writer['name'], label='Writer')\n",
    "            G.add_edge(movie_node, writer['name'])\n",
    "\n",
    "    for actor in movie_data['actors']:\n",
    "        if actor:\n",
    "            G.add_node(actor['name'], label='Actor')\n",
    "            G.add_edge(movie_node, actor['name'])\n",
    "\n",
    "    pos = nx.spring_layout(G, k=0.5)\n",
    "    labels = nx.get_node_attributes(G, 'label')\n",
    "    color_map = {\n",
    "        'Movie': 'blue',\n",
    "        'Genre': 'green',\n",
    "        'Director': 'red',\n",
    "        'Writer': 'purple',\n",
    "        'Actor': 'orange'\n",
    "    }\n",
    "    node_colors = [color_map[labels[node]] for node in G.nodes()]\n",
    "\n",
    "    plt.figure(figsize=(12, 8))\n",
    "    plt.gca().set_facecolor('#f0f0f0')\n",
    "    nx.draw(G, pos, with_labels=True, node_color=node_colors, node_size=3000, font_size=8, font_color='white', edge_color='#cccccc')\n",
    "    plt.title(f\"Graph of '{movie_title}' and its Relationships\", fontsize=15)\n",
    "    plt.show()\n",
    "\n",
    "# Visualize the graph for a specific movie\n",
    "visualize_movie_graph(\"The Incredibles\")"
   ]
  },
  {
   "cell_type": "code",
   "execution_count": 150,
   "metadata": {},
   "outputs": [],
   "source": [
    "def visualize_movies_relation(main_movie_title, similar_movies):\n",
    "    G = nx.Graph()\n",
    "\n",
    "    # Add main movie node and its relations\n",
    "    main_movie_data = get_movie_graph(main_movie_title)\n",
    "    if not main_movie_data:\n",
    "        print(f\"Movie '{main_movie_title}' not found.\")\n",
    "        return\n",
    "\n",
    "    main_movie_node = main_movie_data['m']['title']\n",
    "    G.add_node(main_movie_node, label='Movie')\n",
    "\n",
    "    for genre in main_movie_data['genres']:\n",
    "        if genre:\n",
    "            G.add_node(genre['name'], label='Genre')\n",
    "            G.add_edge(main_movie_node, genre['name'])\n",
    "\n",
    "    for director in main_movie_data['directors']:\n",
    "        if director:\n",
    "            G.add_node(director['name'], label='Director')\n",
    "            G.add_edge(main_movie_node, director['name'])\n",
    "\n",
    "    for writer in main_movie_data['writers']:\n",
    "        if writer:\n",
    "            G.add_node(writer['name'], label='Writer')\n",
    "            G.add_edge(main_movie_node, writer['name'])\n",
    "\n",
    "    for actor in main_movie_data['actors']:\n",
    "        if actor:\n",
    "            G.add_node(actor['name'], label='Actor')\n",
    "            G.add_edge(main_movie_node, actor['name'])\n",
    "\n",
    "    # Add similar movies nodes and their relations\n",
    "    for similar_movie in similar_movies:\n",
    "        similar_movie_data = get_movie_graph(similar_movie)\n",
    "        if not similar_movie_data:\n",
    "            continue\n",
    "\n",
    "        similar_movie_node = similar_movie_data['m']['title']\n",
    "        G.add_node(similar_movie_node, label='Movie')\n",
    "        G.add_edge(main_movie_node, similar_movie_node, label='Similar')\n",
    "\n",
    "        for genre in similar_movie_data['genres']:\n",
    "            if genre:\n",
    "                G.add_node(genre['name'], label='Genre')\n",
    "                G.add_edge(similar_movie_node, genre['name'])\n",
    "\n",
    "        for director in similar_movie_data['directors']:\n",
    "            if director:\n",
    "                G.add_node(director['name'], label='Director')\n",
    "                G.add_edge(similar_movie_node, director['name'])\n",
    "\n",
    "        for writer in similar_movie_data['writers']:\n",
    "            if writer:\n",
    "                G.add_node(writer['name'], label='Writer')\n",
    "                G.add_edge(similar_movie_node, writer['name'])\n",
    "\n",
    "        for actor in similar_movie_data['actors']:\n",
    "            if actor:\n",
    "                G.add_node(actor['name'], label='Actor')\n",
    "                G.add_edge(similar_movie_node, actor['name'])\n",
    "\n",
    "    # Calculate betweenness centrality\n",
    "    centrality = nx.betweenness_centrality(G)\n",
    "    most_central_element = max(centrality, key=centrality.get)\n",
    "\n",
    "    # Remove nodes node with centrality biggest make G2\n",
    "    G2 = G.copy()\n",
    "    G2.remove_node(most_central_element)\n",
    "\n",
    "    centrality = nx.betweenness_centrality(G2)\n",
    "    most_central_element = max(centrality, key=centrality.get)\n",
    "    print(f\"The most central element is '{most_central_element}' with a betweenness centrality of {centrality[most_central_element]}'\")\n",
    "\n",
    "    non_movie_centralities = {node: cent for node, cent in centrality.items() if G.nodes[node]['label'] != 'Movie'}\n",
    "    if non_movie_centralities:\n",
    "        most_central_non_movie_element = max(non_movie_centralities, key=non_movie_centralities.get)\n",
    "        print(f\"The most central element that is not a movie is '{most_central_non_movie_element}' with a betweenness centrality of {non_movie_centralities[most_central_non_movie_element]}'\")\n",
    "    else:\n",
    "        print(\"No non-movie elements found in the graph.\")\n",
    "\n",
    "\n",
    "    # Remove nodes not connected to any other movie node\n",
    "    nodes_to_remove = []\n",
    "    for node in G.nodes:\n",
    "        if G.degree(node) == 0:\n",
    "            nodes_to_remove.append(node)\n",
    "        if G.degree(node) == 1 and list(G.neighbors(node))[0] == main_movie_node:\n",
    "            nodes_to_remove.append(node)\n",
    "        # remove actor nodes with no connections for every movie node\n",
    "        if G.nodes[node]['label'] == 'Actor' and G.degree(node) == 1:\n",
    "            nodes_to_remove.append(node)\n",
    "        if G.nodes[node]['label'] == 'Writer' and G.degree(node) == 1:\n",
    "            nodes_to_remove.append(node)\n",
    "        if G.nodes[node]['label'] == 'Director' and G.degree(node) == 1:\n",
    "            nodes_to_remove.append(node)\n",
    "        if G.nodes[node]['label'] == 'Genre' and G.degree(node) == 1:\n",
    "            nodes_to_remove.append(node)\n",
    "    G.remove_nodes_from(nodes_to_remove)\n",
    "\n",
    "    # Calculate node degrees\n",
    "    degrees = dict(G.degree())\n",
    "\n",
    "    pos = nx.spring_layout(G, k=0.5)\n",
    "    edge_trace = []\n",
    "    node_trace = go.Scatter(\n",
    "        x=[],\n",
    "        y=[],\n",
    "        text=[],\n",
    "        mode='markers+text',\n",
    "        hoverinfo='text',\n",
    "        textposition='top center',\n",
    "        marker=dict(\n",
    "            showscale=True,\n",
    "            colorscale='YlGnBu',\n",
    "            size=[],\n",
    "            color=[],\n",
    "            colorbar=dict(\n",
    "                thickness=15,\n",
    "                title='Node Connections',\n",
    "                xanchor='left',\n",
    "                titleside='right'\n",
    "            )\n",
    "        )\n",
    "    )\n",
    "\n",
    "    for node in G.nodes:\n",
    "        x, y = pos[node]\n",
    "        node_trace['x'] += (x,)\n",
    "        node_trace['y'] += (y,)\n",
    "        node_trace['text'] += (node,)\n",
    "        node_trace['marker']['size'] += (5 + degrees[node],)\n",
    "        node_trace['marker']['color'] += (degrees[node],)\n",
    "\n",
    "    for edge in G.edges:\n",
    "        x0, y0 = pos[edge[0]]\n",
    "        x1, y1 = pos[edge[1]]\n",
    "        edge_trace.append(\n",
    "            go.Scatter(\n",
    "                x=[x0, x1, None],\n",
    "                y=[y0, y1, None],\n",
    "                line=dict(width=0.5, color='#888'),\n",
    "                hoverinfo='none',\n",
    "                mode='lines'\n",
    "            )\n",
    "        )\n",
    "\n",
    "    fig = go.Figure(data=edge_trace + [node_trace],\n",
    "                    layout=go.Layout(\n",
    "                        title=f\"Graph of '{main_movie_title}' and Its Similar Movies\",\n",
    "                        titlefont_size=16,\n",
    "                        showlegend=False,\n",
    "                        hovermode='closest',\n",
    "                        margin=dict(b=20, l=5, r=5, t=40),\n",
    "                        annotations=[dict(\n",
    "                            text=\"Movie Relationships\",\n",
    "                            showarrow=False,\n",
    "                            xref=\"paper\", yref=\"paper\",\n",
    "                            x=0.005, y=-0.002\n",
    "                        )],\n",
    "                        xaxis=dict(showgrid=False, zeroline=False),\n",
    "                        yaxis=dict(showgrid=False, zeroline=False))\n",
    "                    )\n",
    "\n",
    "    fig.show()"
   ]
  },
  {
   "cell_type": "code",
   "execution_count": 154,
   "metadata": {},
   "outputs": [
    {
     "name": "stderr",
     "output_type": "stream",
     "text": [
      "C:\\Users\\antoi\\AppData\\Local\\Temp\\ipykernel_30376\\3981663121.py:9: DeprecationWarning:\n",
      "\n",
      "Using a driver after it has been closed is deprecated. Future versions of the driver will raise an error.\n",
      "\n"
     ]
    },
    {
     "name": "stdout",
     "output_type": "stream",
     "text": [
      "Similar movies: ['Superman', 'Superman II', '2012', 'Aliens', 'Armageddon', 'Back to the Future Part II', 'G.I. Joe: The Rise of Cobra', 'Independence Day', 'Iron Man', 'Journey to the Center of the Earth']\n",
      "The most central element is 'Sci-Fi' with a betweenness centrality of 0.2111563028604614'\n",
      "The most central element that is not a movie is 'Sci-Fi' with a betweenness centrality of 0.2111563028604614'\n"
     ]
    },
    {
     "data": {
      "application/vnd.plotly.v1+json": {
       "config": {
        "plotlyServerURL": "https://plot.ly"
       },
       "data": [
        {
         "hoverinfo": "none",
         "line": {
          "color": "#888",
          "width": 0.5
         },
         "mode": "lines",
         "type": "scatter",
         "x": [
          0.0018413573825026993,
          0.009631133866562891,
          null
         ],
         "y": [
          -0.06012859619044796,
          0.4004505413038667,
          null
         ]
        },
        {
         "hoverinfo": "none",
         "line": {
          "color": "#888",
          "width": 0.5
         },
         "mode": "lines",
         "type": "scatter",
         "x": [
          0.0018413573825026993,
          -0.018894045410980765,
          null
         ],
         "y": [
          -0.06012859619044796,
          0.21532238450405627,
          null
         ]
        },
        {
         "hoverinfo": "none",
         "line": {
          "color": "#888",
          "width": 0.5
         },
         "mode": "lines",
         "type": "scatter",
         "x": [
          0.0018413573825026993,
          0.048940779167126525,
          null
         ],
         "y": [
          -0.06012859619044796,
          0.2839298562189433,
          null
         ]
        },
        {
         "hoverinfo": "none",
         "line": {
          "color": "#888",
          "width": 0.5
         },
         "mode": "lines",
         "type": "scatter",
         "x": [
          0.0018413573825026993,
          0.07903319989225359,
          null
         ],
         "y": [
          -0.06012859619044796,
          0.19942741057640875,
          null
         ]
        },
        {
         "hoverinfo": "none",
         "line": {
          "color": "#888",
          "width": 0.5
         },
         "mode": "lines",
         "type": "scatter",
         "x": [
          0.0018413573825026993,
          -0.051947469613715554,
          null
         ],
         "y": [
          -0.06012859619044796,
          -0.523050950989226,
          null
         ]
        },
        {
         "hoverinfo": "none",
         "line": {
          "color": "#888",
          "width": 0.5
         },
         "mode": "lines",
         "type": "scatter",
         "x": [
          0.0018413573825026993,
          -0.3981958163023744,
          null
         ],
         "y": [
          -0.06012859619044796,
          -0.21402311354606549,
          null
         ]
        },
        {
         "hoverinfo": "none",
         "line": {
          "color": "#888",
          "width": 0.5
         },
         "mode": "lines",
         "type": "scatter",
         "x": [
          0.0018413573825026993,
          0.32806891043062175,
          null
         ],
         "y": [
          -0.06012859619044796,
          -0.5149730215497932,
          null
         ]
        },
        {
         "hoverinfo": "none",
         "line": {
          "color": "#888",
          "width": 0.5
         },
         "mode": "lines",
         "type": "scatter",
         "x": [
          0.0018413573825026993,
          -0.4028518659057652,
          null
         ],
         "y": [
          -0.06012859619044796,
          -0.3767067163286346,
          null
         ]
        },
        {
         "hoverinfo": "none",
         "line": {
          "color": "#888",
          "width": 0.5
         },
         "mode": "lines",
         "type": "scatter",
         "x": [
          0.0018413573825026993,
          0.42267649340001096,
          null
         ],
         "y": [
          -0.06012859619044796,
          -0.3844341674136888,
          null
         ]
        },
        {
         "hoverinfo": "none",
         "line": {
          "color": "#888",
          "width": 0.5
         },
         "mode": "lines",
         "type": "scatter",
         "x": [
          0.0018413573825026993,
          -0.20791905935608226,
          null
         ],
         "y": [
          -0.06012859619044796,
          -0.5993476212028073,
          null
         ]
        },
        {
         "hoverinfo": "none",
         "line": {
          "color": "#888",
          "width": 0.5
         },
         "mode": "lines",
         "type": "scatter",
         "x": [
          0.0018413573825026993,
          -0.427188690447313,
          null
         ],
         "y": [
          -0.06012859619044796,
          -0.005377701212852842,
          null
         ]
        },
        {
         "hoverinfo": "none",
         "line": {
          "color": "#888",
          "width": 0.5
         },
         "mode": "lines",
         "type": "scatter",
         "x": [
          0.0018413573825026993,
          0.3970841554321297,
          null
         ],
         "y": [
          -0.06012859619044796,
          -0.22193320568228003,
          null
         ]
        },
        {
         "hoverinfo": "none",
         "line": {
          "color": "#888",
          "width": 0.5
         },
         "mode": "lines",
         "type": "scatter",
         "x": [
          0.0018413573825026993,
          0.17963130529823845,
          null
         ],
         "y": [
          -0.06012859619044796,
          -0.5379184810054736,
          null
         ]
        },
        {
         "hoverinfo": "none",
         "line": {
          "color": "#888",
          "width": 0.5
         },
         "mode": "lines",
         "type": "scatter",
         "x": [
          0.0018413573825026993,
          0.05787029706555071,
          null
         ],
         "y": [
          -0.06012859619044796,
          -0.6553807807140016,
          null
         ]
        },
        {
         "hoverinfo": "none",
         "line": {
          "color": "#888",
          "width": 0.5
         },
         "mode": "lines",
         "type": "scatter",
         "x": [
          0.0018413573825026993,
          -0.2818378297736115,
          null
         ],
         "y": [
          -0.06012859619044796,
          -0.46391313978447996,
          null
         ]
        },
        {
         "hoverinfo": "none",
         "line": {
          "color": "#888",
          "width": 0.5
         },
         "mode": "lines",
         "type": "scatter",
         "x": [
          0.0018413573825026993,
          0.0018413573825026993,
          null
         ],
         "y": [
          -0.06012859619044796,
          -0.06012859619044796,
          null
         ]
        },
        {
         "hoverinfo": "none",
         "line": {
          "color": "#888",
          "width": 0.5
         },
         "mode": "lines",
         "type": "scatter",
         "x": [
          0.0018413573825026993,
          0.030780304132966195,
          null
         ],
         "y": [
          -0.06012859619044796,
          -0.24726392410842807,
          null
         ]
        },
        {
         "hoverinfo": "none",
         "line": {
          "color": "#888",
          "width": 0.5
         },
         "mode": "lines",
         "type": "scatter",
         "x": [
          0.0018413573825026993,
          0.13519682022177051,
          null
         ],
         "y": [
          -0.06012859619044796,
          0.5506188603864788,
          null
         ]
        },
        {
         "hoverinfo": "none",
         "line": {
          "color": "#888",
          "width": 0.5
         },
         "mode": "lines",
         "type": "scatter",
         "x": [
          0.0018413573825026993,
          0.30507539781536963,
          null
         ],
         "y": [
          -0.06012859619044796,
          0.2824250007784758,
          null
         ]
        },
        {
         "hoverinfo": "none",
         "line": {
          "color": "#888",
          "width": 0.5
         },
         "mode": "lines",
         "type": "scatter",
         "x": [
          0.0018413573825026993,
          0.32095914749056204,
          null
         ],
         "y": [
          -0.06012859619044796,
          0.12883956450027848,
          null
         ]
        },
        {
         "hoverinfo": "none",
         "line": {
          "color": "#888",
          "width": 0.5
         },
         "mode": "lines",
         "type": "scatter",
         "x": [
          0.0018413573825026993,
          -0.31629820571920336,
          null
         ],
         "y": [
          -0.06012859619044796,
          0.30532136145956495,
          null
         ]
        },
        {
         "hoverinfo": "none",
         "line": {
          "color": "#888",
          "width": 0.5
         },
         "mode": "lines",
         "type": "scatter",
         "x": [
          0.0018413573825026993,
          0.2511526176408408,
          null
         ],
         "y": [
          -0.06012859619044796,
          0.400792441605391,
          null
         ]
        },
        {
         "hoverinfo": "none",
         "line": {
          "color": "#888",
          "width": 0.5
         },
         "mode": "lines",
         "type": "scatter",
         "x": [
          0.0018413573825026993,
          -0.01588536212692969,
          null
         ],
         "y": [
          -0.06012859619044796,
          0.5657768492601526,
          null
         ]
        },
        {
         "hoverinfo": "none",
         "line": {
          "color": "#888",
          "width": 0.5
         },
         "mode": "lines",
         "type": "scatter",
         "x": [
          0.0018413573825026993,
          -0.1637849160375524,
          null
         ],
         "y": [
          -0.06012859619044796,
          0.32581446030610817,
          null
         ]
        },
        {
         "hoverinfo": "none",
         "line": {
          "color": "#888",
          "width": 0.5
         },
         "mode": "lines",
         "type": "scatter",
         "x": [
          0.0018413573825026993,
          -0.28635103988472727,
          null
         ],
         "y": [
          -0.06012859619044796,
          0.18405301322865905,
          null
         ]
        },
        {
         "hoverinfo": "none",
         "line": {
          "color": "#888",
          "width": 0.5
         },
         "mode": "lines",
         "type": "scatter",
         "x": [
          0.009631133866562891,
          0.13519682022177051,
          null
         ],
         "y": [
          0.4004505413038667,
          0.5506188603864788,
          null
         ]
        },
        {
         "hoverinfo": "none",
         "line": {
          "color": "#888",
          "width": 0.5
         },
         "mode": "lines",
         "type": "scatter",
         "x": [
          0.009631133866562891,
          0.30507539781536963,
          null
         ],
         "y": [
          0.4004505413038667,
          0.2824250007784758,
          null
         ]
        },
        {
         "hoverinfo": "none",
         "line": {
          "color": "#888",
          "width": 0.5
         },
         "mode": "lines",
         "type": "scatter",
         "x": [
          0.009631133866562891,
          0.32095914749056204,
          null
         ],
         "y": [
          0.4004505413038667,
          0.12883956450027848,
          null
         ]
        },
        {
         "hoverinfo": "none",
         "line": {
          "color": "#888",
          "width": 0.5
         },
         "mode": "lines",
         "type": "scatter",
         "x": [
          0.009631133866562891,
          -0.31629820571920336,
          null
         ],
         "y": [
          0.4004505413038667,
          0.30532136145956495,
          null
         ]
        },
        {
         "hoverinfo": "none",
         "line": {
          "color": "#888",
          "width": 0.5
         },
         "mode": "lines",
         "type": "scatter",
         "x": [
          0.009631133866562891,
          0.2511526176408408,
          null
         ],
         "y": [
          0.4004505413038667,
          0.400792441605391,
          null
         ]
        },
        {
         "hoverinfo": "none",
         "line": {
          "color": "#888",
          "width": 0.5
         },
         "mode": "lines",
         "type": "scatter",
         "x": [
          0.009631133866562891,
          -0.01588536212692969,
          null
         ],
         "y": [
          0.4004505413038667,
          0.5657768492601526,
          null
         ]
        },
        {
         "hoverinfo": "none",
         "line": {
          "color": "#888",
          "width": 0.5
         },
         "mode": "lines",
         "type": "scatter",
         "x": [
          0.009631133866562891,
          -0.1637849160375524,
          null
         ],
         "y": [
          0.4004505413038667,
          0.32581446030610817,
          null
         ]
        },
        {
         "hoverinfo": "none",
         "line": {
          "color": "#888",
          "width": 0.5
         },
         "mode": "lines",
         "type": "scatter",
         "x": [
          0.009631133866562891,
          -0.28635103988472727,
          null
         ],
         "y": [
          0.4004505413038667,
          0.18405301322865905,
          null
         ]
        },
        {
         "hoverinfo": "none",
         "line": {
          "color": "#888",
          "width": 0.5
         },
         "mode": "lines",
         "type": "scatter",
         "x": [
          -0.018894045410980765,
          0.030780304132966195,
          null
         ],
         "y": [
          0.21532238450405627,
          -0.24726392410842807,
          null
         ]
        },
        {
         "hoverinfo": "none",
         "line": {
          "color": "#888",
          "width": 0.5
         },
         "mode": "lines",
         "type": "scatter",
         "x": [
          -0.018894045410980765,
          0.13519682022177051,
          null
         ],
         "y": [
          0.21532238450405627,
          0.5506188603864788,
          null
         ]
        },
        {
         "hoverinfo": "none",
         "line": {
          "color": "#888",
          "width": 0.5
         },
         "mode": "lines",
         "type": "scatter",
         "x": [
          -0.018894045410980765,
          0.30507539781536963,
          null
         ],
         "y": [
          0.21532238450405627,
          0.2824250007784758,
          null
         ]
        },
        {
         "hoverinfo": "none",
         "line": {
          "color": "#888",
          "width": 0.5
         },
         "mode": "lines",
         "type": "scatter",
         "x": [
          -0.018894045410980765,
          0.32095914749056204,
          null
         ],
         "y": [
          0.21532238450405627,
          0.12883956450027848,
          null
         ]
        },
        {
         "hoverinfo": "none",
         "line": {
          "color": "#888",
          "width": 0.5
         },
         "mode": "lines",
         "type": "scatter",
         "x": [
          -0.018894045410980765,
          -0.31629820571920336,
          null
         ],
         "y": [
          0.21532238450405627,
          0.30532136145956495,
          null
         ]
        },
        {
         "hoverinfo": "none",
         "line": {
          "color": "#888",
          "width": 0.5
         },
         "mode": "lines",
         "type": "scatter",
         "x": [
          -0.018894045410980765,
          0.2511526176408408,
          null
         ],
         "y": [
          0.21532238450405627,
          0.400792441605391,
          null
         ]
        },
        {
         "hoverinfo": "none",
         "line": {
          "color": "#888",
          "width": 0.5
         },
         "mode": "lines",
         "type": "scatter",
         "x": [
          -0.018894045410980765,
          -0.01588536212692969,
          null
         ],
         "y": [
          0.21532238450405627,
          0.5657768492601526,
          null
         ]
        },
        {
         "hoverinfo": "none",
         "line": {
          "color": "#888",
          "width": 0.5
         },
         "mode": "lines",
         "type": "scatter",
         "x": [
          -0.018894045410980765,
          -0.1637849160375524,
          null
         ],
         "y": [
          0.21532238450405627,
          0.32581446030610817,
          null
         ]
        },
        {
         "hoverinfo": "none",
         "line": {
          "color": "#888",
          "width": 0.5
         },
         "mode": "lines",
         "type": "scatter",
         "x": [
          -0.018894045410980765,
          -0.28635103988472727,
          null
         ],
         "y": [
          0.21532238450405627,
          0.18405301322865905,
          null
         ]
        },
        {
         "hoverinfo": "none",
         "line": {
          "color": "#888",
          "width": 0.5
         },
         "mode": "lines",
         "type": "scatter",
         "x": [
          0.048940779167126525,
          0.030780304132966195,
          null
         ],
         "y": [
          0.2839298562189433,
          -0.24726392410842807,
          null
         ]
        },
        {
         "hoverinfo": "none",
         "line": {
          "color": "#888",
          "width": 0.5
         },
         "mode": "lines",
         "type": "scatter",
         "x": [
          0.048940779167126525,
          0.13519682022177051,
          null
         ],
         "y": [
          0.2839298562189433,
          0.5506188603864788,
          null
         ]
        },
        {
         "hoverinfo": "none",
         "line": {
          "color": "#888",
          "width": 0.5
         },
         "mode": "lines",
         "type": "scatter",
         "x": [
          0.048940779167126525,
          0.30507539781536963,
          null
         ],
         "y": [
          0.2839298562189433,
          0.2824250007784758,
          null
         ]
        },
        {
         "hoverinfo": "none",
         "line": {
          "color": "#888",
          "width": 0.5
         },
         "mode": "lines",
         "type": "scatter",
         "x": [
          0.048940779167126525,
          0.32095914749056204,
          null
         ],
         "y": [
          0.2839298562189433,
          0.12883956450027848,
          null
         ]
        },
        {
         "hoverinfo": "none",
         "line": {
          "color": "#888",
          "width": 0.5
         },
         "mode": "lines",
         "type": "scatter",
         "x": [
          0.048940779167126525,
          -0.31629820571920336,
          null
         ],
         "y": [
          0.2839298562189433,
          0.30532136145956495,
          null
         ]
        },
        {
         "hoverinfo": "none",
         "line": {
          "color": "#888",
          "width": 0.5
         },
         "mode": "lines",
         "type": "scatter",
         "x": [
          0.048940779167126525,
          0.2511526176408408,
          null
         ],
         "y": [
          0.2839298562189433,
          0.400792441605391,
          null
         ]
        },
        {
         "hoverinfo": "none",
         "line": {
          "color": "#888",
          "width": 0.5
         },
         "mode": "lines",
         "type": "scatter",
         "x": [
          0.048940779167126525,
          -0.01588536212692969,
          null
         ],
         "y": [
          0.2839298562189433,
          0.5657768492601526,
          null
         ]
        },
        {
         "hoverinfo": "none",
         "line": {
          "color": "#888",
          "width": 0.5
         },
         "mode": "lines",
         "type": "scatter",
         "x": [
          0.048940779167126525,
          -0.1637849160375524,
          null
         ],
         "y": [
          0.2839298562189433,
          0.32581446030610817,
          null
         ]
        },
        {
         "hoverinfo": "none",
         "line": {
          "color": "#888",
          "width": 0.5
         },
         "mode": "lines",
         "type": "scatter",
         "x": [
          0.048940779167126525,
          -0.28635103988472727,
          null
         ],
         "y": [
          0.2839298562189433,
          0.18405301322865905,
          null
         ]
        },
        {
         "hoverinfo": "none",
         "line": {
          "color": "#888",
          "width": 0.5
         },
         "mode": "lines",
         "type": "scatter",
         "x": [
          0.07903319989225359,
          0.030780304132966195,
          null
         ],
         "y": [
          0.19942741057640875,
          -0.24726392410842807,
          null
         ]
        },
        {
         "hoverinfo": "none",
         "line": {
          "color": "#888",
          "width": 0.5
         },
         "mode": "lines",
         "type": "scatter",
         "x": [
          0.07903319989225359,
          0.13519682022177051,
          null
         ],
         "y": [
          0.19942741057640875,
          0.5506188603864788,
          null
         ]
        },
        {
         "hoverinfo": "none",
         "line": {
          "color": "#888",
          "width": 0.5
         },
         "mode": "lines",
         "type": "scatter",
         "x": [
          0.07903319989225359,
          0.30507539781536963,
          null
         ],
         "y": [
          0.19942741057640875,
          0.2824250007784758,
          null
         ]
        },
        {
         "hoverinfo": "none",
         "line": {
          "color": "#888",
          "width": 0.5
         },
         "mode": "lines",
         "type": "scatter",
         "x": [
          0.07903319989225359,
          0.32095914749056204,
          null
         ],
         "y": [
          0.19942741057640875,
          0.12883956450027848,
          null
         ]
        },
        {
         "hoverinfo": "none",
         "line": {
          "color": "#888",
          "width": 0.5
         },
         "mode": "lines",
         "type": "scatter",
         "x": [
          0.07903319989225359,
          -0.31629820571920336,
          null
         ],
         "y": [
          0.19942741057640875,
          0.30532136145956495,
          null
         ]
        },
        {
         "hoverinfo": "none",
         "line": {
          "color": "#888",
          "width": 0.5
         },
         "mode": "lines",
         "type": "scatter",
         "x": [
          0.07903319989225359,
          0.2511526176408408,
          null
         ],
         "y": [
          0.19942741057640875,
          0.400792441605391,
          null
         ]
        },
        {
         "hoverinfo": "none",
         "line": {
          "color": "#888",
          "width": 0.5
         },
         "mode": "lines",
         "type": "scatter",
         "x": [
          0.07903319989225359,
          -0.01588536212692969,
          null
         ],
         "y": [
          0.19942741057640875,
          0.5657768492601526,
          null
         ]
        },
        {
         "hoverinfo": "none",
         "line": {
          "color": "#888",
          "width": 0.5
         },
         "mode": "lines",
         "type": "scatter",
         "x": [
          0.07903319989225359,
          -0.1637849160375524,
          null
         ],
         "y": [
          0.19942741057640875,
          0.32581446030610817,
          null
         ]
        },
        {
         "hoverinfo": "none",
         "line": {
          "color": "#888",
          "width": 0.5
         },
         "mode": "lines",
         "type": "scatter",
         "x": [
          0.07903319989225359,
          -0.28635103988472727,
          null
         ],
         "y": [
          0.19942741057640875,
          0.18405301322865905,
          null
         ]
        },
        {
         "hoverinfo": "none",
         "line": {
          "color": "#888",
          "width": 0.5
         },
         "mode": "lines",
         "type": "scatter",
         "x": [
          -0.051947469613715554,
          0.030780304132966195,
          null
         ],
         "y": [
          -0.523050950989226,
          -0.24726392410842807,
          null
         ]
        },
        {
         "hoverinfo": "none",
         "line": {
          "color": "#888",
          "width": 0.5
         },
         "mode": "lines",
         "type": "scatter",
         "x": [
          -0.3981958163023744,
          0.030780304132966195,
          null
         ],
         "y": [
          -0.21402311354606549,
          -0.24726392410842807,
          null
         ]
        },
        {
         "hoverinfo": "none",
         "line": {
          "color": "#888",
          "width": 0.5
         },
         "mode": "lines",
         "type": "scatter",
         "x": [
          0.32806891043062175,
          0.030780304132966195,
          null
         ],
         "y": [
          -0.5149730215497932,
          -0.24726392410842807,
          null
         ]
        },
        {
         "hoverinfo": "none",
         "line": {
          "color": "#888",
          "width": 0.5
         },
         "mode": "lines",
         "type": "scatter",
         "x": [
          -0.4028518659057652,
          0.030780304132966195,
          null
         ],
         "y": [
          -0.3767067163286346,
          -0.24726392410842807,
          null
         ]
        },
        {
         "hoverinfo": "none",
         "line": {
          "color": "#888",
          "width": 0.5
         },
         "mode": "lines",
         "type": "scatter",
         "x": [
          0.42267649340001096,
          0.030780304132966195,
          null
         ],
         "y": [
          -0.3844341674136888,
          -0.24726392410842807,
          null
         ]
        },
        {
         "hoverinfo": "none",
         "line": {
          "color": "#888",
          "width": 0.5
         },
         "mode": "lines",
         "type": "scatter",
         "x": [
          -0.20791905935608226,
          0.030780304132966195,
          null
         ],
         "y": [
          -0.5993476212028073,
          -0.24726392410842807,
          null
         ]
        },
        {
         "hoverinfo": "none",
         "line": {
          "color": "#888",
          "width": 0.5
         },
         "mode": "lines",
         "type": "scatter",
         "x": [
          -0.427188690447313,
          0.030780304132966195,
          null
         ],
         "y": [
          -0.005377701212852842,
          -0.24726392410842807,
          null
         ]
        },
        {
         "hoverinfo": "none",
         "line": {
          "color": "#888",
          "width": 0.5
         },
         "mode": "lines",
         "type": "scatter",
         "x": [
          0.3970841554321297,
          0.030780304132966195,
          null
         ],
         "y": [
          -0.22193320568228003,
          -0.24726392410842807,
          null
         ]
        },
        {
         "hoverinfo": "none",
         "line": {
          "color": "#888",
          "width": 0.5
         },
         "mode": "lines",
         "type": "scatter",
         "x": [
          0.17963130529823845,
          0.030780304132966195,
          null
         ],
         "y": [
          -0.5379184810054736,
          -0.24726392410842807,
          null
         ]
        },
        {
         "hoverinfo": "none",
         "line": {
          "color": "#888",
          "width": 0.5
         },
         "mode": "lines",
         "type": "scatter",
         "x": [
          0.05787029706555071,
          0.030780304132966195,
          null
         ],
         "y": [
          -0.6553807807140016,
          -0.24726392410842807,
          null
         ]
        },
        {
         "hoverinfo": "none",
         "line": {
          "color": "#888",
          "width": 0.5
         },
         "mode": "lines",
         "type": "scatter",
         "x": [
          -0.2818378297736115,
          0.030780304132966195,
          null
         ],
         "y": [
          -0.46391313978447996,
          -0.24726392410842807,
          null
         ]
        },
        {
         "hoverinfo": "none",
         "line": {
          "color": "#888",
          "width": 0.5
         },
         "mode": "lines",
         "type": "scatter",
         "x": [
          0.030780304132966195,
          0.6164332062610892,
          null
         ],
         "y": [
          -0.24726392410842807,
          -0.12768876437669996,
          null
         ]
        },
        {
         "hoverinfo": "none",
         "line": {
          "color": "#888",
          "width": 0.5
         },
         "mode": "lines",
         "type": "scatter",
         "x": [
          0.6164332062610892,
          0.32095914749056204,
          null
         ],
         "y": [
          -0.12768876437669996,
          0.12883956450027848,
          null
         ]
        },
        {
         "hoverinfo": "none",
         "line": {
          "color": "#888",
          "width": 0.5
         },
         "mode": "lines",
         "type": "scatter",
         "x": [
          0.13519682022177051,
          0.11772810780917954,
          null
         ],
         "y": [
          0.5506188603864788,
          1,
          null
         ]
        },
        {
         "hoverinfo": "none",
         "line": {
          "color": "#888",
          "width": 0.5
         },
         "mode": "lines",
         "type": "scatter",
         "x": [
          0.11772810780917954,
          -0.01588536212692969,
          null
         ],
         "y": [
          1,
          0.5657768492601526,
          null
         ]
        },
        {
         "hoverinfo": "none",
         "line": {
          "color": "#888",
          "width": 0.5
         },
         "mode": "lines",
         "type": "scatter",
         "x": [
          -0.31629820571920336,
          -0.7309489327285191,
          null
         ],
         "y": [
          0.30532136145956495,
          0.08936843997649538,
          null
         ]
        },
        {
         "hoverinfo": "none",
         "line": {
          "color": "#888",
          "width": 0.5
         },
         "mode": "lines",
         "type": "scatter",
         "x": [
          -0.7309489327285191,
          -0.28635103988472727,
          null
         ],
         "y": [
          0.08936843997649538,
          0.18405301322865905,
          null
         ]
        },
        {
         "hoverinfo": "text",
         "marker": {
          "color": [
           26,
           9,
           10,
           10,
           10,
           2,
           2,
           2,
           2,
           2,
           2,
           2,
           2,
           2,
           2,
           2,
           16,
           2,
           6,
           2,
           5,
           6,
           6,
           2,
           5,
           6,
           5,
           6
          ],
          "colorbar": {
           "thickness": 15,
           "title": {
            "side": "right",
            "text": "Node Connections"
           },
           "xanchor": "left"
          },
          "colorscale": [
           [
            0,
            "rgb(255,255,217)"
           ],
           [
            0.125,
            "rgb(237,248,177)"
           ],
           [
            0.25,
            "rgb(199,233,180)"
           ],
           [
            0.375,
            "rgb(127,205,187)"
           ],
           [
            0.5,
            "rgb(65,182,196)"
           ],
           [
            0.625,
            "rgb(29,145,192)"
           ],
           [
            0.75,
            "rgb(34,94,168)"
           ],
           [
            0.875,
            "rgb(37,52,148)"
           ],
           [
            1,
            "rgb(8,29,88)"
           ]
          ],
          "showscale": true,
          "size": [
           31,
           14,
           15,
           15,
           15,
           7,
           7,
           7,
           7,
           7,
           7,
           7,
           7,
           7,
           7,
           7,
           21,
           7,
           11,
           7,
           10,
           11,
           11,
           7,
           10,
           11,
           10,
           11
          ]
         },
         "mode": "markers+text",
         "text": [
          "Superman",
          "Thriller",
          "Sci-Fi",
          "Adventure",
          "Action",
          "Joe Shuster",
          "Jerry Siegel",
          "Ned Beatty",
          "Margot Kidder",
          "Jack O'Halloran",
          "Susannah York",
          "Jackie Cooper",
          "Terence Stamp",
          "Gene Hackman",
          "Valerie Perrine",
          "Christopher Reeve",
          "Superman II",
          "Romance",
          "2012",
          "Roland Emmerich",
          "Aliens",
          "Armageddon",
          "Back to the Future Part II",
          "Family",
          "G.I. Joe: The Rise of Cobra",
          "Independence Day",
          "Iron Man",
          "Journey to the Center of the Earth"
         ],
         "textposition": "top center",
         "type": "scatter",
         "x": [
          0.0018413573825026993,
          0.009631133866562891,
          -0.018894045410980765,
          0.048940779167126525,
          0.07903319989225359,
          -0.051947469613715554,
          -0.3981958163023744,
          0.32806891043062175,
          -0.4028518659057652,
          0.42267649340001096,
          -0.20791905935608226,
          -0.427188690447313,
          0.3970841554321297,
          0.17963130529823845,
          0.05787029706555071,
          -0.2818378297736115,
          0.030780304132966195,
          0.6164332062610892,
          0.13519682022177051,
          0.11772810780917954,
          0.30507539781536963,
          0.32095914749056204,
          -0.31629820571920336,
          -0.7309489327285191,
          0.2511526176408408,
          -0.01588536212692969,
          -0.1637849160375524,
          -0.28635103988472727
         ],
         "y": [
          -0.06012859619044796,
          0.4004505413038667,
          0.21532238450405627,
          0.2839298562189433,
          0.19942741057640875,
          -0.523050950989226,
          -0.21402311354606549,
          -0.5149730215497932,
          -0.3767067163286346,
          -0.3844341674136888,
          -0.5993476212028073,
          -0.005377701212852842,
          -0.22193320568228003,
          -0.5379184810054736,
          -0.6553807807140016,
          -0.46391313978447996,
          -0.24726392410842807,
          -0.12768876437669996,
          0.5506188603864788,
          1,
          0.2824250007784758,
          0.12883956450027848,
          0.30532136145956495,
          0.08936843997649538,
          0.400792441605391,
          0.5657768492601526,
          0.32581446030610817,
          0.18405301322865905
         ]
        }
       ],
       "layout": {
        "annotations": [
         {
          "showarrow": false,
          "text": "Movie Relationships",
          "x": 0.005,
          "xref": "paper",
          "y": -0.002,
          "yref": "paper"
         }
        ],
        "hovermode": "closest",
        "margin": {
         "b": 20,
         "l": 5,
         "r": 5,
         "t": 40
        },
        "showlegend": false,
        "template": {
         "data": {
          "bar": [
           {
            "error_x": {
             "color": "#2a3f5f"
            },
            "error_y": {
             "color": "#2a3f5f"
            },
            "marker": {
             "line": {
              "color": "#E5ECF6",
              "width": 0.5
             },
             "pattern": {
              "fillmode": "overlay",
              "size": 10,
              "solidity": 0.2
             }
            },
            "type": "bar"
           }
          ],
          "barpolar": [
           {
            "marker": {
             "line": {
              "color": "#E5ECF6",
              "width": 0.5
             },
             "pattern": {
              "fillmode": "overlay",
              "size": 10,
              "solidity": 0.2
             }
            },
            "type": "barpolar"
           }
          ],
          "carpet": [
           {
            "aaxis": {
             "endlinecolor": "#2a3f5f",
             "gridcolor": "white",
             "linecolor": "white",
             "minorgridcolor": "white",
             "startlinecolor": "#2a3f5f"
            },
            "baxis": {
             "endlinecolor": "#2a3f5f",
             "gridcolor": "white",
             "linecolor": "white",
             "minorgridcolor": "white",
             "startlinecolor": "#2a3f5f"
            },
            "type": "carpet"
           }
          ],
          "choropleth": [
           {
            "colorbar": {
             "outlinewidth": 0,
             "ticks": ""
            },
            "type": "choropleth"
           }
          ],
          "contour": [
           {
            "colorbar": {
             "outlinewidth": 0,
             "ticks": ""
            },
            "colorscale": [
             [
              0,
              "#0d0887"
             ],
             [
              0.1111111111111111,
              "#46039f"
             ],
             [
              0.2222222222222222,
              "#7201a8"
             ],
             [
              0.3333333333333333,
              "#9c179e"
             ],
             [
              0.4444444444444444,
              "#bd3786"
             ],
             [
              0.5555555555555556,
              "#d8576b"
             ],
             [
              0.6666666666666666,
              "#ed7953"
             ],
             [
              0.7777777777777778,
              "#fb9f3a"
             ],
             [
              0.8888888888888888,
              "#fdca26"
             ],
             [
              1,
              "#f0f921"
             ]
            ],
            "type": "contour"
           }
          ],
          "contourcarpet": [
           {
            "colorbar": {
             "outlinewidth": 0,
             "ticks": ""
            },
            "type": "contourcarpet"
           }
          ],
          "heatmap": [
           {
            "colorbar": {
             "outlinewidth": 0,
             "ticks": ""
            },
            "colorscale": [
             [
              0,
              "#0d0887"
             ],
             [
              0.1111111111111111,
              "#46039f"
             ],
             [
              0.2222222222222222,
              "#7201a8"
             ],
             [
              0.3333333333333333,
              "#9c179e"
             ],
             [
              0.4444444444444444,
              "#bd3786"
             ],
             [
              0.5555555555555556,
              "#d8576b"
             ],
             [
              0.6666666666666666,
              "#ed7953"
             ],
             [
              0.7777777777777778,
              "#fb9f3a"
             ],
             [
              0.8888888888888888,
              "#fdca26"
             ],
             [
              1,
              "#f0f921"
             ]
            ],
            "type": "heatmap"
           }
          ],
          "heatmapgl": [
           {
            "colorbar": {
             "outlinewidth": 0,
             "ticks": ""
            },
            "colorscale": [
             [
              0,
              "#0d0887"
             ],
             [
              0.1111111111111111,
              "#46039f"
             ],
             [
              0.2222222222222222,
              "#7201a8"
             ],
             [
              0.3333333333333333,
              "#9c179e"
             ],
             [
              0.4444444444444444,
              "#bd3786"
             ],
             [
              0.5555555555555556,
              "#d8576b"
             ],
             [
              0.6666666666666666,
              "#ed7953"
             ],
             [
              0.7777777777777778,
              "#fb9f3a"
             ],
             [
              0.8888888888888888,
              "#fdca26"
             ],
             [
              1,
              "#f0f921"
             ]
            ],
            "type": "heatmapgl"
           }
          ],
          "histogram": [
           {
            "marker": {
             "pattern": {
              "fillmode": "overlay",
              "size": 10,
              "solidity": 0.2
             }
            },
            "type": "histogram"
           }
          ],
          "histogram2d": [
           {
            "colorbar": {
             "outlinewidth": 0,
             "ticks": ""
            },
            "colorscale": [
             [
              0,
              "#0d0887"
             ],
             [
              0.1111111111111111,
              "#46039f"
             ],
             [
              0.2222222222222222,
              "#7201a8"
             ],
             [
              0.3333333333333333,
              "#9c179e"
             ],
             [
              0.4444444444444444,
              "#bd3786"
             ],
             [
              0.5555555555555556,
              "#d8576b"
             ],
             [
              0.6666666666666666,
              "#ed7953"
             ],
             [
              0.7777777777777778,
              "#fb9f3a"
             ],
             [
              0.8888888888888888,
              "#fdca26"
             ],
             [
              1,
              "#f0f921"
             ]
            ],
            "type": "histogram2d"
           }
          ],
          "histogram2dcontour": [
           {
            "colorbar": {
             "outlinewidth": 0,
             "ticks": ""
            },
            "colorscale": [
             [
              0,
              "#0d0887"
             ],
             [
              0.1111111111111111,
              "#46039f"
             ],
             [
              0.2222222222222222,
              "#7201a8"
             ],
             [
              0.3333333333333333,
              "#9c179e"
             ],
             [
              0.4444444444444444,
              "#bd3786"
             ],
             [
              0.5555555555555556,
              "#d8576b"
             ],
             [
              0.6666666666666666,
              "#ed7953"
             ],
             [
              0.7777777777777778,
              "#fb9f3a"
             ],
             [
              0.8888888888888888,
              "#fdca26"
             ],
             [
              1,
              "#f0f921"
             ]
            ],
            "type": "histogram2dcontour"
           }
          ],
          "mesh3d": [
           {
            "colorbar": {
             "outlinewidth": 0,
             "ticks": ""
            },
            "type": "mesh3d"
           }
          ],
          "parcoords": [
           {
            "line": {
             "colorbar": {
              "outlinewidth": 0,
              "ticks": ""
             }
            },
            "type": "parcoords"
           }
          ],
          "pie": [
           {
            "automargin": true,
            "type": "pie"
           }
          ],
          "scatter": [
           {
            "fillpattern": {
             "fillmode": "overlay",
             "size": 10,
             "solidity": 0.2
            },
            "type": "scatter"
           }
          ],
          "scatter3d": [
           {
            "line": {
             "colorbar": {
              "outlinewidth": 0,
              "ticks": ""
             }
            },
            "marker": {
             "colorbar": {
              "outlinewidth": 0,
              "ticks": ""
             }
            },
            "type": "scatter3d"
           }
          ],
          "scattercarpet": [
           {
            "marker": {
             "colorbar": {
              "outlinewidth": 0,
              "ticks": ""
             }
            },
            "type": "scattercarpet"
           }
          ],
          "scattergeo": [
           {
            "marker": {
             "colorbar": {
              "outlinewidth": 0,
              "ticks": ""
             }
            },
            "type": "scattergeo"
           }
          ],
          "scattergl": [
           {
            "marker": {
             "colorbar": {
              "outlinewidth": 0,
              "ticks": ""
             }
            },
            "type": "scattergl"
           }
          ],
          "scattermapbox": [
           {
            "marker": {
             "colorbar": {
              "outlinewidth": 0,
              "ticks": ""
             }
            },
            "type": "scattermapbox"
           }
          ],
          "scatterpolar": [
           {
            "marker": {
             "colorbar": {
              "outlinewidth": 0,
              "ticks": ""
             }
            },
            "type": "scatterpolar"
           }
          ],
          "scatterpolargl": [
           {
            "marker": {
             "colorbar": {
              "outlinewidth": 0,
              "ticks": ""
             }
            },
            "type": "scatterpolargl"
           }
          ],
          "scatterternary": [
           {
            "marker": {
             "colorbar": {
              "outlinewidth": 0,
              "ticks": ""
             }
            },
            "type": "scatterternary"
           }
          ],
          "surface": [
           {
            "colorbar": {
             "outlinewidth": 0,
             "ticks": ""
            },
            "colorscale": [
             [
              0,
              "#0d0887"
             ],
             [
              0.1111111111111111,
              "#46039f"
             ],
             [
              0.2222222222222222,
              "#7201a8"
             ],
             [
              0.3333333333333333,
              "#9c179e"
             ],
             [
              0.4444444444444444,
              "#bd3786"
             ],
             [
              0.5555555555555556,
              "#d8576b"
             ],
             [
              0.6666666666666666,
              "#ed7953"
             ],
             [
              0.7777777777777778,
              "#fb9f3a"
             ],
             [
              0.8888888888888888,
              "#fdca26"
             ],
             [
              1,
              "#f0f921"
             ]
            ],
            "type": "surface"
           }
          ],
          "table": [
           {
            "cells": {
             "fill": {
              "color": "#EBF0F8"
             },
             "line": {
              "color": "white"
             }
            },
            "header": {
             "fill": {
              "color": "#C8D4E3"
             },
             "line": {
              "color": "white"
             }
            },
            "type": "table"
           }
          ]
         },
         "layout": {
          "annotationdefaults": {
           "arrowcolor": "#2a3f5f",
           "arrowhead": 0,
           "arrowwidth": 1
          },
          "autotypenumbers": "strict",
          "coloraxis": {
           "colorbar": {
            "outlinewidth": 0,
            "ticks": ""
           }
          },
          "colorscale": {
           "diverging": [
            [
             0,
             "#8e0152"
            ],
            [
             0.1,
             "#c51b7d"
            ],
            [
             0.2,
             "#de77ae"
            ],
            [
             0.3,
             "#f1b6da"
            ],
            [
             0.4,
             "#fde0ef"
            ],
            [
             0.5,
             "#f7f7f7"
            ],
            [
             0.6,
             "#e6f5d0"
            ],
            [
             0.7,
             "#b8e186"
            ],
            [
             0.8,
             "#7fbc41"
            ],
            [
             0.9,
             "#4d9221"
            ],
            [
             1,
             "#276419"
            ]
           ],
           "sequential": [
            [
             0,
             "#0d0887"
            ],
            [
             0.1111111111111111,
             "#46039f"
            ],
            [
             0.2222222222222222,
             "#7201a8"
            ],
            [
             0.3333333333333333,
             "#9c179e"
            ],
            [
             0.4444444444444444,
             "#bd3786"
            ],
            [
             0.5555555555555556,
             "#d8576b"
            ],
            [
             0.6666666666666666,
             "#ed7953"
            ],
            [
             0.7777777777777778,
             "#fb9f3a"
            ],
            [
             0.8888888888888888,
             "#fdca26"
            ],
            [
             1,
             "#f0f921"
            ]
           ],
           "sequentialminus": [
            [
             0,
             "#0d0887"
            ],
            [
             0.1111111111111111,
             "#46039f"
            ],
            [
             0.2222222222222222,
             "#7201a8"
            ],
            [
             0.3333333333333333,
             "#9c179e"
            ],
            [
             0.4444444444444444,
             "#bd3786"
            ],
            [
             0.5555555555555556,
             "#d8576b"
            ],
            [
             0.6666666666666666,
             "#ed7953"
            ],
            [
             0.7777777777777778,
             "#fb9f3a"
            ],
            [
             0.8888888888888888,
             "#fdca26"
            ],
            [
             1,
             "#f0f921"
            ]
           ]
          },
          "colorway": [
           "#636efa",
           "#EF553B",
           "#00cc96",
           "#ab63fa",
           "#FFA15A",
           "#19d3f3",
           "#FF6692",
           "#B6E880",
           "#FF97FF",
           "#FECB52"
          ],
          "font": {
           "color": "#2a3f5f"
          },
          "geo": {
           "bgcolor": "white",
           "lakecolor": "white",
           "landcolor": "#E5ECF6",
           "showlakes": true,
           "showland": true,
           "subunitcolor": "white"
          },
          "hoverlabel": {
           "align": "left"
          },
          "hovermode": "closest",
          "mapbox": {
           "style": "light"
          },
          "paper_bgcolor": "white",
          "plot_bgcolor": "#E5ECF6",
          "polar": {
           "angularaxis": {
            "gridcolor": "white",
            "linecolor": "white",
            "ticks": ""
           },
           "bgcolor": "#E5ECF6",
           "radialaxis": {
            "gridcolor": "white",
            "linecolor": "white",
            "ticks": ""
           }
          },
          "scene": {
           "xaxis": {
            "backgroundcolor": "#E5ECF6",
            "gridcolor": "white",
            "gridwidth": 2,
            "linecolor": "white",
            "showbackground": true,
            "ticks": "",
            "zerolinecolor": "white"
           },
           "yaxis": {
            "backgroundcolor": "#E5ECF6",
            "gridcolor": "white",
            "gridwidth": 2,
            "linecolor": "white",
            "showbackground": true,
            "ticks": "",
            "zerolinecolor": "white"
           },
           "zaxis": {
            "backgroundcolor": "#E5ECF6",
            "gridcolor": "white",
            "gridwidth": 2,
            "linecolor": "white",
            "showbackground": true,
            "ticks": "",
            "zerolinecolor": "white"
           }
          },
          "shapedefaults": {
           "line": {
            "color": "#2a3f5f"
           }
          },
          "ternary": {
           "aaxis": {
            "gridcolor": "white",
            "linecolor": "white",
            "ticks": ""
           },
           "baxis": {
            "gridcolor": "white",
            "linecolor": "white",
            "ticks": ""
           },
           "bgcolor": "#E5ECF6",
           "caxis": {
            "gridcolor": "white",
            "linecolor": "white",
            "ticks": ""
           }
          },
          "title": {
           "x": 0.05
          },
          "xaxis": {
           "automargin": true,
           "gridcolor": "white",
           "linecolor": "white",
           "ticks": "",
           "title": {
            "standoff": 15
           },
           "zerolinecolor": "white",
           "zerolinewidth": 2
          },
          "yaxis": {
           "automargin": true,
           "gridcolor": "white",
           "linecolor": "white",
           "ticks": "",
           "title": {
            "standoff": 15
           },
           "zerolinecolor": "white",
           "zerolinewidth": 2
          }
         }
        },
        "title": {
         "font": {
          "size": 16
         },
         "text": "Graph of 'Superman' and Its Similar Movies"
        },
        "xaxis": {
         "showgrid": false,
         "zeroline": false
        },
        "yaxis": {
         "showgrid": false,
         "zeroline": false
        }
       }
      }
     },
     "metadata": {},
     "output_type": "display_data"
    }
   ],
   "source": [
    "# Find similar movies and visualize the graph\n",
    "similar_movies = find_similar_movies(conn, \"Superman\", 10)\n",
    "print(\"Similar movies:\", similar_movies)\n",
    "visualize_movies_relation(\"Superman\", similar_movies)"
   ]
  },
  {
   "cell_type": "code",
   "execution_count": null,
   "metadata": {},
   "outputs": [],
   "source": []
  }
 ],
 "metadata": {
  "kernelspec": {
   "display_name": "Python 3",
   "language": "python",
   "name": "python3"
  },
  "language_info": {
   "codemirror_mode": {
    "name": "ipython",
    "version": 3
   },
   "file_extension": ".py",
   "mimetype": "text/x-python",
   "name": "python",
   "nbconvert_exporter": "python",
   "pygments_lexer": "ipython3",
   "version": "3.12.4"
  }
 },
 "nbformat": 4,
 "nbformat_minor": 2
}
