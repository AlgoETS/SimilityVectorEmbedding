{
 "cells": [
  {
   "cell_type": "code",
   "execution_count": 19,
   "metadata": {},
   "outputs": [
    {
     "name": "stdout",
     "output_type": "stream",
     "text": [
      "Requirement already satisfied: rank_bm25 in /usr/local/python/3.10.13/lib/python3.10/site-packages (0.2.2)\n",
      "Requirement already satisfied: numpy in /usr/local/python/3.10.13/lib/python3.10/site-packages (from rank_bm25) (1.26.4)\n"
     ]
    }
   ],
   "source": [
    "!pip install rank_bm25"
   ]
  },
  {
   "cell_type": "code",
   "execution_count": 20,
   "metadata": {},
   "outputs": [
    {
     "name": "stderr",
     "output_type": "stream",
     "text": [
      "[nltk_data] Downloading package stopwords to\n",
      "[nltk_data]     /home/codespace/nltk_data...\n",
      "[nltk_data]   Package stopwords is already up-to-date!\n"
     ]
    },
    {
     "data": {
      "text/plain": [
       "True"
      ]
     },
     "execution_count": 20,
     "metadata": {},
     "output_type": "execute_result"
    }
   ],
   "source": [
    "import os\n",
    "from rank_bm25 import BM25Okapi\n",
    "import json\n",
    "import numpy as np\n",
    "import nltk\n",
    "from nltk.corpus import stopwords\n",
    "nltk.download('stopwords')"
   ]
  },
  {
   "cell_type": "code",
   "execution_count": 21,
   "metadata": {},
   "outputs": [],
   "source": [
    "# Preprocess text and prepare corpus\n",
    "def preprocess(text):\n",
    "    tokens = text.split()\n",
    "    stopwords_set = set(stopwords.words('english'))\n",
    "    tokens = [word for word in tokens if word.lower() not in stopwords_set]\n",
    "    return tokens\n"
   ]
  },
  {
   "cell_type": "code",
   "execution_count": 22,
   "metadata": {},
   "outputs": [],
   "source": [
    "current_directory = os.getcwd()\n",
    "with open(os.path.join(current_directory, \"postgres/movies.json\"), \"r\") as f:\n",
    "    movies = json.load(f)\n",
    "\n",
    "movies_data = []\n",
    "for movie in movies[\"films\"][\"film\"]:\n",
    "\n",
    "    roles = movie.get(\"role\", [])\n",
    "    if isinstance(roles, dict):  # If 'roles' is a dictionary, make it a single-item list\n",
    "        roles = [roles]\n",
    "\n",
    "    # Extract actor information\n",
    "    actors = []\n",
    "    for role in roles:\n",
    "        actor_info = role.get(\"acteur\", {})\n",
    "        if \"__text\" in actor_info:\n",
    "            actors.append(actor_info[\"__text\"])\n",
    "\n",
    "    movies_data.append({\n",
    "        \"title\": movie.get(\"titre\", \"\"),\n",
    "        \"year\": movie.get(\"annee\", \"\"),\n",
    "        \"country\": movie.get(\"pays\", \"\"),\n",
    "        \"language\": movie.get(\"langue\", \"\"),\n",
    "        \"duration\": movie.get(\"duree\", \"\"),\n",
    "        \"summary\": movie.get(\"synopsis\", \"\"),\n",
    "        \"genre\": movie.get(\"genre\", \"\"),\n",
    "        \"director\": movie.get(\"realisateur\", {\"__text\": \"\"}).get(\"__text\", \"\"),\n",
    "        \"writers\": movie.get(\"scenariste\", []),\n",
    "        \"actors\": actors,\n",
    "        \"poster\": movie.get(\"affiche\", \"\"),\n",
    "        \"id\": movie.get(\"id\", \"\")\n",
    "    })"
   ]
  },
  {
   "cell_type": "code",
   "execution_count": 23,
   "metadata": {},
   "outputs": [],
   "source": [
    "# Prepare the corpus for BM25\n",
    "corpus = [\n",
    "    preprocess(f\"{movie['title']} {movie['year']} {' '.join(movie['genre'])} {' '.join(movie['actors'])} {movie['director']} {movie['summary']} {movie['country']}\")\n",
    "    for movie in movies_data\n",
    "]\n"
   ]
  },
  {
   "cell_type": "code",
   "execution_count": 24,
   "metadata": {},
   "outputs": [],
   "source": [
    "# Initialize BM25\n",
    "bm25 = BM25Okapi(corpus)"
   ]
  },
  {
   "cell_type": "code",
   "execution_count": 25,
   "metadata": {},
   "outputs": [],
   "source": [
    "# Function to search movies using BM25\n",
    "def search_movies(query, bm25, movies_data, top_n=10):\n",
    "    query_tokens = preprocess(query)\n",
    "    scores = bm25.get_scores(query_tokens)\n",
    "    top_n_indices = np.argsort(scores)[::-1][:top_n]\n",
    "    top_n_movies = [movies_data[i] for i in top_n_indices]\n",
    "    return top_n_movies"
   ]
  },
  {
   "cell_type": "code",
   "execution_count": 26,
   "metadata": {},
   "outputs": [
    {
     "name": "stdout",
     "output_type": "stream",
     "text": [
      "Rank 1: Elf (2003)\n",
      "Rank 2: Rush Hour (1998)\n",
      "Rank 3: My Big Fat Greek Wedding (2002)\n",
      "Rank 4: Stir Crazy (1980)\n",
      "Rank 5: Slumdog Millionaire (2008)\n",
      "Rank 6: Lethal Weapon 4 (1998)\n",
      "Rank 7: The Hunchback of Notre Dame (1996)\n",
      "Rank 8: Witness for the Prosecution (1957)\n",
      "Rank 9: The Great Escape (1963)\n",
      "Rank 10: Cool Hand Luke (1967)\n"
     ]
    }
   ],
   "source": [
    "# Example usage\n",
    "query = \"science fiction 2021\"\n",
    "top_movies = search_movies(query, bm25, movies_data)\n",
    "\n",
    "for idx, movie in enumerate(top_movies):\n",
    "    print(f\"Rank {idx + 1}: {movie['title']} ({movie['year']})\")"
   ]
  },
  {
   "cell_type": "code",
   "execution_count": null,
   "metadata": {},
   "outputs": [],
   "source": []
  }
 ],
 "metadata": {
  "language_info": {
   "name": "python"
  }
 },
 "nbformat": 4,
 "nbformat_minor": 2
}
