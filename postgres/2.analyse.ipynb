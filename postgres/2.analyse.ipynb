{
 "cells": [
  {
   "cell_type": "markdown",
   "metadata": {},
   "source": [
    "# Finding similar movies with Python"
   ]
  },
  {
   "cell_type": "code",
   "execution_count": 10,
   "metadata": {},
   "outputs": [],
   "source": [
    "from concurrent.futures import ThreadPoolExecutor\n",
    "from multiprocessing import Pool\n",
    "from transformers import AutoTokenizer, AutoModel\n",
    "import numpy as np\n",
    "import torch\n",
    "import psycopg2\n",
    "from sklearn.metrics.pairwise import cosine_similarity\n",
    "from sklearn.metrics.pairwise import pairwise_distances\n",
    "from sentence_transformers import SentenceTransformer\n",
    "import matplotlib.pyplot as plt\n",
    "import json\n",
    "import os\n",
    "import pandas as pd"
   ]
  },
  {
   "cell_type": "markdown",
   "metadata": {},
   "source": [
    "# Create connection to the database"
   ]
  },
  {
   "cell_type": "code",
   "execution_count": 11,
   "metadata": {},
   "outputs": [
    {
     "ename": "OperationalError",
     "evalue": "FATAL:  password authentication failed for user \"admin\"\n",
     "output_type": "error",
     "traceback": [
      "\u001b[0;31m---------------------------------------------------------------------------\u001b[0m",
      "\u001b[0;31mOperationalError\u001b[0m                          Traceback (most recent call last)",
      "\u001b[1;32m/workspaces/SimilityVectorEmbedding/postgres/2.analyse.ipynb Cell 4\u001b[0m line \u001b[0;36m1\n\u001b[0;32m----> <a href='vscode-notebook-cell://codespaces%2Bsolid-computing-machine-7vp9prxq56vcx6q/workspaces/SimilityVectorEmbedding/postgres/2.analyse.ipynb#X40sdnNjb2RlLXJlbW90ZQ%3D%3D?line=0'>1</a>\u001b[0m conn \u001b[39m=\u001b[39m psycopg2\u001b[39m.\u001b[39;49mconnect(database\u001b[39m=\u001b[39;49m\u001b[39m\"\u001b[39;49m\u001b[39madmin\u001b[39;49m\u001b[39m\"\u001b[39;49m, host\u001b[39m=\u001b[39;49m\u001b[39m\"\u001b[39;49m\u001b[39mlocalhost\u001b[39;49m\u001b[39m\"\u001b[39;49m, user\u001b[39m=\u001b[39;49m\u001b[39m\"\u001b[39;49m\u001b[39madmin\u001b[39;49m\u001b[39m\"\u001b[39;49m, password\u001b[39m=\u001b[39;49m\u001b[39m\"\u001b[39;49m\u001b[39madmin\u001b[39;49m\u001b[39m\"\u001b[39;49m, port\u001b[39m=\u001b[39;49m\u001b[39m\"\u001b[39;49m\u001b[39m5432\u001b[39;49m\u001b[39m\"\u001b[39;49m)\n\u001b[1;32m      <a href='vscode-notebook-cell://codespaces%2Bsolid-computing-machine-7vp9prxq56vcx6q/workspaces/SimilityVectorEmbedding/postgres/2.analyse.ipynb#X40sdnNjb2RlLXJlbW90ZQ%3D%3D?line=1'>2</a>\u001b[0m cur \u001b[39m=\u001b[39m conn\u001b[39m.\u001b[39mcursor()\n",
      "File \u001b[0;32m~/.python/current/lib/python3.10/site-packages/psycopg2/__init__.py:122\u001b[0m, in \u001b[0;36mconnect\u001b[0;34m(dsn, connection_factory, cursor_factory, **kwargs)\u001b[0m\n\u001b[1;32m    119\u001b[0m     kwasync[\u001b[39m'\u001b[39m\u001b[39masync_\u001b[39m\u001b[39m'\u001b[39m] \u001b[39m=\u001b[39m kwargs\u001b[39m.\u001b[39mpop(\u001b[39m'\u001b[39m\u001b[39masync_\u001b[39m\u001b[39m'\u001b[39m)\n\u001b[1;32m    121\u001b[0m dsn \u001b[39m=\u001b[39m _ext\u001b[39m.\u001b[39mmake_dsn(dsn, \u001b[39m*\u001b[39m\u001b[39m*\u001b[39mkwargs)\n\u001b[0;32m--> 122\u001b[0m conn \u001b[39m=\u001b[39m _connect(dsn, connection_factory\u001b[39m=\u001b[39;49mconnection_factory, \u001b[39m*\u001b[39;49m\u001b[39m*\u001b[39;49mkwasync)\n\u001b[1;32m    123\u001b[0m \u001b[39mif\u001b[39;00m cursor_factory \u001b[39mis\u001b[39;00m \u001b[39mnot\u001b[39;00m \u001b[39mNone\u001b[39;00m:\n\u001b[1;32m    124\u001b[0m     conn\u001b[39m.\u001b[39mcursor_factory \u001b[39m=\u001b[39m cursor_factory\n",
      "\u001b[0;31mOperationalError\u001b[0m: FATAL:  password authentication failed for user \"admin\"\n"
     ]
    }
   ],
   "source": [
    "conn = psycopg2.connect(database=\"admin\", host=\"localhost\", user=\"admin\", password=\"admin\", port=\"5432\")\n",
    "cur = conn.cursor()"
   ]
  },
  {
   "cell_type": "code",
   "execution_count": null,
   "metadata": {},
   "outputs": [],
   "source": [
    "cur.execute(\"CREATE EXTENSION IF NOT EXISTS vector;\")\n",
    "conn.commit()\n",
    "cur.execute(\"CREATE EXTENSION IF NOT EXISTS cube;\")\n",
    "conn.commit()"
   ]
  },
  {
   "cell_type": "code",
   "execution_count": null,
   "metadata": {},
   "outputs": [],
   "source": [
    "def get_query_embedding(title, embedding_type='bart'):\n",
    "    cur.execute(f\"SELECT embedding_{embedding_type} FROM movies WHERE title = %s\", (title,))\n",
    "    result = cur.fetchone()\n",
    "    if result:\n",
    "        embedding_str = result[0]\n",
    "        embedding = [float(x) for x in embedding_str.strip('[]').split(',')]\n",
    "        return np.array(embedding, dtype=float).reshape(1, -1)\n",
    "    else:\n",
    "        return None"
   ]
  },
  {
   "cell_type": "code",
   "execution_count": null,
   "metadata": {},
   "outputs": [],
   "source": [
    "def find_similar_movies(title, threshold=0.5, return_n=25, distance_function='cosine_similarity', embedding_type='bart'):\n",
    "    query_embedding = get_query_embedding(title, embedding_type)\n",
    "    if query_embedding is None:\n",
    "        print(f\"No embedding found for the movie titled '{title}'.\")\n",
    "        return []\n",
    "\n",
    "    cur.execute(f'SELECT title, embedding_{embedding_type} FROM movies')\n",
    "    rows = cur.fetchall()\n",
    "\n",
    "    embeddings = []\n",
    "    movie_titles = []\n",
    "    for other_title, embedding_str in rows:\n",
    "        if other_title != title:\n",
    "            embedding = np.array([float(x) for x in embedding_str.strip('[]').split(',')])\n",
    "            embeddings.append(embedding)\n",
    "            movie_titles.append(other_title)\n",
    "\n",
    "    if distance_function == 'cosine_similarity':\n",
    "        distances = pairwise_distances(query_embedding, embeddings, metric='cosine')\n",
    "        similarities = 1 - distances\n",
    "    elif distance_function == 'euclidean_distance':\n",
    "        distances = pairwise_distances(query_embedding, embeddings, metric='euclidean')\n",
    "        similarities = 1 / (1 + distances)\n",
    "    elif distance_function == 'inner_product':\n",
    "        inner_products = np.dot(query_embedding, np.array(embeddings).T)\n",
    "        similarities = inner_products / (np.linalg.norm(query_embedding) * np.linalg.norm(embeddings, axis=1))\n",
    "    elif distance_function == 'hamming_distance':\n",
    "        # convert embeddings to binary\n",
    "        query_binary = np.where(query_embedding > 0, 1, 0)\n",
    "        embeddings_binary = np.where(np.array(embeddings) > 0, 1, 0)\n",
    "        distances = pairwise_distances(query_binary, embeddings_binary, metric='hamming')\n",
    "        similarities = 1 - distances\n",
    "    elif distance_function == 'jaccard_distance':\n",
    "        # convert embeddings to binary\n",
    "        query_binary = np.where(query_embedding > 0, 1, 0)\n",
    "        embeddings_binary = np.where(np.array(embeddings) > 0, 1, 0)\n",
    "        distances = pairwise_distances(query_binary, embeddings_binary, metric='jaccard')\n",
    "        similarities = 1 - distances\n",
    "    else:\n",
    "        print(\"Unsupported distance function.\")\n",
    "        return []\n",
    "\n",
    "    similar_movies = [(movie_titles[i], similarities[0][i]) for i in range(len(movie_titles)) if similarities[0][i] > threshold]\n",
    "    # sort to get the most similar movies first\n",
    "    similar_movies.sort(key=lambda x: x[1], reverse=True)\n",
    "    return similar_movies[:return_n]"
   ]
  },
  {
   "cell_type": "markdown",
   "metadata": {},
   "source": [
    "# SQL query to find similar movies"
   ]
  },
  {
   "cell_type": "code",
   "execution_count": null,
   "metadata": {},
   "outputs": [],
   "source": [
    "def find_similar_movies_sql(title, threshold=0.1, return_n=10, distance_function='<->', embedding_type='bart'):\n",
    "    allowed_functions = ['<->', '<#>', '<=>', '<+>']  # L2, negative inner product, cosine, L1\n",
    "    if distance_function not in allowed_functions:\n",
    "        print(\"Unsupported distance function.\")\n",
    "        return []\n",
    "\n",
    "    try:\n",
    "        cur.execute(f\"\"\"\n",
    "            SELECT title, embedding_{embedding_type}, embedding_{embedding_type} {distance_function} (SELECT embedding_{embedding_type} FROM movies WHERE title = %s) AS distance\n",
    "            FROM movies\n",
    "            WHERE title != %s\n",
    "            ORDER BY distance\n",
    "            LIMIT %s;\n",
    "        \"\"\", (title, title, return_n))\n",
    "\n",
    "        results = cur.fetchall()\n",
    "        if distance_function == '<=>':  # Adjust for cosine similarity\n",
    "            similar_movies = [(row[0], 1 - row[2]) for row in results if (1 - row[2]) > threshold]\n",
    "        else:\n",
    "            similar_movies = [(row[0], row[2]) for row in results if row[2] < threshold]\n",
    "\n",
    "        return similar_movies\n",
    "    except Exception as e:\n",
    "        print(f\"An error occurred: {e}\")\n",
    "        return []"
   ]
  },
  {
   "cell_type": "markdown",
   "metadata": {},
   "source": [
    "# Define a query movie title"
   ]
  },
  {
   "cell_type": "code",
   "execution_count": null,
   "metadata": {},
   "outputs": [],
   "source": [
    "query_movie_title = 'The Incredibles'"
   ]
  },
  {
   "cell_type": "markdown",
   "metadata": {},
   "source": [
    "# Plot"
   ]
  },
  {
   "cell_type": "code",
   "execution_count": null,
   "metadata": {},
   "outputs": [],
   "source": [
    "def plot_similar_movies(similar_movies, title):\n",
    "    # Prepare data\n",
    "    titles, similarities = zip(*similar_movies)\n",
    "    similarities = [round(sim * 100, 3) for sim in similarities]  # Convert to percentage and round off\n",
    "\n",
    "    # Create a vertical bar chart\n",
    "    plt.figure(figsize=(12, 8))\n",
    "    bars = plt.bar(titles, similarities, color='skyblue')\n",
    "    plt.ylabel('Similarity Score (%)')\n",
    "    plt.title(f\"{title} - Similar Movies for '{query_movie_title}'\")\n",
    "    plt.xticks(rotation=45, ha='right')\n",
    "\n",
    "    plt.tight_layout()\n",
    "    plt.show()"
   ]
  },
  {
   "cell_type": "code",
   "execution_count": null,
   "metadata": {},
   "outputs": [],
   "source": [
    "def plot_compare_similar_movies_embedding(similar_movies_array, title):\n",
    "    # Prepare data multiple plot for different embeddings\n",
    "    fig, ax = plt.subplots(5, 1, figsize=(12, 24))\n",
    "    for i, similar_movies in enumerate(similar_movies_array):\n",
    "        titles, similarities = zip(*similar_movies)\n",
    "        similarities = [round(sim * 100, 3) for sim in similarities]  # Convert to percentage and round off\n",
    "\n",
    "        # Create a vertical bar chart\n",
    "        bars = ax[i].bar(titles, similarities, color='skyblue')\n",
    "        ax[i].set_ylabel('Similarity Score (%)')\n",
    "        ax[i].set_title(f\"{title} - Similar Movies for '{query_movie_title}' - {list(models.keys())[i]}\")\n",
    "        ax[i].tick_params(axis='x', rotation=45, labelsize=10)\n",
    "    plt.tight_layout()\n",
    "    plt.show()"
   ]
  },
  {
   "cell_type": "markdown",
   "metadata": {},
   "source": [
    "# Perform a similarity search\n",
    "## SQL"
   ]
  },
  {
   "cell_type": "code",
   "execution_count": null,
   "metadata": {},
   "outputs": [],
   "source": [
    "# For cosine similarity\n",
    "similar_movies_bart = find_similar_movies_sql(query_movie_title, threshold=0, return_n=25, distance_function='<=>', embedding_type='bart')\n",
    "similar_movies_gte = find_similar_movies_sql(query_movie_title, threshold=0, return_n=25, distance_function='<=>', embedding_type='gte')\n",
    "similar_movies_MiniLM = find_similar_movies_sql(query_movie_title, threshold=0, return_n=25, distance_function='<=>', embedding_type='MiniLM')\n",
    "similar_movies_roberta = find_similar_movies_sql(query_movie_title, threshold=0, return_n=25, distance_function='<=>', embedding_type='roberta')\n",
    "similar_movies_e5_large = find_similar_movies_sql(query_movie_title, threshold=0, return_n=25, distance_function='<=>', embedding_type='e5_large')\n",
    "plot_compare_similar_movies_embedding([similar_movies_bart, similar_movies_gte, similar_movies_MiniLM, similar_movies_roberta, similar_movies_e5_large], \"Cosine Similarity\")"
   ]
  },
  {
   "cell_type": "markdown",
   "metadata": {},
   "source": [
    "# Make comparison with different embeddings with panda"
   ]
  },
  {
   "cell_type": "code",
   "execution_count": null,
   "metadata": {},
   "outputs": [],
   "source": [
    "import pandas as pd\n",
    "\n",
    "\n",
    "most_similar_movie_bart = find_similar_movies_sql(query_movie_title, threshold=0, return_n=1, distance_function='<=>', embedding_type='bart')[0]\n",
    "most_similar_movie_gte = find_similar_movies_sql(query_movie_title, threshold=0, return_n=1, distance_function='<=>', embedding_type='gte')[0]\n",
    "most_similar_movie_MiniLM = find_similar_movies_sql(query_movie_title, threshold=0, return_n=1, distance_function='<=>', embedding_type='MiniLM')[0]\n",
    "most_similar_movie_roberta = find_similar_movies_sql(query_movie_title, threshold=0, return_n=1, distance_function='<=>', embedding_type='roberta')[0]\n",
    "most_similar_movie_e5_large = find_similar_movies_sql(query_movie_title, threshold=0, return_n=1, distance_function='<=>', embedding_type='e5_large')[0]\n",
    "\n",
    "most_similar_movie_df = pd.DataFrame({\n",
    "    'Title': [most_similar_movie_bart[0], most_similar_movie_gte[0], most_similar_movie_MiniLM[0], most_similar_movie_roberta[0], most_similar_movie_e5_large[0]],\n",
    "    'Similarity Score (%)': [round(most_similar_movie_bart[1] * 100, 3), round(most_similar_movie_gte[1] * 100, 3), round(most_similar_movie_MiniLM[1] * 100, 3), round(most_similar_movie_roberta[1] * 100, 3), round(most_similar_movie_e5_large[1] * 100, 3)]\n",
    "}, index=list(models.keys()))\n",
    "\n",
    "print(most_similar_movie_df)"
   ]
  },
  {
   "cell_type": "markdown",
   "metadata": {},
   "source": [
    "# Middle similarity movie"
   ]
  },
  {
   "cell_type": "code",
   "execution_count": null,
   "metadata": {},
   "outputs": [],
   "source": [
    "# find the most similar movie median\n",
    "def find_most_similar_movie_median(title, threshold=0, distance_function='<->', embedding_type='bart', n=631):\n",
    "    similar_movies = find_similar_movies_sql(title, threshold, n, distance_function, embedding_type)\n",
    "    if similar_movies:\n",
    "        similarities = [sim for _, sim in similar_movies]\n",
    "        # find median and return index\n",
    "        median_index = np.argsort(similarities)[len(similarities) // 2]\n",
    "        return similar_movies[median_index]\n",
    "    else:\n",
    "        return None\n",
    "\n",
    "most_similar_movie_median_bart = find_most_similar_movie_median(query_movie_title, threshold=0, distance_function='<=>', embedding_type='bart')\n",
    "most_similar_movie_median_gte = find_most_similar_movie_median(query_movie_title, threshold=0, distance_function='<=>', embedding_type='gte')\n",
    "most_similar_movie_median_MiniLM = find_most_similar_movie_median(query_movie_title, threshold=0, distance_function='<=>', embedding_type='MiniLM')\n",
    "most_similar_movie_median_roberta = find_most_similar_movie_median(query_movie_title, threshold=0, distance_function='<=>', embedding_type='roberta')\n",
    "most_similar_movie_median_e5_large = find_most_similar_movie_median(query_movie_title, threshold=0, distance_function='<=>', embedding_type='e5_large')\n",
    "\n",
    "\n",
    "most_similar_movie_median_df =  pd.DataFrame({\n",
    "    'Title': [most_similar_movie_median_bart[0], most_similar_movie_median_gte[0], most_similar_movie_median_MiniLM[0], most_similar_movie_median_roberta[0], most_similar_movie_median_e5_large[0]],\n",
    "    'Similarity Score (%)': [round(most_similar_movie_median_bart[1] * 100, 3), round(most_similar_movie_median_gte[1] * 100, 3), round(most_similar_movie_median_MiniLM[1] * 100, 3), round(most_similar_movie_median_roberta[1] * 100, 3), round(most_similar_movie_median_e5_large[1] * 100, 3)]\n",
    "}, index=list(models.keys()))\n",
    "\n",
    "print(most_similar_movie_median_df)"
   ]
  },
  {
   "cell_type": "markdown",
   "metadata": {},
   "source": [
    "# Find the least similar movie"
   ]
  },
  {
   "cell_type": "code",
   "execution_count": null,
   "metadata": {},
   "outputs": [],
   "source": [
    "# find the least similar movie\n",
    "def find_least_similar_movie(title, threshold=0.1, distance_function='<->', embedding_type='bart', return_n=631):\n",
    "    similar_movies = find_similar_movies_sql(title, threshold, return_n, distance_function, embedding_type)\n",
    "    if similar_movies:\n",
    "        return similar_movies[-1]\n",
    "    else:\n",
    "        return None\n",
    "\n",
    "least_similar_movie_bart = find_least_similar_movie(query_movie_title, threshold=0, distance_function='<=>', embedding_type='bart')\n",
    "least_similar_movie_gte = find_least_similar_movie(query_movie_title, threshold=0, distance_function='<=>', embedding_type='gte')\n",
    "least_similar_movie_MiniLM = find_least_similar_movie(query_movie_title, threshold=0, distance_function='<=>', embedding_type='MiniLM')\n",
    "least_similar_movie_roberta = find_least_similar_movie(query_movie_title, threshold=0, distance_function='<=>', embedding_type='roberta')\n",
    "least_similar_movie_e5_large = find_least_similar_movie(query_movie_title, threshold=0, distance_function='<=>', embedding_type='e5_large')\n",
    "\n",
    "least_similar_movie_df = pd.DataFrame({\n",
    "    'Title': [least_similar_movie_bart[0], least_similar_movie_gte[0], least_similar_movie_MiniLM[0], least_similar_movie_roberta[0], least_similar_movie_e5_large[0]],\n",
    "    'Similarity Score (%)': [round(least_similar_movie_bart[1] * 100, 3), round(least_similar_movie_gte[1] * 100, 3), round(least_similar_movie_MiniLM[1] * 100, 3), round(least_similar_movie_roberta[1] * 100, 3), round(least_similar_movie_e5_large[1] * 100, 3)]\n",
    "}, index=list(models.keys()))\n",
    "\n",
    "print(least_similar_movie_df)"
   ]
  },
  {
   "cell_type": "code",
   "execution_count": null,
   "metadata": {},
   "outputs": [],
   "source": [
    "# show distribution of similarity scores\n",
    "def plot_similarity_distribution(similar_movies, title):\n",
    "    similarities = [sim[1] for sim in similar_movies]\n",
    "    plt.figure(figsize=(12, 8))\n",
    "    plt.hist(similarities, bins=25, color='skyblue', edgecolor='black')\n",
    "    plt.xlabel('Similarity Score')\n",
    "    plt.ylabel('Frequency')\n",
    "    plt.title(f\"{title} - Similarity Score Distribution for '{query_movie_title}'\")\n",
    "    plt.show()\n",
    "\n",
    "similar_movies_bart = find_similar_movies_sql(query_movie_title, threshold=0, return_n=631, distance_function='<=>', embedding_type='bart')\n",
    "similar_movies_gte = find_similar_movies_sql(query_movie_title, threshold=0, return_n=631, distance_function='<=>', embedding_type='gte')\n",
    "similar_movies_MiniLM = find_similar_movies_sql(query_movie_title, threshold=0, return_n=631, distance_function='<=>', embedding_type='MiniLM')\n",
    "similar_movies_roberta = find_similar_movies_sql(query_movie_title, threshold=0, return_n=631, distance_function='<=>', embedding_type='roberta')\n",
    "similar_movies_e5_large = find_similar_movies_sql(query_movie_title, threshold=0, return_n=631, distance_function='<=>', embedding_type='e5_large')\n",
    "\n",
    "\n",
    "plot_similarity_distribution(similar_movies_bart, 'Cosine Similarity Bart')\n",
    "plot_similarity_distribution(similar_movies_gte, 'Cosine Similarity GTE')\n",
    "plot_similarity_distribution(similar_movies_MiniLM, 'Cosine Similarity MiniLM')\n",
    "plot_similarity_distribution(similar_movies_roberta, 'Cosine Similarity RoBERTa')\n",
    "plot_similarity_distribution(similar_movies_e5_large, 'Cosine Similarity e5-large')"
   ]
  },
  {
   "cell_type": "markdown",
   "metadata": {},
   "source": [
    "# Python"
   ]
  },
  {
   "cell_type": "code",
   "execution_count": null,
   "metadata": {},
   "outputs": [],
   "source": [
    "# For cosine similarity\n",
    "similar_movies_cosine_bart = find_similar_movies(query_movie_title, threshold=0, distance_function='cosine_similarity', embedding_type='bart')\n",
    "similar_movies_cosine_gte = find_similar_movies(query_movie_title, threshold=0, distance_function='cosine_similarity', embedding_type='gte')\n",
    "similar_movies_cosine_MiniLM = find_similar_movies(query_movie_title, threshold=0, distance_function='cosine_similarity', embedding_type='MiniLM')\n",
    "similar_movies_cosine_roberta = find_similar_movies(query_movie_title, threshold=0, distance_function='cosine_similarity', embedding_type='roberta')\n",
    "similar_movies_cosine_e5_large = find_similar_movies(query_movie_title, threshold=0, distance_function='cosine_similarity', embedding_type='e5_large')\n",
    "plot_compare_similar_movies_embedding([similar_movies_cosine_bart, similar_movies_cosine_gte, similar_movies_cosine_MiniLM, similar_movies_cosine_roberta, similar_movies_cosine_e5_large], \"Cosine Similarity\")"
   ]
  },
  {
   "cell_type": "code",
   "execution_count": null,
   "metadata": {},
   "outputs": [],
   "source": [
    "# For L2 Distance (Euclidean Distance)\n",
    "similar_movies_l2_bart = find_similar_movies(query_movie_title, threshold=0, distance_function='euclidean_distance', embedding_type='bart')\n",
    "similar_movies_l2_gte = find_similar_movies(query_movie_title, threshold=0, distance_function='euclidean_distance', embedding_type='gte')\n",
    "similar_movies_l2_MiniLM = find_similar_movies(query_movie_title, threshold=0, distance_function='euclidean_distance', embedding_type='MiniLM')\n",
    "similar_movies_l2_roberta = find_similar_movies(query_movie_title, threshold=0, distance_function='euclidean_distance', embedding_type='roberta')\n",
    "similar_movies_l2_e5_large = find_similar_movies(query_movie_title, threshold=0, distance_function='euclidean_distance', embedding_type='e5_large')\n",
    "plot_compare_similar_movies_embedding([similar_movies_l2_bart, similar_movies_l2_gte, similar_movies_l2_MiniLM, similar_movies_l2_roberta, similar_movies_l2_e5_large], \"L2 Distance (Euclidean Distance)\")"
   ]
  },
  {
   "cell_type": "code",
   "execution_count": null,
   "metadata": {},
   "outputs": [],
   "source": [
    "# For Inner Product\n",
    "similar_movies_inner_bart = find_similar_movies(query_movie_title, threshold=0, distance_function='inner_product', embedding_type='bart')\n",
    "similar_movies_inner_gte = find_similar_movies(query_movie_title, threshold=0, distance_function='inner_product', embedding_type='gte')\n",
    "similar_movies_inner_MiniLM = find_similar_movies(query_movie_title, threshold=0, distance_function='inner_product', embedding_type='MiniLM')\n",
    "similar_movies_inner_roberta = find_similar_movies(query_movie_title, threshold=0, distance_function='inner_product', embedding_type='roberta')\n",
    "similar_movies_inner_e5_large = find_similar_movies(query_movie_title, threshold=0, distance_function='inner_product', embedding_type='e5_large')\n",
    "plot_compare_similar_movies_embedding([similar_movies_inner_bart, similar_movies_inner_gte, similar_movies_inner_MiniLM, similar_movies_inner_roberta, similar_movies_inner_e5_large], \"Inner Product\")"
   ]
  },
  {
   "cell_type": "code",
   "execution_count": null,
   "metadata": {},
   "outputs": [],
   "source": [
    "# For Hamming Distance\n",
    "similar_movies_hamming_bart = find_similar_movies(query_movie_title, threshold=0, distance_function='hamming_distance', embedding_type='bart')\n",
    "similar_movies_hamming_gte = find_similar_movies(query_movie_title, threshold=0, distance_function='hamming_distance', embedding_type='gte')\n",
    "similar_movies_hamming_MiniLM = find_similar_movies(query_movie_title, threshold=0, distance_function='hamming_distance', embedding_type='MiniLM')\n",
    "similar_movies_hamming_roberta = find_similar_movies(query_movie_title, threshold=0, distance_function='hamming_distance', embedding_type='roberta')\n",
    "similar_movies_hamming_e5_large = find_similar_movies(query_movie_title, threshold=0, distance_function='hamming_distance', embedding_type='e5_large')\n",
    "plot_compare_similar_movies_embedding([similar_movies_hamming_bart, similar_movies_hamming_gte, similar_movies_hamming_MiniLM, similar_movies_hamming_roberta, similar_movies_hamming_e5_large], \"Hamming Distance\")"
   ]
  },
  {
   "cell_type": "code",
   "execution_count": null,
   "metadata": {},
   "outputs": [],
   "source": [
    "# For Jaccard Distance\n",
    "similar_movies_jaccard_bart = find_similar_movies(query_movie_title, threshold=0, distance_function='jaccard_distance', embedding_type='bart')\n",
    "similar_movies_jaccard_gte = find_similar_movies(query_movie_title, threshold=0, distance_function='jaccard_distance', embedding_type='gte')\n",
    "similar_movies_jaccard_MiniLM = find_similar_movies(query_movie_title, threshold=0, distance_function='jaccard_distance', embedding_type='MiniLM')\n",
    "similar_movies_jaccard_roberta = find_similar_movies(query_movie_title, threshold=0, distance_function='jaccard_distance', embedding_type='roberta')\n",
    "similar_movies_jaccard_e5_large = find_similar_movies(query_movie_title, threshold=0, distance_function='jaccard_distance', embedding_type='e5_large')\n",
    "plot_compare_similar_movies_embedding([similar_movies_jaccard_bart, similar_movies_jaccard_gte, similar_movies_jaccard_MiniLM, similar_movies_jaccard_roberta, similar_movies_jaccard_e5_large], \"Jaccard Distance\")"
   ]
  },
  {
   "cell_type": "code",
   "execution_count": null,
   "metadata": {},
   "outputs": [],
   "source": []
  }
 ],
 "metadata": {
  "language_info": {
   "name": "python"
  }
 },
 "nbformat": 4,
 "nbformat_minor": 2
}
