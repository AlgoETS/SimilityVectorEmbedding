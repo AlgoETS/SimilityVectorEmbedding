{
 "cells": [
  {
   "cell_type": "markdown",
   "metadata": {},
   "source": [
    "# Create connection to the database"
   ]
  },
  {
   "cell_type": "code",
   "execution_count": null,
   "metadata": {
    "vscode": {
     "languageId": "plaintext"
    }
   },
   "outputs": [],
   "source": [
    "conn = psycopg2.connect(database=\"admin\", host=\"localhost\", user=\"admin\", password=\"admin\", port=\"5432\")\n",
    "cur = conn.cursor()"
   ]
  },
  {
   "cell_type": "markdown",
   "metadata": {},
   "source": [
    "# Finding similar movies with Python"
   ]
  },
  {
   "cell_type": "markdown",
   "metadata": {},
   "source": [
    "def get_query_embedding(title, embedding_type='bart'):\n",
    "    cur.execute(f\"SELECT embedding_{embedding_type} FROM movies WHERE title = %s\", (title,))\n",
    "    result = cur.fetchone()\n",
    "    if result:\n",
    "        embedding_str = result[0]\n",
    "        embedding = [float(x) for x in embedding_str.strip('[]').split(',')]\n",
    "        return np.array(embedding, dtype=float).reshape(1, -1)\n",
    "    else:\n",
    "        return None"
   ]
  },
  {
   "cell_type": "code",
   "execution_count": null,
   "metadata": {
    "vscode": {
     "languageId": "plaintext"
    }
   },
   "outputs": [],
   "source": [
    "def find_similar_movies(title, threshold=0.5, return_n=25, distance_function='cosine_similarity', embedding_type='bart'):\n",
    "    query_embedding = get_query_embedding(title, embedding_type)\n",
    "    if query_embedding is None:\n",
    "        print(f\"No embedding found for the movie titled '{title}'.\")\n",
    "        return []\n",
    "\n",
    "    cur.execute(f'SELECT title, embedding_{embedding_type} FROM movies')\n",
    "    rows = cur.fetchall()\n",
    "\n",
    "    embeddings = []\n",
    "    movie_titles = []\n",
    "    for other_title, embedding_str in rows:\n",
    "        if other_title != title:\n",
    "            embedding = np.array([float(x) for x in embedding_str.strip('[]').split(',')])\n",
    "            embeddings.append(embedding)\n",
    "            movie_titles.append(other_title)\n",
    "\n",
    "    if distance_function == 'cosine_similarity':\n",
    "        distances = pairwise_distances(query_embedding, embeddings, metric='cosine')\n",
    "        similarities = 1 - distances\n",
    "    elif distance_function == 'euclidean_distance':\n",
    "        distances = pairwise_distances(query_embedding, embeddings, metric='euclidean')\n",
    "        similarities = 1 / (1 + distances)\n",
    "    elif distance_function == 'inner_product':\n",
    "        inner_products = np.dot(query_embedding, np.array(embeddings).T)\n",
    "        similarities = inner_products / (np.linalg.norm(query_embedding) * np.linalg.norm(embeddings, axis=1))\n",
    "    elif distance_function == 'hamming_distance':\n",
    "        # convert embeddings to binary\n",
    "        query_binary = np.where(query_embedding > 0, 1, 0)\n",
    "        embeddings_binary = np.where(np.array(embeddings) > 0, 1, 0)\n",
    "        distances = pairwise_distances(query_binary, embeddings_binary, metric='hamming')\n",
    "        similarities = 1 - distances\n",
    "    elif distance_function == 'jaccard_distance':\n",
    "        # convert embeddings to binary\n",
    "        query_binary = np.where(query_embedding > 0, 1, 0)\n",
    "        embeddings_binary = np.where(np.array(embeddings) > 0, 1, 0)\n",
    "        distances = pairwise_distances(query_binary, embeddings_binary, metric='jaccard')\n",
    "        similarities = 1 - distances\n",
    "    else:\n",
    "        print(\"Unsupported distance function.\")\n",
    "        return []\n",
    "\n",
    "    similar_movies = [(movie_titles[i], similarities[0][i]) for i in range(len(movie_titles)) if similarities[0][i] > threshold]\n",
    "    # sort to get the most similar movies first\n",
    "    similar_movies.sort(key=lambda x: x[1], reverse=True)\n",
    "    return similar_movies[:return_n]\n"
   ]
  },
  {
   "cell_type": "markdown",
   "metadata": {},
   "source": [
    "# SQL query to find similar movies"
   ]
  },
  {
   "cell_type": "code",
   "execution_count": null,
   "metadata": {
    "vscode": {
     "languageId": "plaintext"
    }
   },
   "outputs": [],
   "source": [
    "def find_similar_movies_sql(title, threshold=0.1, return_n=10, distance_function='<->', embedding_type='bart'):\n",
    "    allowed_functions = ['<->', '<#>', '<=>', '<+>']  # L2, negative inner product, cosine, L1\n",
    "    if distance_function not in allowed_functions:\n",
    "        print(\"Unsupported distance function.\")\n",
    "        return []\n",
    "\n",
    "    try:\n",
    "        cur.execute(f\"\"\"\n",
    "            SELECT title, embedding_{embedding_type}, embedding_{embedding_type} {distance_function} (SELECT embedding_{embedding_type} FROM movies WHERE title = %s) AS distance\n",
    "            FROM movies\n",
    "            WHERE title != %s\n",
    "            ORDER BY distance\n",
    "            LIMIT %s;\n",
    "        \"\"\", (title, title, return_n))\n",
    "\n",
    "        results = cur.fetchall()\n",
    "        if distance_function == '<=>':  # Adjust for cosine similarity\n",
    "            similar_movies = [(row[0], 1 - row[2]) for row in results if (1 - row[2]) > threshold]\n",
    "        else:\n",
    "            similar_movies = [(row[0], row[2]) for row in results if row[2] < threshold]\n",
    "\n",
    "        return similar_movies\n",
    "    except Exception as e:\n",
    "        print(f\"An error occurred: {e}\")\n",
    "        return []\n"
   ]
  },
  {
   "cell_type": "markdown",
   "metadata": {},
   "source": [
    "# Define a query movie title"
   ]
  },
  {
   "cell_type": "code",
   "execution_count": null,
   "metadata": {
    "vscode": {
     "languageId": "plaintext"
    }
   },
   "outputs": [],
   "source": [
    "query_movie_title = 'The Incredibles'"
   ]
  },
  {
   "cell_type": "markdown",
   "metadata": {},
   "source": [
    "# Plot"
   ]
  },
  {
   "cell_type": "markdown",
   "metadata": {},
   "source": [
    "def plot_similar_movies(similar_movies, title):\n",
    "    # Prepare data\n",
    "    titles, similarities = zip(*similar_movies)\n",
    "    similarities = [round(sim * 100, 3) for sim in similarities]  # Convert to percentage and round off\n",
    "\n",
    "    # Create a vertical bar chart\n",
    "    plt.figure(figsize=(12, 8))\n",
    "    bars = plt.bar(titles, similarities, color='skyblue')\n",
    "    plt.ylabel('Similarity Score (%)')\n",
    "    plt.title(f\"{title} - Similar Movies for '{query_movie_title}'\")\n",
    "    plt.xticks(rotation=45, ha='right')\n",
    "\n",
    "    plt.tight_layout()\n",
    "    plt.show()"
   ]
  },
  {
   "cell_type": "code",
   "execution_count": null,
   "metadata": {
    "vscode": {
     "languageId": "plaintext"
    }
   },
   "outputs": [],
   "source": [
    "def plot_compare_similar_movies_embedding(similar_movies_array, title):\n",
    "    # Prepare data multiple plot for different embeddings\n",
    "    fig, ax = plt.subplots(5, 1, figsize=(12, 24))\n",
    "    for i, similar_movies in enumerate(similar_movies_array):\n",
    "        titles, similarities = zip(*similar_movies)\n",
    "        similarities = [round(sim * 100, 3) for sim in similarities]  # Convert to percentage and round off\n",
    "\n",
    "        # Create a vertical bar chart\n",
    "        bars = ax[i].bar(titles, similarities, color='skyblue')\n",
    "        ax[i].set_ylabel('Similarity Score (%)')\n",
    "        ax[i].set_title(f\"{title} - Similar Movies for '{query_movie_title}' - {list(models.keys())[i]}\")\n",
    "        ax[i].tick_params(axis='x', rotation=45, labelsize=10)\n",
    "    plt.tight_layout()\n",
    "    plt.show()"
   ]
  },
  {
   "cell_type": "markdown",
   "metadata": {},
   "source": [
    "# Perform a similarity search"
   ]
  },
  {
   "cell_type": "markdown",
   "metadata": {},
   "source": [
    "## SQL\n",
    "### For cosine similarity"
   ]
  },
  {
   "cell_type": "markdown",
   "metadata": {},
   "source": [
    "\n",
    "similar_movies_bart = find_similar_movies_sql(query_movie_title, threshold=0, return_n=25, distance_function='<=>', embedding_type='bart')\n",
    "similar_movies_gte = find_similar_movies_sql(query_movie_title, threshold=0, return_n=25, distance_function='<=>', embedding_type='gte')\n",
    "similar_movies_MiniLM = find_similar_movies_sql(query_movie_title, threshold=0, return_n=25, distance_function='<=>', embedding_type='MiniLM')\n",
    "similar_movies_roberta = find_similar_movies_sql(query_movie_title, threshold=0, return_n=25, distance_function='<=>', embedding_type='roberta')\n",
    "similar_movies_e5_large = find_similar_movies_sql(query_movie_title, threshold=0, return_n=25, distance_function='<=>', embedding_type='e5_large')\n",
    "plot_compare_similar_movies_embedding([similar_movies_bart, similar_movies_gte, similar_movies_MiniLM, similar_movies_roberta, similar_movies_e5_large], \"Cosine Similarity\")\n"
   ]
  },
  {
   "cell_type": "markdown",
   "metadata": {},
   "source": [
    "# find the most similar movie median"
   ]
  },
  {
   "cell_type": "code",
   "execution_count": null,
   "metadata": {
    "vscode": {
     "languageId": "plaintext"
    }
   },
   "outputs": [],
   "source": [
    "\n",
    "def find_most_similar_movie_median(title, threshold=0, distance_function='<->', embedding_type='bart', n=631):\n",
    "    similar_movies = find_similar_movies_sql(title, threshold, n, distance_function, embedding_type)\n",
    "    if similar_movies:\n",
    "        similarities = [sim for _, sim in similar_movies]\n",
    "        # find median and return index\n",
    "        median_index = np.argsort(similarities)[len(similarities) // 2]\n",
    "        return similar_movies[median_index]\n",
    "    else:\n",
    "        return None\n",
    "\n",
    "most_similar_movie_median_bart = find_most_similar_movie_median(query_movie_title, threshold=0, distance_function='<=>', embedding_type='bart')\n",
    "most_similar_movie_median_gte = find_most_similar_movie_median(query_movie_title, threshold=0, distance_function='<=>', embedding_type='gte')\n",
    "most_similar_movie_median_MiniLM = find_most_similar_movie_median(query_movie_title, threshold=0, distance_function='<=>', embedding_type='MiniLM')\n",
    "most_similar_movie_median_roberta = find_most_similar_movie_median(query_movie_title, threshold=0, distance_function='<=>', embedding_type='roberta')\n",
    "most_similar_movie_median_e5_large = find_most_similar_movie_median(query_movie_title, threshold=0, distance_function='<=>', embedding_type='e5_large')\n",
    "\n",
    "\n",
    "most_similar_movie_median_df =  pd.DataFrame({\n",
    "    'Title': [most_similar_movie_median_bart[0], most_similar_movie_median_gte[0], most_similar_movie_median_MiniLM[0], most_similar_movie_median_roberta[0], most_similar_movie_median_e5_large[0]],\n",
    "    'Similarity Score (%)': [round(most_similar_movie_median_bart[1] * 100, 3), round(most_similar_movie_median_gte[1] * 100, 3), round(most_similar_movie_median_MiniLM[1] * 100, 3), round(most_similar_movie_median_roberta[1] * 100, 3), round(most_similar_movie_median_e5_large[1] * 100, 3)]\n",
    "}, index=list(models.keys()))\n",
    "\n",
    "print(most_similar_movie_median_df)"
   ]
  },
  {
   "cell_type": "markdown",
   "metadata": {},
   "source": [
    "# find the least similar movie"
   ]
  },
  {
   "cell_type": "code",
   "execution_count": null,
   "metadata": {
    "vscode": {
     "languageId": "plaintext"
    }
   },
   "outputs": [],
   "source": [
    "\n",
    "def find_least_similar_movie(title, threshold=0.1, distance_function='<->', embedding_type='bart', return_n=631):\n",
    "    similar_movies = find_similar_movies_sql(title, threshold, return_n, distance_function, embedding_type)\n",
    "    if similar_movies:\n",
    "        return similar_movies[-1]\n",
    "    else:\n",
    "        return None\n",
    "\n",
    "least_similar_movie_bart = find_least_similar_movie(query_movie_title, threshold=0, distance_function='<=>', embedding_type='bart')\n",
    "least_similar_movie_gte = find_least_similar_movie(query_movie_title, threshold=0, distance_function='<=>', embedding_type='gte')\n",
    "least_similar_movie_MiniLM = find_least_similar_movie(query_movie_title, threshold=0, distance_function='<=>', embedding_type='MiniLM')\n",
    "least_similar_movie_roberta = find_least_similar_movie(query_movie_title, threshold=0, distance_function='<=>', embedding_type='roberta')\n",
    "least_similar_movie_e5_large = find_least_similar_movie(query_movie_title, threshold=0, distance_function='<=>', embedding_type='e5_large')\n",
    "\n",
    "least_similar_movie_df = pd.DataFrame({\n",
    "    'Title': [least_similar_movie_bart[0], least_similar_movie_gte[0], least_similar_movie_MiniLM[0], least_similar_movie_roberta[0], least_similar_movie_e5_large[0]],\n",
    "    'Similarity Score (%)': [round(least_similar_movie_bart[1] * 100, 3), round(least_similar_movie_gte[1] * 100, 3), round(least_similar_movie_MiniLM[1] * 100, 3), round(least_similar_movie_roberta[1] * 100, 3), round(least_similar_movie_e5_large[1] * 100, 3)]\n",
    "}, index=list(models.keys()))\n",
    "\n",
    "print(least_similar_movie_df)"
   ]
  },
  {
   "cell_type": "markdown",
   "metadata": {},
   "source": [
    "# show distribution of similarity scores"
   ]
  },
  {
   "cell_type": "code",
   "execution_count": null,
   "metadata": {
    "vscode": {
     "languageId": "plaintext"
    }
   },
   "outputs": [],
   "source": [
    "\n",
    "def plot_similarity_distribution(similar_movies, title):\n",
    "    similarities = [sim[1] for sim in similar_movies]\n",
    "    plt.figure(figsize=(12, 8))\n",
    "    plt.hist(similarities, bins=25, color='skyblue', edgecolor='black')\n",
    "    plt.xlabel('Similarity Score')\n",
    "    plt.ylabel('Frequency')\n",
    "    plt.title(f\"{title} - Similarity Score Distribution for '{query_movie_title}'\")\n",
    "    plt.show()\n",
    "\n",
    "similar_movies_bart = find_similar_movies_sql(query_movie_title, threshold=0, return_n=631, distance_function='<=>', embedding_type='bart')\n",
    "similar_movies_gte = find_similar_movies_sql(query_movie_title, threshold=0, return_n=631, distance_function='<=>', embedding_type='gte')\n",
    "similar_movies_MiniLM = find_similar_movies_sql(query_movie_title, threshold=0, return_n=631, distance_function='<=>', embedding_type='MiniLM')\n",
    "similar_movies_roberta = find_similar_movies_sql(query_movie_title, threshold=0, return_n=631, distance_function='<=>', embedding_type='roberta')\n",
    "similar_movies_e5_large = find_similar_movies_sql(query_movie_title, threshold=0, return_n=631, distance_function='<=>', embedding_type='e5_large')\n",
    "\n",
    "\n",
    "plot_similarity_distribution(similar_movies_bart, 'Cosine Similarity Bart')\n",
    "plot_similarity_distribution(similar_movies_gte, 'Cosine Similarity GTE')\n",
    "plot_similarity_distribution(similar_movies_MiniLM, 'Cosine Similarity MiniLM')\n",
    "plot_similarity_distribution(similar_movies_roberta, 'Cosine Similarity RoBERTa')\n",
    "plot_similarity_distribution(similar_movies_e5_large, 'Cosine Similarity e5-large')"
   ]
  },
  {
   "cell_type": "markdown",
   "metadata": {},
   "source": [
    "# For cosine similarity"
   ]
  },
  {
   "cell_type": "code",
   "execution_count": null,
   "metadata": {
    "vscode": {
     "languageId": "plaintext"
    }
   },
   "outputs": [],
   "source": [
    "\n",
    "similar_movies_cosine_bart = find_similar_movies(query_movie_title, threshold=0, distance_function='cosine_similarity', embedding_type='bart')\n",
    "similar_movies_cosine_gte = find_similar_movies(query_movie_title, threshold=0, distance_function='cosine_similarity', embedding_type='gte')\n",
    "similar_movies_cosine_MiniLM = find_similar_movies(query_movie_title, threshold=0, distance_function='cosine_similarity', embedding_type='MiniLM')\n",
    "similar_movies_cosine_roberta = find_similar_movies(query_movie_title, threshold=0, distance_function='cosine_similarity', embedding_type='roberta')\n",
    "similar_movies_cosine_e5_large = find_similar_movies(query_movie_title, threshold=0, distance_function='cosine_similarity', embedding_type='e5_large')\n",
    "plot_compare_similar_movies_embedding([similar_movies_cosine_bart, similar_movies_cosine_gte, similar_movies_cosine_MiniLM, similar_movies_cosine_roberta, similar_movies_cosine_e5_large], \"Cosine Similarity\")"
   ]
  },
  {
   "cell_type": "markdown",
   "metadata": {},
   "source": [
    "# For L2 Distance (Euclidean Distance)"
   ]
  },
  {
   "cell_type": "code",
   "execution_count": null,
   "metadata": {
    "vscode": {
     "languageId": "plaintext"
    }
   },
   "outputs": [],
   "source": [
    "\n",
    "similar_movies_l2_bart = find_similar_movies(query_movie_title, threshold=0, distance_function='euclidean_distance', embedding_type='bart')\n",
    "similar_movies_l2_gte = find_similar_movies(query_movie_title, threshold=0, distance_function='euclidean_distance', embedding_type='gte')\n",
    "similar_movies_l2_MiniLM = find_similar_movies(query_movie_title, threshold=0, distance_function='euclidean_distance', embedding_type='MiniLM')\n",
    "similar_movies_l2_roberta = find_similar_movies(query_movie_title, threshold=0, distance_function='euclidean_distance', embedding_type='roberta')\n",
    "similar_movies_l2_e5_large = find_similar_movies(query_movie_title, threshold=0, distance_function='euclidean_distance', embedding_type='e5_large')\n",
    "plot_compare_similar_movies_embedding([similar_movies_l2_bart, similar_movies_l2_gte, similar_movies_l2_MiniLM, similar_movies_l2_roberta, similar_movies_l2_e5_large], \"L2 Distance (Euclidean Distance)\")"
   ]
  },
  {
   "cell_type": "markdown",
   "metadata": {},
   "source": []
  },
  {
   "cell_type": "code",
   "execution_count": null,
   "metadata": {
    "vscode": {
     "languageId": "plaintext"
    }
   },
   "outputs": [],
   "source": [
    "# For Inner Product\n",
    "similar_movies_inner_bart = find_similar_movies(query_movie_title, threshold=0, distance_function='inner_product', embedding_type='bart')\n",
    "similar_movies_inner_gte = find_similar_movies(query_movie_title, threshold=0, distance_function='inner_product', embedding_type='gte')\n",
    "similar_movies_inner_MiniLM = find_similar_movies(query_movie_title, threshold=0, distance_function='inner_product', embedding_type='MiniLM')\n",
    "similar_movies_inner_roberta = find_similar_movies(query_movie_title, threshold=0, distance_function='inner_product', embedding_type='roberta')\n",
    "similar_movies_inner_e5_large = find_similar_movies(query_movie_title, threshold=0, distance_function='inner_product', embedding_type='e5_large')\n",
    "plot_compare_similar_movies_embedding([similar_movies_inner_bart, similar_movies_inner_gte, similar_movies_inner_MiniLM, similar_movies_inner_roberta, similar_movies_inner_e5_large], \"Inner Product\")"
   ]
  },
  {
   "cell_type": "markdown",
   "metadata": {},
   "source": [
    "# For Hamming Distance"
   ]
  },
  {
   "cell_type": "code",
   "execution_count": null,
   "metadata": {
    "vscode": {
     "languageId": "plaintext"
    }
   },
   "outputs": [],
   "source": [
    "\n",
    "similar_movies_hamming_bart = find_similar_movies(query_movie_title, threshold=0, distance_function='hamming_distance', embedding_type='bart')\n",
    "similar_movies_hamming_gte = find_similar_movies(query_movie_title, threshold=0, distance_function='hamming_distance', embedding_type='gte')\n",
    "similar_movies_hamming_MiniLM = find_similar_movies(query_movie_title, threshold=0, distance_function='hamming_distance', embedding_type='MiniLM')\n",
    "similar_movies_hamming_roberta = find_similar_movies(query_movie_title, threshold=0, distance_function='hamming_distance', embedding_type='roberta')\n",
    "similar_movies_hamming_e5_large = find_similar_movies(query_movie_title, threshold=0, distance_function='hamming_distance', embedding_type='e5_large')\n",
    "plot_compare_similar_movies_embedding([similar_movies_hamming_bart, similar_movies_hamming_gte, similar_movies_hamming_MiniLM, similar_movies_hamming_roberta, similar_movies_hamming_e5_large], \"Hamming Distance\")"
   ]
  },
  {
   "cell_type": "markdown",
   "metadata": {},
   "source": [
    "# For Jaccard Distance"
   ]
  },
  {
   "cell_type": "code",
   "execution_count": null,
   "metadata": {
    "vscode": {
     "languageId": "plaintext"
    }
   },
   "outputs": [],
   "source": [
    "similar_movies_jaccard_bart = find_similar_movies(query_movie_title, threshold=0, distance_function='jaccard_distance', embedding_type='bart')\n",
    "similar_movies_jaccard_gte = find_similar_movies(query_movie_title, threshold=0, distance_function='jaccard_distance', embedding_type='gte')\n",
    "similar_movies_jaccard_MiniLM = find_similar_movies(query_movie_title, threshold=0, distance_function='jaccard_distance', embedding_type='MiniLM')\n",
    "similar_movies_jaccard_roberta = find_similar_movies(query_movie_title, threshold=0, distance_function='jaccard_distance', embedding_type='roberta')\n",
    "similar_movies_jaccard_e5_large = find_similar_movies(query_movie_title, threshold=0, distance_function='jaccard_distance', embedding_type='e5_large')\n",
    "plot_compare_similar_movies_embedding([similar_movies_jaccard_bart, similar_movies_jaccard_gte, similar_movies_jaccard_MiniLM, similar_movies_jaccard_roberta, similar_movies_jaccard_e5_large], \"Jaccard Distance\")"
   ]
  },
  {
   "cell_type": "markdown",
   "metadata": {},
   "source": [
    "# Based on all the embeddings and distance functions find 10 most movies using pandas"
   ]
  },
  {
   "cell_type": "markdown",
   "metadata": {},
   "source": [
    "def find_most_similar_movies_all_embeddings(title, threshold=0, n=10):\n",
    "    embeddings_distances = ['cosine', 'euclidean', 'inner', 'hamming', 'jaccard']\n",
    "    embeddings_types = ['bart', 'gte', 'MiniLM', 'roberta', 'e5_large']\n",
    "    embeddings_weights = {\n",
    "        'bart': 1.2,\n",
    "        'gte': 1.1,\n",
    "        'MiniLM': 1.5,\n",
    "        'roberta': 0.8,\n",
    "        'e5_large': 1.2\n",
    "    }\n",
    "    distances_weights = {\n",
    "        'cosine': 1.5,\n",
    "        'euclidean': 1,\n",
    "        'inner': 1,\n",
    "        'hamming': 0.6,\n",
    "        'jaccard': 0.8\n",
    "    }\n",
    "\n",
    "    # Dictionary to hold all data frames\n",
    "    data_frames = []\n",
    "\n",
    "    for distance in embeddings_distances:\n",
    "        for embed_type in embeddings_types:\n",
    "            df = pd.DataFrame(find_similar_movies_sql(title, threshold=threshold, return_n=631, distance_function=f'<=>', embedding_type=embed_type), columns=['Title', 'Similarity Score (%)'])\n",
    "            df['Model'] = embed_type\n",
    "            df['Distance'] = distance\n",
    "            # Normalize scores within each model and distance combination\n",
    "            df['Normalized Score'] = (df['Similarity Score (%)'] - df['Similarity Score (%)'].min()) / (df['Similarity Score (%)'].max() - df['Similarity Score (%)'].min())\n",
    "\n",
    "            # weight the scores\n",
    "            df['Weighted Score'] = df['Normalized Score'] * embeddings_weights[embed_type] * distances_weights[distance]\n",
    "            data_frames.append(df)\n",
    "\n",
    "    # Concatenate all results into a single DataFrame\n",
    "    all_scores = pd.concat(data_frames)\n",
    "\n",
    "    # csv for all scores\n",
    "    all_scores.to_csv('all_scores.csv')\n",
    "\n",
    "    # Group by title and calculate the mean normalized score\n",
    "    grouped_normal = all_scores.groupby('Title')['Normalized Score'].mean()\n",
    "    grouped_weight = all_scores.groupby('Title')['Weighted Score'].mean()\n",
    "\n",
    "    # Get the top n movies\n",
    "    top_movies = grouped_normal.nlargest(n)\n",
    "    top_movies_weighted = grouped_weight.nlargest(n)\n",
    "\n",
    "    return top_movies, top_movies_weighted\n",
    "\n",
    "# Using the function to find and print the top 10 most similar movies\n",
    "most_similar_movies_all_embeddings = find_most_similar_movies_all_embeddings(query_movie_title, n=631)\n",
    "print(most_similar_movies_all_embeddings[0].head(10), most_similar_movies_all_embeddings[1].head(10))"
   ]
  }
 ],
 "metadata": {
  "language_info": {
   "name": "python"
  }
 },
 "nbformat": 4,
 "nbformat_minor": 2
}
