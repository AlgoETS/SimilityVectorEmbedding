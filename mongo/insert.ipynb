{
 "cells": [
  {
   "cell_type": "code",
   "execution_count": 1,
   "metadata": {},
   "outputs": [
    {
     "name": "stdout",
     "output_type": "stream",
     "text": [
      "Requirement already satisfied: pymongo in /usr/local/python/3.10.13/lib/python3.10/site-packages (4.7.2)\n",
      "Requirement already satisfied: pandas in /home/codespace/.local/lib/python3.10/site-packages (2.2.1)\n",
      "Requirement already satisfied: dnspython<3.0.0,>=1.16.0 in /usr/local/python/3.10.13/lib/python3.10/site-packages (from pymongo) (2.6.1)\n",
      "Requirement already satisfied: numpy<2,>=1.22.4 in /home/codespace/.local/lib/python3.10/site-packages (from pandas) (1.26.4)\n",
      "Requirement already satisfied: python-dateutil>=2.8.2 in /home/codespace/.local/lib/python3.10/site-packages (from pandas) (2.9.0.post0)\n",
      "Requirement already satisfied: pytz>=2020.1 in /home/codespace/.local/lib/python3.10/site-packages (from pandas) (2024.1)\n",
      "Requirement already satisfied: tzdata>=2022.7 in /home/codespace/.local/lib/python3.10/site-packages (from pandas) (2024.1)\n",
      "Requirement already satisfied: six>=1.5 in /home/codespace/.local/lib/python3.10/site-packages (from python-dateutil>=2.8.2->pandas) (1.16.0)\n"
     ]
    }
   ],
   "source": [
    "!pip install pymongo pandas jupyter ipykernel"
   ]
  },
  {
   "cell_type": "code",
   "execution_count": 2,
   "metadata": {},
   "outputs": [],
   "source": [
    "from pymongo import MongoClient\n",
    "from bson.json_util import dumps\n",
    "import pandas as pd\n",
    "import gzip"
   ]
  },
  {
   "cell_type": "code",
   "execution_count": 3,
   "metadata": {},
   "outputs": [],
   "source": [
    "client = MongoClient('mongodb://localhost:27017/')\n",
    "db = client['imdb_database']"
   ]
  },
  {
   "cell_type": "code",
   "execution_count": 4,
   "metadata": {},
   "outputs": [],
   "source": [
    "def create_collections():\n",
    "    collections = {\n",
    "        \"title.akas\": {\n",
    "            \"validator\": {\n",
    "                \"$jsonSchema\": {\n",
    "                    \"bsonType\": \"object\",\n",
    "                    \"required\": [\"titleId\", \"ordering\", \"title\", \"region\", \"language\", \"types\", \"attributes\", \"isOriginalTitle\"],\n",
    "                    \"properties\": {\n",
    "                        \"titleId\": {\"bsonType\": \"string\"},\n",
    "                        \"ordering\": {\"bsonType\": \"int\"},\n",
    "                        \"title\": {\"bsonType\": \"string\"},\n",
    "                        \"region\": {\"bsonType\": \"string\"},\n",
    "                        \"language\": {\"bsonType\": \"string\"},\n",
    "                        \"types\": {\"bsonType\": \"array\", \"items\": {\"bsonType\": \"string\"}},\n",
    "                        \"attributes\": {\"bsonType\": \"array\", \"items\": {\"bsonType\": \"string\"}},\n",
    "                        \"isOriginalTitle\": {\"bsonType\": \"bool\"}\n",
    "                    }\n",
    "                }\n",
    "            },\n",
    "            \"indexes\": [\"titleId\"]\n",
    "        },\n",
    "        \"title.basics\": {\n",
    "            \"validator\": {\n",
    "                \"$jsonSchema\": {\n",
    "                    \"bsonType\": \"object\",\n",
    "                    \"required\": [\"tconst\", \"titleType\", \"primaryTitle\", \"originalTitle\", \"isAdult\", \"startYear\", \"runtimeMinutes\", \"genres\"],\n",
    "                    \"properties\": {\n",
    "                        \"tconst\": {\"bsonType\": \"string\"},\n",
    "                        \"titleType\": {\"bsonType\": \"string\"},\n",
    "                        \"primaryTitle\": {\"bsonType\": \"string\"},\n",
    "                        \"originalTitle\": {\"bsonType\": \"string\"},\n",
    "                        \"isAdult\": {\"bsonType\": \"bool\"},\n",
    "                        \"startYear\": {\"bsonType\": \"string\"},\n",
    "                        \"endYear\": {\"bsonType\": \"string\"},\n",
    "                        \"runtimeMinutes\": {\"bsonType\": \"int\"},\n",
    "                        \"genres\": {\"bsonType\": \"array\", \"items\": {\"bsonType\": \"string\"}}\n",
    "                    }\n",
    "                }\n",
    "            },\n",
    "            \"indexes\": [\"tconst\"]\n",
    "        },\n",
    "        \"title.crew\": {\n",
    "            \"validator\": {\n",
    "                \"$jsonSchema\": {\n",
    "                    \"bsonType\": \"object\",\n",
    "                    \"required\": [\"tconst\", \"directors\", \"writers\"],\n",
    "                    \"properties\": {\n",
    "                        \"tconst\": {\"bsonType\": \"string\"},\n",
    "                        \"directors\": {\"bsonType\": \"array\", \"items\": {\"bsonType\": \"string\"}},\n",
    "                        \"writers\": {\"bsonType\": \"array\", \"items\": {\"bsonType\": \"string\"}}\n",
    "                    }\n",
    "                }\n",
    "            },\n",
    "            \"indexes\": [\"tconst\"]\n",
    "        },\n",
    "        \"title.episode\": {\n",
    "            \"validator\": {\n",
    "                \"$jsonSchema\": {\n",
    "                    \"bsonType\": \"object\",\n",
    "                    \"required\": [\"tconst\", \"parentTconst\", \"seasonNumber\", \"episodeNumber\"],\n",
    "                    \"properties\": {\n",
    "                        \"tconst\": {\"bsonType\": \"string\"},\n",
    "                        \"parentTconst\": {\"bsonType\": \"string\"},\n",
    "                        \"seasonNumber\": {\"bsonType\": \"int\"},\n",
    "                        \"episodeNumber\": {\"bsonType\": \"int\"}\n",
    "                    }\n",
    "                }\n",
    "            },\n",
    "            \"indexes\": [\"tconst\"]\n",
    "        },\n",
    "        \"title.principals\": {\n",
    "            \"validator\": {\n",
    "                \"$jsonSchema\": {\n",
    "                    \"bsonType\": \"object\",\n",
    "                    \"required\": [\"tconst\", \"ordering\", \"nconst\", \"category\", \"job\", \"characters\"],\n",
    "                    \"properties\": {\n",
    "                        \"tconst\": {\"bsonType\": \"string\"},\n",
    "                        \"ordering\": {\"bsonType\": \"int\"},\n",
    "                        \"nconst\": {\"bsonType\": \"string\"},\n",
    "                        \"category\": {\"bsonType\": \"string\"},\n",
    "                        \"job\": {\"bsonType\": \"string\"},\n",
    "                        \"characters\": {\"bsonType\": \"array\", \"items\": {\"bsonType\": \"string\"}}\n",
    "                    }\n",
    "                }\n",
    "            },\n",
    "            \"indexes\": [\"tconst\"]\n",
    "        },\n",
    "        \"title.ratings\": {\n",
    "            \"validator\": {\n",
    "                \"$jsonSchema\": {\n",
    "                    \"bsonType\": \"object\",\n",
    "                    \"required\": [\"tconst\", \"averageRating\", \"numVotes\"],\n",
    "                    \"properties\": {\n",
    "                        \"tconst\": {\"bsonType\": \"string\"},\n",
    "                        \"averageRating\": {\"bsonType\": \"double\"},\n",
    "                        \"numVotes\": {\"bsonType\": \"int\"}\n",
    "                    }\n",
    "                }\n",
    "            },\n",
    "            \"indexes\": [\"tconst\"]\n",
    "        },\n",
    "        \"name.basics\": {\n",
    "            \"validator\": {\n",
    "                \"$jsonSchema\": {\n",
    "                    \"bsonType\": \"object\",\n",
    "                    \"required\": [\"nconst\", \"primaryName\", \"birthYear\", \"primaryProfession\", \"knownForTitles\"],\n",
    "                    \"properties\": {\n",
    "                        \"nconst\": {\"bsonType\": \"string\"},\n",
    "                        \"primaryName\": {\"bsonType\": \"string\"},\n",
    "                        \"birthYear\": {\"bsonType\": \"string\"},\n",
    "                        \"deathYear\": {\"bsonType\": \"string\"},\n",
    "                        \"primaryProfession\": {\"bsonType\": \"array\", \"items\": {\"bsonType\": \"string\"}},\n",
    "                        \"knownForTitles\": {\"bsonType\": \"array\", \"items\": {\"bsonType\": \"string\"}}\n",
    "                    }\n",
    "                }\n",
    "            },\n",
    "            \"indexes\": [\"nconst\"]\n",
    "        }\n",
    "    }\n",
    "\n",
    "    for collection_name, options in collections.items():\n",
    "        try:\n",
    "            db.create_collection(collection_name, validator=options[\"validator\"])\n",
    "            for index in options[\"indexes\"]:\n",
    "                db[collection_name].create_index([(index, 1)])\n",
    "        except Exception as e:\n",
    "            print(f\"Collection {collection_name} already exists or error occurred: {e}\")"
   ]
  },
  {
   "cell_type": "markdown",
   "metadata": {},
   "source": [
    "# Function to load data from TSV files into MongoDB collections"
   ]
  },
  {
   "cell_type": "code",
   "execution_count": 5,
   "metadata": {},
   "outputs": [],
   "source": [
    "def load_data(file_path, collection_name):\n",
    "    with gzip.open(file_path, 'rt', encoding='utf-8') as file:\n",
    "        df = pd.read_csv(file, delimiter='\\t', na_values='\\\\N')\n",
    "        df = df.fillna('')\n",
    "        data = df.to_dict(orient='records')\n",
    "        db[collection_name].insert_many(data)"
   ]
  },
  {
   "cell_type": "code",
   "execution_count": 6,
   "metadata": {},
   "outputs": [
    {
     "name": "stdout",
     "output_type": "stream",
     "text": [
      "Collection title.akas already exists or error occurred: collection title.akas already exists\n",
      "Collection title.basics already exists or error occurred: collection title.basics already exists\n",
      "Collection title.crew already exists or error occurred: collection title.crew already exists\n",
      "Collection title.episode already exists or error occurred: collection title.episode already exists\n",
      "Collection title.principals already exists or error occurred: collection title.principals already exists\n",
      "Collection title.ratings already exists or error occurred: collection title.ratings already exists\n",
      "Collection name.basics already exists or error occurred: collection name.basics already exists\n",
      "/workspaces/SimilityVectorEmbedding\n"
     ]
    },
    {
     "ename": "",
     "evalue": "",
     "output_type": "error",
     "traceback": [
      "\u001b[1;31mCannot execute code, session has been disposed. Please try restarting the Kernel."
     ]
    },
    {
     "ename": "",
     "evalue": "",
     "output_type": "error",
     "traceback": [
      "\u001b[1;31mThe Kernel crashed while executing code in the the current cell or a previous cell. Please review the code in the cell(s) to identify a possible cause of the failure. Click <a href='https://aka.ms/vscodeJupyterKernelCrash'>here</a> for more info. View Jupyter <a href='command:jupyter.viewOutput'>log</a> for further details."
     ]
    }
   ],
   "source": [
    "# Create collections\n",
    "create_collections()\n",
    "\n",
    "import os\n",
    "print(os.getcwd())\n",
    "\n",
    "# Load data into collections\n",
    "load_data('imdb/title.akas.tsv.gz', 'title.akas')\n"
   ]
  },
  {
   "cell_type": "code",
   "execution_count": null,
   "metadata": {},
   "outputs": [],
   "source": [
    "load_data('imdb/title.basics.tsv.gz', 'title.basics')"
   ]
  },
  {
   "cell_type": "code",
   "execution_count": null,
   "metadata": {},
   "outputs": [],
   "source": [
    "load_data('imdb/title.crew.tsv.gz', 'title.crew')"
   ]
  },
  {
   "cell_type": "code",
   "execution_count": null,
   "metadata": {},
   "outputs": [],
   "source": [
    "load_data('imdb/title.episode.tsv.gz', 'title.episode')"
   ]
  },
  {
   "cell_type": "code",
   "execution_count": null,
   "metadata": {},
   "outputs": [],
   "source": [
    "load_data('imdb/title.principals.tsv.gz', 'title.principals')"
   ]
  },
  {
   "cell_type": "code",
   "execution_count": null,
   "metadata": {},
   "outputs": [],
   "source": [
    "load_data('imdb/title.ratings.tsv.gz', 'title.ratings')"
   ]
  },
  {
   "cell_type": "code",
   "execution_count": null,
   "metadata": {},
   "outputs": [],
   "source": [
    "load_data('imdb/name.basics.tsv.gz', 'name.basics')"
   ]
  },
  {
   "cell_type": "code",
   "execution_count": null,
   "metadata": {},
   "outputs": [],
   "source": [
    "# Verify data\n",
    "print(db['title.akas'].find_one())\n",
    "print(db['title.basics'].find_one())\n",
    "print(db['title.crew'].find_one())\n",
    "print(db['title.episode'].find_one())\n",
    "print(db['title.principals'].find_one())\n",
    "print(db['title.ratings'].find_one())\n",
    "print(db['name.basics'].find_one())\n"
   ]
  }
 ],
 "metadata": {
  "language_info": {
   "name": "python"
  }
 },
 "nbformat": 4,
 "nbformat_minor": 2
}
